{
 "cells": [
  {
   "cell_type": "markdown",
   "metadata": {},
   "source": [
    "# 6.819 / 6.869 Miniplaces Part 2\n",
    "\n",
    "Welcome to the Miniplaces Challenge, Part 2!\n",
    "\n",
    "The goal of this challenge is to make a scene classifier that classifies a 128x128 image into one of several categories. \n",
    "The Miniplaces dataset is a more managable subset of the larger \"Places\" dataset, with images from 100 categories.\n",
    "\n",
    "During the challenge, you will try and get the best top-5 accuracy on the test set, whose labels are hidden. You will submit your inferences for each of the test-set images to a web server for grading.\n",
    "\n",
    "\n",
    "# Pretrained Networks are NOT allowed!\n",
    "\n",
    "**Throughout this challenge, you MAY NOT use pretrained weights, or other datasets, to train your network.**\n",
    "\n",
    "While in the real world, you often want to start a task by finetuning a network trained on ImageNet, getting improvements from there is very computationally expensive. There are many techniques you can use to improve your performance, without just using massive datasets and computation. To make it a fairer competition, that isn't computation-limited, you MAY NOT use pretrained weights (you can, of course, save and load weights as you do the challenge). Using pretrained networks will get you disqualified.\n",
    "\n",
    "# Logistics\n",
    "Read carefully!\n",
    "\n",
    "The Miniplaces Challenge is released on Thu 11/7. \\\n",
    "**Submissions are due by Friday 11/14 at 11:59PM** (We extended the deadline by 1 day to account for the delay in releasing the PSet)\n",
    "\n",
    "**This Challenge will take a lot of time, because you're training networks. Please start early!**\n",
    "\n",
    "You may work in teams of up to 2. Such teams will need to submit individual reports, but may use the same code / results.\n",
    "\n",
    "You will need to train neural networks from scratch, which will need GPUs. We encourage you to use AWS servers or Google Colab, if you do not have access to a GPU locally. We provide $100 of AWS credits that you can use on the Miniplaces Challenge, and you can use the remainder for your final project. We don't expect Miniplaces will use all of this credit though. If you need more credits (particularly for final projects), post a Private question on Piazza addressed to all Staff.\n",
    "\n",
    "You should submit a zip file with a PDF report and your code on stellar whose filename is prefixed by your kerberos ex: `yourkerberos.zip`. We only care that your kerberos is clearly visible - if it helps you organize, you may add more to the filename, seperated by underscore (`yourkerberos_miniplaces2.zip`). Make sure to submit the correct zip file! Please do NOT submit the dataset in your submission! (It's huge!)\n",
    "\n",
    "Additionally, during this challenge, you will use your model to label a test set. We will be hosting a web server that evaluates your labelling. Your model should guess 5 categories for each test image. If any one of these is correct, we will say your model has classified the image correctly. This metric is called the \"Top-5\" Error. \n",
    "\n",
    "In order to get full credit for this assignment, you must make a submission with a Top-5 Error of less than 30%.\n",
    "The top 20 teams in the class will recieve 10% extra credit on this assignment, and the top 5 teams will receive 20% extra credit.\n",
    "\n",
    "You may submit this assignment up to 1 week late, with partial credit that linearly decreases to 1/2 credit, as indicated by our late policy on the course website. However, late submissions will NOT count when finding the top-20 and top-5 teams for extra credit.\n",
    "\n",
    "# Writeup\n",
    "\n",
    "See the PDF for details on what you need to include in your report\n",
    "\n",
    "# Submission Server\n",
    "The file `miniplaces_grader.py` contains the client code necessary to submit test set evaluations, form a team, and get AWS credits. Please use the `-h` flag of that script for usage. Run that locally! \n",
    "\n",
    "\n",
    "\n"
   ]
  },
  {
   "cell_type": "code",
   "execution_count": 11,
   "metadata": {},
   "outputs": [
    {
     "name": "stdout",
     "output_type": "stream",
     "text": [
      "I'm Adrian Ghansah. I worked with Charlie Tonneslan. I'm on team Mendicant Bias\n"
     ]
    }
   ],
   "source": [
    "my_name = \"Adrian Ghansah\"\n",
    "my_teammate = \"Charlie Tonneslan\" # Fill in if you have a teammate, leave blank otherwise\n",
    "my_team_name = \"Mendicant Bias\" # Your team name on the submission server\n",
    "\n",
    "print(\"I'm %s. I worked with %s. I'm on team %s\" % (my_name, my_teammate, my_team_name))"
   ]
  },
  {
   "cell_type": "markdown",
   "metadata": {},
   "source": [
    "# Section 1: Downloading the dataset\n",
    "\n",
    "You can download the dataset from <http://6.869.csail.mit.edu/fa19/miniplaces_part2/data.zip>\n",
    "\n",
    "The entire dataset is also available unzipped in Google Drive from \\\n",
    "<https://drive.google.com/drive/folders/1-IvzghOb7mesv3d-AvYpbtY9HCwQfisQ?usp=sharing> \\\n",
    "If you're using Google Colab, you should use this folder and \"Add to My Drive\", since then it will count against the Teaching Staff's Google Drive quota instead of your own.\n",
    "\n",
    "Unzip this to some directory. Our data folder follows the format of the `ImageFolder` class <https://pytorch.org/docs/stable/torchvision/datasets.html#imagefolder>"
   ]
  },
  {
   "cell_type": "code",
   "execution_count": 12,
   "metadata": {},
   "outputs": [],
   "source": [
    "import os\n",
    "expected_name = \"Miniplaces_Part2.ipynb\"\n",
    "\n",
    "# Colab specific setup\n",
    "try:\n",
    "  from google.colab import drive\n",
    "  \n",
    "except Exception:\n",
    "  # Local setup\n",
    "  rootpath = \".\"\n",
    "\n",
    "else:\n",
    "  drive.mount('/content/gdrive')\n",
    "  print(\"This will take a while, depending on how many folders you have in your google drive (your drive has to be mounted into the machine)\")\n",
    "  rootpath = None\n",
    "  for (parent_dir, subfolders, subfiles) in os.walk('/content/gdrive'):\n",
    "    if expected_name in subfiles:\n",
    "      print(\"Found this file! Setting root path to: %s\" % parent_dir)\n",
    "      rootpath = parent_dir\n",
    "      break\n",
    "  if rootpath is None:\n",
    "    raise Exception(\"Could not find this notebook (%s). Did you change the name? If so, change expected_name variable\" % expected_name)"
   ]
  },
  {
   "cell_type": "code",
   "execution_count": 13,
   "metadata": {},
   "outputs": [],
   "source": [
    "import os\n",
    "\n",
    "# Root of data. Change this to match your directory structure. \n",
    "# Your submissions should NOT include the data.\n",
    "# You might want to mount your google drive, if you're using google colab. \n",
    "# If you ran the cell above, your google drive will be located at '/content/gdrive/My Drive'\n",
    "# datadir should contain train/ val/ and test/\n",
    "\n",
    "\n",
    "data_dir = \"data\""
   ]
  },
  {
   "cell_type": "markdown",
   "metadata": {},
   "source": [
    "# Section 2: Training a Model\n",
    "\n",
    "Now, we'll train a model. This code was adapted from <https://pytorch.org/tutorials/beginner/finetuning_torchvision_models_tutorial.html>\n",
    "\n",
    "You are free to delete this code entirely and start from scratch, or modify it in whatever way you choose"
   ]
  },
  {
   "cell_type": "markdown",
   "metadata": {},
   "source": [
    "## Dependencies"
   ]
  },
  {
   "cell_type": "code",
   "execution_count": 14,
   "metadata": {},
   "outputs": [
    {
     "name": "stdout",
     "output_type": "stream",
     "text": [
      "Requirement already satisfied: tqdm in /home/ubuntu/anaconda3/envs/pytorch_p36/lib/python3.6/site-packages (4.36.1)\n",
      "\u001b[31mfastai 1.0.58 requires nvidia-ml-py3, which is not installed.\u001b[0m\n",
      "\u001b[33mYou are using pip version 10.0.1, however version 19.3.1 is available.\n",
      "You should consider upgrading via the 'pip install --upgrade pip' command.\u001b[0m\n",
      "PyTorch Version:  1.2.0\n",
      "Torchvision Version:  0.4.0a0+6b959ee\n",
      "Using the GPU!\n"
     ]
    }
   ],
   "source": [
    "import torch\n",
    "import torch.nn as nn\n",
    "import torch.optim as optim\n",
    "import numpy as np\n",
    "import torchvision\n",
    "from torchvision import datasets, models, transforms\n",
    "import matplotlib.pyplot as plt\n",
    "import time\n",
    "# You might not have tqdm, which gives you nice progress bars\n",
    "!pip install tqdm\n",
    "from tqdm.notebook import tqdm\n",
    "import os\n",
    "import copy\n",
    "print(\"PyTorch Version: \",torch.__version__)\n",
    "print(\"Torchvision Version: \",torchvision.__version__)\n",
    "# Detect if we have a GPU available\n",
    "device = torch.device(\"cuda:0\" if torch.cuda.is_available() else \"cpu\")\n",
    "if torch.cuda.is_available():\n",
    "    print(\"Using the GPU!\")\n",
    "else:\n",
    "    print(\"WARNING: Could not find GPU! Using CPU only\")"
   ]
  },
  {
   "cell_type": "markdown",
   "metadata": {},
   "source": [
    "## Initialize an Empty Model\n",
    "\n",
    "First, we need to initialize an empty model, that will input an image, and output a classification. Each model is a little different, so we'll make a helper function that takes in an architecture name, and outputs a model. This is only meant as a guideline, and you can try using different models! `torchvision.models` has other common architectures, and variations on these (like ResNet-50 and ResNet-101), so you may want to try those out.\n",
    "\n",
    "We also add a `resume_from` argument to specify model weights to load, In case you save a model and want to use it again."
   ]
  },
  {
   "cell_type": "code",
   "execution_count": 15,
   "metadata": {},
   "outputs": [],
   "source": [
    "#from .utils import load_state_dict_from_url\n",
    "\n",
    "\n",
    "__all__ = ['ResNet', 'resnet18', 'resnet34', 'resnet50', 'resnet101',\n",
    "           'resnet152', 'resnext50_32x4d', 'resnext101_32x8d',\n",
    "           'wide_resnet50_2', 'wide_resnet101_2']\n",
    "\n",
    "\n",
    "'''model_urls = {\n",
    "    'resnet18': 'https://download.pytorch.org/models/resnet18-5c106cde.pth',\n",
    "    'resnet34': 'https://download.pytorch.org/models/resnet34-333f7ec4.pth',\n",
    "    'resnet50': 'https://download.pytorch.org/models/resnet50-19c8e357.pth',\n",
    "    'resnet101': 'https://download.pytorch.org/models/resnet101-5d3b4d8f.pth',\n",
    "    'resnet152': 'https://download.pytorch.org/models/resnet152-b121ed2d.pth',\n",
    "    'resnext50_32x4d': 'https://download.pytorch.org/models/resnext50_32x4d-7cdf4587.pth',\n",
    "    'resnext101_32x8d': 'https://download.pytorch.org/models/resnext101_32x8d-8ba56ff5.pth',\n",
    "    'wide_resnet50_2': 'https://download.pytorch.org/models/wide_resnet50_2-95faca4d.pth',\n",
    "    'wide_resnet101_2': 'https://download.pytorch.org/models/wide_resnet101_2-32ee1156.pth',\n",
    "}'''\n",
    "\n",
    "\n",
    "def conv3x3(in_planes, out_planes, stride=1, groups=1, dilation=1):\n",
    "    \"\"\"3x3 convolution with padding\"\"\"\n",
    "    return nn.Conv2d(in_planes, out_planes, kernel_size=3, stride=stride,\n",
    "                     padding=dilation, groups=groups, bias=False, dilation=dilation)\n",
    "\n",
    "\n",
    "def conv1x1(in_planes, out_planes, stride=1):\n",
    "    \"\"\"1x1 convolution\"\"\"\n",
    "    return nn.Conv2d(in_planes, out_planes, kernel_size=1, stride=stride, bias=False)\n",
    "\n",
    "\n",
    "class BasicBlock(nn.Module):\n",
    "    expansion = 1\n",
    "    __constants__ = ['downsample']\n",
    "\n",
    "    def __init__(self, inplanes, planes, stride=1, downsample=None, groups=1,\n",
    "                 base_width=64, dilation=1, norm_layer=None):\n",
    "        super(BasicBlock, self).__init__()\n",
    "        if norm_layer is None:\n",
    "            norm_layer = nn.BatchNorm2d\n",
    "        if groups != 1 or base_width != 64:\n",
    "            raise ValueError('BasicBlock only supports groups=1 and base_width=64')\n",
    "        if dilation > 1:\n",
    "            raise NotImplementedError(\"Dilation > 1 not supported in BasicBlock\")\n",
    "        # Both self.conv1 and self.downsample layers downsample the input when stride != 1\n",
    "        self.conv1 = conv3x3(inplanes, planes, stride)\n",
    "        self.bn1 = norm_layer(planes)\n",
    "        self.relu = nn.ReLU(inplace=True)\n",
    "        self.conv2 = conv3x3(planes, planes)\n",
    "        self.bn2 = norm_layer(planes)\n",
    "        self.downsample = downsample\n",
    "        self.stride = stride\n",
    "\n",
    "    def forward(self, x):\n",
    "        identity = x\n",
    "\n",
    "        out = self.conv1(x)\n",
    "        out = self.bn1(out)\n",
    "        out = self.relu(out)\n",
    "\n",
    "        out = self.conv2(out)\n",
    "        out = self.bn2(out)\n",
    "\n",
    "        if self.downsample is not None:\n",
    "            identity = self.downsample(x)\n",
    "\n",
    "        out += identity\n",
    "        out = self.relu(out)\n",
    "\n",
    "        return out\n",
    "\n",
    "\n",
    "class Bottleneck(nn.Module):\n",
    "    expansion = 4\n",
    "    __constants__ = ['downsample']\n",
    "\n",
    "    def __init__(self, inplanes, planes, stride=1, downsample=None, groups=1,\n",
    "                 base_width=64, dilation=1, norm_layer=None):\n",
    "        super(Bottleneck, self).__init__()\n",
    "        if norm_layer is None:\n",
    "            norm_layer = nn.BatchNorm2d\n",
    "        width = int(planes * (base_width / 64.)) * groups\n",
    "        # Both self.conv2 and self.downsample layers downsample the input when stride != 1\n",
    "        self.conv1 = conv1x1(inplanes, width)\n",
    "        self.bn1 = norm_layer(width)\n",
    "        self.conv2 = conv3x3(width, width, stride, groups, dilation)\n",
    "        self.bn2 = norm_layer(width)\n",
    "        self.conv3 = conv1x1(width, planes * self.expansion)\n",
    "        self.bn3 = norm_layer(planes * self.expansion)\n",
    "        self.relu = nn.ReLU(inplace=True)\n",
    "        self.downsample = downsample\n",
    "        self.stride = stride\n",
    "\n",
    "    def forward(self, x):\n",
    "        identity = x\n",
    "\n",
    "        out = self.conv1(x)\n",
    "        out = self.bn1(out)\n",
    "        out = self.relu(out)\n",
    "\n",
    "        out = self.conv2(out)\n",
    "        out = self.bn2(out)\n",
    "        out = self.relu(out)\n",
    "\n",
    "        out = self.conv3(out)\n",
    "        out = self.bn3(out)\n",
    "\n",
    "        if self.downsample is not None:\n",
    "            identity = self.downsample(x)\n",
    "\n",
    "        out += identity\n",
    "        out = self.relu(out)\n",
    "\n",
    "        return out\n",
    "\n",
    "\n",
    "class ResNet(nn.Module):\n",
    "\n",
    "    def __init__(self, block, layers, num_classes=1000, zero_init_residual=False,\n",
    "                 groups=1, width_per_group=64, replace_stride_with_dilation=None,\n",
    "                 norm_layer=None):\n",
    "        super(ResNet, self).__init__()\n",
    "        if norm_layer is None:\n",
    "            norm_layer = nn.BatchNorm2d\n",
    "        self._norm_layer = norm_layer\n",
    "\n",
    "        self.inplanes = 64\n",
    "        self.dilation = 1\n",
    "        if replace_stride_with_dilation is None:\n",
    "            # each element in the tuple indicates if we should replace\n",
    "            # the 2x2 stride with a dilated convolution instead\n",
    "            replace_stride_with_dilation = [False, False, False]\n",
    "        if len(replace_stride_with_dilation) != 3:\n",
    "            raise ValueError(\"replace_stride_with_dilation should be None \"\n",
    "                             \"or a 3-element tuple, got {}\".format(replace_stride_with_dilation))\n",
    "        self.groups = groups\n",
    "        self.base_width = width_per_group\n",
    "        self.conv1 = nn.Conv2d(3, self.inplanes, kernel_size=7, stride=2, padding=3,\n",
    "                               bias=False)\n",
    "        self.bn1 = norm_layer(self.inplanes)\n",
    "        self.relu = nn.ReLU(inplace=True)\n",
    "        self.maxpool = nn.MaxPool2d(kernel_size=3, stride=2, padding=1)\n",
    "        self.layer1 = self._make_layer(block, 64, layers[0])\n",
    "        \n",
    "        self.dropoutTest1=nn.Dropout(0.1)\n",
    "        \n",
    "        self.layer2 = self._make_layer(block, 128, layers[1], stride=2,\n",
    "                                       dilate=replace_stride_with_dilation[0])\n",
    "        self.layer3 = self._make_layer(block, 256, layers[2], stride=2,\n",
    "                                       dilate=replace_stride_with_dilation[1])\n",
    "        self.layer4 = self._make_layer(block, 512, layers[3], stride=2,\n",
    "                                       dilate=replace_stride_with_dilation[2])\n",
    "        self.avgpool = nn.AdaptiveAvgPool2d((1, 1))\n",
    "        self.fc = nn.Linear(512 * block.expansion, num_classes)\n",
    "\n",
    "        for m in self.modules():\n",
    "            if isinstance(m, nn.Conv2d):\n",
    "                nn.init.kaiming_normal_(m.weight, mode='fan_out', nonlinearity='relu')\n",
    "            elif isinstance(m, (nn.BatchNorm2d, nn.GroupNorm)):\n",
    "                nn.init.constant_(m.weight, 1)\n",
    "                nn.init.constant_(m.bias, 0)\n",
    "\n",
    "        # Zero-initialize the last BN in each residual branch,\n",
    "        # so that the residual branch starts with zeros, and each residual block behaves like an identity.\n",
    "        # This improves the model by 0.2~0.3% according to https://arxiv.org/abs/1706.02677\n",
    "        if zero_init_residual:\n",
    "            for m in self.modules():\n",
    "                if isinstance(m, Bottleneck):\n",
    "                    nn.init.constant_(m.bn3.weight, 0)\n",
    "                elif isinstance(m, BasicBlock):\n",
    "                    nn.init.constant_(m.bn2.weight, 0)\n",
    "\n",
    "    def _make_layer(self, block, planes, blocks, stride=1, dilate=False):\n",
    "        norm_layer = self._norm_layer\n",
    "        downsample = None\n",
    "        previous_dilation = self.dilation\n",
    "        if dilate:\n",
    "            self.dilation *= stride\n",
    "            stride = 1\n",
    "        if stride != 1 or self.inplanes != planes * block.expansion:\n",
    "            downsample = nn.Sequential(\n",
    "                conv1x1(self.inplanes, planes * block.expansion, stride),\n",
    "                norm_layer(planes * block.expansion),\n",
    "            )\n",
    "\n",
    "        layers = []\n",
    "        layers.append(block(self.inplanes, planes, stride, downsample, self.groups,\n",
    "                            self.base_width, previous_dilation, norm_layer))\n",
    "        self.inplanes = planes * block.expansion\n",
    "        for _ in range(1, blocks):\n",
    "            layers.append(block(self.inplanes, planes, groups=self.groups,\n",
    "                                base_width=self.base_width, dilation=self.dilation,\n",
    "                                norm_layer=norm_layer))\n",
    "\n",
    "        return nn.Sequential(*layers)\n",
    "\n",
    "    def _forward(self, x):\n",
    "        x = self.conv1(x)\n",
    "        x = self.bn1(x)\n",
    "        x = self.relu(x)\n",
    "        x = self.maxpool(x)\n",
    "\n",
    "        x = self.layer1(x)\n",
    "        x = self.layer2(x)\n",
    "        x = self.layer3(x)\n",
    "        x = self.layer4(x)\n",
    "\n",
    "        x = self.avgpool(x)\n",
    "        x = torch.flatten(x, 1)\n",
    "        x = self.fc(x)\n",
    "        x = self.dropoutTest1(x)\n",
    "        return x\n",
    "\n",
    "    # Allow for accessing forward method in a inherited class\n",
    "    forward = _forward\n",
    "\n",
    "\n",
    "def _resnet(arch, block, layers, pretrained, progress, **kwargs):\n",
    "    model = ResNet(block, layers, **kwargs)\n",
    "    if pretrained:\n",
    "        state_dict = load_state_dict_from_url(model_urls[arch],\n",
    "                                              progress=progress)\n",
    "        model.load_state_dict(state_dict)\n",
    "    return model\n",
    "\n",
    "\n",
    "def resnet18(pretrained=False, progress=True, **kwargs):\n",
    "    r\"\"\"ResNet-18 model from\n",
    "    `\"Deep Residual Learning for Image Recognition\" <https://arxiv.org/pdf/1512.03385.pdf>`_\n",
    "    Args:\n",
    "        pretrained (bool): If True, returns a model pre-trained on ImageNet\n",
    "        progress (bool): If True, displays a progress bar of the download to stderr\n",
    "    \"\"\"\n",
    "    return _resnet('resnet18', BasicBlock, [2, 2, 2, 2], pretrained, progress,\n",
    "                   **kwargs)\n",
    "\n",
    "\n",
    "def resnet34(pretrained=False, progress=True, **kwargs):\n",
    "    r\"\"\"ResNet-34 model from\n",
    "    `\"Deep Residual Learning for Image Recognition\" <https://arxiv.org/pdf/1512.03385.pdf>`_\n",
    "    Args:\n",
    "        pretrained (bool): If True, returns a model pre-trained on ImageNet\n",
    "        progress (bool): If True, displays a progress bar of the download to stderr\n",
    "    \"\"\"\n",
    "    return _resnet('resnet34', BasicBlock, [3, 4, 6, 3], pretrained, progress,\n",
    "                   **kwargs)\n",
    "\n",
    "\n",
    "def resnet50(pretrained=False, progress=True, **kwargs):\n",
    "    r\"\"\"ResNet-50 model from\n",
    "    `\"Deep Residual Learning for Image Recognition\" <https://arxiv.org/pdf/1512.03385.pdf>`_\n",
    "    Args:\n",
    "        pretrained (bool): If True, returns a model pre-trained on ImageNet\n",
    "        progress (bool): If True, displays a progress bar of the download to stderr\n",
    "    \"\"\"\n",
    "    return _resnet('resnet50', Bottleneck, [3, 4, 6, 3], pretrained, progress,\n",
    "                   **kwargs)\n",
    "\n",
    "\n",
    "def resnet101(pretrained=False, progress=True, **kwargs):\n",
    "    r\"\"\"ResNet-101 model from\n",
    "    `\"Deep Residual Learning for Image Recognition\" <https://arxiv.org/pdf/1512.03385.pdf>`_\n",
    "    Args:\n",
    "        pretrained (bool): If True, returns a model pre-trained on ImageNet\n",
    "        progress (bool): If True, displays a progress bar of the download to stderr\n",
    "    \"\"\"\n",
    "    return _resnet('resnet101', Bottleneck, [3, 4, 23, 3], pretrained, progress,\n",
    "                   **kwargs)\n",
    "\n",
    "\n",
    "def resnet152(pretrained=False, progress=True, **kwargs):\n",
    "    r\"\"\"ResNet-152 model from\n",
    "    `\"Deep Residual Learning for Image Recognition\" <https://arxiv.org/pdf/1512.03385.pdf>`_\n",
    "    Args:\n",
    "        pretrained (bool): If True, returns a model pre-trained on ImageNet\n",
    "        progress (bool): If True, displays a progress bar of the download to stderr\n",
    "    \"\"\"\n",
    "    return _resnet('resnet152', Bottleneck, [3, 8, 36, 3], pretrained, progress,\n",
    "                   **kwargs)\n",
    "\n",
    "\n",
    "def resnext50_32x4d(pretrained=False, progress=True, **kwargs):\n",
    "    r\"\"\"ResNeXt-50 32x4d model from\n",
    "    `\"Aggregated Residual Transformation for Deep Neural Networks\" <https://arxiv.org/pdf/1611.05431.pdf>`_\n",
    "    Args:\n",
    "        pretrained (bool): If True, returns a model pre-trained on ImageNet\n",
    "        progress (bool): If True, displays a progress bar of the download to stderr\n",
    "    \"\"\"\n",
    "    kwargs['groups'] = 32\n",
    "    kwargs['width_per_group'] = 4\n",
    "    return _resnet('resnext50_32x4d', Bottleneck, [3, 4, 6, 3],\n",
    "                   pretrained, progress, **kwargs)\n",
    "\n",
    "\n",
    "def resnext101_32x8d(pretrained=False, progress=True, **kwargs):\n",
    "    r\"\"\"ResNeXt-101 32x8d model from\n",
    "    `\"Aggregated Residual Transformation for Deep Neural Networks\" <https://arxiv.org/pdf/1611.05431.pdf>`_\n",
    "    Args:\n",
    "        pretrained (bool): If True, returns a model pre-trained on ImageNet\n",
    "        progress (bool): If True, displays a progress bar of the download to stderr\n",
    "    \"\"\"\n",
    "    kwargs['groups'] = 32\n",
    "    kwargs['width_per_group'] = 8\n",
    "    return _resnet('resnext101_32x8d', Bottleneck, [3, 4, 23, 3],\n",
    "                   pretrained, progress, **kwargs)\n",
    "\n",
    "\n",
    "def wide_resnet50_2(pretrained=False, progress=True, **kwargs):\n",
    "    r\"\"\"Wide ResNet-50-2 model from\n",
    "    `\"Wide Residual Networks\" <https://arxiv.org/pdf/1605.07146.pdf>`_\n",
    "    The model is the same as ResNet except for the bottleneck number of channels\n",
    "    which is twice larger in every block. The number of channels in outer 1x1\n",
    "    convolutions is the same, e.g. last block in ResNet-50 has 2048-512-2048\n",
    "    channels, and in Wide ResNet-50-2 has 2048-1024-2048.\n",
    "    Args:\n",
    "        pretrained (bool): If True, returns a model pre-trained on ImageNet\n",
    "        progress (bool): If True, displays a progress bar of the download to stderr\n",
    "    \"\"\"\n",
    "    kwargs['width_per_group'] = 64 * 2\n",
    "    return _resnet('wide_resnet50_2', Bottleneck, [3, 4, 6, 3],\n",
    "                   pretrained, progress, **kwargs)\n",
    "\n",
    "\n",
    "def wide_resnet101_2(pretrained=False, progress=True, **kwargs):\n",
    "    r\"\"\"Wide ResNet-101-2 model from\n",
    "    `\"Wide Residual Networks\" <https://arxiv.org/pdf/1605.07146.pdf>`_\n",
    "    The model is the same as ResNet except for the bottleneck number of channels\n",
    "    which is twice larger in every block. The number of channels in outer 1x1\n",
    "    convolutions is the same, e.g. last block in ResNet-50 has 2048-512-2048\n",
    "    channels, and in Wide ResNet-50-2 has 2048-1024-2048.\n",
    "    Args:\n",
    "        pretrained (bool): If True, returns a model pre-trained on ImageNet\n",
    "        progress (bool): If True, displays a progress bar of the download to stderr\n",
    "    \"\"\"\n",
    "    kwargs['width_per_group'] = 64 * 2\n",
    "    return _resnet('wide_resnet101_2', Bottleneck, [3, 4, 23, 3],\n",
    "                   pretrained, progress, **kwargs)"
   ]
  },
  {
   "cell_type": "code",
   "execution_count": 16,
   "metadata": {},
   "outputs": [],
   "source": [
    "def initialize_model(model_name, num_classes, resume_from = None):\n",
    "    # Initialize these variables which will be set in this if statement. Each of these\n",
    "    #   variables is model specific.\n",
    "    # The model (nn.Module) to return\n",
    "    model_ft = None\n",
    "    # The input image is expected to be (input_size, input_size)\n",
    "    input_size = 0\n",
    "    \n",
    "    # You may NOT use pretrained models!! \n",
    "    use_pretrained = False\n",
    "    \n",
    "    # By default, all parameters will be trained (useful when you're starting from scratch)\n",
    "    # Within this function you can set .requires_grad = False for various parameters, if you\n",
    "    # don't want to learn them\n",
    "\n",
    "    if model_name == \"resnet\":\n",
    "        \"\"\" Resnet18\n",
    "        \"\"\"\n",
    "        model_ft = models.resnet18(pretrained=use_pretrained)\n",
    "        num_ftrs = model_ft.fc.in_features\n",
    "        model_ft.fc = nn.Linear(num_ftrs, num_classes)\n",
    "        input_size = 224\n",
    "\n",
    "    elif model_name == \"alexnet\":\n",
    "        \"\"\" Alexnet\n",
    "        \"\"\"\n",
    "        model_ft = models.alexnet(pretrained=use_pretrained)\n",
    "        num_ftrs = model_ft.classifier[6].in_features\n",
    "        model_ft.classifier[6] = nn.Linear(num_ftrs,num_classes)\n",
    "        input_size = 224\n",
    "\n",
    "    elif model_name == \"vgg\":\n",
    "        \"\"\" VGG11_bn\n",
    "        \"\"\"\n",
    "        model_ft = models.vgg11_bn(pretrained=use_pretrained)\n",
    "        num_ftrs = model_ft.classifier[6].in_features\n",
    "        model_ft.classifier[6] = nn.Linear(num_ftrs,num_classes)\n",
    "        input_size = 224\n",
    "\n",
    "    elif model_name == \"squeezenet\":\n",
    "        \"\"\" Squeezenet\n",
    "        \"\"\"\n",
    "        model_ft = models.squeezenet1_0(pretrained=use_pretrained)\n",
    "        model_ft.classifier[1] = nn.Conv2d(512, num_classes, kernel_size=(1,1), stride=(1,1))\n",
    "        model_ft.num_classes = num_classes\n",
    "        input_size = 224\n",
    "\n",
    "    elif model_name == \"densenet\":\n",
    "        \"\"\" Densenet\n",
    "        \"\"\"\n",
    "        model_ft = models.densenet121(pretrained=use_pretrained)\n",
    "        num_ftrs = model_ft.classifier.in_features\n",
    "        model_ft.classifier = nn.Linear(num_ftrs, num_classes) \n",
    "        input_size = 224\n",
    "\n",
    "    else:\n",
    "        raise Exception(\"Invalid model name!\")\n",
    "    \n",
    "    if resume_from is not None:\n",
    "        print(\"Loading weights from %s\" % resume_from)\n",
    "        model_ft.load_state_dict(torch.load(resume_from))\n",
    "    \n",
    "    return model_ft, input_size"
   ]
  },
  {
   "cell_type": "markdown",
   "metadata": {},
   "source": [
    "## Data Loading\n",
    "\n",
    "With the input size from the model, we can now load the dataset"
   ]
  },
  {
   "cell_type": "code",
   "execution_count": 17,
   "metadata": {},
   "outputs": [],
   "source": [
    "def get_dataloaders(input_size, batch_size, shuffle = True):\n",
    "    # How to transform the image when you are loading them.\n",
    "    # you'll likely want to mess with the transforms on the training set.\n",
    "    \n",
    "    # For now, we resize/crop the image to the correct input size for our network,\n",
    "    # then convert it to a [C,H,W] tensor, then normalize it to values with a given mean/stdev. These normalization constants\n",
    "    # are derived from aggregating lots of data and happen to produce better results.\n",
    "    data_transforms = {\n",
    "        'train': transforms.Compose([\n",
    "            transforms.Resize(input_size),\n",
    "            transforms.CenterCrop(input_size),\n",
    "            transforms.ToTensor(),\n",
    "            transforms.Normalize([0.485, 0.456, 0.406], [0.229, 0.224, 0.225])\n",
    "        ]),\n",
    "        'val': transforms.Compose([\n",
    "            transforms.Resize(input_size),\n",
    "            transforms.CenterCrop(input_size),\n",
    "            transforms.ToTensor(),\n",
    "            transforms.Normalize([0.485, 0.456, 0.406], [0.229, 0.224, 0.225])\n",
    "        ]),\n",
    "        'test': transforms.Compose([\n",
    "            transforms.Resize(input_size),\n",
    "            transforms.CenterCrop(input_size),\n",
    "            transforms.ToTensor(),\n",
    "            transforms.Normalize([0.485, 0.456, 0.406], [0.229, 0.224, 0.225])\n",
    "        ])\n",
    "    }\n",
    "    # Create training and validation datasets\n",
    "    image_datasets = {x: datasets.ImageFolder(os.path.join(data_dir, x), data_transforms[x]) for x in data_transforms.keys()}\n",
    "    # Create training and validation dataloaders\n",
    "    # Never shuffle the test set\n",
    "    dataloaders_dict = {x: torch.utils.data.DataLoader(image_datasets[x], batch_size=batch_size, shuffle=False if x != 'train' else shuffle, num_workers=4) for x in data_transforms.keys()}\n",
    "    return dataloaders_dict"
   ]
  },
  {
   "cell_type": "markdown",
   "metadata": {},
   "source": [
    "## Training\n",
    "Next, let's make a helper function that trains the given model"
   ]
  },
  {
   "cell_type": "code",
   "execution_count": 18,
   "metadata": {},
   "outputs": [],
   "source": [
    "def train_model(model, dataloaders, criterion, optimizer, save_dir = None, save_all_epochs=False, num_epochs=25):\n",
    "    '''\n",
    "    model: The NN to train\n",
    "    dataloaders: A dictionary containing at least the keys \n",
    "                 'train','val' that maps to Pytorch data loaders for the dataset\n",
    "    criterion: The Loss function\n",
    "    optimizer: The algorithm to update weights \n",
    "               (Variations on gradient descent)\n",
    "    num_epochs: How many epochs to train for\n",
    "    save_dir: Where to save the best model weights that are found, \n",
    "              as they are found. Will save to save_dir/weights_best.pt\n",
    "              Using None will not write anything to disk\n",
    "    save_all_epochs: Whether to save weights for ALL epochs, not just the best\n",
    "                     validation error epoch. Will save to save_dir/weights_e{#}.pt\n",
    "    '''\n",
    "    since = time.time()\n",
    "\n",
    "    val_acc_history = []\n",
    "    \n",
    "    #PATH = save_dir+\"/weights\"+str(epoch_number)\n",
    "    \n",
    "    best_model_wts = copy.deepcopy(model.state_dict())\n",
    "    best_acc = 0.0\n",
    "    for epoch in range(num_epochs):\n",
    "        if epoch%3 == 0:\n",
    "            torch.save(model.state_dict(), save_dir+\"/weights\"+str(epoch))\n",
    "        print('Epoch {}/{}'.format(epoch, num_epochs - 1))\n",
    "        print('-' * 10)\n",
    "\n",
    "        # Each epoch has a training and validation phase\n",
    "        for phase in ['train', 'val']:\n",
    "            if phase == 'train':\n",
    "                model.train()  # Set model to training mode\n",
    "            else:\n",
    "                model.eval()   # Set model to evaluate mode\n",
    "\n",
    "            running_loss = 0.0\n",
    "            running_corrects = 0\n",
    "\n",
    "            # Iterate over data.\n",
    "            # TQDM has nice progress bars\n",
    "            for inputs, labels in tqdm(dataloaders[phase]):\n",
    "                inputs = inputs.to(device)\n",
    "                labels = labels.to(device)\n",
    "\n",
    "                # zero the parameter gradients\n",
    "                optimizer.zero_grad()\n",
    "\n",
    "                # forward\n",
    "                # track history if only in train\n",
    "                with torch.set_grad_enabled(phase == 'train'):\n",
    "                    # Get model outputs and calculate loss\n",
    "                    outputs = model(inputs)\n",
    "                    loss = criterion(outputs, labels)\n",
    "\n",
    "                    # torch.max outputs the maximum value, and its index\n",
    "                    # Since the input is batched, we take the max along axis 1\n",
    "                    # (the meaningful outputs)\n",
    "                    _, preds = torch.max(outputs, 1)\n",
    "\n",
    "                    # backprop + optimize only if in training phase\n",
    "                    if phase == 'train':\n",
    "                        loss.backward()\n",
    "                        optimizer.step()\n",
    "\n",
    "                # statistics\n",
    "                running_loss += loss.item() * inputs.size(0)\n",
    "                running_corrects += torch.sum(preds == labels.data)\n",
    "\n",
    "            epoch_loss = running_loss / len(dataloaders[phase].dataset)\n",
    "            epoch_acc = running_corrects.double() / len(dataloaders[phase].dataset)\n",
    "\n",
    "            print('{} Loss: {:.4f} Acc: {:.4f}'.format(phase, epoch_loss, epoch_acc))\n",
    "\n",
    "            # deep copy the model\n",
    "            if phase == 'val' and epoch_acc > best_acc:\n",
    "                best_acc = epoch_acc\n",
    "                best_model_wts = copy.deepcopy(model.state_dict())\n",
    "            if phase == 'val':\n",
    "                val_acc_history.append(epoch_acc)\n",
    "\n",
    "        print()\n",
    "\n",
    "    time_elapsed = time.time() - since\n",
    "    print('Training complete in {:.0f}m {:.0f}s'.format(time_elapsed // 60, time_elapsed % 60))\n",
    "    print('Best val Acc: {:4f}'.format(best_acc))\n",
    "\n",
    "    # load best model weights\n",
    "    model.load_state_dict(best_model_wts)\n",
    "    return model, val_acc_history"
   ]
  },
  {
   "cell_type": "markdown",
   "metadata": {},
   "source": [
    "## Optimizer & Loss\n",
    "We need a loss function, and an optimization function to use to try to reduce that loss."
   ]
  },
  {
   "cell_type": "code",
   "execution_count": 19,
   "metadata": {},
   "outputs": [],
   "source": [
    "def make_optimizer(model):\n",
    "    # Get all the parameters\n",
    "    params_to_update = model.parameters()\n",
    "    print(\"Params to learn:\")\n",
    "    for name, param in model.named_parameters():\n",
    "        if param.requires_grad == True:\n",
    "            print(\"\\t\",name)\n",
    "\n",
    "    # Use SGD\n",
    "    optimizer = optim.SGD(params_to_update, lr=0.001, momentum=0.9)\n",
    "    #optimizer = optim.Adam(params_to_update, lr=0.001)\n",
    "    #optimizer = optim.Adagrad(params_to_update, lr=0.001, weight_decay=1e-2)#lr_decay=1e-3)\n",
    "    return optimizer\n",
    "\n",
    "def get_loss():\n",
    "    # Create an instance of the loss function\n",
    "    criterion = nn.CrossEntropyLoss()\n",
    "    return criterion"
   ]
  },
  {
   "cell_type": "markdown",
   "metadata": {},
   "source": [
    "## Inputs\n",
    "\n",
    "Here, we set up some of the various parameters that we can change to run the code. You can add change the values given here, or add new ones! This is just a template.\n",
    "\n",
    "Our data is conveniently set up to follow the expected format of the  `ImageFolder <https://pytorch.org/docs/stable/torchvision/datasets.html#torchvision.datasets.ImageFolder>`__\n",
    "dataset class, rather than writing our own custom dataset.\n",
    "\n",
    "The ``model_name`` input is the name of the model you wish to use. We've provided starter code that initializes these models using provided models in TorchVision (a PyTorch library)\n",
    "\n",
    "The code as is supports the following values: [resnet, alexnet, vgg, squeezenet, densenet]\n",
    "\n",
    "The other inputs are as follows: ``num_classes`` is the number of\n",
    "classes in the dataset, 100 here, ``batch_size`` is the batch size used for\n",
    "training and may be adjusted according to the capability of your\n",
    "machine, ``num_epochs`` is the number of training epochs (passes through the dataset) we want to run.\n",
    "\n",
    "\n"
   ]
  },
  {
   "cell_type": "code",
   "execution_count": 20,
   "metadata": {},
   "outputs": [],
   "source": [
    "# Models to choose from [resnet, alexnet, vgg, squeezenet, densenet]\n",
    "# You can add your own, or modify these however you wish!\n",
    "model_name = \"resnet\"\n",
    "\n",
    "# Number of classes in the dataset\n",
    "# Miniplaces has 100\n",
    "num_classes = 100\n",
    "\n",
    "# Batch size for training (change depending on how much memory you have)\n",
    "# You should use a power of 2.\n",
    "batch_size = 8\n",
    "\n",
    "# Shuffle the input data?\n",
    "shuffle_datasets = True\n",
    "\n",
    "# Number of epochs to train for \n",
    "num_epochs = 15\n",
    "\n",
    "### IO\n",
    "# Path to a model file to use to start weights at\n",
    "resume_from = None\n",
    "\n",
    "# Directory to save weights to\n",
    "save_dir = \"weights\"\n",
    "os.makedirs(save_dir, exist_ok=True)\n",
    "\n",
    "# Save weights for all epochs, not just the best one\n",
    "save_all_epochs = False\n",
    "\n"
   ]
  },
  {
   "cell_type": "markdown",
   "metadata": {},
   "source": [
    "## Tying it all together - Training"
   ]
  },
  {
   "cell_type": "code",
   "execution_count": 21,
   "metadata": {
    "scrolled": false
   },
   "outputs": [
    {
     "name": "stdout",
     "output_type": "stream",
     "text": [
      "Params to learn:\n",
      "\t conv1.weight\n",
      "\t bn1.weight\n",
      "\t bn1.bias\n",
      "\t layer1.0.conv1.weight\n",
      "\t layer1.0.bn1.weight\n",
      "\t layer1.0.bn1.bias\n",
      "\t layer1.0.conv2.weight\n",
      "\t layer1.0.bn2.weight\n",
      "\t layer1.0.bn2.bias\n",
      "\t layer1.0.conv3.weight\n",
      "\t layer1.0.bn3.weight\n",
      "\t layer1.0.bn3.bias\n",
      "\t layer1.0.downsample.0.weight\n",
      "\t layer1.0.downsample.1.weight\n",
      "\t layer1.0.downsample.1.bias\n",
      "\t layer1.1.conv1.weight\n",
      "\t layer1.1.bn1.weight\n",
      "\t layer1.1.bn1.bias\n",
      "\t layer1.1.conv2.weight\n",
      "\t layer1.1.bn2.weight\n",
      "\t layer1.1.bn2.bias\n",
      "\t layer1.1.conv3.weight\n",
      "\t layer1.1.bn3.weight\n",
      "\t layer1.1.bn3.bias\n",
      "\t layer1.2.conv1.weight\n",
      "\t layer1.2.bn1.weight\n",
      "\t layer1.2.bn1.bias\n",
      "\t layer1.2.conv2.weight\n",
      "\t layer1.2.bn2.weight\n",
      "\t layer1.2.bn2.bias\n",
      "\t layer1.2.conv3.weight\n",
      "\t layer1.2.bn3.weight\n",
      "\t layer1.2.bn3.bias\n",
      "\t layer2.0.conv1.weight\n",
      "\t layer2.0.bn1.weight\n",
      "\t layer2.0.bn1.bias\n",
      "\t layer2.0.conv2.weight\n",
      "\t layer2.0.bn2.weight\n",
      "\t layer2.0.bn2.bias\n",
      "\t layer2.0.conv3.weight\n",
      "\t layer2.0.bn3.weight\n",
      "\t layer2.0.bn3.bias\n",
      "\t layer2.0.downsample.0.weight\n",
      "\t layer2.0.downsample.1.weight\n",
      "\t layer2.0.downsample.1.bias\n",
      "\t layer2.1.conv1.weight\n",
      "\t layer2.1.bn1.weight\n",
      "\t layer2.1.bn1.bias\n",
      "\t layer2.1.conv2.weight\n",
      "\t layer2.1.bn2.weight\n",
      "\t layer2.1.bn2.bias\n",
      "\t layer2.1.conv3.weight\n",
      "\t layer2.1.bn3.weight\n",
      "\t layer2.1.bn3.bias\n",
      "\t layer2.2.conv1.weight\n",
      "\t layer2.2.bn1.weight\n",
      "\t layer2.2.bn1.bias\n",
      "\t layer2.2.conv2.weight\n",
      "\t layer2.2.bn2.weight\n",
      "\t layer2.2.bn2.bias\n",
      "\t layer2.2.conv3.weight\n",
      "\t layer2.2.bn3.weight\n",
      "\t layer2.2.bn3.bias\n",
      "\t layer2.3.conv1.weight\n",
      "\t layer2.3.bn1.weight\n",
      "\t layer2.3.bn1.bias\n",
      "\t layer2.3.conv2.weight\n",
      "\t layer2.3.bn2.weight\n",
      "\t layer2.3.bn2.bias\n",
      "\t layer2.3.conv3.weight\n",
      "\t layer2.3.bn3.weight\n",
      "\t layer2.3.bn3.bias\n",
      "\t layer2.4.conv1.weight\n",
      "\t layer2.4.bn1.weight\n",
      "\t layer2.4.bn1.bias\n",
      "\t layer2.4.conv2.weight\n",
      "\t layer2.4.bn2.weight\n",
      "\t layer2.4.bn2.bias\n",
      "\t layer2.4.conv3.weight\n",
      "\t layer2.4.bn3.weight\n",
      "\t layer2.4.bn3.bias\n",
      "\t layer2.5.conv1.weight\n",
      "\t layer2.5.bn1.weight\n",
      "\t layer2.5.bn1.bias\n",
      "\t layer2.5.conv2.weight\n",
      "\t layer2.5.bn2.weight\n",
      "\t layer2.5.bn2.bias\n",
      "\t layer2.5.conv3.weight\n",
      "\t layer2.5.bn3.weight\n",
      "\t layer2.5.bn3.bias\n",
      "\t layer2.6.conv1.weight\n",
      "\t layer2.6.bn1.weight\n",
      "\t layer2.6.bn1.bias\n",
      "\t layer2.6.conv2.weight\n",
      "\t layer2.6.bn2.weight\n",
      "\t layer2.6.bn2.bias\n",
      "\t layer2.6.conv3.weight\n",
      "\t layer2.6.bn3.weight\n",
      "\t layer2.6.bn3.bias\n",
      "\t layer2.7.conv1.weight\n",
      "\t layer2.7.bn1.weight\n",
      "\t layer2.7.bn1.bias\n",
      "\t layer2.7.conv2.weight\n",
      "\t layer2.7.bn2.weight\n",
      "\t layer2.7.bn2.bias\n",
      "\t layer2.7.conv3.weight\n",
      "\t layer2.7.bn3.weight\n",
      "\t layer2.7.bn3.bias\n",
      "\t layer3.0.conv1.weight\n",
      "\t layer3.0.bn1.weight\n",
      "\t layer3.0.bn1.bias\n",
      "\t layer3.0.conv2.weight\n",
      "\t layer3.0.bn2.weight\n",
      "\t layer3.0.bn2.bias\n",
      "\t layer3.0.conv3.weight\n",
      "\t layer3.0.bn3.weight\n",
      "\t layer3.0.bn3.bias\n",
      "\t layer3.0.downsample.0.weight\n",
      "\t layer3.0.downsample.1.weight\n",
      "\t layer3.0.downsample.1.bias\n",
      "\t layer3.1.conv1.weight\n",
      "\t layer3.1.bn1.weight\n",
      "\t layer3.1.bn1.bias\n",
      "\t layer3.1.conv2.weight\n",
      "\t layer3.1.bn2.weight\n",
      "\t layer3.1.bn2.bias\n",
      "\t layer3.1.conv3.weight\n",
      "\t layer3.1.bn3.weight\n",
      "\t layer3.1.bn3.bias\n",
      "\t layer3.2.conv1.weight\n",
      "\t layer3.2.bn1.weight\n",
      "\t layer3.2.bn1.bias\n",
      "\t layer3.2.conv2.weight\n",
      "\t layer3.2.bn2.weight\n",
      "\t layer3.2.bn2.bias\n",
      "\t layer3.2.conv3.weight\n",
      "\t layer3.2.bn3.weight\n",
      "\t layer3.2.bn3.bias\n",
      "\t layer3.3.conv1.weight\n",
      "\t layer3.3.bn1.weight\n",
      "\t layer3.3.bn1.bias\n",
      "\t layer3.3.conv2.weight\n",
      "\t layer3.3.bn2.weight\n",
      "\t layer3.3.bn2.bias\n",
      "\t layer3.3.conv3.weight\n",
      "\t layer3.3.bn3.weight\n",
      "\t layer3.3.bn3.bias\n",
      "\t layer3.4.conv1.weight\n",
      "\t layer3.4.bn1.weight\n",
      "\t layer3.4.bn1.bias\n",
      "\t layer3.4.conv2.weight\n",
      "\t layer3.4.bn2.weight\n",
      "\t layer3.4.bn2.bias\n",
      "\t layer3.4.conv3.weight\n",
      "\t layer3.4.bn3.weight\n",
      "\t layer3.4.bn3.bias\n",
      "\t layer3.5.conv1.weight\n",
      "\t layer3.5.bn1.weight\n",
      "\t layer3.5.bn1.bias\n",
      "\t layer3.5.conv2.weight\n",
      "\t layer3.5.bn2.weight\n",
      "\t layer3.5.bn2.bias\n",
      "\t layer3.5.conv3.weight\n",
      "\t layer3.5.bn3.weight\n",
      "\t layer3.5.bn3.bias\n",
      "\t layer3.6.conv1.weight\n",
      "\t layer3.6.bn1.weight\n",
      "\t layer3.6.bn1.bias\n",
      "\t layer3.6.conv2.weight\n",
      "\t layer3.6.bn2.weight\n",
      "\t layer3.6.bn2.bias\n",
      "\t layer3.6.conv3.weight\n",
      "\t layer3.6.bn3.weight\n",
      "\t layer3.6.bn3.bias\n",
      "\t layer3.7.conv1.weight\n",
      "\t layer3.7.bn1.weight\n",
      "\t layer3.7.bn1.bias\n",
      "\t layer3.7.conv2.weight\n",
      "\t layer3.7.bn2.weight\n",
      "\t layer3.7.bn2.bias\n",
      "\t layer3.7.conv3.weight\n",
      "\t layer3.7.bn3.weight\n",
      "\t layer3.7.bn3.bias\n",
      "\t layer3.8.conv1.weight\n",
      "\t layer3.8.bn1.weight\n",
      "\t layer3.8.bn1.bias\n",
      "\t layer3.8.conv2.weight\n",
      "\t layer3.8.bn2.weight\n",
      "\t layer3.8.bn2.bias\n",
      "\t layer3.8.conv3.weight\n",
      "\t layer3.8.bn3.weight\n",
      "\t layer3.8.bn3.bias\n",
      "\t layer3.9.conv1.weight\n",
      "\t layer3.9.bn1.weight\n",
      "\t layer3.9.bn1.bias\n",
      "\t layer3.9.conv2.weight\n",
      "\t layer3.9.bn2.weight\n",
      "\t layer3.9.bn2.bias\n",
      "\t layer3.9.conv3.weight\n",
      "\t layer3.9.bn3.weight\n",
      "\t layer3.9.bn3.bias\n",
      "\t layer3.10.conv1.weight\n",
      "\t layer3.10.bn1.weight\n",
      "\t layer3.10.bn1.bias\n",
      "\t layer3.10.conv2.weight\n",
      "\t layer3.10.bn2.weight\n",
      "\t layer3.10.bn2.bias\n",
      "\t layer3.10.conv3.weight\n",
      "\t layer3.10.bn3.weight\n",
      "\t layer3.10.bn3.bias\n",
      "\t layer3.11.conv1.weight\n",
      "\t layer3.11.bn1.weight\n",
      "\t layer3.11.bn1.bias\n",
      "\t layer3.11.conv2.weight\n",
      "\t layer3.11.bn2.weight\n",
      "\t layer3.11.bn2.bias\n",
      "\t layer3.11.conv3.weight\n",
      "\t layer3.11.bn3.weight\n",
      "\t layer3.11.bn3.bias\n",
      "\t layer3.12.conv1.weight\n",
      "\t layer3.12.bn1.weight\n",
      "\t layer3.12.bn1.bias\n",
      "\t layer3.12.conv2.weight\n",
      "\t layer3.12.bn2.weight\n",
      "\t layer3.12.bn2.bias\n",
      "\t layer3.12.conv3.weight\n",
      "\t layer3.12.bn3.weight\n",
      "\t layer3.12.bn3.bias\n",
      "\t layer3.13.conv1.weight\n",
      "\t layer3.13.bn1.weight\n",
      "\t layer3.13.bn1.bias\n",
      "\t layer3.13.conv2.weight\n",
      "\t layer3.13.bn2.weight\n",
      "\t layer3.13.bn2.bias\n",
      "\t layer3.13.conv3.weight\n",
      "\t layer3.13.bn3.weight\n",
      "\t layer3.13.bn3.bias\n",
      "\t layer3.14.conv1.weight\n",
      "\t layer3.14.bn1.weight\n",
      "\t layer3.14.bn1.bias\n",
      "\t layer3.14.conv2.weight\n",
      "\t layer3.14.bn2.weight\n",
      "\t layer3.14.bn2.bias\n",
      "\t layer3.14.conv3.weight\n",
      "\t layer3.14.bn3.weight\n",
      "\t layer3.14.bn3.bias\n",
      "\t layer3.15.conv1.weight\n",
      "\t layer3.15.bn1.weight\n",
      "\t layer3.15.bn1.bias\n",
      "\t layer3.15.conv2.weight\n",
      "\t layer3.15.bn2.weight\n",
      "\t layer3.15.bn2.bias\n",
      "\t layer3.15.conv3.weight\n",
      "\t layer3.15.bn3.weight\n",
      "\t layer3.15.bn3.bias\n",
      "\t layer3.16.conv1.weight\n",
      "\t layer3.16.bn1.weight\n",
      "\t layer3.16.bn1.bias\n",
      "\t layer3.16.conv2.weight\n",
      "\t layer3.16.bn2.weight\n",
      "\t layer3.16.bn2.bias\n",
      "\t layer3.16.conv3.weight\n",
      "\t layer3.16.bn3.weight\n",
      "\t layer3.16.bn3.bias\n",
      "\t layer3.17.conv1.weight\n",
      "\t layer3.17.bn1.weight\n",
      "\t layer3.17.bn1.bias\n",
      "\t layer3.17.conv2.weight\n",
      "\t layer3.17.bn2.weight\n",
      "\t layer3.17.bn2.bias\n",
      "\t layer3.17.conv3.weight\n",
      "\t layer3.17.bn3.weight\n",
      "\t layer3.17.bn3.bias\n",
      "\t layer3.18.conv1.weight\n",
      "\t layer3.18.bn1.weight\n",
      "\t layer3.18.bn1.bias\n",
      "\t layer3.18.conv2.weight\n",
      "\t layer3.18.bn2.weight\n",
      "\t layer3.18.bn2.bias\n",
      "\t layer3.18.conv3.weight\n",
      "\t layer3.18.bn3.weight\n",
      "\t layer3.18.bn3.bias\n",
      "\t layer3.19.conv1.weight\n",
      "\t layer3.19.bn1.weight\n",
      "\t layer3.19.bn1.bias\n",
      "\t layer3.19.conv2.weight\n",
      "\t layer3.19.bn2.weight\n",
      "\t layer3.19.bn2.bias\n",
      "\t layer3.19.conv3.weight\n",
      "\t layer3.19.bn3.weight\n",
      "\t layer3.19.bn3.bias\n",
      "\t layer3.20.conv1.weight\n",
      "\t layer3.20.bn1.weight\n",
      "\t layer3.20.bn1.bias\n",
      "\t layer3.20.conv2.weight\n",
      "\t layer3.20.bn2.weight\n",
      "\t layer3.20.bn2.bias\n",
      "\t layer3.20.conv3.weight\n",
      "\t layer3.20.bn3.weight\n",
      "\t layer3.20.bn3.bias\n",
      "\t layer3.21.conv1.weight\n",
      "\t layer3.21.bn1.weight\n",
      "\t layer3.21.bn1.bias\n",
      "\t layer3.21.conv2.weight\n",
      "\t layer3.21.bn2.weight\n",
      "\t layer3.21.bn2.bias\n",
      "\t layer3.21.conv3.weight\n",
      "\t layer3.21.bn3.weight\n",
      "\t layer3.21.bn3.bias\n",
      "\t layer3.22.conv1.weight\n",
      "\t layer3.22.bn1.weight\n",
      "\t layer3.22.bn1.bias\n",
      "\t layer3.22.conv2.weight\n",
      "\t layer3.22.bn2.weight\n",
      "\t layer3.22.bn2.bias\n",
      "\t layer3.22.conv3.weight\n",
      "\t layer3.22.bn3.weight\n",
      "\t layer3.22.bn3.bias\n",
      "\t layer3.23.conv1.weight\n",
      "\t layer3.23.bn1.weight\n",
      "\t layer3.23.bn1.bias\n",
      "\t layer3.23.conv2.weight\n",
      "\t layer3.23.bn2.weight\n",
      "\t layer3.23.bn2.bias\n",
      "\t layer3.23.conv3.weight\n",
      "\t layer3.23.bn3.weight\n",
      "\t layer3.23.bn3.bias\n",
      "\t layer3.24.conv1.weight\n",
      "\t layer3.24.bn1.weight\n",
      "\t layer3.24.bn1.bias\n",
      "\t layer3.24.conv2.weight\n",
      "\t layer3.24.bn2.weight\n",
      "\t layer3.24.bn2.bias\n",
      "\t layer3.24.conv3.weight\n",
      "\t layer3.24.bn3.weight\n",
      "\t layer3.24.bn3.bias\n",
      "\t layer3.25.conv1.weight\n",
      "\t layer3.25.bn1.weight\n",
      "\t layer3.25.bn1.bias\n",
      "\t layer3.25.conv2.weight\n",
      "\t layer3.25.bn2.weight\n",
      "\t layer3.25.bn2.bias\n",
      "\t layer3.25.conv3.weight\n",
      "\t layer3.25.bn3.weight\n",
      "\t layer3.25.bn3.bias\n",
      "\t layer3.26.conv1.weight\n",
      "\t layer3.26.bn1.weight\n",
      "\t layer3.26.bn1.bias\n",
      "\t layer3.26.conv2.weight\n",
      "\t layer3.26.bn2.weight\n",
      "\t layer3.26.bn2.bias\n",
      "\t layer3.26.conv3.weight\n",
      "\t layer3.26.bn3.weight\n",
      "\t layer3.26.bn3.bias\n",
      "\t layer3.27.conv1.weight\n",
      "\t layer3.27.bn1.weight\n",
      "\t layer3.27.bn1.bias\n",
      "\t layer3.27.conv2.weight\n",
      "\t layer3.27.bn2.weight\n",
      "\t layer3.27.bn2.bias\n",
      "\t layer3.27.conv3.weight\n",
      "\t layer3.27.bn3.weight\n",
      "\t layer3.27.bn3.bias\n",
      "\t layer3.28.conv1.weight\n",
      "\t layer3.28.bn1.weight\n",
      "\t layer3.28.bn1.bias\n",
      "\t layer3.28.conv2.weight\n",
      "\t layer3.28.bn2.weight\n",
      "\t layer3.28.bn2.bias\n",
      "\t layer3.28.conv3.weight\n",
      "\t layer3.28.bn3.weight\n",
      "\t layer3.28.bn3.bias\n",
      "\t layer3.29.conv1.weight\n",
      "\t layer3.29.bn1.weight\n",
      "\t layer3.29.bn1.bias\n",
      "\t layer3.29.conv2.weight\n",
      "\t layer3.29.bn2.weight\n",
      "\t layer3.29.bn2.bias\n",
      "\t layer3.29.conv3.weight\n",
      "\t layer3.29.bn3.weight\n",
      "\t layer3.29.bn3.bias\n",
      "\t layer3.30.conv1.weight\n",
      "\t layer3.30.bn1.weight\n",
      "\t layer3.30.bn1.bias\n",
      "\t layer3.30.conv2.weight\n",
      "\t layer3.30.bn2.weight\n",
      "\t layer3.30.bn2.bias\n",
      "\t layer3.30.conv3.weight\n",
      "\t layer3.30.bn3.weight\n",
      "\t layer3.30.bn3.bias\n",
      "\t layer3.31.conv1.weight\n",
      "\t layer3.31.bn1.weight\n",
      "\t layer3.31.bn1.bias\n",
      "\t layer3.31.conv2.weight\n",
      "\t layer3.31.bn2.weight\n",
      "\t layer3.31.bn2.bias\n",
      "\t layer3.31.conv3.weight\n",
      "\t layer3.31.bn3.weight\n",
      "\t layer3.31.bn3.bias\n",
      "\t layer3.32.conv1.weight\n",
      "\t layer3.32.bn1.weight\n",
      "\t layer3.32.bn1.bias\n",
      "\t layer3.32.conv2.weight\n",
      "\t layer3.32.bn2.weight\n",
      "\t layer3.32.bn2.bias\n",
      "\t layer3.32.conv3.weight\n",
      "\t layer3.32.bn3.weight\n",
      "\t layer3.32.bn3.bias\n",
      "\t layer3.33.conv1.weight\n",
      "\t layer3.33.bn1.weight\n",
      "\t layer3.33.bn1.bias\n",
      "\t layer3.33.conv2.weight\n",
      "\t layer3.33.bn2.weight\n",
      "\t layer3.33.bn2.bias\n",
      "\t layer3.33.conv3.weight\n",
      "\t layer3.33.bn3.weight\n",
      "\t layer3.33.bn3.bias\n",
      "\t layer3.34.conv1.weight\n",
      "\t layer3.34.bn1.weight\n",
      "\t layer3.34.bn1.bias\n",
      "\t layer3.34.conv2.weight\n",
      "\t layer3.34.bn2.weight\n",
      "\t layer3.34.bn2.bias\n",
      "\t layer3.34.conv3.weight\n",
      "\t layer3.34.bn3.weight\n",
      "\t layer3.34.bn3.bias\n",
      "\t layer3.35.conv1.weight\n",
      "\t layer3.35.bn1.weight\n",
      "\t layer3.35.bn1.bias\n",
      "\t layer3.35.conv2.weight\n",
      "\t layer3.35.bn2.weight\n",
      "\t layer3.35.bn2.bias\n",
      "\t layer3.35.conv3.weight\n",
      "\t layer3.35.bn3.weight\n",
      "\t layer3.35.bn3.bias\n",
      "\t layer4.0.conv1.weight\n",
      "\t layer4.0.bn1.weight\n",
      "\t layer4.0.bn1.bias\n",
      "\t layer4.0.conv2.weight\n",
      "\t layer4.0.bn2.weight\n",
      "\t layer4.0.bn2.bias\n",
      "\t layer4.0.conv3.weight\n",
      "\t layer4.0.bn3.weight\n",
      "\t layer4.0.bn3.bias\n",
      "\t layer4.0.downsample.0.weight\n",
      "\t layer4.0.downsample.1.weight\n",
      "\t layer4.0.downsample.1.bias\n",
      "\t layer4.1.conv1.weight\n",
      "\t layer4.1.bn1.weight\n",
      "\t layer4.1.bn1.bias\n",
      "\t layer4.1.conv2.weight\n",
      "\t layer4.1.bn2.weight\n",
      "\t layer4.1.bn2.bias\n",
      "\t layer4.1.conv3.weight\n",
      "\t layer4.1.bn3.weight\n",
      "\t layer4.1.bn3.bias\n",
      "\t layer4.2.conv1.weight\n",
      "\t layer4.2.bn1.weight\n",
      "\t layer4.2.bn1.bias\n",
      "\t layer4.2.conv2.weight\n",
      "\t layer4.2.bn2.weight\n",
      "\t layer4.2.bn2.bias\n",
      "\t layer4.2.conv3.weight\n",
      "\t layer4.2.bn3.weight\n",
      "\t layer4.2.bn3.bias\n",
      "\t fc.weight\n",
      "\t fc.bias\n",
      "Epoch 0/14\n",
      "----------\n"
     ]
    },
    {
     "data": {
      "application/vnd.jupyter.widget-view+json": {
       "model_id": "efd16d1fe7eb457b8a0e855892351d36",
       "version_major": 2,
       "version_minor": 0
      },
      "text/plain": [
       "HBox(children=(IntProgress(value=0, max=12500), HTML(value='')))"
      ]
     },
     "metadata": {},
     "output_type": "display_data"
    },
    {
     "name": "stdout",
     "output_type": "stream",
     "text": [
      "\n",
      "train Loss: 4.5973 Acc: 0.0551\n"
     ]
    },
    {
     "data": {
      "application/vnd.jupyter.widget-view+json": {
       "model_id": "035b0b88961c4a20b614384f0691c6ab",
       "version_major": 2,
       "version_minor": 0
      },
      "text/plain": [
       "HBox(children=(IntProgress(value=0, max=1250), HTML(value='')))"
      ]
     },
     "metadata": {},
     "output_type": "display_data"
    },
    {
     "name": "stdout",
     "output_type": "stream",
     "text": [
      "\n",
      "val Loss: 4.2977 Acc: 0.1097\n",
      "\n",
      "Epoch 1/14\n",
      "----------\n"
     ]
    },
    {
     "data": {
      "application/vnd.jupyter.widget-view+json": {
       "model_id": "2e74410d37f74a5bb55c48eae83dc1ad",
       "version_major": 2,
       "version_minor": 0
      },
      "text/plain": [
       "HBox(children=(IntProgress(value=0, max=12500), HTML(value='')))"
      ]
     },
     "metadata": {},
     "output_type": "display_data"
    },
    {
     "name": "stdout",
     "output_type": "stream",
     "text": [
      "\n",
      "train Loss: 4.0745 Acc: 0.1153\n"
     ]
    },
    {
     "data": {
      "application/vnd.jupyter.widget-view+json": {
       "model_id": "11cf5aa9633344109799d44d1510dd2f",
       "version_major": 2,
       "version_minor": 0
      },
      "text/plain": [
       "HBox(children=(IntProgress(value=0, max=1250), HTML(value='')))"
      ]
     },
     "metadata": {},
     "output_type": "display_data"
    },
    {
     "name": "stdout",
     "output_type": "stream",
     "text": [
      "\n",
      "val Loss: 6.5935 Acc: 0.1563\n",
      "\n",
      "Epoch 2/14\n",
      "----------\n"
     ]
    },
    {
     "data": {
      "application/vnd.jupyter.widget-view+json": {
       "model_id": "225439ee6a914177b0d110ff1fd9eed4",
       "version_major": 2,
       "version_minor": 0
      },
      "text/plain": [
       "HBox(children=(IntProgress(value=0, max=12500), HTML(value='')))"
      ]
     },
     "metadata": {},
     "output_type": "display_data"
    },
    {
     "name": "stdout",
     "output_type": "stream",
     "text": [
      "\n",
      "train Loss: 3.8250 Acc: 0.1577\n"
     ]
    },
    {
     "data": {
      "application/vnd.jupyter.widget-view+json": {
       "model_id": "90154f59062444d2b762b43356f833f6",
       "version_major": 2,
       "version_minor": 0
      },
      "text/plain": [
       "HBox(children=(IntProgress(value=0, max=1250), HTML(value='')))"
      ]
     },
     "metadata": {},
     "output_type": "display_data"
    },
    {
     "name": "stdout",
     "output_type": "stream",
     "text": [
      "\n",
      "val Loss: 5.5230 Acc: 0.1947\n",
      "\n",
      "Epoch 3/14\n",
      "----------\n"
     ]
    },
    {
     "data": {
      "application/vnd.jupyter.widget-view+json": {
       "model_id": "4feb951d5b4a414eb43005c79e8c7cac",
       "version_major": 2,
       "version_minor": 0
      },
      "text/plain": [
       "HBox(children=(IntProgress(value=0, max=12500), HTML(value='')))"
      ]
     },
     "metadata": {},
     "output_type": "display_data"
    },
    {
     "name": "stdout",
     "output_type": "stream",
     "text": [
      "\n",
      "train Loss: 3.6608 Acc: 0.1883\n"
     ]
    },
    {
     "data": {
      "application/vnd.jupyter.widget-view+json": {
       "model_id": "c33fa6b07c8143f49e3e13811d6d13d0",
       "version_major": 2,
       "version_minor": 0
      },
      "text/plain": [
       "HBox(children=(IntProgress(value=0, max=1250), HTML(value='')))"
      ]
     },
     "metadata": {},
     "output_type": "display_data"
    },
    {
     "name": "stdout",
     "output_type": "stream",
     "text": [
      "\n",
      "val Loss: 3.5760 Acc: 0.2366\n",
      "\n",
      "Epoch 4/14\n",
      "----------\n"
     ]
    },
    {
     "data": {
      "application/vnd.jupyter.widget-view+json": {
       "model_id": "67dcacd32d8c46f2a911f89d0ff622a2",
       "version_major": 2,
       "version_minor": 0
      },
      "text/plain": [
       "HBox(children=(IntProgress(value=0, max=12500), HTML(value='')))"
      ]
     },
     "metadata": {},
     "output_type": "display_data"
    },
    {
     "name": "stdout",
     "output_type": "stream",
     "text": [
      "\n",
      "train Loss: 3.4885 Acc: 0.2201\n"
     ]
    },
    {
     "data": {
      "application/vnd.jupyter.widget-view+json": {
       "model_id": "1ed0b425e9b747c3ade416abf4ef381a",
       "version_major": 2,
       "version_minor": 0
      },
      "text/plain": [
       "HBox(children=(IntProgress(value=0, max=1250), HTML(value='')))"
      ]
     },
     "metadata": {},
     "output_type": "display_data"
    },
    {
     "name": "stdout",
     "output_type": "stream",
     "text": [
      "\n",
      "val Loss: 5.5012 Acc: 0.2419\n",
      "\n",
      "Epoch 5/14\n",
      "----------\n"
     ]
    },
    {
     "data": {
      "application/vnd.jupyter.widget-view+json": {
       "model_id": "e5bffa7f641b4e28bbc80e6876a9ab9a",
       "version_major": 2,
       "version_minor": 0
      },
      "text/plain": [
       "HBox(children=(IntProgress(value=0, max=12500), HTML(value='')))"
      ]
     },
     "metadata": {},
     "output_type": "display_data"
    },
    {
     "name": "stdout",
     "output_type": "stream",
     "text": [
      "\n",
      "train Loss: 3.3413 Acc: 0.2500\n"
     ]
    },
    {
     "data": {
      "application/vnd.jupyter.widget-view+json": {
       "model_id": "48342fe9f0a34623adfd42eb65e0d23a",
       "version_major": 2,
       "version_minor": 0
      },
      "text/plain": [
       "HBox(children=(IntProgress(value=0, max=1250), HTML(value='')))"
      ]
     },
     "metadata": {},
     "output_type": "display_data"
    },
    {
     "name": "stdout",
     "output_type": "stream",
     "text": [
      "\n",
      "val Loss: 5.5643 Acc: 0.2764\n",
      "\n",
      "Epoch 6/14\n",
      "----------\n"
     ]
    },
    {
     "data": {
      "application/vnd.jupyter.widget-view+json": {
       "model_id": "09ccf884b88c4b3ebe50cd224326973b",
       "version_major": 2,
       "version_minor": 0
      },
      "text/plain": [
       "HBox(children=(IntProgress(value=0, max=12500), HTML(value='')))"
      ]
     },
     "metadata": {},
     "output_type": "display_data"
    },
    {
     "name": "stdout",
     "output_type": "stream",
     "text": [
      "\n",
      "train Loss: 3.2357 Acc: 0.2739\n"
     ]
    },
    {
     "data": {
      "application/vnd.jupyter.widget-view+json": {
       "model_id": "47f35435bd054bbca7ada0d9403472f0",
       "version_major": 2,
       "version_minor": 0
      },
      "text/plain": [
       "HBox(children=(IntProgress(value=0, max=1250), HTML(value='')))"
      ]
     },
     "metadata": {},
     "output_type": "display_data"
    },
    {
     "name": "stdout",
     "output_type": "stream",
     "text": [
      "\n",
      "val Loss: 3.9204 Acc: 0.3014\n",
      "\n",
      "Epoch 7/14\n",
      "----------\n"
     ]
    },
    {
     "data": {
      "application/vnd.jupyter.widget-view+json": {
       "model_id": "ed72ee1907b4493eb44a1bc016521223",
       "version_major": 2,
       "version_minor": 0
      },
      "text/plain": [
       "HBox(children=(IntProgress(value=0, max=12500), HTML(value='')))"
      ]
     },
     "metadata": {},
     "output_type": "display_data"
    },
    {
     "name": "stdout",
     "output_type": "stream",
     "text": [
      "\n",
      "train Loss: 3.1049 Acc: 0.2981\n"
     ]
    },
    {
     "data": {
      "application/vnd.jupyter.widget-view+json": {
       "model_id": "821a5093248148cfb3f9da3efe60ae6d",
       "version_major": 2,
       "version_minor": 0
      },
      "text/plain": [
       "HBox(children=(IntProgress(value=0, max=1250), HTML(value='')))"
      ]
     },
     "metadata": {},
     "output_type": "display_data"
    },
    {
     "name": "stdout",
     "output_type": "stream",
     "text": [
      "\n",
      "val Loss: 4.2471 Acc: 0.3180\n",
      "\n",
      "Epoch 8/14\n",
      "----------\n"
     ]
    },
    {
     "data": {
      "application/vnd.jupyter.widget-view+json": {
       "model_id": "20a1a99bf25041b4a63c49c8dcea9b4c",
       "version_major": 2,
       "version_minor": 0
      },
      "text/plain": [
       "HBox(children=(IntProgress(value=0, max=12500), HTML(value='')))"
      ]
     },
     "metadata": {},
     "output_type": "display_data"
    },
    {
     "name": "stdout",
     "output_type": "stream",
     "text": [
      "\n",
      "train Loss: 2.9792 Acc: 0.3249\n"
     ]
    },
    {
     "data": {
      "application/vnd.jupyter.widget-view+json": {
       "model_id": "3e60bc1fa3054b23b04a03e4a97c1290",
       "version_major": 2,
       "version_minor": 0
      },
      "text/plain": [
       "HBox(children=(IntProgress(value=0, max=1250), HTML(value='')))"
      ]
     },
     "metadata": {},
     "output_type": "display_data"
    },
    {
     "name": "stdout",
     "output_type": "stream",
     "text": [
      "\n",
      "val Loss: 5.9607 Acc: 0.3136\n",
      "\n",
      "Epoch 9/14\n",
      "----------\n"
     ]
    },
    {
     "data": {
      "application/vnd.jupyter.widget-view+json": {
       "model_id": "e191d40302df4b63a6b415a630252541",
       "version_major": 2,
       "version_minor": 0
      },
      "text/plain": [
       "HBox(children=(IntProgress(value=0, max=12500), HTML(value='')))"
      ]
     },
     "metadata": {},
     "output_type": "display_data"
    },
    {
     "name": "stdout",
     "output_type": "stream",
     "text": [
      "\n",
      "train Loss: 2.8765 Acc: 0.3478\n"
     ]
    },
    {
     "data": {
      "application/vnd.jupyter.widget-view+json": {
       "model_id": "fcad73f5874a4d2a831ab60f1fc2e287",
       "version_major": 2,
       "version_minor": 0
      },
      "text/plain": [
       "HBox(children=(IntProgress(value=0, max=1250), HTML(value='')))"
      ]
     },
     "metadata": {},
     "output_type": "display_data"
    },
    {
     "name": "stdout",
     "output_type": "stream",
     "text": [
      "\n",
      "val Loss: 4.2651 Acc: 0.3287\n",
      "\n",
      "Epoch 10/14\n",
      "----------\n"
     ]
    },
    {
     "data": {
      "application/vnd.jupyter.widget-view+json": {
       "model_id": "9f7986564667492b8d0a5f9c0e7c44ed",
       "version_major": 2,
       "version_minor": 0
      },
      "text/plain": [
       "HBox(children=(IntProgress(value=0, max=12500), HTML(value='')))"
      ]
     },
     "metadata": {},
     "output_type": "display_data"
    },
    {
     "name": "stdout",
     "output_type": "stream",
     "text": [
      "\n",
      "train Loss: 2.7682 Acc: 0.3715\n"
     ]
    },
    {
     "data": {
      "application/vnd.jupyter.widget-view+json": {
       "model_id": "7de4e24cfc894c599486bd4b91e1e68b",
       "version_major": 2,
       "version_minor": 0
      },
      "text/plain": [
       "HBox(children=(IntProgress(value=0, max=1250), HTML(value='')))"
      ]
     },
     "metadata": {},
     "output_type": "display_data"
    },
    {
     "name": "stdout",
     "output_type": "stream",
     "text": [
      "\n",
      "val Loss: 3.7552 Acc: 0.3456\n",
      "\n",
      "Epoch 11/14\n",
      "----------\n"
     ]
    },
    {
     "data": {
      "application/vnd.jupyter.widget-view+json": {
       "model_id": "57b6237206004eb0ac3b8953a21d6ac6",
       "version_major": 2,
       "version_minor": 0
      },
      "text/plain": [
       "HBox(children=(IntProgress(value=0, max=12500), HTML(value='')))"
      ]
     },
     "metadata": {},
     "output_type": "display_data"
    },
    {
     "name": "stdout",
     "output_type": "stream",
     "text": [
      "\n",
      "train Loss: 2.6537 Acc: 0.3956\n"
     ]
    },
    {
     "data": {
      "application/vnd.jupyter.widget-view+json": {
       "model_id": "4524f4586a094f579d313d6d004af625",
       "version_major": 2,
       "version_minor": 0
      },
      "text/plain": [
       "HBox(children=(IntProgress(value=0, max=1250), HTML(value='')))"
      ]
     },
     "metadata": {},
     "output_type": "display_data"
    },
    {
     "name": "stdout",
     "output_type": "stream",
     "text": [
      "\n",
      "val Loss: 2.7027 Acc: 0.3537\n",
      "\n",
      "Epoch 12/14\n",
      "----------\n"
     ]
    },
    {
     "data": {
      "application/vnd.jupyter.widget-view+json": {
       "model_id": "800ef14d0aa3419eb98333c7a02ca867",
       "version_major": 2,
       "version_minor": 0
      },
      "text/plain": [
       "HBox(children=(IntProgress(value=0, max=12500), HTML(value='')))"
      ]
     },
     "metadata": {},
     "output_type": "display_data"
    },
    {
     "name": "stdout",
     "output_type": "stream",
     "text": [
      "\n",
      "train Loss: 2.5495 Acc: 0.4178\n"
     ]
    },
    {
     "data": {
      "application/vnd.jupyter.widget-view+json": {
       "model_id": "e7896eeb868e45db99125900801d8e16",
       "version_major": 2,
       "version_minor": 0
      },
      "text/plain": [
       "HBox(children=(IntProgress(value=0, max=1250), HTML(value='')))"
      ]
     },
     "metadata": {},
     "output_type": "display_data"
    },
    {
     "name": "stdout",
     "output_type": "stream",
     "text": [
      "\n",
      "val Loss: 5.3518 Acc: 0.3420\n",
      "\n",
      "Epoch 13/14\n",
      "----------\n"
     ]
    },
    {
     "data": {
      "application/vnd.jupyter.widget-view+json": {
       "model_id": "9290689763874c16b3c4534f1c2fb86c",
       "version_major": 2,
       "version_minor": 0
      },
      "text/plain": [
       "HBox(children=(IntProgress(value=0, max=12500), HTML(value='')))"
      ]
     },
     "metadata": {},
     "output_type": "display_data"
    },
    {
     "name": "stdout",
     "output_type": "stream",
     "text": [
      "\n",
      "train Loss: 2.4390 Acc: 0.4429\n"
     ]
    },
    {
     "data": {
      "application/vnd.jupyter.widget-view+json": {
       "model_id": "b152fdbd470a4ac08cd4dbab00872822",
       "version_major": 2,
       "version_minor": 0
      },
      "text/plain": [
       "HBox(children=(IntProgress(value=0, max=1250), HTML(value='')))"
      ]
     },
     "metadata": {},
     "output_type": "display_data"
    },
    {
     "name": "stdout",
     "output_type": "stream",
     "text": [
      "\n",
      "val Loss: 6.6912 Acc: 0.3433\n",
      "\n",
      "Epoch 14/14\n",
      "----------\n"
     ]
    },
    {
     "data": {
      "application/vnd.jupyter.widget-view+json": {
       "model_id": "6f4e0149cef74ba196233a07224d12cd",
       "version_major": 2,
       "version_minor": 0
      },
      "text/plain": [
       "HBox(children=(IntProgress(value=0, max=12500), HTML(value='')))"
      ]
     },
     "metadata": {},
     "output_type": "display_data"
    },
    {
     "name": "stdout",
     "output_type": "stream",
     "text": [
      "\n",
      "train Loss: 2.3151 Acc: 0.4719\n"
     ]
    },
    {
     "data": {
      "application/vnd.jupyter.widget-view+json": {
       "model_id": "4187af3f872040c7be6ad4c363ca271f",
       "version_major": 2,
       "version_minor": 0
      },
      "text/plain": [
       "HBox(children=(IntProgress(value=0, max=1250), HTML(value='')))"
      ]
     },
     "metadata": {},
     "output_type": "display_data"
    },
    {
     "name": "stdout",
     "output_type": "stream",
     "text": [
      "\n",
      "val Loss: 3.3357 Acc: 0.3560\n",
      "\n",
      "Training complete in 311m 58s\n",
      "Best val Acc: 0.356000\n"
     ]
    }
   ],
   "source": [
    "# Initialize the model for this run\n",
    "model, input_size = initialize_model(model_name = model_name, num_classes = num_classes, resume_from = resume_from)\n",
    "dataloaders = get_dataloaders(input_size, batch_size, shuffle_datasets)\n",
    "criterion = get_loss()\n",
    "\n",
    "# Move the model to the gpu if needed\n",
    "model = resnet152()\n",
    "model = model.to(device)\n",
    "\n",
    "optimizer = make_optimizer(model)\n",
    "\n",
    "# Train the model!\n",
    "trained_model, validation_history = train_model(model=model, dataloaders=dataloaders, criterion=criterion, optimizer=optimizer,\n",
    "           save_dir=save_dir, save_all_epochs=save_all_epochs, num_epochs=num_epochs)"
   ]
  },
  {
   "cell_type": "markdown",
   "metadata": {},
   "source": [
    "# Section 3: Inference\n",
    "\n",
    "Now that we've trained a model, we would like to evaluate its performance (on the validation data), and use it for inference (on the test data). We're going to perform top-5 inference - that is, our model will get to output 5 guesses for a given image\n"
   ]
  },
  {
   "cell_type": "code",
   "execution_count": 22,
   "metadata": {},
   "outputs": [],
   "source": [
    "def evaluate(model, dataloader, criterion, is_labelled = False, generate_labels = True, k = 5):\n",
    "    # If is_labelled, we want to compute loss, top-1 accuracy and top-5 accuracy\n",
    "    # If generate_labels, we want to output the actual labels\n",
    "    # Set the model to evaluate mode\n",
    "    model.eval()\n",
    "    running_loss = 0\n",
    "    running_top1_correct = 0\n",
    "    running_top5_correct = 0\n",
    "    predicted_labels = []\n",
    "    \n",
    "\n",
    "    # Iterate over data.\n",
    "    # TQDM has nice progress bars\n",
    "    for inputs, labels in tqdm(dataloader):\n",
    "        inputs = inputs.to(device)\n",
    "        labels = labels.to(device)\n",
    "        tiled_labels = torch.stack([labels.data for i in range(k)], dim=1) \n",
    "        # Makes this to calculate \"top 5 prediction is correct\"\n",
    "        # [[label1 label1 label1 label1 label1], [label2 label2 label2 label label2]]\n",
    "\n",
    "        # forward\n",
    "        # track history if only in train\n",
    "        with torch.set_grad_enabled(False):\n",
    "            # Get model outputs and calculate loss\n",
    "            outputs = model(inputs)\n",
    "            if is_labelled:\n",
    "                loss = criterion(outputs, labels)\n",
    "\n",
    "            # torch.topk outputs the maximum values, and their indices\n",
    "            # Since the input is batched, we take the max along axis 1\n",
    "            # (the meaningful outputs)\n",
    "            _, preds = torch.topk(outputs, k=5, dim=1)\n",
    "            if generate_labels:\n",
    "                # We want to store these results\n",
    "                nparr = preds.cpu().detach().numpy()\n",
    "                predicted_labels.extend([list(nparr[i]) for i in range(len(nparr))])\n",
    "\n",
    "        if is_labelled:\n",
    "            # statistics\n",
    "            running_loss += loss.item() * inputs.size(0)\n",
    "            # Check only the first prediction\n",
    "            running_top1_correct += torch.sum(preds[:, 0] == labels.data)\n",
    "            # Check all 5 predictions\n",
    "            running_top5_correct += torch.sum(preds == tiled_labels)\n",
    "        else:\n",
    "            pass\n",
    "\n",
    "    # Only compute loss & accuracy if we have the labels\n",
    "    if is_labelled:\n",
    "        epoch_loss = float(running_loss / len(dataloader.dataset))\n",
    "        epoch_top1_acc = float(running_top1_correct.double() / len(dataloader.dataset))\n",
    "        epoch_top5_acc = float(running_top5_correct.double() / len(dataloader.dataset))\n",
    "    else:\n",
    "        epoch_loss = None\n",
    "        epoch_top1_acc = None\n",
    "        epoch_top5_acc = None\n",
    "    \n",
    "    # Return everything\n",
    "    return epoch_loss, epoch_top1_acc, epoch_top5_acc, predicted_labels\n",
    "\n",
    "    "
   ]
  },
  {
   "cell_type": "code",
   "execution_count": null,
   "metadata": {},
   "outputs": [],
   "source": []
  },
  {
   "cell_type": "code",
   "execution_count": 23,
   "metadata": {},
   "outputs": [
    {
     "data": {
      "application/vnd.jupyter.widget-view+json": {
       "model_id": "4184f7704bd54a32af544233fc936591",
       "version_major": 2,
       "version_minor": 0
      },
      "text/plain": [
       "HBox(children=(IntProgress(value=0, max=1250), HTML(value='')))"
      ]
     },
     "metadata": {},
     "output_type": "display_data"
    },
    {
     "name": "stdout",
     "output_type": "stream",
     "text": [
      "\n"
     ]
    },
    {
     "data": {
      "application/vnd.jupyter.widget-view+json": {
       "model_id": "c0c65e779fee4345b372244104d70f94",
       "version_major": 2,
       "version_minor": 0
      },
      "text/plain": [
       "HBox(children=(IntProgress(value=0, max=1250), HTML(value='')))"
      ]
     },
     "metadata": {},
     "output_type": "display_data"
    },
    {
     "name": "stdout",
     "output_type": "stream",
     "text": [
      "\n"
     ]
    }
   ],
   "source": [
    "# Get data on the validation set\n",
    "# Setting this to false will be a little bit faster\n",
    "generate_validation_labels = True\n",
    "val_loss, val_top1, val_top5, val_labels = evaluate(model, dataloaders['val'], criterion, is_labelled = True, generate_labels = generate_validation_labels, k = 5)\n",
    "\n",
    "# Get predictions for the test set\n",
    "_, _, _, test_labels = evaluate(model, dataloaders['test'], criterion, is_labelled = False, generate_labels = True, k = 5)\n"
   ]
  },
  {
   "cell_type": "code",
   "execution_count": 33,
   "metadata": {},
   "outputs": [
    {
     "name": "stdout",
     "output_type": "stream",
     "text": [
      "val_labels  [[32, 67, 71, 0, 94], [5, 80, 0, 24, 96], [0, 32, 71, 2, 51], [89, 5, 0, 10, 24], [71, 0, 42, 32, 67], [41, 73, 89, 5, 69], [94, 5, 61, 32, 71], [0, 5, 42, 41, 46], [94, 70, 62, 18, 61], [0, 42, 71, 32, 67], [32, 0, 42, 71, 24], [5, 42, 67, 32, 71], [5, 0, 32, 82, 43], [32, 42, 47, 0, 67], [71, 42, 24, 67, 5], [94, 5, 61, 32, 62], [5, 43, 29, 47, 42], [0, 32, 71, 67, 5], [41, 89, 0, 69, 42], [5, 61, 94, 32, 53], [0, 24, 32, 85, 71], [32, 0, 67, 5, 71], [0, 67, 71, 49, 10], [89, 76, 24, 0, 5], [61, 5, 94, 62, 98], [94, 5, 61, 32, 62], [0, 32, 61, 30, 71], [5, 0, 24, 89, 32], [32, 71, 67, 61, 49], [74, 30, 82, 71, 5], [5, 71, 32, 94, 42], [0, 32, 71, 67, 42], [85, 32, 0, 71, 42], [0, 32, 5, 42, 49], [5, 0, 34, 32, 36], [32, 71, 42, 67, 94], [0, 42, 5, 71, 32], [96, 9, 29, 55, 98], [79, 9, 55, 68, 35], [5, 0, 34, 26, 73], [4, 95, 35, 61, 68], [42, 32, 5, 49, 67], [94, 38, 61, 62, 5], [41, 42, 83, 64, 0], [24, 79, 32, 5, 71], [0, 5, 32, 71, 9], [0, 71, 32, 42, 67], [32, 85, 49, 3, 0], [68, 98, 50, 32, 67], [5, 61, 94, 62, 32], [0, 32, 94, 71, 67], [34, 73, 89, 26, 70], [41, 83, 89, 5, 0], [32, 71, 67, 42, 47], [5, 0, 42, 89, 41], [5, 30, 0, 82, 42], [61, 5, 94, 62, 53], [56, 85, 42, 71, 24], [32, 49, 67, 71, 5], [10, 55, 79, 26, 35], [42, 71, 32, 0, 67], [5, 0, 9, 71, 24], [0, 32, 5, 71, 67], [85, 0, 32, 24, 5], [61, 94, 62, 5, 53], [32, 0, 47, 73, 42], [61, 94, 62, 5, 53], [85, 42, 0, 32, 71], [0, 32, 5, 71, 67], [41, 42, 11, 0, 71], [0, 67, 39, 32, 71], [42, 0, 5, 41, 34], [71, 0, 5, 67, 32], [0, 5, 32, 71, 42], [5, 32, 85, 94, 53], [42, 32, 5, 71, 0], [82, 80, 99, 24, 42], [0, 94, 32, 67, 71], [0, 32, 67, 71, 42], [0, 30, 40, 92, 5], [5, 61, 94, 32, 71], [42, 32, 71, 67, 0], [94, 5, 61, 71, 62], [5, 94, 62, 61, 32], [61, 62, 5, 94, 32], [32, 71, 5, 42, 0], [5, 0, 32, 24, 71], [5, 0, 80, 34, 43], [42, 32, 71, 67, 0], [0, 24, 89, 2, 42], [83, 0, 5, 69, 89], [31, 92, 79, 24, 82], [0, 89, 96, 42, 5], [20, 37, 42, 89, 18], [5, 32, 0, 71, 67], [0, 5, 42, 32, 71], [94, 61, 5, 97, 53], [0, 32, 71, 5, 67], [32, 67, 0, 71, 42], [71, 0, 5, 32, 67], [41, 90, 89, 1, 24], [25, 41, 63, 1, 89], [7, 36, 89, 39, 1], [63, 7, 69, 66, 13], [63, 69, 58, 65, 48], [1, 63, 48, 90, 50], [7, 39, 1, 86, 65], [1, 48, 90, 63, 91], [1, 48, 90, 7, 65], [1, 91, 90, 48, 7], [1, 74, 3, 50, 89], [48, 1, 34, 65, 37], [1, 48, 50, 63, 65], [4, 1, 12, 92, 7], [1, 90, 63, 48, 69], [70, 6, 47, 33, 38], [1, 48, 63, 34, 66], [90, 89, 1, 91, 41], [22, 27, 11, 24, 75], [48, 1, 63, 91, 65], [1, 63, 48, 66, 6], [1, 63, 7, 8, 33], [89, 83, 18, 34, 1], [19, 70, 33, 60, 25], [50, 1, 65, 48, 37], [89, 72, 50, 7, 1], [33, 38, 8, 70, 13], [1, 48, 90, 65, 50], [64, 73, 47, 7, 26], [90, 41, 63, 27, 1], [90, 1, 41, 25, 69], [48, 1, 91, 90, 63], [4, 88, 49, 15, 69], [34, 1, 63, 26, 69], [1, 7, 91, 48, 90], [8, 1, 95, 34, 2], [47, 37, 39, 50, 10], [22, 11, 13, 88, 8], [48, 1, 65, 50, 63], [87, 1, 75, 97, 68], [90, 6, 63, 60, 1], [89, 83, 7, 1, 4], [1, 66, 7, 90, 63], [48, 34, 91, 60, 7], [50, 70, 37, 61, 4], [1, 7, 90, 63, 69], [7, 1, 90, 65, 41], [1, 63, 69, 48, 42], [7, 1, 48, 90, 65], [50, 37, 8, 75, 15], [72, 50, 7, 37, 81], [34, 54, 37, 58, 64], [1, 48, 65, 7, 91], [33, 70, 38, 37, 62], [48, 34, 1, 56, 78], [1, 7, 90, 48, 13], [5, 50, 53, 73, 32], [7, 48, 54, 26, 65], [48, 1, 7, 22, 58], [50, 48, 1, 65, 42], [34, 33, 58, 10, 48], [48, 1, 90, 63, 50], [42, 50, 49, 31, 68], [50, 10, 37, 47, 69], [1, 72, 4, 7, 57], [1, 91, 90, 48, 65], [89, 12, 24, 41, 0], [1, 48, 65, 90, 50], [1, 48, 65, 7, 69], [1, 48, 34, 22, 63], [4, 74, 3, 28, 21], [1, 75, 87, 8, 90], [70, 33, 62, 38, 54], [1, 25, 50, 39, 90], [7, 63, 86, 26, 69], [63, 1, 69, 7, 42], [34, 6, 48, 63, 1], [41, 1, 50, 63, 90], [18, 62, 38, 70, 41], [41, 90, 1, 25, 89], [1, 66, 63, 22, 7], [90, 89, 91, 43, 1], [48, 1, 91, 37, 63], [1, 4, 91, 48, 20], [90, 25, 1, 64, 89], [65, 26, 34, 7, 27], [50, 54, 26, 7, 37], [1, 48, 63, 50, 90], [48, 37, 65, 90, 26], [41, 63, 48, 1, 13], [73, 20, 34, 7, 50], [4, 7, 1, 64, 66], [89, 54, 18, 7, 8], [90, 1, 48, 41, 7], [1, 63, 48, 50, 66], [63, 48, 78, 38, 1], [1, 63, 25, 69, 42], [1, 48, 63, 90, 22], [70, 54, 60, 83, 50], [1, 90, 63, 69, 89], [2, 55, 74, 87, 21], [5, 9, 0, 32, 71], [99, 46, 93, 2, 22], [8, 2, 87, 88, 27], [36, 8, 18, 30, 90], [94, 61, 62, 5, 68], [2, 15, 99, 21, 75], [2, 29, 68, 97, 42], [61, 5, 94, 62, 53], [2, 76, 8, 96, 87], [2, 44, 29, 9, 97], [95, 81, 15, 57, 75], [2, 30, 96, 40, 44], [2, 8, 30, 96, 49], [2, 30, 96, 82, 92], [2, 49, 71, 13, 22], [2, 76, 9, 39, 97], [2, 0, 5, 32, 96], [18, 42, 24, 61, 94], [94, 71, 42, 38, 5], [9, 29, 80, 97, 44], [8, 2, 87, 88, 29], [74, 21, 77, 30, 12], [12, 24, 76, 92, 79], [89, 6, 83, 81, 69], [40, 96, 2, 76, 44], [73, 3, 24, 65, 87], [2, 42, 71, 76, 49], [2, 90, 89, 49, 74], [2, 76, 24, 96, 5], [2, 42, 71, 8, 44], [68, 61, 5, 97, 53], [42, 32, 67, 39, 71], [2, 75, 40, 96, 76], [2, 30, 96, 49, 43], [2, 79, 55, 43, 92], [7, 56, 39, 55, 66], [2, 42, 5, 76, 71], [94, 24, 90, 32, 71], [2, 76, 40, 96, 44], [49, 8, 88, 2, 14], [53, 12, 68, 77, 76], [2, 44, 97, 9, 98], [26, 21, 82, 99, 74], [9, 2, 97, 40, 68], [2, 30, 83, 42, 87], [74, 86, 95, 27, 3], [2, 76, 0, 71, 39], [2, 74, 42, 71, 76], [87, 15, 75, 42, 88], [2, 49, 24, 72, 79], [2, 40, 5, 9, 71], [2, 39, 89, 24, 44], [2, 40, 42, 71, 0], [5, 94, 32, 71, 61], [9, 2, 53, 97, 5], [2, 43, 42, 97, 83], [68, 98, 97, 29, 32], [29, 96, 68, 9, 98], [2, 71, 42, 5, 9], [2, 8, 11, 49, 90], [2, 42, 29, 71, 97], [2, 74, 42, 11, 49], [2, 30, 49, 71, 40], [39, 94, 86, 67, 9], [2, 97, 5, 29, 24], [2, 71, 42, 5, 9], [5, 61, 24, 53, 94], [2, 96, 86, 76, 24], [75, 81, 87, 19, 90], [8, 22, 4, 14, 42], [42, 99, 50, 46, 47], [2, 96, 55, 76, 92], [62, 61, 5, 94, 97], [71, 42, 47, 2, 5], [68, 97, 57, 98, 40], [2, 86, 74, 96, 44], [8, 2, 42, 11, 18], [96, 92, 86, 21, 74], [2, 76, 40, 43, 79], [2, 8, 86, 39, 87], [2, 94, 49, 89, 68], [87, 75, 15, 95, 81], [2, 9, 30, 40, 86], [2, 22, 44, 55, 97], [2, 71, 42, 9, 30], [81, 19, 67, 49, 39], [2, 9, 55, 97, 44], [2, 30, 55, 96, 92], [53, 27, 49, 46, 30], [2, 40, 96, 97, 9], [61, 5, 94, 62, 53], [0, 96, 2, 89, 75], [2, 42, 5, 71, 30], [72, 49, 42, 46, 56], [2, 96, 99, 30, 95], [42, 5, 0, 71, 24], [15, 87, 2, 8, 72], [62, 68, 97, 18, 61], [61, 94, 62, 5, 53], [2, 55, 3, 21, 49], [95, 19, 3, 2, 74], [28, 87, 34, 91, 88], [68, 4, 97, 53, 77], [61, 94, 5, 53, 62], [3, 24, 89, 39, 73], [54, 33, 58, 64, 7], [57, 68, 98, 35, 55], [68, 34, 84, 32, 56], [95, 72, 81, 50, 53], [65, 3, 50, 28, 32], [66, 58, 74, 20, 64], [3, 50, 53, 85, 24], [38, 70, 62, 33, 54], [65, 21, 4, 99, 77], [65, 50, 26, 37, 86], [94, 61, 5, 62, 53], [84, 4, 57, 68, 29], [89, 2, 1, 12, 3], [72, 65, 86, 2, 3], [5, 24, 32, 0, 42], [6, 74, 3, 28, 69], [3, 24, 52, 39, 50], [49, 5, 50, 0, 85], [65, 21, 48, 94, 91], [74, 96, 27, 40, 75], [24, 79, 82, 0, 61], [89, 74, 36, 3, 19], [58, 48, 34, 65, 7], [50, 3, 32, 53, 98], [34, 3, 65, 10, 89], [73, 50, 74, 37, 65], [93, 74, 49, 3, 14], [12, 92, 77, 3, 40], [7, 69, 66, 10, 26], [88, 4, 34, 14, 8], [93, 61, 81, 56, 35], [32, 0, 42, 34, 99], [3, 67, 32, 40, 74], [3, 47, 65, 58, 7], [33, 74, 58, 13, 22], [24, 77, 21, 67, 79], [19, 4, 3, 78, 52], [3, 66, 6, 74, 69], [26, 34, 88, 65, 75], [3, 74, 65, 21, 39], [3, 89, 19, 39, 84], [72, 19, 43, 39, 96], [55, 10, 19, 57, 35], [24, 7, 86, 39, 3], [36, 94, 75, 37, 48], [28, 3, 65, 73, 10], [28, 7, 20, 58, 86], [3, 74, 86, 89, 39], [3, 34, 86, 98, 39], [55, 74, 96, 49, 89], [11, 14, 8, 78, 17], [27, 74, 21, 77, 99], [96, 24, 89, 1, 40], [24, 79, 53, 43, 76], [73, 47, 74, 82, 28], [93, 95, 86, 22, 3], [85, 3, 19, 24, 39], [3, 85, 50, 24, 89], [73, 90, 74, 41, 11], [4, 28, 88, 3, 21], [76, 24, 53, 5, 39], [3, 65, 99, 21, 24], [84, 55, 2, 34, 21], [1, 4, 7, 15, 90], [86, 3, 74, 36, 50], [7, 3, 52, 69, 79], [34, 88, 26, 66, 28], [61, 94, 5, 53, 62], [46, 99, 24, 74, 47], [3, 84, 39, 95, 81], [86, 65, 14, 26, 39], [85, 3, 89, 39, 83], [85, 89, 3, 2, 88], [42, 71, 99, 67, 24], [21, 65, 86, 3, 55], [27, 92, 12, 77, 79], [32, 67, 94, 71, 49], [57, 84, 3, 40, 68], [94, 61, 73, 53, 5], [42, 71, 68, 32, 67], [65, 48, 78, 3, 94], [91, 65, 75, 26, 34], [7, 65, 47, 48, 3], [24, 19, 79, 52, 72], [12, 14, 88, 89, 8], [32, 30, 49, 3, 85], [55, 4, 80, 10, 54], [3, 32, 2, 39, 67], [24, 3, 89, 76, 39], [61, 53, 19, 3, 24], [3, 85, 24, 39, 74], [3, 84, 19, 34, 54], [21, 24, 65, 99, 42], [3, 89, 34, 36, 17], [4, 57, 35, 68, 21], [4, 29, 0, 96, 49], [4, 21, 99, 42, 91], [4, 21, 10, 77, 87], [90, 50, 73, 65, 34], [4, 57, 93, 55, 98], [4, 87, 50, 88, 84], [55, 4, 77, 21, 5], [4, 87, 88, 27, 53], [4, 22, 1, 60, 57], [4, 21, 3, 40, 49], [4, 96, 72, 76, 53], [55, 21, 29, 4, 10], [55, 86, 96, 7, 54], [4, 22, 8, 64, 1], [4, 22, 95, 88, 57], [4, 21, 7, 10, 69], [4, 77, 49, 21, 24], [4, 68, 61, 29, 98], [4, 37, 10, 48, 69], [83, 77, 92, 24, 34], [4, 88, 61, 50, 37], [4, 88, 98, 61, 57], [4, 8, 14, 88, 6], [4, 83, 64, 53, 57], [4, 88, 12, 49, 29], [4, 21, 55, 29, 98], [4, 57, 19, 55, 35], [4, 10, 96, 55, 28], [29, 4, 88, 98, 68], [55, 98, 79, 29, 4], [77, 4, 12, 21, 92], [55, 4, 49, 57, 80], [11, 8, 88, 26, 14], [4, 21, 12, 77, 29], [5, 62, 61, 38, 53], [4, 57, 77, 21, 55], [4, 88, 68, 57, 98], [4, 53, 50, 87, 57], [4, 79, 66, 55, 21], [53, 61, 68, 97, 98], [4, 49, 88, 11, 8], [4, 68, 35, 80, 29], [40, 21, 4, 65, 77], [77, 21, 55, 86, 12], [4, 21, 77, 55, 90], [4, 22, 87, 57, 2], [4, 65, 10, 91, 78], [4, 65, 88, 26, 10], [68, 29, 98, 97, 85], [4, 93, 35, 57, 61], [4, 10, 21, 77, 55], [4, 88, 29, 68, 69], [4, 57, 68, 55, 98], [4, 49, 88, 22, 61], [26, 10, 86, 34, 65], [15, 34, 64, 58, 88], [4, 77, 12, 68, 21], [90, 1, 7, 37, 19], [4, 21, 48, 65, 7], [50, 74, 54, 69, 7], [82, 24, 96, 43, 89], [4, 6, 90, 10, 20], [4, 93, 55, 98, 57], [4, 77, 21, 79, 92], [4, 10, 55, 21, 29], [82, 86, 7, 90, 89], [49, 4, 37, 77, 90], [4, 77, 21, 12, 10], [4, 55, 35, 61, 68], [35, 10, 55, 93, 48], [21, 4, 48, 91, 10], [4, 93, 61, 53, 57], [98, 57, 55, 29, 68], [4, 61, 22, 35, 57], [98, 4, 55, 68, 97], [43, 55, 96, 17, 29], [4, 77, 21, 55, 28], [90, 7, 63, 37, 50], [4, 49, 88, 10, 36], [4, 55, 10, 49, 79], [57, 4, 36, 35, 55], [4, 10, 28, 21, 77], [4, 65, 91, 21, 28], [4, 88, 98, 66, 57], [68, 4, 98, 55, 97], [4, 49, 10, 28, 26], [4, 21, 77, 10, 91], [4, 79, 49, 24, 88], [4, 21, 88, 8, 29], [7, 23, 87, 98, 84], [4, 37, 49, 10, 78], [4, 57, 35, 68, 61], [55, 21, 29, 68, 96], [20, 90, 10, 37, 64], [4, 22, 60, 2, 1], [76, 96, 21, 4, 92], [61, 53, 62, 68, 94], [77, 21, 12, 92, 4], [41, 4, 73, 27, 6], [18, 5, 0, 89, 80], [5, 82, 96, 30, 43], [5, 42, 0, 71, 51], [24, 5, 76, 90, 96], [61, 62, 94, 5, 53], [5, 61, 32, 94, 62], [61, 62, 5, 70, 18], [5, 86, 0, 34, 20], [30, 99, 21, 92, 51], [94, 62, 61, 53, 68], [0, 5, 32, 43, 86], [85, 4, 5, 36, 24], [5, 24, 43, 79, 53], [5, 61, 94, 62, 53], [76, 88, 42, 47, 24], [5, 80, 29, 32, 67], [24, 5, 79, 92, 43], [5, 43, 0, 24, 42], [5, 0, 24, 80, 42], [43, 5, 24, 30, 79], [96, 82, 77, 21, 12], [49, 55, 79, 30, 96], [5, 43, 0, 2, 9], [61, 5, 53, 62, 94], [0, 5, 10, 14, 24], [5, 43, 2, 9, 24], [99, 96, 77, 30, 24], [80, 55, 4, 35, 79], [5, 24, 43, 0, 42], [5, 80, 24, 0, 43], [5, 40, 82, 0, 43], [5, 2, 71, 42, 49], [5, 85, 0, 34, 24], [72, 70, 85, 53, 24], [5, 0, 43, 24, 2], [14, 37, 34, 4, 78], [92, 96, 5, 24, 79], [5, 24, 0, 79, 29], [43, 24, 82, 79, 49], [5, 61, 53, 94, 68], [92, 79, 43, 55, 24], [5, 24, 73, 94, 61], [5, 61, 62, 71, 94], [53, 81, 87, 75, 15], [5, 36, 43, 24, 39], [5, 61, 62, 24, 94], [5, 80, 42, 0, 67], [43, 5, 24, 49, 30], [5, 43, 51, 71, 97], [24, 3, 79, 92, 49], [5, 24, 71, 42, 2], [32, 67, 0, 71, 2], [5, 43, 24, 0, 42], [34, 5, 25, 43, 90], [34, 5, 86, 42, 43], [5, 0, 24, 32, 85], [5, 0, 24, 32, 80], [30, 32, 82, 24, 99], [89, 26, 7, 82, 86], [5, 0, 71, 32, 67], [5, 29, 0, 9, 80], [5, 80, 4, 96, 24], [5, 0, 80, 24, 32], [5, 43, 24, 79, 35], [30, 96, 0, 89, 2], [30, 2, 21, 77, 97], [42, 71, 32, 67, 0], [25, 89, 41, 5, 96], [5, 92, 77, 96, 40], [5, 24, 96, 22, 43], [5, 43, 34, 24, 0], [9, 97, 29, 43, 40], [29, 96, 9, 80, 97], [5, 0, 42, 21, 55], [30, 89, 98, 49, 61], [43, 55, 5, 79, 24], [5, 24, 89, 96, 43], [5, 79, 24, 77, 55], [5, 42, 62, 38, 71], [5, 0, 32, 24, 49], [5, 80, 0, 24, 79], [5, 43, 42, 24, 79], [5, 43, 24, 79, 55], [5, 0, 89, 24, 82], [30, 34, 21, 85, 49], [5, 24, 42, 46, 64], [5, 89, 43, 24, 82], [5, 32, 73, 0, 82], [61, 94, 62, 5, 53], [37, 34, 89, 69, 20], [49, 43, 24, 5, 79], [12, 92, 77, 21, 5], [5, 61, 24, 71, 94], [77, 79, 24, 92, 55], [5, 24, 43, 0, 2], [5, 24, 77, 96, 89], [5, 24, 0, 80, 43], [5, 96, 24, 43, 9], [62, 61, 94, 68, 97], [5, 24, 80, 0, 79], [13, 22, 14, 48, 11], [6, 18, 70, 62, 69], [63, 1, 11, 42, 41], [10, 96, 69, 37, 26], [25, 64, 83, 70, 6], [6, 41, 11, 90, 34], [6, 70, 10, 17, 34], [34, 6, 33, 17, 10], [6, 34, 26, 73, 10], [66, 6, 54, 70, 83], [6, 70, 64, 54, 18], [28, 34, 58, 91, 65], [6, 34, 17, 69, 70], [61, 5, 94, 32, 62], [47, 63, 6, 60, 46], [18, 62, 6, 33, 17], [6, 64, 17, 34, 20], [73, 5, 61, 38, 32], [54, 83, 69, 70, 66], [34, 60, 26, 42, 32], [7, 48, 63, 37, 26], [89, 60, 7, 20, 24], [6, 18, 62, 63, 83], [10, 78, 14, 37, 48], [26, 73, 10, 37, 14], [6, 47, 34, 70, 69], [33, 17, 54, 58, 66], [6, 66, 34, 70, 11], [73, 4, 21, 28, 34], [17, 34, 6, 70, 73], [0, 32, 47, 42, 83], [6, 17, 62, 18, 70], [6, 34, 17, 14, 70], [91, 26, 28, 34, 65], [26, 34, 28, 10, 20], [80, 4, 66, 57, 19], [18, 6, 62, 70, 17], [34, 47, 70, 6, 60], [64, 83, 34, 60, 54], [89, 2, 8, 18, 69], [54, 34, 83, 7, 4], [6, 69, 70, 83, 64], [85, 84, 68, 35, 6], [6, 50, 69, 60, 70], [6, 34, 20, 18, 17], [6, 69, 10, 58, 20], [6, 64, 17, 89, 69], [6, 70, 62, 89, 18], [6, 83, 41, 69, 16], [63, 11, 69, 1, 41], [6, 60, 70, 54, 34], [10, 6, 28, 48, 37], [6, 11, 33, 63, 69], [6, 17, 34, 69, 11], [6, 73, 83, 37, 50], [6, 70, 20, 37, 10], [45, 6, 83, 16, 38], [47, 69, 88, 8, 70], [4, 90, 89, 6, 26], [11, 14, 34, 17, 37], [70, 6, 17, 45, 34], [89, 6, 60, 26, 34], [6, 89, 74, 69, 3], [42, 18, 83, 62, 70], [4, 83, 16, 33, 54], [83, 89, 8, 73, 70], [34, 54, 66, 83, 64], [70, 8, 18, 72, 54], [6, 41, 34, 69, 64], [38, 61, 32, 94, 70], [58, 37, 70, 63, 48], [20, 34, 37, 50, 73], [6, 34, 18, 89, 17], [45, 20, 70, 37, 14], [88, 70, 50, 69, 42], [74, 86, 7, 39, 96], [6, 70, 10, 18, 20], [83, 16, 6, 18, 62], [73, 96, 70, 54, 6], [83, 54, 26, 69, 7], [6, 63, 41, 17, 66], [5, 38, 18, 62, 41], [6, 69, 70, 89, 60], [6, 90, 20, 73, 37], [17, 86, 83, 64, 70], [6, 69, 70, 66, 41], [6, 34, 69, 17, 70], [47, 34, 42, 73, 50], [2, 71, 60, 17, 34], [6, 34, 17, 26, 10], [6, 66, 64, 69, 41], [61, 10, 94, 26, 32], [6, 17, 34, 66, 14], [6, 69, 47, 18, 10], [89, 54, 96, 83, 10], [37, 10, 78, 7, 26], [34, 64, 23, 6, 70], [6, 18, 10, 20, 89], [6, 60, 41, 34, 69], [6, 50, 69, 42, 47], [7, 54, 60, 38, 70], [7, 65, 39, 91, 10], [7, 65, 25, 1, 87], [7, 4, 34, 54, 36], [91, 65, 34, 90, 7], [36, 7, 8, 65, 48], [58, 33, 54, 17, 10], [7, 1, 56, 22, 48], [7, 87, 65, 25, 72], [89, 41, 25, 7, 24], [14, 78, 48, 4, 11], [7, 34, 91, 48, 65], [70, 46, 7, 60, 25], [7, 86, 39, 55, 96], [7, 86, 65, 48, 26], [7, 8, 65, 28, 26], [54, 70, 26, 7, 10], [4, 34, 75, 10, 7], [7, 54, 33, 55, 68], [70, 33, 62, 7, 54], [91, 48, 7, 65, 1], [58, 65, 33, 7, 72], [48, 37, 20, 14, 10], [7, 65, 48, 21, 90], [25, 89, 36, 30, 46], [33, 58, 48, 64, 10], [37, 19, 70, 10, 16], [58, 33, 54, 10, 78], [7, 1, 50, 89, 3], [89, 90, 1, 74, 40], [41, 63, 73, 82, 90], [90, 1, 60, 57, 7], [55, 95, 4, 49, 79], [65, 39, 86, 26, 7], [7, 21, 48, 77, 14], [91, 28, 7, 10, 48], [7, 26, 69, 6, 89], [74, 38, 19, 86, 27], [96, 39, 55, 30, 29], [7, 64, 36, 54, 53], [36, 89, 82, 20, 34], [2, 7, 39, 36, 96], [7, 91, 20, 48, 65], [73, 90, 7, 50, 82], [7, 1, 48, 11, 92], [48, 7, 1, 65, 37], [7, 65, 26, 86, 39], [7, 26, 65, 48, 34], [7, 26, 34, 54, 96], [33, 37, 36, 17, 78], [7, 86, 89, 50, 39], [74, 7, 20, 3, 58], [7, 69, 89, 41, 6], [25, 7, 89, 54, 50], [36, 34, 14, 30, 17], [48, 10, 65, 34, 37], [65, 36, 1, 90, 7], [86, 7, 66, 26, 65], [91, 7, 34, 26, 28], [26, 28, 34, 10, 91], [18, 54, 62, 63, 41], [7, 86, 48, 65, 33], [70, 81, 7, 33, 84], [13, 8, 26, 2, 34], [1, 7, 57, 55, 37], [41, 0, 5, 89, 24], [7, 19, 37, 20, 33], [36, 37, 45, 34, 20], [7, 74, 86, 19, 3], [96, 26, 58, 91, 54], [38, 62, 18, 5, 70], [7, 86, 55, 34, 26], [10, 80, 4, 37, 49], [7, 1, 64, 72, 58], [50, 1, 10, 7, 95], [7, 81, 37, 65, 99], [14, 22, 7, 36, 37], [7, 65, 72, 1, 50], [25, 89, 36, 7, 46], [7, 90, 1, 48, 65], [7, 65, 28, 48, 91], [65, 48, 7, 37, 86], [7, 36, 91, 20, 34], [7, 54, 65, 26, 34], [50, 5, 65, 48, 63], [10, 48, 78, 37, 65], [7, 60, 36, 54, 33], [58, 33, 54, 48, 17], [33, 58, 20, 91, 65], [39, 7, 96, 19, 65], [7, 86, 39, 36, 96], [7, 39, 26, 54, 86], [7, 39, 47, 53, 72], [48, 65, 86, 37, 78], [55, 57, 19, 43, 33], [7, 47, 38, 33, 96], [89, 96, 7, 76, 19], [14, 70, 37, 17, 78], [7, 13, 1, 48, 78], [65, 33, 58, 86, 37], [8, 13, 38, 33, 34], [8, 11, 87, 2, 88], [8, 14, 38, 13, 78], [2, 8, 60, 64, 36], [8, 11, 78, 63, 62], [13, 33, 58, 11, 66], [78, 88, 8, 14, 65], [8, 87, 95, 33, 2], [11, 78, 65, 88, 14], [8, 38, 36, 72, 7], [8, 88, 2, 11, 87], [8, 13, 11, 2, 33], [8, 14, 11, 88, 69], [63, 89, 11, 8, 62], [8, 87, 65, 91, 7], [8, 88, 64, 22, 34], [8, 36, 2, 88, 89], [8, 88, 4, 2, 14], [8, 65, 13, 48, 14], [14, 7, 20, 69, 63], [8, 13, 66, 1, 48], [2, 7, 87, 88, 8], [38, 11, 8, 33, 13], [8, 38, 33, 70, 88], [65, 91, 4, 33, 48], [14, 78, 11, 17, 34], [8, 13, 11, 88, 2], [11, 14, 66, 78, 8], [8, 13, 38, 11, 33], [34, 54, 26, 66, 10], [18, 62, 8, 38, 61], [88, 8, 14, 4, 49], [30, 8, 14, 32, 36], [33, 13, 38, 11, 48], [8, 14, 88, 78, 37], [8, 11, 90, 48, 88], [34, 11, 66, 88, 14], [8, 38, 13, 42, 63], [88, 47, 14, 8, 65], [28, 21, 91, 14, 20], [48, 20, 37, 14, 45], [8, 88, 11, 32, 13], [8, 88, 11, 65, 33], [58, 33, 65, 7, 48], [34, 88, 14, 11, 26], [8, 36, 88, 14, 34], [8, 38, 13, 11, 33], [8, 64, 11, 13, 88], [89, 69, 63, 8, 42], [19, 4, 52, 8, 37], [8, 88, 82, 11, 90], [7, 65, 48, 66, 63], [95, 29, 26, 9, 4], [89, 37, 78, 8, 88], [8, 11, 42, 88, 2], [8, 33, 58, 11, 66], [14, 78, 11, 48, 56], [8, 2, 88, 49, 56], [11, 8, 14, 13, 66], [23, 8, 88, 87, 47], [4, 87, 68, 97, 2], [8, 2, 22, 76, 96], [8, 22, 11, 95, 13], [0, 89, 14, 42, 30], [38, 63, 78, 11, 8], [63, 48, 13, 8, 78], [34, 33, 26, 23, 70], [8, 11, 42, 2, 63], [26, 14, 29, 23, 88], [8, 41, 11, 2, 63], [78, 14, 49, 37, 65], [8, 36, 42, 88, 1], [47, 88, 99, 8, 21], [66, 6, 33, 54, 64], [42, 24, 8, 2, 0], [88, 4, 49, 8, 14], [13, 8, 78, 33, 38], [88, 8, 87, 30, 11], [90, 89, 8, 94, 2], [56, 8, 69, 7, 1], [8, 2, 89, 11, 18], [23, 32, 79, 67, 0], [14, 78, 37, 63, 48], [8, 2, 88, 29, 79], [66, 8, 88, 69, 23], [88, 8, 13, 87, 21], [22, 8, 11, 88, 38], [11, 8, 88, 34, 14], [8, 91, 26, 65, 10], [8, 41, 18, 26, 14], [8, 11, 78, 34, 64], [8, 64, 88, 14, 5], [88, 8, 14, 36, 22], [8, 88, 2, 11, 13], [8, 18, 2, 90, 13], [8, 88, 85, 38, 33], [14, 13, 38, 8, 78], [8, 22, 88, 11, 33], [8, 88, 34, 14, 11], [90, 7, 1, 91, 48], [9, 29, 2, 80, 97], [9, 29, 68, 97, 98], [9, 98, 55, 97, 44], [9, 97, 68, 98, 29], [9, 55, 96, 98, 35], [92, 82, 77, 96, 79], [9, 5, 98, 29, 55], [9, 29, 35, 68, 97], [9, 61, 32, 67, 98], [55, 35, 68, 77, 79], [9, 96, 29, 92, 55], [5, 43, 9, 97, 29], [9, 53, 97, 2, 71], [35, 24, 68, 61, 79], [9, 29, 2, 57, 5], [9, 98, 55, 68, 97], [98, 68, 97, 9, 71], [98, 9, 68, 97, 29], [61, 44, 97, 40, 68], [21, 30, 96, 29, 77], [9, 96, 55, 29, 97], [44, 97, 40, 68, 35], [9, 29, 68, 98, 97], [96, 2, 9, 40, 43], [9, 40, 97, 98, 68], [9, 5, 81, 75, 87], [9, 5, 97, 98, 68], [9, 97, 98, 29, 68], [57, 9, 55, 68, 97], [27, 29, 98, 44, 68], [2, 9, 96, 5, 97], [68, 97, 29, 9, 98], [9, 68, 98, 97, 29], [68, 29, 9, 98, 97], [55, 98, 96, 9, 35], [29, 55, 9, 96, 43], [61, 62, 94, 5, 68], [55, 9, 96, 81, 44], [9, 35, 55, 98, 61], [98, 97, 9, 55, 68], [44, 9, 97, 55, 96], [9, 55, 29, 97, 96], [9, 61, 68, 0, 98], [55, 80, 35, 27, 67], [40, 97, 5, 44, 68], [9, 96, 76, 2, 97], [9, 97, 29, 44, 68], [9, 55, 96, 5, 29], [9, 29, 97, 98, 96], [53, 79, 24, 55, 27], [55, 29, 9, 97, 68], [9, 29, 68, 97, 2], [86, 29, 9, 2, 24], [5, 55, 53, 35, 68], [40, 44, 2, 83, 30], [61, 68, 97, 5, 98], [9, 29, 97, 55, 68], [29, 96, 9, 97, 43], [9, 68, 29, 97, 98], [97, 2, 29, 68, 98], [5, 24, 32, 94, 71], [9, 97, 98, 43, 68], [61, 97, 68, 44, 94], [55, 43, 5, 29, 9], [97, 9, 42, 29, 68], [29, 2, 9, 5, 43], [9, 29, 96, 97, 68], [9, 98, 44, 97, 55], [9, 96, 29, 2, 68], [0, 68, 97, 82, 24], [9, 29, 2, 97, 68], [5, 80, 24, 43, 0], [55, 93, 4, 98, 57], [9, 44, 97, 29, 98], [9, 53, 68, 29, 97], [96, 29, 80, 9, 24], [68, 29, 97, 9, 35], [55, 5, 9, 43, 79], [9, 97, 68, 98, 29], [96, 76, 2, 97, 98], [9, 29, 55, 97, 2], [97, 68, 55, 98, 9], [9, 29, 97, 68, 98], [68, 55, 98, 97, 35], [61, 35, 68, 4, 52], [9, 80, 0, 67, 32], [4, 98, 11, 66, 88], [40, 97, 68, 98, 5], [29, 9, 68, 98, 97], [5, 62, 94, 61, 53], [9, 97, 68, 29, 40], [40, 21, 74, 77, 50], [53, 29, 68, 97, 98], [29, 9, 97, 68, 98], [46, 44, 53, 43, 97], [57, 49, 55, 79, 81], [2, 29, 86, 87, 9], [9, 55, 29, 98, 96], [80, 35, 55, 98, 79], [74, 40, 30, 96, 82], [26, 20, 37, 17, 34], [94, 5, 62, 61, 38], [37, 10, 20, 89, 26], [10, 26, 96, 44, 4], [26, 78, 13, 10, 28], [18, 10, 28, 62, 26], [28, 10, 14, 78, 26], [48, 28, 91, 65, 37], [10, 58, 48, 33, 91], [13, 48, 78, 33, 1], [10, 65, 48, 26, 91], [10, 91, 28, 20, 26], [21, 28, 10, 17, 58], [37, 10, 14, 50, 70], [26, 65, 28, 91, 10], [10, 7, 37, 58, 54], [50, 73, 86, 82, 65], [96, 10, 26, 89, 34], [10, 37, 78, 48, 20], [7, 54, 25, 89, 96], [80, 10, 23, 4, 26], [94, 62, 38, 61, 70], [26, 20, 65, 28, 74], [73, 89, 20, 82, 31], [26, 28, 65, 10, 21], [7, 21, 92, 49, 89], [7, 37, 65, 48, 89], [65, 18, 10, 89, 28], [26, 91, 10, 28, 65], [10, 91, 26, 28, 48], [26, 10, 65, 28, 91], [91, 10, 48, 28, 55], [10, 26, 28, 78, 58], [58, 10, 78, 48, 33], [73, 50, 74, 10, 28], [10, 28, 78, 14, 94], [26, 10, 91, 65, 48], [65, 48, 91, 47, 10], [36, 10, 20, 86, 26], [54, 5, 34, 33, 83], [10, 4, 7, 48, 69], [10, 91, 48, 65, 28], [10, 58, 48, 28, 4], [83, 89, 82, 73, 47], [20, 28, 89, 73, 34], [46, 55, 43, 96, 84], [48, 10, 91, 7, 26], [96, 26, 29, 18, 10], [57, 68, 98, 35, 97], [65, 28, 10, 48, 91], [37, 10, 26, 78, 48], [55, 37, 33, 17, 16], [65, 36, 37, 20, 25], [10, 91, 48, 26, 28], [47, 73, 26, 23, 70], [10, 26, 28, 65, 48], [11, 34, 47, 21, 7], [10, 37, 6, 4, 69], [20, 10, 37, 28, 91], [4, 88, 22, 13, 11], [10, 54, 48, 78, 69], [58, 26, 34, 10, 48], [58, 33, 37, 15, 20], [10, 65, 33, 58, 91], [10, 6, 69, 3, 89], [48, 91, 65, 28, 7], [90, 10, 91, 48, 28], [83, 43, 12, 29, 77], [21, 26, 15, 34, 17], [26, 49, 10, 61, 90], [26, 7, 65, 10, 48], [26, 6, 10, 70, 34], [10, 78, 48, 21, 37], [10, 26, 37, 48, 78], [8, 38, 33, 11, 78], [26, 37, 10, 14, 78], [91, 10, 28, 48, 7], [30, 10, 34, 65, 48], [91, 26, 10, 28, 65], [91, 90, 7, 1, 48], [10, 26, 91, 8, 65], [33, 58, 34, 17, 70], [26, 4, 49, 96, 3], [10, 26, 65, 28, 48], [10, 26, 48, 91, 78], [78, 48, 54, 10, 33], [20, 10, 65, 7, 91], [10, 48, 91, 78, 26], [65, 58, 48, 86, 78], [10, 91, 28, 48, 78], [26, 34, 10, 48, 65], [18, 59, 54, 62, 58], [20, 10, 26, 82, 37], [90, 89, 10, 48, 37], [49, 30, 26, 34, 28], [34, 58, 88, 17, 33], [10, 26, 78, 4, 37], [78, 37, 79, 19, 27], [54, 18, 83, 62, 19], [73, 47, 26, 50, 10], [21, 58, 65, 48, 11], [11, 63, 1, 66, 38], [11, 66, 22, 33, 14], [65, 48, 13, 78, 10], [13, 11, 78, 8, 65], [4, 8, 88, 95, 66], [78, 65, 48, 13, 11], [11, 4, 66, 6, 88], [21, 91, 87, 58, 74], [11, 22, 14, 56, 15], [90, 60, 7, 1, 34], [14, 11, 8, 78, 13], [14, 88, 8, 78, 37], [37, 78, 33, 14, 70], [11, 23, 66, 90, 88], [38, 11, 13, 64, 63], [11, 14, 4, 49, 88], [11, 82, 90, 83, 15], [13, 8, 11, 38, 88], [48, 10, 78, 33, 58], [88, 11, 42, 8, 41], [11, 63, 13, 42, 14], [11, 56, 13, 66, 1], [11, 48, 63, 1, 66], [1, 69, 11, 48, 90], [11, 66, 58, 48, 95], [11, 63, 13, 38, 69], [88, 11, 34, 66, 8], [13, 8, 92, 29, 49], [11, 66, 63, 69, 8], [26, 4, 11, 29, 88], [66, 11, 1, 64, 63], [14, 22, 36, 8, 4], [54, 11, 38, 7, 70], [11, 63, 13, 78, 14], [11, 8, 88, 69, 14], [11, 33, 66, 38, 58], [11, 66, 75, 34, 1], [11, 8, 13, 48, 14], [11, 66, 8, 13, 88], [66, 22, 4, 11, 1], [80, 5, 69, 29, 0], [11, 66, 33, 58, 95], [11, 13, 88, 63, 42], [11, 34, 22, 14, 21], [10, 48, 28, 91, 4], [78, 37, 62, 48, 63], [34, 37, 26, 50, 14], [11, 78, 10, 37, 66], [11, 88, 34, 8, 90], [11, 66, 8, 88, 34], [11, 13, 8, 33, 1], [6, 42, 89, 69, 18], [1, 90, 7, 92, 24], [62, 70, 78, 33, 45], [11, 8, 13, 56, 22], [11, 14, 22, 58, 33], [63, 11, 90, 14, 48], [11, 34, 13, 8, 14], [11, 78, 63, 13, 14], [11, 66, 22, 56, 14], [4, 10, 49, 14, 61], [90, 11, 34, 14, 21], [11, 28, 26, 21, 88], [13, 11, 10, 78, 42], [11, 33, 23, 58, 66], [65, 7, 37, 72, 48], [11, 8, 14, 88, 22], [11, 66, 33, 22, 13], [11, 66, 33, 8, 38], [11, 66, 56, 13, 95], [6, 69, 17, 66, 34], [11, 33, 48, 10, 14], [11, 38, 70, 69, 42], [11, 22, 66, 58, 7], [18, 45, 41, 62, 24], [11, 14, 26, 6, 78], [11, 66, 48, 22, 33], [22, 48, 64, 1, 11], [29, 88, 4, 49, 11], [11, 66, 33, 8, 95], [11, 41, 13, 63, 25], [2, 8, 11, 42, 71], [11, 34, 21, 48, 15], [11, 56, 66, 49, 88], [11, 22, 66, 13, 33], [64, 38, 25, 17, 90], [13, 48, 78, 26, 65], [11, 70, 33, 17, 14], [13, 11, 38, 48, 33], [11, 89, 17, 37, 33], [34, 88, 22, 14, 11], [56, 11, 90, 1, 48], [14, 78, 13, 8, 17], [11, 22, 56, 66, 90], [29, 80, 95, 11, 66], [13, 65, 78, 11, 8], [11, 38, 13, 33, 78], [34, 8, 42, 13, 14], [11, 33, 74, 6, 8], [12, 77, 34, 21, 55], [12, 40, 85, 77, 5], [12, 92, 77, 40, 21], [12, 40, 77, 21, 82], [12, 40, 21, 77, 92], [30, 12, 21, 99, 77], [12, 40, 42, 77, 34], [12, 85, 92, 77, 40], [12, 40, 21, 4, 77], [12, 40, 20, 34, 8], [12, 77, 21, 40, 92], [21, 77, 12, 92, 24], [12, 77, 21, 40, 92], [12, 27, 77, 92, 46], [12, 92, 77, 21, 79], [12, 83, 64, 16, 41], [12, 85, 34, 40, 20], [12, 77, 46, 55, 99], [12, 89, 77, 27, 92], [12, 77, 92, 27, 82], [12, 40, 20, 34, 73], [12, 40, 1, 89, 3], [12, 74, 86, 27, 65], [12, 40, 77, 34, 21], [12, 21, 77, 49, 40], [12, 77, 92, 21, 99], [12, 27, 82, 77, 99], [12, 77, 92, 64, 76], [12, 85, 77, 0, 83], [12, 40, 20, 34, 42], [12, 40, 77, 34, 83], [12, 21, 77, 4, 40], [12, 40, 92, 77, 34], [12, 77, 40, 92, 82], [12, 40, 92, 21, 77], [12, 21, 77, 92, 30], [12, 40, 77, 34, 92], [12, 77, 4, 92, 8], [12, 40, 92, 77, 21], [12, 85, 63, 40, 34], [92, 96, 77, 12, 21], [12, 34, 40, 64, 85], [12, 40, 92, 77, 96], [12, 40, 34, 8, 1], [12, 40, 34, 7, 77], [12, 40, 77, 21, 92], [12, 92, 24, 79, 74], [46, 12, 27, 99, 82], [12, 64, 4, 77, 83], [12, 77, 92, 21, 49], [12, 41, 77, 24, 92], [12, 1, 92, 77, 21], [92, 77, 79, 55, 21], [12, 77, 40, 92, 21], [12, 34, 77, 92, 88], [12, 82, 77, 89, 83], [12, 40, 77, 21, 92], [92, 12, 30, 46, 99], [12, 40, 34, 20, 8], [12, 92, 34, 83, 42], [12, 92, 40, 77, 83], [12, 92, 40, 77, 82], [12, 27, 77, 74, 96], [12, 40, 21, 92, 34], [12, 92, 77, 1, 24], [12, 40, 92, 77, 21], [12, 77, 21, 92, 73], [12, 77, 21, 92, 40], [12, 40, 77, 21, 92], [12, 40, 92, 77, 34], [12, 77, 92, 21, 82], [12, 77, 21, 40, 92], [12, 92, 40, 77, 74], [12, 41, 92, 0, 77], [12, 92, 49, 24, 21], [12, 40, 21, 77, 92], [12, 40, 92, 77, 21], [12, 40, 77, 92, 21], [12, 40, 34, 20, 92], [4, 10, 21, 37, 89], [12, 92, 40, 77, 21], [12, 77, 92, 83, 40], [12, 40, 92, 99, 85], [12, 77, 40, 92, 21], [12, 40, 77, 83, 21], [12, 92, 40, 85, 1], [12, 21, 77, 40, 99], [74, 12, 96, 46, 99], [12, 40, 1, 90, 89], [12, 40, 92, 1, 77], [12, 40, 34, 92, 20], [12, 40, 34, 20, 1], [12, 40, 21, 77, 92], [12, 92, 77, 40, 34], [12, 40, 21, 77, 73], [12, 27, 96, 77, 92], [92, 77, 79, 96, 12], [12, 55, 77, 92, 21], [12, 92, 77, 40, 21], [12, 92, 77, 40, 96], [13, 7, 56, 49, 55], [13, 49, 11, 42, 43], [11, 41, 8, 13, 38], [78, 31, 10, 13, 65], [13, 11, 26, 34, 55], [13, 11, 41, 78, 48], [73, 34, 90, 14, 32], [26, 11, 78, 10, 48], [13, 78, 65, 48, 86], [86, 26, 14, 34, 96], [48, 10, 8, 65, 7], [62, 33, 45, 78, 70], [11, 78, 48, 33, 14], [62, 38, 45, 33, 17], [11, 63, 41, 13, 6], [14, 11, 66, 74, 78], [38, 11, 13, 63, 17], [7, 48, 65, 1, 63], [66, 11, 1, 90, 63], [13, 11, 63, 38, 42], [10, 26, 48, 78, 91], [1, 48, 90, 11, 13], [11, 13, 78, 38, 14], [13, 14, 11, 8, 48], [13, 2, 49, 8, 88], [8, 88, 13, 32, 2], [78, 37, 33, 70, 17], [4, 48, 13, 1, 91], [8, 33, 13, 38, 11], [6, 34, 63, 28, 64], [65, 48, 78, 13, 1], [13, 38, 78, 33, 70], [32, 49, 42, 71, 67], [2, 13, 8, 49, 56], [8, 11, 10, 86, 29], [13, 11, 8, 38, 48], [48, 65, 8, 91, 13], [88, 4, 11, 21, 8], [7, 64, 1, 54, 22], [63, 42, 1, 24, 30], [41, 11, 64, 69, 66], [11, 63, 13, 78, 34], [63, 11, 13, 78, 45], [13, 78, 14, 86, 7], [48, 63, 11, 90, 26], [54, 58, 33, 91, 10], [8, 26, 86, 88, 13], [38, 54, 33, 13, 17], [18, 78, 37, 99, 21], [1, 7, 66, 49, 23], [11, 8, 13, 33, 66], [13, 8, 11, 78, 42], [13, 22, 14, 33, 11], [8, 88, 87, 66, 33], [45, 78, 65, 7, 37], [13, 11, 48, 56, 42], [33, 58, 13, 38, 63], [26, 14, 28, 78, 88], [8, 13, 11, 48, 78], [17, 33, 85, 3, 69], [13, 8, 11, 56, 88], [47, 58, 7, 72, 26], [10, 48, 91, 78, 28], [45, 33, 69, 54, 11], [8, 88, 11, 13, 49], [13, 62, 78, 38, 33], [11, 63, 13, 8, 78], [13, 11, 8, 38, 78], [7, 86, 96, 54, 26], [83, 64, 70, 89, 54], [33, 58, 38, 62, 78], [8, 13, 11, 14, 88], [34, 13, 10, 64, 48], [62, 63, 38, 45, 78], [10, 48, 7, 26, 28], [33, 13, 38, 8, 70], [26, 10, 14, 88, 28], [8, 33, 11, 66, 38], [65, 59, 48, 78, 37], [48, 1, 90, 65, 63], [42, 11, 71, 38, 13], [65, 18, 26, 54, 21], [7, 65, 58, 34, 33], [28, 91, 65, 58, 10], [48, 8, 1, 64, 13], [78, 38, 45, 37, 14], [10, 37, 48, 14, 78], [7, 87, 34, 2, 91], [63, 14, 65, 78, 37], [2, 11, 23, 43, 47], [48, 34, 40, 37, 13], [11, 63, 13, 14, 27], [14, 28, 94, 91, 8], [63, 78, 33, 14, 5], [13, 11, 48, 78, 7], [65, 48, 91, 28, 13], [1, 66, 57, 11, 34], [7, 74, 39, 65, 3], [78, 63, 26, 65, 48], [27, 98, 82, 72, 31], [13, 11, 14, 22, 21], [14, 88, 78, 11, 23], [86, 14, 78, 65, 33], [26, 34, 14, 48, 10], [33, 58, 48, 14, 78], [14, 8, 78, 88, 13], [14, 48, 37, 65, 34], [20, 14, 89, 8, 2], [14, 58, 78, 33, 37], [14, 78, 8, 37, 48], [11, 14, 78, 13, 22], [36, 4, 88, 14, 49], [78, 45, 37, 38, 13], [14, 37, 63, 10, 26], [26, 54, 10, 78, 37], [88, 8, 34, 14, 11], [63, 7, 90, 14, 78], [50, 37, 14, 48, 65], [14, 78, 48, 37, 88], [86, 65, 34, 70, 42], [14, 28, 10, 20, 94], [48, 20, 78, 37, 14], [20, 28, 91, 74, 48], [48, 14, 94, 78, 91], [78, 14, 37, 45, 48], [78, 10, 37, 48, 26], [11, 8, 88, 13, 33], [0, 14, 34, 42, 13], [21, 12, 77, 73, 49], [14, 11, 10, 66, 8], [48, 13, 65, 14, 8], [48, 65, 10, 91, 8], [26, 20, 91, 10, 37], [14, 28, 20, 11, 22], [11, 27, 29, 88, 8], [14, 20, 37, 78, 8], [14, 8, 20, 88, 37], [64, 58, 6, 38, 18], [48, 14, 28, 34, 6], [20, 14, 28, 91, 65], [14, 63, 41, 89, 45], [34, 73, 14, 86, 11], [4, 88, 80, 49, 34], [8, 88, 14, 26, 20], [10, 14, 26, 28, 91], [36, 1, 25, 50, 7], [11, 78, 14, 80, 37], [7, 65, 86, 49, 26], [14, 37, 7, 78, 20], [89, 8, 88, 14, 42], [20, 36, 26, 14, 10], [88, 22, 14, 28, 4], [11, 88, 29, 14, 26], [37, 78, 14, 26, 4], [78, 37, 45, 89, 33], [8, 65, 11, 88, 48], [37, 78, 10, 49, 28], [26, 29, 8, 88, 14], [4, 58, 33, 48, 88], [50, 37, 10, 26, 89], [10, 14, 78, 48, 37], [14, 78, 11, 17, 65], [65, 28, 13, 48, 78], [37, 14, 20, 26, 78], [88, 34, 8, 56, 11], [14, 73, 42, 34, 88], [86, 20, 36, 37, 89], [20, 48, 37, 34, 60], [14, 78, 11, 13, 34], [34, 13, 64, 8, 29], [8, 14, 29, 88, 4], [86, 48, 33, 36, 8], [14, 37, 20, 36, 78], [37, 69, 14, 42, 8], [26, 34, 20, 10, 91], [89, 37, 62, 25, 63], [38, 33, 63, 11, 1], [78, 26, 13, 33, 10], [5, 38, 62, 70, 94], [14, 37, 78, 26, 20], [8, 88, 86, 4, 49], [65, 86, 14, 28, 48], [26, 28, 14, 10, 37], [4, 14, 88, 78, 8], [41, 5, 24, 42, 43], [22, 88, 4, 13, 11], [78, 63, 14, 65, 37], [8, 87, 21, 91, 65], [8, 14, 17, 88, 37], [13, 33, 58, 48, 78], [41, 90, 14, 78, 45], [83, 18, 26, 86, 42], [14, 78, 45, 64, 42], [65, 48, 10, 28, 14], [13, 48, 34, 1, 11], [34, 36, 22, 60, 48], [88, 87, 3, 14, 50], [36, 7, 34, 65, 54], [42, 32, 71, 47, 0], [7, 34, 56, 8, 14], [15, 99, 42, 16, 46], [95, 11, 13, 8, 65], [15, 8, 40, 87, 11], [94, 71, 15, 51, 97], [85, 24, 39, 76, 52], [15, 81, 70, 19, 74], [87, 28, 58, 10, 15], [15, 95, 42, 99, 87], [15, 87, 4, 95, 74], [51, 42, 5, 71, 32], [15, 95, 99, 42, 4], [15, 75, 87, 42, 95], [15, 37, 20, 70, 19], [87, 55, 97, 75, 15], [15, 95, 74, 11, 87], [15, 95, 87, 8, 11], [15, 75, 51, 95, 87], [15, 51, 46, 61, 32], [15, 87, 95, 86, 3], [15, 95, 74, 11, 67], [15, 81, 40, 32, 95], [15, 42, 87, 8, 99], [15, 88, 11, 95, 4], [15, 81, 87, 32, 0], [15, 75, 97, 87, 81], [15, 74, 58, 33, 87], [15, 87, 2, 97, 71], [15, 74, 99, 46, 95], [70, 15, 11, 74, 37], [15, 95, 74, 21, 40], [15, 81, 19, 70, 39], [15, 87, 74, 2, 49], [81, 19, 15, 24, 67], [15, 95, 8, 11, 4], [15, 11, 95, 87, 51], [74, 3, 56, 34, 88], [15, 11, 95, 61, 87], [15, 11, 10, 37, 33], [94, 71, 67, 39, 32], [15, 40, 71, 97, 44], [87, 15, 2, 75, 51], [87, 88, 75, 8, 1], [87, 15, 75, 2, 42], [94, 5, 62, 61, 32], [15, 8, 4, 95, 11], [15, 81, 75, 74, 19], [88, 8, 37, 48, 87], [57, 15, 27, 86, 87], [15, 11, 37, 42, 8], [15, 4, 74, 51, 87], [15, 51, 66, 58, 33], [81, 15, 39, 51, 32], [15, 95, 37, 42, 20], [15, 95, 74, 93, 87], [4, 10, 21, 19, 15], [15, 87, 51, 21, 77], [15, 95, 75, 74, 96], [61, 94, 62, 71, 5], [15, 74, 99, 75, 42], [15, 95, 11, 75, 74], [95, 56, 89, 8, 46], [15, 74, 95, 11, 96], [15, 74, 58, 99, 72], [15, 95, 55, 49, 11], [15, 21, 99, 51, 11], [15, 95, 11, 37, 74], [15, 81, 75, 85, 70], [15, 8, 88, 32, 42], [15, 58, 95, 34, 74], [74, 72, 27, 53, 15], [87, 75, 15, 51, 97], [15, 81, 95, 75, 7], [51, 33, 75, 27, 58], [15, 95, 11, 74, 42], [22, 87, 15, 4, 48], [15, 81, 39, 53, 87], [15, 95, 37, 11, 70], [15, 21, 74, 49, 75], [15, 87, 51, 21, 99], [15, 81, 87, 75, 9], [15, 95, 51, 74, 87], [15, 87, 34, 88, 75], [95, 74, 15, 22, 75], [15, 74, 75, 39, 3], [15, 87, 2, 42, 75], [15, 87, 95, 99, 33], [15, 81, 51, 87, 74], [15, 95, 51, 37, 87], [55, 19, 24, 79, 43], [15, 95, 42, 46, 71], [65, 20, 95, 37, 14], [15, 95, 87, 21, 4], [15, 99, 87, 86, 4], [34, 60, 33, 13, 22], [15, 74, 40, 96, 30], [87, 47, 15, 91, 7], [15, 81, 51, 40, 75], [15, 74, 87, 51, 27], [61, 5, 94, 53, 62], [15, 2, 75, 87, 74], [83, 16, 54, 18, 70], [18, 83, 89, 62, 45], [83, 16, 18, 89, 62], [83, 16, 70, 54, 64], [83, 16, 64, 49, 77], [89, 19, 39, 50, 24], [83, 16, 4, 18, 54], [54, 7, 39, 96, 83], [83, 82, 89, 96, 73], [10, 89, 37, 48, 78], [83, 16, 70, 54, 33], [59, 16, 83, 54, 70], [57, 48, 78, 66, 58], [75, 73, 90, 50, 74], [83, 82, 46, 73, 55], [66, 23, 10, 26, 11], [83, 16, 59, 62, 63], [64, 83, 90, 4, 1], [83, 41, 16, 69, 64], [83, 16, 18, 62, 89], [34, 83, 54, 58, 60], [64, 63, 17, 54, 41], [83, 16, 60, 64, 54], [54, 83, 70, 64, 16], [18, 54, 16, 83, 60], [16, 70, 18, 83, 59], [83, 16, 54, 33, 59], [64, 54, 83, 58, 33], [10, 17, 37, 83, 34], [34, 6, 85, 83, 60], [26, 54, 18, 58, 10], [83, 54, 16, 57, 55], [83, 16, 18, 64, 54], [16, 83, 18, 54, 37], [16, 83, 18, 70, 60], [59, 54, 70, 64, 60], [54, 16, 83, 7, 60], [16, 83, 54, 64, 60], [18, 16, 70, 62, 83], [18, 83, 62, 16, 54], [16, 83, 18, 62, 45], [8, 70, 59, 14, 37], [95, 62, 16, 45, 18], [18, 62, 63, 45, 89], [83, 16, 54, 18, 25], [62, 54, 18, 26, 83], [18, 16, 83, 62, 41], [11, 83, 90, 37, 69], [59, 70, 83, 16, 37], [18, 16, 83, 41, 42], [16, 83, 70, 18, 54], [83, 64, 16, 54, 34], [83, 16, 6, 89, 10], [41, 83, 18, 16, 55], [18, 62, 54, 38, 70], [18, 62, 16, 83, 70], [83, 64, 16, 54, 34], [83, 16, 54, 18, 41], [18, 16, 83, 62, 38], [59, 83, 18, 70, 45], [7, 89, 10, 37, 90], [37, 70, 33, 38, 60], [64, 83, 54, 34, 6], [70, 18, 54, 83, 60], [16, 18, 83, 54, 62], [16, 54, 83, 70, 64], [83, 16, 54, 7, 70], [58, 33, 4, 54, 10], [83, 16, 89, 54, 60], [83, 16, 18, 59, 54], [83, 16, 64, 54, 18], [83, 54, 64, 34, 16], [83, 86, 64, 16, 73], [83, 16, 54, 88, 26], [46, 18, 83, 99, 62], [83, 16, 64, 41, 89], [18, 70, 54, 6, 83], [18, 70, 46, 62, 54], [83, 54, 7, 64, 60], [85, 34, 84, 17, 83], [83, 70, 64, 16, 54], [83, 16, 59, 25, 70], [83, 64, 47, 89, 50], [18, 62, 70, 78, 16], [8, 37, 50, 14, 89], [8, 18, 25, 89, 59], [62, 70, 45, 26, 37], [81, 83, 57, 19, 16], [90, 7, 60, 6, 54], [12, 92, 82, 77, 83], [6, 34, 50, 83, 69], [54, 60, 83, 34, 17], [18, 62, 83, 6, 16], [16, 83, 18, 89, 59], [54, 83, 18, 16, 89], [16, 83, 54, 33, 18], [83, 89, 16, 69, 54], [83, 16, 18, 64, 70], [83, 16, 18, 8, 70], [57, 4, 93, 61, 55], [94, 61, 38, 62, 32], [17, 33, 58, 14, 70], [34, 60, 54, 26, 64], [78, 33, 14, 48, 37], [33, 66, 54, 58, 11], [63, 17, 45, 11, 34], [26, 7, 48, 34, 10], [34, 26, 23, 37, 48], [7, 54, 64, 63, 17], [54, 33, 34, 17, 60], [34, 6, 88, 60, 28], [70, 78, 14, 37, 38], [33, 70, 19, 17, 37], [91, 48, 90, 20, 28], [70, 11, 17, 33, 66], [64, 34, 83, 54, 70], [18, 70, 59, 62, 54], [26, 78, 17, 14, 34], [65, 48, 90, 34, 7], [83, 4, 57, 64, 60], [8, 48, 10, 14, 66], [34, 58, 33, 65, 91], [41, 50, 90, 42, 73], [21, 17, 4, 58, 7], [17, 74, 11, 28, 98], [70, 38, 62, 45, 17], [34, 11, 6, 88, 33], [54, 83, 70, 7, 17], [14, 37, 73, 34, 17], [55, 58, 33, 54, 49], [20, 23, 37, 10, 14], [62, 10, 78, 17, 48], [58, 33, 74, 54, 47], [10, 17, 78, 37, 48], [70, 17, 62, 37, 63], [30, 36, 34, 32, 48], [64, 22, 34, 14, 11], [6, 18, 83, 89, 62], [26, 23, 10, 88, 87], [36, 4, 8, 14, 29], [69, 10, 37, 89, 83], [37, 78, 14, 48, 33], [70, 33, 17, 37, 66], [33, 69, 37, 58, 10], [34, 48, 63, 90, 1], [54, 70, 83, 63, 45], [18, 4, 58, 91, 46], [90, 26, 37, 10, 89], [78, 14, 45, 26, 37], [89, 6, 54, 83, 69], [62, 18, 63, 70, 17], [70, 37, 45, 59, 38], [25, 34, 17, 37, 20], [15, 58, 21, 74, 37], [17, 70, 23, 6, 37], [70, 33, 37, 17, 54], [70, 73, 59, 50, 25], [42, 60, 10, 34, 26], [63, 17, 58, 27, 7], [37, 23, 14, 73, 17], [37, 78, 70, 45, 33], [90, 37, 48, 65, 10], [34, 26, 17, 14, 29], [58, 26, 34, 28, 65], [58, 33, 48, 14, 65], [63, 70, 62, 17, 59], [17, 70, 33, 34, 6], [26, 34, 10, 17, 65], [26, 78, 14, 10, 29], [6, 34, 20, 64, 70], [18, 83, 54, 58, 70], [33, 17, 63, 62, 66], [60, 34, 73, 7, 22], [10, 6, 26, 54, 34], [34, 17, 48, 60, 78], [33, 48, 58, 65, 17], [54, 70, 33, 47, 7], [34, 36, 7, 26, 37], [33, 58, 54, 11, 70], [54, 33, 58, 96, 34], [6, 48, 37, 70, 20], [34, 73, 90, 64, 60], [25, 70, 54, 33, 7], [33, 90, 83, 55, 58], [17, 33, 6, 48, 14], [34, 88, 14, 37, 78], [48, 10, 91, 65, 37], [38, 70, 45, 25, 78], [6, 70, 34, 17, 42], [34, 64, 82, 47, 90], [38, 63, 78, 17, 70], [67, 88, 66, 34, 71], [62, 70, 37, 45, 63], [34, 70, 17, 78, 33], [34, 17, 64, 58, 26], [48, 7, 1, 22, 91], [64, 17, 6, 34, 54], [17, 14, 54, 4, 34], [13, 63, 11, 78, 48], [25, 89, 18, 34, 83], [58, 33, 18, 34, 54], [38, 8, 70, 33, 18], [18, 54, 62, 70, 37], [18, 6, 62, 63, 70], [18, 83, 54, 16, 62], [90, 1, 54, 63, 70], [18, 62, 45, 70, 38], [62, 18, 70, 59, 33], [18, 16, 62, 70, 83], [82, 90, 46, 41, 37], [18, 54, 62, 26, 70], [18, 54, 16, 83, 62], [18, 83, 54, 62, 17], [62, 18, 70, 45, 16], [18, 70, 33, 6, 16], [18, 42, 2, 8, 89], [18, 80, 83, 81, 62], [18, 62, 45, 70, 38], [18, 62, 45, 70, 59], [87, 7, 36, 64, 4], [83, 18, 62, 16, 54], [18, 62, 70, 54, 64], [63, 10, 91, 28, 8], [18, 62, 45, 33, 89], [37, 45, 75, 89, 70], [54, 19, 7, 70, 8], [18, 83, 89, 63, 82], [18, 62, 54, 47, 78], [18, 62, 6, 41, 16], [20, 18, 45, 70, 82], [84, 57, 98, 55, 68], [54, 18, 45, 70, 62], [8, 18, 62, 63, 10], [41, 18, 16, 83, 46], [54, 33, 70, 7, 18], [70, 18, 16, 38, 54], [18, 62, 63, 70, 45], [18, 62, 46, 70, 45], [42, 18, 41, 16, 0], [18, 50, 89, 62, 45], [10, 33, 91, 37, 78], [18, 89, 8, 62, 54], [18, 83, 62, 54, 70], [18, 8, 62, 33, 78], [62, 18, 70, 58, 45], [6, 18, 45, 20, 37], [18, 54, 83, 45, 39], [18, 6, 62, 70, 69], [18, 62, 8, 83, 16], [18, 83, 16, 62, 54], [62, 18, 45, 17, 63], [62, 18, 45, 38, 70], [38, 58, 63, 70, 33], [18, 89, 41, 6, 83], [18, 62, 16, 54, 70], [18, 54, 83, 16, 62], [37, 20, 10, 7, 90], [18, 62, 63, 17, 6], [18, 33, 54, 61, 78], [70, 54, 62, 33, 38], [18, 62, 54, 70, 58], [18, 41, 11, 83, 62], [18, 54, 4, 83, 24], [18, 62, 38, 70, 33], [38, 70, 62, 61, 18], [54, 34, 64, 26, 17], [18, 62, 45, 70, 38], [41, 26, 73, 42, 78], [10, 37, 78, 18, 26], [18, 83, 82, 62, 16], [18, 70, 16, 62, 38], [18, 62, 38, 5, 54], [63, 11, 78, 13, 69], [89, 2, 18, 6, 62], [18, 62, 6, 58, 17], [18, 54, 70, 62, 17], [18, 62, 70, 54, 38], [4, 10, 83, 37, 19], [18, 62, 70, 54, 45], [18, 45, 62, 54, 38], [18, 62, 70, 54, 59], [59, 45, 62, 18, 70], [55, 99, 46, 21, 26], [18, 41, 6, 89, 62], [18, 70, 37, 62, 46], [54, 70, 83, 45, 18], [46, 18, 96, 4, 62], [16, 83, 18, 62, 70], [63, 12, 41, 42, 73], [18, 16, 83, 62, 45], [41, 63, 78, 37, 25], [18, 62, 45, 38, 70], [26, 54, 18, 10, 33], [18, 62, 70, 6, 63], [18, 28, 34, 21, 6], [18, 83, 6, 30, 96], [25, 18, 26, 16, 36], [18, 62, 41, 54, 70], [18, 62, 82, 89, 45], [18, 83, 62, 54, 16], [70, 60, 33, 54, 34], [19, 84, 35, 68, 29], [49, 10, 26, 30, 86], [19, 3, 74, 96, 39], [93, 52, 35, 49, 79], [24, 89, 79, 83, 90], [19, 4, 66, 52, 35], [7, 60, 50, 35, 53], [36, 39, 86, 65, 7], [7, 46, 39, 72, 89], [57, 35, 19, 68, 52], [42, 43, 50, 47, 2], [39, 19, 32, 42, 47], [81, 19, 5, 50, 52], [4, 80, 27, 49, 24], [76, 61, 19, 24, 79], [50, 39, 73, 47, 72], [19, 81, 52, 79, 57], [94, 61, 62, 5, 38], [33, 72, 74, 37, 27], [19, 3, 74, 7, 30], [35, 4, 79, 61, 44], [19, 36, 37, 50, 78], [19, 74, 52, 3, 39], [81, 19, 52, 24, 35], [55, 29, 96, 9, 98], [15, 95, 19, 42, 81], [64, 83, 1, 63, 89], [7, 54, 89, 19, 39], [7, 25, 65, 26, 1], [25, 65, 58, 33, 90], [85, 52, 24, 79, 61], [20, 37, 10, 69, 7], [19, 81, 61, 52, 70], [19, 54, 35, 79, 96], [34, 37, 65, 14, 26], [65, 42, 49, 99, 82], [19, 33, 67, 70, 38], [24, 42, 20, 86, 19], [19, 74, 39, 3, 56], [73, 74, 26, 34, 41], [19, 93, 27, 79, 52], [7, 37, 10, 54, 64], [74, 84, 73, 49, 79], [46, 89, 7, 54, 24], [7, 37, 19, 24, 14], [19, 52, 79, 81, 24], [57, 19, 81, 4, 95], [19, 7, 23, 47, 36], [39, 47, 72, 53, 24], [22, 37, 2, 14, 7], [7, 72, 39, 19, 86], [7, 19, 60, 89, 37], [18, 83, 62, 16, 54], [43, 79, 92, 24, 39], [19, 72, 37, 78, 50], [90, 86, 96, 24, 89], [19, 43, 24, 50, 56], [90, 70, 82, 63, 41], [50, 24, 47, 39, 73], [65, 48, 50, 78, 74], [33, 58, 38, 7, 86], [53, 76, 7, 72, 39], [7, 82, 19, 99, 46], [76, 53, 72, 86, 24], [54, 42, 7, 18, 46], [86, 96, 9, 98, 68], [5, 94, 53, 71, 62], [39, 7, 86, 50, 89], [79, 53, 22, 24, 19], [91, 86, 33, 7, 58], [4, 61, 53, 50, 49], [61, 5, 94, 62, 53], [35, 19, 55, 79, 52], [61, 94, 62, 5, 38], [61, 27, 74, 46, 35], [33, 96, 24, 17, 74], [34, 30, 43, 65, 60], [8, 11, 76, 90, 2], [37, 70, 46, 78, 14], [30, 75, 49, 74, 21], [2, 42, 5, 27, 38], [35, 55, 57, 79, 93], [19, 27, 72, 39, 53], [72, 37, 46, 7, 74], [64, 72, 47, 7, 54], [37, 19, 50, 78, 93], [1, 50, 48, 65, 3], [74, 79, 92, 77, 24], [2, 43, 57, 27, 97], [19, 23, 24, 89, 81], [4, 57, 79, 68, 55], [19, 81, 31, 4, 35], [19, 72, 7, 60, 46], [19, 39, 81, 74, 15], [19, 37, 61, 26, 43], [27, 74, 19, 39, 7], [19, 72, 53, 43, 46], [19, 86, 39, 55, 52], [19, 7, 79, 50, 10], [20, 28, 91, 10, 37], [20, 37, 14, 45, 78], [20, 89, 45, 12, 34], [20, 34, 28, 26, 18], [94, 62, 61, 5, 32], [34, 41, 64, 90, 73], [8, 63, 40, 28, 91], [20, 34, 14, 26, 91], [20, 28, 10, 91, 70], [4, 6, 28, 58, 69], [48, 34, 26, 63, 64], [20, 91, 28, 37, 48], [50, 3, 47, 39, 37], [86, 26, 34, 65, 39], [89, 14, 20, 34, 78], [41, 20, 14, 90, 28], [20, 37, 10, 28, 14], [88, 89, 26, 8, 14], [7, 34, 64, 26, 25], [10, 34, 65, 48, 37], [20, 65, 37, 28, 14], [25, 86, 26, 34, 7], [82, 20, 34, 14, 26], [73, 50, 26, 10, 47], [34, 48, 10, 28, 13], [20, 34, 28, 26, 18], [91, 48, 28, 21, 65], [90, 69, 7, 91, 96], [91, 10, 65, 48, 20], [20, 26, 34, 24, 86], [14, 20, 37, 45, 10], [20, 7, 86, 89, 10], [20, 34, 82, 37, 14], [28, 20, 34, 91, 10], [65, 86, 20, 28, 7], [20, 26, 42, 28, 7], [10, 26, 20, 28, 91], [48, 1, 7, 90, 91], [89, 42, 10, 18, 69], [62, 94, 5, 61, 53], [73, 50, 47, 90, 6], [34, 26, 47, 28, 64], [10, 20, 89, 26, 28], [34, 64, 12, 82, 83], [34, 64, 12, 73, 83], [20, 86, 89, 96, 91], [20, 25, 26, 34, 86], [50, 74, 39, 65, 37], [48, 10, 1, 78, 65], [90, 89, 12, 65, 69], [20, 28, 7, 74, 77], [64, 83, 12, 34, 82], [28, 26, 20, 10, 65], [34, 88, 64, 73, 14], [20, 37, 28, 7, 48], [10, 34, 20, 37, 50], [26, 34, 17, 6, 20], [7, 91, 20, 10, 1], [20, 28, 10, 91, 37], [7, 48, 1, 10, 55], [37, 20, 14, 74, 90], [20, 6, 37, 86, 69], [45, 70, 20, 18, 37], [90, 48, 65, 69, 7], [91, 70, 33, 64, 20], [7, 20, 37, 48, 91], [10, 20, 26, 37, 28], [89, 24, 26, 83, 39], [20, 91, 28, 74, 10], [20, 28, 37, 14, 10], [50, 47, 73, 65, 48], [20, 91, 33, 48, 34], [10, 78, 48, 94, 37], [20, 89, 45, 10, 37], [20, 73, 14, 37, 82], [8, 3, 88, 28, 87], [10, 20, 28, 86, 26], [65, 10, 48, 91, 7], [20, 34, 73, 89, 37], [20, 28, 12, 14, 89], [20, 34, 28, 91, 26], [50, 47, 37, 53, 70], [48, 10, 91, 90, 7], [90, 64, 8, 24, 43], [65, 86, 48, 36, 7], [20, 89, 12, 28, 14], [20, 37, 65, 90, 10], [20, 70, 45, 18, 10], [89, 42, 69, 20, 86], [48, 65, 66, 87, 8], [20, 91, 28, 90, 34], [20, 28, 89, 26, 34], [20, 45, 25, 37, 14], [73, 96, 34, 89, 50], [20, 28, 65, 74, 91], [58, 28, 65, 91, 48], [68, 57, 89, 4, 98], [45, 74, 14, 78, 65], [28, 24, 20, 14, 10], [20, 12, 89, 85, 34], [99, 42, 21, 46, 67], [12, 77, 21, 92, 40], [91, 89, 24, 1, 21], [21, 99, 4, 24, 49], [21, 77, 92, 99, 12], [21, 99, 65, 77, 91], [92, 84, 82, 79, 46], [21, 91, 28, 65, 73], [21, 77, 55, 49, 92], [77, 21, 55, 4, 12], [40, 30, 46, 83, 99], [21, 99, 24, 2, 40], [21, 12, 40, 92, 77], [92, 82, 30, 12, 21], [21, 77, 12, 40, 7], [55, 21, 79, 77, 10], [7, 86, 77, 21, 39], [21, 49, 99, 96, 77], [21, 77, 65, 99, 91], [96, 2, 74, 49, 46], [21, 99, 77, 49, 30], [62, 18, 38, 70, 53], [12, 50, 73, 42, 82], [21, 99, 46, 92, 40], [21, 99, 91, 65, 4], [21, 55, 79, 49, 77], [21, 77, 30, 92, 94], [4, 49, 21, 77, 55], [21, 99, 77, 46, 82], [24, 77, 21, 82, 65], [24, 21, 3, 79, 77], [61, 94, 62, 5, 68], [42, 40, 99, 29, 21], [42, 24, 99, 5, 46], [21, 46, 77, 55, 49], [77, 12, 21, 27, 74], [76, 96, 99, 2, 21], [12, 77, 21, 99, 92], [21, 2, 77, 99, 12], [30, 82, 65, 21, 32], [99, 21, 42, 65, 49], [21, 77, 55, 74, 30], [30, 71, 2, 5, 32], [21, 99, 46, 40, 74], [21, 4, 77, 55, 98], [43, 79, 24, 35, 5], [21, 94, 29, 68, 31], [49, 30, 46, 74, 99], [21, 29, 98, 68, 77], [10, 4, 55, 26, 98], [92, 21, 79, 55, 49], [42, 93, 5, 99, 43], [21, 77, 51, 91, 33], [79, 29, 74, 24, 35], [4, 21, 77, 29, 68], [21, 4, 74, 77, 49], [21, 99, 92, 77, 12], [89, 24, 72, 85, 73], [21, 40, 77, 68, 96], [21, 12, 42, 99, 77], [12, 77, 21, 40, 92], [40, 21, 77, 12, 76], [21, 12, 77, 99, 74], [82, 77, 92, 12, 30], [12, 21, 77, 42, 49], [12, 77, 21, 40, 92], [21, 65, 91, 4, 28], [46, 99, 82, 21, 42], [46, 99, 92, 2, 21], [65, 75, 21, 99, 86], [99, 96, 46, 82, 21], [46, 21, 42, 99, 74], [30, 99, 77, 21, 82], [61, 5, 62, 94, 53], [40, 92, 12, 77, 68], [21, 99, 77, 46, 30], [65, 91, 99, 21, 28], [92, 77, 12, 5, 21], [82, 24, 20, 30, 89], [21, 77, 92, 12, 29], [92, 21, 74, 30, 27], [77, 30, 92, 21, 5], [99, 46, 21, 24, 30], [30, 21, 67, 32, 3], [99, 27, 82, 46, 21], [74, 49, 42, 3, 65], [32, 67, 4, 61, 5], [55, 49, 74, 79, 24], [21, 65, 48, 99, 4], [61, 94, 62, 5, 68], [21, 77, 40, 7, 91], [46, 99, 30, 96, 21], [5, 40, 42, 24, 32], [5, 24, 53, 79, 46], [21, 77, 99, 65, 91], [58, 21, 33, 65, 99], [40, 12, 21, 77, 34], [30, 15, 75, 21, 99], [77, 99, 21, 92, 46], [49, 99, 21, 55, 92], [22, 8, 76, 2, 56], [66, 11, 22, 58, 33], [22, 11, 60, 70, 17], [90, 70, 37, 33, 62], [63, 42, 11, 13, 38], [4, 50, 73, 46, 53], [22, 90, 1, 48, 63], [10, 20, 14, 28, 37], [41, 6, 74, 69, 64], [74, 58, 20, 37, 28], [7, 22, 33, 58, 48], [90, 37, 48, 22, 10], [22, 8, 2, 87, 48], [66, 11, 63, 34, 13], [22, 2, 94, 76, 3], [64, 34, 60, 22, 83], [22, 33, 75, 10, 89], [38, 64, 33, 66, 58], [22, 11, 58, 3, 93], [34, 48, 26, 91, 1], [22, 69, 7, 11, 44], [11, 22, 8, 14, 38], [58, 33, 37, 78, 48], [22, 11, 90, 15, 51], [1, 7, 63, 54, 58], [14, 78, 49, 3, 65], [1, 48, 63, 22, 11], [22, 5, 43, 24, 79], [22, 66, 33, 48, 8], [14, 8, 88, 48, 78], [90, 22, 63, 50, 1], [22, 1, 60, 90, 91], [35, 81, 1, 57, 79], [96, 7, 26, 34, 86], [66, 22, 7, 1, 90], [75, 1, 23, 69, 83], [22, 90, 89, 64, 10], [89, 7, 2, 43, 55], [37, 21, 10, 70, 89], [22, 90, 34, 14, 48], [81, 70, 33, 54, 72], [53, 7, 55, 39, 56], [48, 65, 33, 58, 91], [33, 48, 58, 23, 37], [22, 88, 14, 8, 1], [33, 78, 37, 10, 17], [11, 22, 66, 58, 33], [1, 90, 48, 65, 63], [22, 1, 48, 90, 11], [22, 33, 7, 56, 58], [73, 11, 6, 22, 90], [44, 35, 79, 24, 29], [22, 1, 48, 33, 90], [90, 26, 37, 19, 48], [8, 90, 23, 22, 88], [4, 49, 33, 22, 57], [90, 22, 60, 34, 5], [22, 88, 4, 13, 56], [22, 75, 11, 1, 48], [41, 63, 25, 90, 62], [74, 3, 34, 21, 56], [22, 11, 34, 60, 58], [22, 88, 4, 49, 13], [33, 58, 69, 37, 4], [36, 80, 0, 61, 49], [22, 1, 90, 5, 53], [11, 26, 86, 66, 10], [22, 48, 1, 63, 34], [22, 60, 59, 91, 1], [22, 63, 90, 89, 11], [64, 34, 60, 22, 26], [45, 14, 62, 63, 78], [11, 17, 74, 54, 37], [22, 90, 48, 1, 91], [1, 7, 34, 25, 26], [22, 11, 64, 34, 90], [93, 22, 74, 3, 79], [41, 63, 14, 11, 64], [70, 33, 37, 22, 48], [8, 78, 14, 48, 13], [8, 48, 66, 11, 63], [34, 87, 11, 8, 88], [8, 22, 65, 48, 88], [22, 11, 66, 23, 88], [90, 26, 14, 41, 74], [22, 8, 58, 33, 1], [22, 63, 37, 78, 38], [11, 22, 14, 33, 58], [22, 11, 96, 34, 74], [11, 56, 8, 66, 49], [22, 1, 90, 11, 38], [4, 11, 37, 66, 49], [37, 69, 70, 63, 22], [11, 28, 21, 34, 88], [22, 90, 1, 63, 11], [11, 22, 14, 88, 64], [22, 1, 48, 11, 65], [22, 13, 11, 8, 1], [48, 78, 14, 13, 11], [4, 37, 88, 36, 50], [33, 61, 38, 70, 62], [23, 66, 8, 95, 48], [23, 66, 89, 24, 47], [23, 66, 88, 87, 47], [23, 11, 8, 66, 91], [87, 23, 47, 65, 88], [14, 37, 63, 69, 41], [23, 66, 11, 48, 33], [23, 66, 11, 95, 88], [66, 26, 23, 34, 6], [23, 66, 11, 88, 26], [23, 66, 73, 95, 11], [23, 47, 50, 73, 89], [23, 69, 50, 42, 43], [61, 50, 46, 49, 42], [23, 95, 66, 8, 11], [96, 36, 24, 5, 25], [61, 5, 94, 62, 73], [23, 11, 66, 88, 87], [23, 90, 37, 66, 50], [11, 23, 88, 66, 8], [58, 33, 74, 65, 56], [49, 23, 11, 69, 8], [23, 73, 11, 47, 56], [23, 65, 10, 22, 48], [23, 47, 50, 73, 66], [23, 26, 37, 90, 10], [23, 66, 94, 89, 90], [23, 56, 88, 66, 24], [65, 86, 10, 20, 37], [23, 73, 88, 49, 11], [23, 50, 89, 73, 88], [88, 74, 3, 65, 23], [23, 8, 88, 66, 11], [38, 90, 62, 70, 33], [23, 14, 78, 88, 37], [23, 66, 11, 88, 33], [23, 88, 8, 66, 11], [95, 66, 87, 56, 15], [23, 11, 88, 47, 66], [88, 23, 26, 8, 25], [23, 66, 95, 47, 8], [23, 75, 95, 81, 87], [23, 48, 91, 65, 14], [23, 14, 66, 48, 37], [10, 26, 34, 65, 48], [19, 25, 7, 52, 47], [23, 66, 11, 70, 33], [23, 66, 11, 91, 65], [23, 73, 65, 26, 34], [11, 1, 7, 66, 56], [23, 47, 90, 33, 70], [50, 1, 23, 34, 66], [95, 73, 74, 34, 25], [23, 65, 90, 48, 91], [88, 11, 8, 22, 14], [23, 66, 11, 95, 88], [47, 23, 64, 66, 6], [23, 26, 10, 50, 20], [11, 13, 66, 56, 95], [23, 95, 87, 75, 26], [48, 74, 78, 63, 65], [23, 11, 66, 88, 8], [87, 23, 47, 48, 34], [23, 47, 88, 56, 11], [23, 90, 50, 73, 66], [23, 14, 11, 78, 66], [10, 48, 33, 58, 37], [23, 66, 87, 26, 95], [66, 47, 23, 50, 10], [95, 23, 22, 33, 34], [10, 23, 37, 33, 17], [23, 90, 66, 11, 22], [23, 70, 33, 37, 90], [50, 90, 23, 65, 1], [10, 34, 43, 36, 4], [10, 26, 91, 48, 37], [23, 11, 66, 33, 8], [90, 23, 70, 33, 1], [88, 11, 8, 14, 4], [23, 47, 33, 87, 95], [70, 58, 54, 33, 37], [34, 20, 10, 28, 65], [23, 66, 75, 11, 95], [23, 66, 47, 50, 88], [23, 66, 33, 88, 70], [48, 58, 33, 65, 91], [14, 8, 88, 78, 11], [23, 47, 90, 7, 50], [23, 66, 49, 11, 95], [80, 4, 36, 5, 79], [70, 37, 62, 86, 69], [23, 88, 66, 49, 61], [23, 11, 94, 78, 88], [23, 36, 25, 89, 37], [23, 94, 95, 11, 66], [87, 95, 86, 15, 8], [65, 23, 21, 3, 91], [34, 14, 54, 17, 33], [23, 89, 90, 25, 1], [5, 61, 24, 71, 38], [24, 79, 92, 52, 85], [57, 61, 35, 53, 79], [5, 24, 43, 79, 86], [40, 68, 81, 97, 43], [5, 24, 43, 79, 0], [49, 56, 24, 94, 3], [42, 49, 24, 55, 5], [67, 71, 61, 79, 24], [87, 65, 2, 21, 91], [52, 24, 53, 79, 19], [5, 89, 24, 0, 60], [24, 11, 73, 79, 89], [46, 74, 21, 49, 56], [42, 21, 99, 49, 74], [92, 24, 79, 5, 77], [42, 50, 75, 71, 49], [53, 5, 40, 79, 92], [24, 5, 0, 32, 27], [38, 5, 94, 42, 70], [92, 24, 79, 12, 52], [49, 30, 21, 92, 77], [24, 61, 79, 52, 19], [3, 24, 30, 49, 21], [90, 24, 76, 5, 89], [3, 65, 85, 24, 86], [57, 5, 24, 35, 43], [24, 99, 82, 5, 79], [2, 7, 39, 1, 86], [55, 49, 79, 30, 74], [24, 92, 12, 5, 82], [39, 86, 83, 82, 43], [43, 9, 64, 79, 5], [55, 27, 2, 97, 29], [80, 5, 57, 27, 24], [5, 32, 24, 0, 82], [94, 5, 38, 61, 62], [89, 5, 24, 73, 50], [24, 71, 31, 42, 43], [82, 98, 27, 68, 31], [99, 82, 31, 49, 24], [92, 24, 79, 12, 21], [24, 12, 85, 39, 89], [55, 43, 49, 24, 79], [24, 35, 52, 79, 76], [49, 56, 24, 94, 3], [24, 42, 79, 31, 94], [82, 31, 99, 65, 73], [61, 5, 24, 94, 32], [62, 61, 53, 5, 94], [83, 57, 55, 6, 79], [61, 94, 62, 5, 68], [55, 39, 96, 86, 74], [52, 24, 79, 19, 61], [35, 79, 61, 24, 55], [83, 5, 89, 42, 24], [52, 39, 19, 3, 85], [53, 39, 24, 83, 3], [92, 24, 79, 77, 21], [52, 24, 53, 79, 19], [24, 49, 65, 79, 43], [47, 73, 50, 20, 28], [24, 40, 76, 75, 61], [82, 31, 30, 99, 46], [76, 90, 89, 39, 50], [5, 24, 93, 43, 79], [8, 89, 42, 18, 24], [40, 5, 77, 24, 21], [24, 43, 57, 35, 79], [5, 24, 79, 55, 92], [5, 68, 24, 98, 27], [29, 9, 97, 96, 43], [85, 24, 89, 3, 5], [5, 61, 38, 24, 62], [24, 5, 79, 92, 43], [85, 24, 79, 52, 92], [55, 39, 19, 98, 24], [79, 24, 43, 52, 19], [24, 42, 43, 71, 5], [77, 55, 12, 21, 30], [24, 19, 52, 53, 79], [84, 79, 93, 92, 31], [92, 51, 77, 79, 21], [83, 96, 34, 40, 26], [24, 5, 43, 79, 36], [4, 42, 88, 22, 24], [2, 76, 42, 85, 8], [3, 74, 39, 24, 50], [73, 24, 21, 5, 3], [52, 24, 5, 79, 19], [5, 24, 61, 53, 79], [24, 5, 92, 79, 43], [24, 79, 37, 61, 35], [68, 29, 97, 55, 9], [25, 17, 37, 34, 65], [24, 52, 79, 90, 89], [96, 92, 76, 39, 55], [9, 96, 76, 24, 86], [74, 21, 49, 27, 3], [4, 85, 53, 88, 68], [64, 26, 83, 34, 19], [25, 1, 34, 36, 7], [25, 41, 1, 63, 7], [25, 1, 38, 74, 19], [25, 90, 65, 91, 1], [70, 25, 50, 37, 33], [25, 60, 70, 47, 50], [25, 36, 7, 73, 50], [25, 90, 1, 65, 41], [86, 25, 39, 7, 27], [25, 7, 1, 60, 34], [26, 14, 37, 10, 47], [25, 65, 48, 7, 26], [25, 41, 34, 78, 89], [25, 7, 73, 47, 41], [25, 7, 90, 34, 41], [25, 41, 64, 7, 42], [25, 50, 89, 41, 74], [33, 37, 58, 48, 70], [25, 34, 56, 64, 43], [36, 47, 82, 64, 25], [25, 73, 47, 89, 64], [25, 1, 74, 19, 7], [33, 44, 78, 36, 37], [25, 74, 46, 78, 70], [25, 1, 7, 65, 90], [93, 4, 19, 33, 60], [25, 90, 73, 1, 50], [25, 7, 64, 39, 89], [14, 48, 78, 37, 13], [25, 65, 1, 63, 72], [25, 1, 87, 64, 7], [25, 34, 7, 1, 64], [25, 47, 73, 50, 7], [47, 46, 26, 7, 34], [54, 4, 25, 83, 70], [7, 74, 25, 54, 64], [25, 1, 7, 36, 34], [25, 41, 89, 90, 63], [34, 65, 25, 26, 64], [25, 74, 39, 73, 24], [25, 73, 20, 34, 74], [87, 34, 25, 88, 47], [25, 90, 1, 63, 41], [25, 74, 89, 19, 24], [25, 47, 7, 90, 65], [25, 34, 65, 13, 48], [25, 1, 37, 7, 50], [22, 88, 12, 4, 34], [25, 60, 7, 46, 41], [25, 65, 34, 91, 87], [63, 37, 25, 64, 62], [25, 41, 1, 90, 7], [25, 37, 74, 89, 90], [1, 88, 63, 69, 4], [25, 41, 7, 42, 38], [90, 48, 34, 64, 41], [25, 7, 1, 63, 37], [25, 90, 1, 63, 64], [25, 1, 7, 90, 65], [25, 73, 50, 89, 7], [12, 74, 25, 73, 83], [64, 25, 41, 73, 37], [25, 65, 78, 64, 37], [25, 7, 1, 90, 65], [25, 34, 96, 41, 26], [22, 88, 8, 11, 13], [25, 64, 83, 39, 7], [8, 22, 90, 88, 87], [25, 41, 64, 83, 34], [83, 82, 54, 34, 89], [25, 27, 19, 7, 70], [65, 14, 48, 74, 78], [25, 1, 41, 90, 63], [25, 78, 48, 1, 38], [25, 12, 1, 70, 89], [25, 73, 64, 90, 34], [90, 25, 64, 1, 41], [25, 41, 89, 31, 46], [25, 7, 78, 73, 65], [25, 41, 89, 74, 23], [25, 90, 64, 1, 7], [25, 74, 34, 73, 95], [25, 45, 62, 38, 70], [25, 41, 90, 14, 1], [34, 65, 26, 74, 48], [25, 90, 14, 37, 78], [25, 90, 73, 23, 14], [25, 7, 90, 1, 64], [41, 90, 6, 69, 42], [25, 74, 95, 3, 34], [73, 17, 50, 37, 72], [25, 1, 48, 36, 7], [25, 66, 1, 63, 37], [25, 36, 73, 50, 34], [73, 41, 12, 34, 83], [25, 41, 73, 74, 89], [50, 7, 65, 1, 48], [25, 78, 65, 18, 24], [7, 25, 90, 73, 26], [26, 28, 91, 10, 48], [86, 27, 4, 58, 65], [26, 54, 66, 11, 34], [14, 8, 2, 34, 11], [26, 28, 10, 91, 47], [90, 26, 63, 41, 89], [78, 37, 26, 10, 18], [26, 34, 21, 91, 22], [26, 10, 78, 28, 33], [26, 82, 47, 73, 41], [26, 10, 89, 49, 76], [64, 34, 70, 54, 83], [54, 83, 34, 73, 26], [89, 73, 90, 25, 50], [37, 62, 70, 14, 18], [78, 14, 48, 37, 65], [73, 47, 34, 28, 82], [58, 10, 33, 48, 37], [87, 65, 91, 2, 7], [26, 17, 11, 28, 58], [26, 28, 10, 91, 65], [17, 58, 48, 4, 37], [89, 28, 91, 20, 74], [55, 96, 27, 86, 78], [26, 23, 34, 83, 37], [28, 26, 10, 65, 91], [48, 26, 65, 7, 50], [65, 34, 26, 48, 13], [86, 26, 65, 96, 34], [12, 74, 92, 27, 86], [31, 82, 94, 73, 86], [83, 86, 54, 34, 73], [90, 89, 41, 96, 86], [26, 28, 65, 10, 91], [26, 65, 10, 4, 28], [26, 10, 28, 54, 58], [10, 28, 54, 26, 34], [34, 73, 26, 69, 10], [65, 48, 26, 91, 34], [26, 65, 91, 28, 73], [83, 89, 16, 8, 62], [95, 34, 64, 88, 26], [50, 36, 26, 37, 39], [34, 33, 11, 88, 8], [58, 74, 87, 21, 28], [26, 11, 22, 49, 10], [10, 91, 26, 28, 48], [26, 10, 96, 91, 28], [10, 91, 65, 28, 48], [10, 26, 48, 91, 8], [30, 7, 86, 65, 21], [47, 73, 64, 20, 28], [26, 10, 65, 47, 91], [4, 41, 83, 26, 69], [26, 28, 86, 65, 34], [10, 78, 26, 17, 37], [26, 65, 78, 86, 91], [91, 28, 65, 34, 48], [21, 26, 28, 80, 4], [91, 28, 10, 48, 26], [26, 55, 86, 43, 34], [26, 65, 10, 91, 28], [70, 37, 14, 38, 33], [74, 86, 27, 73, 26], [86, 83, 69, 7, 54], [20, 86, 26, 14, 37], [26, 28, 82, 65, 63], [26, 10, 58, 78, 54], [26, 10, 28, 65, 91], [86, 65, 34, 26, 96], [26, 10, 28, 65, 91], [41, 42, 63, 26, 69], [48, 10, 91, 65, 1], [10, 26, 28, 48, 91], [48, 26, 10, 78, 91], [47, 18, 26, 28, 20], [7, 39, 86, 54, 36], [34, 26, 42, 69, 89], [62, 18, 46, 70, 26], [10, 26, 78, 48, 28], [26, 34, 10, 54, 96], [10, 26, 65, 91, 48], [26, 4, 54, 37, 34], [26, 10, 83, 64, 34], [26, 10, 47, 48, 50], [7, 26, 92, 12, 83], [10, 26, 48, 78, 37], [50, 26, 90, 48, 37], [26, 65, 10, 28, 7], [26, 65, 34, 91, 20], [96, 86, 29, 76, 82], [7, 1, 48, 34, 13], [65, 28, 26, 34, 21], [37, 17, 96, 48, 10], [14, 78, 37, 28, 8], [73, 14, 37, 47, 6], [26, 34, 65, 47, 73], [89, 73, 74, 82, 12], [26, 34, 50, 10, 37], [12, 8, 92, 26, 88], [82, 47, 99, 83, 26], [75, 30, 87, 32, 99], [27, 74, 46, 93, 42], [27, 74, 99, 58, 77], [79, 43, 55, 51, 27], [82, 87, 99, 75, 30], [5, 24, 53, 79, 73], [27, 96, 55, 82, 99], [55, 68, 98, 96, 35], [27, 4, 57, 77, 55], [82, 34, 68, 97, 31], [74, 21, 3, 99, 19], [27, 4, 36, 50, 99], [77, 12, 99, 30, 82], [61, 62, 5, 94, 53], [99, 42, 46, 12, 32], [27, 74, 12, 96, 46], [27, 51, 68, 98, 97], [46, 27, 12, 99, 74], [44, 38, 81, 53, 70], [5, 86, 65, 24, 55], [27, 99, 30, 92, 24], [27, 74, 12, 53, 72], [74, 3, 55, 39, 79], [61, 62, 94, 53, 5], [82, 99, 77, 24, 21], [65, 86, 99, 27, 34], [68, 90, 24, 94, 97], [4, 55, 27, 74, 57], [75, 87, 96, 30, 95], [61, 32, 67, 71, 42], [27, 74, 99, 82, 46], [94, 61, 62, 5, 38], [27, 12, 77, 99, 92], [5, 92, 43, 24, 79], [61, 79, 55, 35, 53], [32, 31, 82, 37, 50], [3, 52, 74, 50, 19], [34, 73, 82, 86, 84], [73, 74, 49, 50, 21], [5, 61, 53, 62, 94], [27, 92, 12, 77, 99], [98, 68, 97, 27, 55], [46, 99, 81, 72, 62], [30, 5, 40, 75, 42], [50, 65, 63, 73, 48], [81, 75, 76, 50, 53], [94, 5, 62, 61, 38], [74, 73, 27, 90, 41], [99, 30, 42, 21, 49], [27, 46, 96, 72, 74], [96, 74, 12, 77, 21], [53, 81, 50, 46, 72], [27, 46, 30, 99, 21], [21, 99, 4, 27, 65], [27, 74, 99, 51, 82], [27, 46, 99, 82, 12], [27, 99, 77, 55, 79], [96, 86, 27, 39, 74], [61, 94, 62, 5, 53], [27, 77, 30, 21, 92], [51, 43, 24, 97, 55], [27, 96, 74, 39, 99], [2, 29, 55, 9, 30], [5, 94, 62, 61, 72], [27, 90, 72, 81, 46], [27, 96, 74, 99, 77], [27, 96, 72, 99, 39], [27, 32, 2, 42, 3], [25, 14, 88, 95, 8], [82, 86, 39, 99, 46], [94, 62, 5, 61, 53], [4, 86, 82, 65, 80], [27, 99, 96, 92, 74], [82, 30, 24, 27, 96], [27, 75, 82, 30, 74], [32, 81, 99, 15, 39], [87, 99, 21, 65, 74], [12, 27, 77, 92, 82], [5, 53, 61, 71, 18], [38, 5, 68, 24, 54], [27, 12, 46, 99, 77], [27, 86, 74, 96, 82], [27, 99, 30, 93, 46], [27, 34, 74, 65, 1], [27, 74, 99, 96, 50], [42, 99, 46, 2, 82], [61, 68, 32, 94, 5], [2, 97, 84, 68, 27], [27, 74, 99, 46, 30], [29, 97, 68, 2, 27], [82, 46, 34, 89, 63], [50, 72, 46, 30, 99], [98, 68, 35, 24, 31], [50, 39, 85, 47, 73], [68, 97, 98, 35, 77], [27, 53, 74, 76, 12], [5, 27, 80, 49, 24], [99, 46, 27, 77, 12], [27, 74, 12, 96, 39], [91, 48, 34, 28, 10], [26, 28, 65, 34, 21], [28, 65, 3, 47, 91], [10, 48, 58, 28, 33], [91, 28, 10, 65, 48], [10, 7, 58, 34, 28], [37, 73, 14, 26, 36], [4, 66, 58, 33, 11], [48, 65, 91, 37, 20], [25, 89, 65, 34, 26], [26, 14, 34, 37, 10], [21, 65, 91, 99, 58], [28, 65, 91, 34, 48], [91, 28, 20, 34, 58], [58, 74, 3, 91, 28], [28, 65, 91, 87, 34], [31, 47, 24, 68, 3], [34, 96, 91, 20, 86], [26, 59, 86, 10, 65], [50, 53, 19, 81, 67], [28, 26, 7, 74, 65], [28, 91, 3, 34, 65], [65, 28, 91, 26, 21], [42, 37, 14, 10, 20], [91, 28, 65, 48, 73], [91, 28, 65, 26, 10], [65, 28, 91, 48, 20], [28, 10, 26, 65, 91], [10, 26, 37, 91, 28], [28, 58, 10, 6, 26], [83, 89, 26, 73, 49], [91, 7, 48, 28, 64], [65, 91, 28, 86, 26], [21, 4, 99, 74, 27], [91, 28, 65, 87, 34], [65, 26, 28, 10, 48], [28, 91, 10, 26, 20], [37, 49, 74, 90, 20], [58, 33, 7, 28, 91], [91, 28, 65, 3, 48], [28, 65, 91, 3, 7], [58, 33, 6, 74, 64], [37, 26, 14, 34, 10], [65, 20, 28, 91, 7], [2, 10, 26, 91, 79], [26, 10, 37, 48, 20], [91, 65, 10, 28, 48], [91, 26, 10, 28, 34], [91, 75, 10, 28, 20], [34, 28, 10, 6, 37], [28, 34, 65, 10, 91], [47, 91, 65, 50, 28], [90, 26, 41, 91, 86], [91, 28, 65, 20, 26], [91, 28, 20, 26, 14], [10, 20, 91, 48, 28], [65, 28, 26, 91, 48], [47, 7, 91, 10, 48], [28, 26, 91, 65, 10], [34, 82, 28, 30, 85], [20, 28, 74, 91, 3], [26, 10, 89, 91, 28], [28, 58, 91, 34, 65], [49, 91, 37, 46, 10], [57, 4, 55, 66, 58], [86, 65, 13, 10, 28], [4, 28, 10, 26, 34], [78, 58, 11, 48, 13], [7, 91, 10, 1, 48], [28, 91, 65, 21, 3], [28, 65, 26, 91, 10], [91, 28, 21, 65, 26], [55, 91, 10, 48, 44], [57, 6, 34, 60, 10], [10, 65, 26, 28, 91], [73, 14, 37, 49, 10], [63, 26, 10, 28, 78], [26, 37, 39, 7, 20], [73, 65, 82, 34, 94], [20, 28, 91, 75, 26], [28, 73, 65, 74, 91], [4, 21, 88, 29, 46], [26, 19, 65, 34, 37], [26, 28, 18, 10, 91], [60, 33, 70, 38, 62], [20, 34, 28, 73, 10], [11, 88, 3, 66, 4], [91, 28, 65, 76, 10], [91, 28, 10, 65, 48], [10, 91, 65, 28, 26], [48, 78, 21, 65, 91], [82, 50, 90, 73, 26], [78, 14, 10, 37, 20], [10, 26, 28, 65, 91], [10, 91, 96, 37, 90], [26, 21, 28, 4, 65], [28, 10, 58, 91, 20], [7, 48, 1, 34, 91], [34, 7, 58, 64, 90], [91, 28, 26, 10, 14], [97, 68, 27, 76, 55], [9, 68, 29, 98, 80], [55, 43, 9, 29, 5], [9, 29, 68, 97, 96], [57, 68, 98, 97, 84], [41, 29, 44, 96, 9], [29, 98, 68, 97, 9], [5, 68, 97, 29, 9], [97, 68, 29, 53, 9], [80, 11, 4, 26, 14], [37, 78, 10, 65, 48], [96, 40, 83, 44, 39], [68, 98, 97, 29, 77], [57, 98, 35, 68, 55], [68, 97, 29, 98, 9], [9, 97, 68, 2, 29], [4, 79, 29, 21, 92], [98, 97, 9, 29, 96], [96, 26, 80, 29, 30], [9, 44, 29, 55, 98], [68, 98, 29, 97, 77], [77, 99, 27, 79, 55], [5, 43, 0, 57, 29], [68, 29, 98, 97, 9], [29, 96, 9, 97, 68], [84, 57, 98, 55, 9], [38, 62, 18, 70, 5], [96, 5, 43, 24, 9], [9, 2, 35, 79, 80], [61, 53, 44, 5, 97], [5, 80, 29, 24, 96], [24, 4, 79, 43, 80], [74, 53, 40, 79, 12], [29, 5, 55, 80, 68], [29, 80, 4, 26, 9], [68, 29, 97, 98, 35], [61, 94, 62, 97, 5], [85, 29, 35, 57, 61], [29, 9, 97, 68, 98], [55, 98, 68, 29, 97], [43, 30, 86, 9, 96], [29, 97, 5, 24, 68], [29, 68, 97, 98, 9], [96, 80, 29, 43, 86], [80, 96, 29, 9, 5], [29, 68, 97, 35, 98], [29, 49, 89, 41, 11], [30, 49, 55, 21, 43], [29, 9, 80, 97, 68], [29, 9, 97, 68, 71], [29, 80, 83, 26, 4], [68, 97, 61, 53, 98], [29, 55, 2, 9, 98], [5, 24, 77, 55, 92], [96, 29, 76, 86, 74], [34, 85, 40, 68, 20], [68, 97, 29, 40, 9], [9, 68, 29, 98, 55], [80, 4, 29, 37, 49], [79, 55, 92, 77, 49], [29, 9, 68, 97, 2], [29, 68, 9, 97, 67], [96, 30, 86, 10, 34], [84, 68, 80, 9, 35], [29, 43, 68, 5, 97], [29, 9, 97, 98, 26], [29, 68, 43, 32, 55], [27, 76, 68, 97, 86], [9, 43, 29, 97, 68], [61, 94, 97, 62, 5], [29, 80, 55, 98, 96], [29, 9, 97, 68, 98], [68, 29, 97, 98, 79], [80, 29, 9, 55, 4], [81, 44, 35, 98, 57], [61, 62, 94, 5, 53], [9, 29, 2, 97, 44], [29, 68, 97, 79, 46], [80, 5, 57, 4, 24], [61, 94, 62, 5, 38], [29, 9, 97, 98, 68], [29, 26, 82, 28, 96], [77, 21, 55, 92, 29], [98, 9, 97, 68, 29], [55, 29, 79, 96, 83], [96, 80, 43, 55, 9], [29, 9, 97, 68, 43], [57, 68, 29, 79, 52], [42, 44, 29, 71, 97], [94, 97, 44, 68, 9], [97, 9, 40, 44, 29], [40, 12, 92, 77, 34], [44, 40, 9, 97, 35], [29, 43, 97, 68, 9], [29, 9, 68, 43, 97], [5, 55, 24, 79, 96], [29, 80, 96, 46, 68], [55, 49, 80, 57, 4], [29, 92, 2, 21, 97], [29, 9, 97, 68, 80], [67, 24, 29, 0, 94], [5, 71, 42, 32, 61], [61, 32, 5, 62, 94], [49, 55, 24, 86, 42], [0, 32, 71, 94, 49], [30, 77, 73, 86, 65], [0, 64, 42, 83, 79], [30, 96, 83, 82, 34], [30, 82, 0, 32, 99], [82, 99, 21, 77, 24], [99, 27, 30, 77, 82], [40, 30, 42, 49, 71], [76, 2, 71, 5, 24], [49, 30, 55, 79, 24], [40, 12, 96, 77, 30], [27, 74, 12, 84, 46], [32, 82, 42, 67, 99], [21, 82, 99, 77, 5], [83, 89, 96, 86, 34], [40, 12, 92, 99, 46], [96, 30, 82, 35, 61], [38, 5, 62, 61, 94], [30, 73, 46, 32, 74], [55, 10, 43, 49, 30], [43, 30, 24, 96, 5], [32, 0, 5, 30, 67], [30, 55, 43, 49, 2], [83, 89, 18, 32, 0], [30, 99, 46, 82, 77], [61, 32, 98, 67, 68], [74, 21, 99, 27, 46], [4, 88, 7, 34, 36], [75, 37, 15, 49, 30], [30, 49, 99, 42, 21], [61, 32, 67, 71, 0], [30, 49, 43, 2, 92], [42, 11, 2, 5, 71], [72, 7, 50, 46, 89], [30, 49, 46, 99, 21], [82, 43, 30, 83, 46], [30, 96, 86, 74, 39], [42, 30, 32, 21, 71], [30, 82, 99, 50, 34], [30, 82, 83, 43, 49], [55, 98, 21, 96, 79], [21, 49, 99, 30, 24], [30, 82, 99, 87, 21], [46, 99, 21, 82, 30], [49, 32, 75, 30, 65], [82, 30, 27, 77, 46], [0, 32, 30, 67, 5], [30, 82, 96, 43, 46], [73, 30, 5, 49, 24], [3, 94, 50, 32, 67], [30, 82, 99, 49, 46], [5, 24, 0, 73, 43], [30, 40, 61, 99, 85], [30, 82, 99, 15, 46], [76, 82, 39, 44, 63], [5, 24, 0, 96, 9], [73, 83, 96, 39, 62], [30, 21, 99, 82, 94], [30, 99, 42, 82, 46], [74, 30, 3, 89, 56], [30, 99, 21, 42, 49], [99, 46, 21, 42, 31], [30, 82, 49, 76, 96], [27, 87, 57, 81, 72], [96, 55, 30, 99, 49], [46, 21, 4, 96, 99], [61, 32, 0, 9, 67], [46, 82, 99, 2, 86], [30, 87, 15, 2, 51], [30, 68, 76, 86, 55], [30, 74, 51, 95, 21], [73, 29, 80, 49, 86], [30, 49, 2, 82, 99], [21, 30, 99, 77, 82], [30, 99, 82, 96, 21], [96, 99, 72, 15, 74], [49, 30, 43, 99, 96], [5, 38, 32, 0, 24], [74, 49, 30, 67, 32], [34, 0, 2, 32, 30], [0, 32, 5, 67, 71], [87, 49, 8, 2, 30], [30, 82, 2, 76, 89], [92, 79, 3, 24, 49], [89, 96, 82, 46, 39], [30, 75, 43, 81, 24], [24, 79, 5, 92, 99], [96, 7, 72, 39, 86], [27, 74, 95, 50, 3], [50, 5, 1, 55, 90], [30, 99, 21, 82, 49], [30, 82, 89, 96, 73], [75, 30, 87, 15, 99], [86, 96, 30, 83, 39], [65, 34, 91, 28, 48], [30, 82, 99, 43, 46], [99, 46, 24, 53, 32], [71, 67, 24, 29, 32], [61, 24, 5, 32, 94], [31, 67, 84, 32, 93], [81, 75, 82, 96, 46], [79, 53, 5, 46, 32], [42, 32, 47, 99, 82], [31, 75, 99, 87, 42], [31, 67, 42, 32, 29], [61, 5, 62, 94, 53], [31, 67, 42, 5, 24], [31, 82, 67, 32, 0], [82, 27, 99, 42, 47], [50, 47, 53, 32, 5], [68, 84, 98, 97, 57], [61, 5, 62, 94, 32], [5, 24, 77, 53, 61], [50, 94, 31, 36, 10], [99, 42, 74, 82, 31], [42, 32, 67, 71, 31], [42, 41, 89, 5, 46], [82, 50, 74, 31, 73], [49, 24, 56, 79, 52], [61, 94, 5, 62, 18], [31, 82, 94, 67, 32], [5, 61, 94, 62, 53], [50, 46, 99, 73, 53], [68, 38, 97, 32, 61], [93, 49, 79, 24, 68], [82, 46, 31, 47, 99], [7, 19, 65, 37, 26], [86, 34, 26, 82, 37], [31, 82, 89, 50, 37], [32, 0, 42, 5, 67], [46, 40, 42, 71, 24], [61, 94, 62, 5, 38], [31, 47, 46, 72, 42], [43, 5, 24, 53, 79], [31, 94, 67, 84, 32], [31, 67, 32, 71, 0], [98, 68, 97, 29, 9], [55, 98, 68, 49, 43], [31, 37, 10, 48, 78], [85, 24, 68, 27, 43], [65, 42, 86, 24, 31], [50, 31, 42, 36, 89], [47, 31, 46, 73, 82], [31, 82, 46, 32, 67], [42, 65, 99, 32, 30], [55, 98, 84, 68, 43], [61, 94, 62, 5, 53], [31, 99, 21, 82, 65], [97, 40, 76, 75, 96], [96, 82, 76, 2, 75], [32, 50, 31, 71, 42], [55, 85, 96, 29, 68], [5, 42, 71, 24, 79], [94, 5, 24, 31, 61], [84, 31, 68, 81, 98], [82, 73, 50, 99, 42], [21, 27, 99, 46, 74], [75, 56, 74, 92, 86], [31, 82, 94, 67, 75], [31, 82, 74, 3, 67], [18, 62, 94, 68, 70], [31, 82, 43, 67, 94], [82, 46, 99, 31, 30], [49, 72, 24, 46, 99], [99, 74, 4, 82, 21], [68, 98, 35, 97, 67], [31, 93, 42, 67, 49], [57, 55, 98, 30, 4], [38, 61, 24, 32, 43], [36, 57, 80, 35, 31], [31, 67, 32, 61, 19], [82, 31, 99, 42, 73], [67, 32, 47, 31, 71], [99, 42, 82, 71, 46], [31, 46, 42, 71, 67], [31, 82, 42, 32, 94], [99, 31, 97, 68, 96], [31, 82, 89, 94, 32], [49, 84, 32, 68, 67], [93, 49, 42, 74, 67], [84, 27, 82, 86, 53], [82, 31, 99, 89, 46], [7, 96, 98, 86, 55], [84, 43, 5, 35, 55], [82, 99, 31, 46, 27], [31, 68, 67, 27, 32], [47, 32, 42, 50, 67], [57, 55, 35, 98, 68], [94, 61, 5, 32, 53], [99, 42, 96, 82, 46], [99, 46, 42, 96, 27], [31, 82, 68, 97, 43], [31, 67, 32, 99, 71], [12, 77, 92, 85, 24], [38, 18, 62, 70, 5], [86, 74, 75, 96, 39], [5, 32, 0, 43, 30], [85, 32, 71, 67, 0], [32, 94, 61, 67, 71], [42, 0, 32, 99, 67], [32, 39, 67, 85, 61], [32, 24, 67, 47, 71], [47, 42, 32, 99, 46], [0, 32, 42, 67, 5], [32, 42, 85, 67, 33], [67, 32, 71, 42, 72], [94, 62, 61, 18, 5], [11, 13, 63, 8, 49], [32, 67, 71, 94, 46], [71, 5, 32, 61, 42], [32, 85, 71, 0, 67], [32, 57, 0, 71, 67], [61, 5, 94, 62, 68], [89, 24, 85, 3, 5], [32, 71, 67, 42, 0], [82, 32, 5, 31, 0], [32, 61, 5, 67, 24], [5, 42, 0, 32, 71], [8, 2, 85, 32, 71], [32, 42, 67, 71, 26], [82, 47, 73, 89, 83], [32, 67, 0, 71, 5], [5, 32, 0, 67, 73], [32, 98, 67, 68, 57], [42, 5, 32, 24, 71], [85, 32, 3, 67, 71], [42, 99, 65, 21, 82], [82, 31, 32, 67, 99], [71, 67, 32, 42, 0], [5, 32, 61, 94, 71], [85, 24, 32, 82, 5], [94, 61, 5, 38, 62], [47, 64, 73, 34, 37], [32, 67, 61, 71, 31], [0, 32, 71, 67, 85], [32, 71, 42, 67, 0], [61, 32, 67, 71, 49], [61, 32, 5, 71, 94], [32, 61, 67, 39, 89], [5, 32, 43, 42, 9], [5, 53, 94, 61, 32], [57, 55, 30, 79, 39], [82, 31, 89, 24, 80], [32, 67, 71, 0, 42], [78, 63, 10, 28, 45], [49, 71, 32, 67, 0], [19, 52, 43, 35, 79], [61, 5, 24, 32, 53], [94, 5, 61, 62, 53], [89, 0, 24, 20, 42], [42, 0, 5, 49, 32], [5, 0, 24, 85, 89], [86, 65, 39, 3, 2], [61, 5, 53, 62, 32], [0, 24, 5, 32, 89], [5, 85, 24, 42, 32], [0, 32, 42, 67, 5], [42, 5, 71, 0, 32], [32, 67, 0, 42, 71], [32, 85, 61, 24, 67], [86, 39, 7, 30, 65], [32, 42, 0, 71, 31], [85, 5, 32, 62, 94], [40, 30, 82, 99, 74], [5, 32, 61, 24, 94], [42, 0, 32, 84, 67], [15, 99, 46, 95, 74], [32, 0, 47, 42, 67], [61, 5, 71, 32, 94], [32, 71, 42, 67, 5], [32, 67, 71, 61, 0], [67, 32, 71, 94, 49], [75, 96, 76, 8, 2], [32, 67, 85, 0, 61], [24, 5, 1, 39, 69], [5, 38, 94, 61, 62], [61, 32, 67, 19, 50], [5, 24, 0, 71, 94], [22, 34, 8, 64, 33], [5, 0, 43, 24, 32], [61, 67, 30, 32, 49], [42, 0, 80, 5, 89], [0, 32, 71, 42, 67], [0, 32, 67, 71, 30], [32, 67, 61, 0, 71], [67, 71, 94, 32, 49], [56, 74, 84, 42, 92], [36, 83, 19, 60, 81], [32, 67, 71, 0, 42], [47, 85, 72, 39, 3], [61, 94, 5, 62, 53], [0, 34, 36, 85, 32], [5, 32, 61, 71, 94], [32, 67, 61, 71, 94], [5, 94, 24, 61, 32], [21, 3, 24, 39, 94], [58, 33, 48, 78, 10], [33, 6, 90, 34, 91], [90, 1, 70, 7, 37], [33, 10, 58, 20, 37], [58, 33, 78, 37, 10], [33, 78, 48, 38, 70], [70, 62, 18, 54, 37], [70, 33, 38, 45, 62], [83, 54, 26, 70, 17], [54, 58, 10, 33, 66], [58, 33, 48, 28, 65], [55, 57, 46, 39, 72], [33, 78, 37, 70, 62], [33, 48, 70, 34, 75], [38, 33, 78, 37, 70], [33, 38, 70, 58, 8], [54, 66, 88, 33, 17], [33, 58, 54, 17, 88], [33, 58, 54, 70, 17], [33, 70, 20, 37, 17], [13, 7, 8, 33, 38], [53, 94, 44, 5, 62], [17, 70, 58, 33, 11], [82, 30, 6, 83, 37], [33, 26, 13, 78, 58], [59, 83, 89, 10, 37], [33, 70, 58, 38, 54], [66, 11, 58, 7, 56], [33, 58, 48, 13, 78], [33, 38, 45, 54, 58], [70, 78, 88, 80, 14], [70, 38, 33, 64, 54], [33, 78, 70, 38, 58], [58, 33, 28, 74, 20], [54, 70, 33, 7, 58], [33, 58, 78, 54, 13], [83, 73, 70, 85, 39], [70, 78, 37, 62, 33], [10, 78, 26, 14, 17], [20, 34, 33, 64, 17], [38, 33, 70, 78, 58], [33, 62, 58, 45, 7], [89, 20, 45, 6, 33], [38, 62, 70, 18, 54], [54, 7, 70, 83, 96], [33, 37, 70, 58, 54], [33, 58, 38, 70, 62], [58, 65, 48, 7, 37], [58, 33, 74, 28, 3], [33, 70, 54, 58, 17], [6, 17, 26, 33, 18], [58, 6, 33, 70, 16], [64, 38, 33, 58, 70], [47, 18, 58, 33, 62], [33, 48, 10, 37, 17], [33, 70, 54, 83, 59], [70, 38, 8, 22, 37], [33, 70, 38, 58, 78], [58, 48, 70, 33, 37], [38, 8, 33, 70, 63], [33, 54, 58, 70, 19], [58, 33, 70, 38, 54], [7, 58, 33, 48, 65], [58, 11, 33, 22, 78], [34, 17, 6, 70, 54], [33, 38, 70, 17, 78], [62, 19, 27, 39, 70], [48, 65, 58, 33, 3], [11, 33, 78, 48, 37], [33, 38, 8, 48, 64], [13, 26, 78, 63, 37], [58, 33, 11, 48, 22], [7, 10, 65, 19, 37], [25, 7, 90, 26, 48], [91, 7, 65, 28, 33], [37, 23, 70, 63, 25], [33, 58, 54, 86, 6], [58, 33, 38, 66, 22], [58, 33, 74, 7, 65], [58, 33, 65, 86, 54], [33, 34, 95, 49, 88], [55, 17, 58, 10, 33], [33, 58, 54, 70, 23], [33, 58, 78, 48, 38], [70, 33, 38, 48, 58], [78, 63, 45, 14, 48], [48, 33, 58, 7, 34], [70, 33, 58, 17, 64], [90, 63, 78, 48, 37], [60, 25, 54, 58, 7], [33, 58, 48, 17, 70], [8, 33, 11, 6, 88], [58, 65, 33, 48, 91], [70, 37, 59, 45, 10], [34, 54, 26, 60, 91], [38, 33, 70, 8, 78], [33, 58, 38, 13, 78], [58, 33, 70, 37, 17], [33, 7, 58, 54, 38], [39, 25, 24, 50, 89], [50, 47, 73, 26, 37], [34, 36, 26, 10, 37], [34, 26, 91, 28, 10], [64, 54, 7, 34, 33], [34, 63, 6, 17, 20], [55, 4, 26, 49, 98], [83, 54, 64, 26, 70], [83, 34, 89, 37, 6], [34, 60, 6, 26, 48], [90, 34, 22, 1, 48], [34, 63, 14, 48, 78], [14, 11, 7, 37, 58], [7, 1, 66, 91, 72], [90, 95, 48, 34, 37], [34, 33, 58, 11, 22], [26, 10, 11, 91, 34], [34, 73, 74, 56, 26], [47, 50, 88, 26, 73], [70, 60, 54, 42, 33], [26, 88, 34, 37, 14], [65, 48, 64, 91, 34], [34, 30, 47, 36, 32], [34, 6, 63, 54, 17], [65, 37, 28, 26, 48], [10, 26, 17, 48, 34], [58, 11, 48, 78, 10], [91, 48, 34, 90, 1], [34, 89, 14, 25, 20], [63, 60, 90, 41, 1], [48, 90, 63, 1, 26], [34, 26, 73, 41, 90], [73, 34, 50, 17, 6], [78, 48, 45, 37, 7], [34, 64, 1, 25, 90], [90, 41, 64, 1, 25], [26, 28, 34, 20, 10], [34, 73, 50, 12, 37], [8, 34, 91, 87, 90], [33, 70, 37, 17, 58], [86, 54, 34, 83, 73], [34, 14, 37, 65, 74], [34, 14, 88, 11, 26], [34, 20, 60, 26, 86], [34, 14, 88, 37, 10], [11, 33, 66, 34, 17], [11, 34, 21, 65, 28], [48, 1, 65, 33, 7], [34, 1, 60, 7, 25], [91, 10, 20, 28, 37], [48, 26, 34, 65, 28], [34, 48, 91, 17, 28], [85, 5, 34, 24, 0], [66, 88, 11, 6, 69], [73, 34, 74, 26, 86], [34, 26, 91, 64, 65], [8, 23, 34, 88, 14], [4, 28, 65, 34, 26], [34, 14, 65, 88, 22], [24, 34, 5, 89, 75], [34, 26, 64, 17, 23], [34, 12, 82, 26, 20], [49, 26, 86, 34, 11], [1, 34, 7, 90, 63], [65, 34, 48, 26, 1], [58, 33, 34, 26, 91], [14, 78, 34, 10, 26], [43, 5, 30, 57, 24], [34, 25, 60, 14, 64], [34, 17, 6, 14, 64], [47, 32, 39, 85, 19], [25, 7, 1, 48, 34], [13, 7, 34, 11, 78], [34, 36, 20, 10, 14], [89, 8, 34, 88, 64], [58, 91, 48, 28, 33], [50, 37, 10, 48, 63], [5, 62, 53, 61, 94], [48, 34, 91, 63, 78], [34, 20, 28, 26, 10], [34, 21, 91, 77, 4], [6, 50, 60, 63, 90], [32, 42, 50, 94, 71], [73, 86, 34, 74, 26], [50, 26, 34, 90, 64], [34, 26, 48, 63, 65], [89, 80, 36, 96, 4], [37, 23, 14, 48, 78], [11, 34, 23, 78, 13], [54, 38, 7, 78, 64], [65, 34, 26, 28, 37], [90, 73, 34, 1, 41], [34, 6, 60, 37, 50], [90, 34, 65, 25, 26], [65, 4, 21, 48, 26], [29, 26, 65, 34, 86], [70, 60, 34, 17, 36], [34, 26, 23, 11, 88], [34, 83, 64, 60, 17], [34, 73, 64, 47, 28], [56, 28, 74, 65, 91], [35, 43, 96, 79, 24], [57, 98, 68, 97, 35], [61, 62, 94, 68, 53], [49, 55, 24, 7, 79], [51, 53, 35, 68, 97], [81, 87, 55, 15, 53], [35, 79, 24, 61, 52], [98, 97, 68, 61, 9], [9, 68, 29, 98, 55], [62, 18, 38, 83, 70], [44, 35, 29, 98, 97], [61, 62, 94, 68, 53], [55, 9, 96, 92, 79], [9, 97, 51, 68, 96], [5, 35, 0, 24, 68], [57, 35, 81, 61, 68], [61, 62, 94, 5, 53], [9, 55, 44, 35, 57], [52, 68, 71, 49, 79], [68, 55, 31, 67, 3], [55, 35, 61, 80, 68], [57, 35, 55, 61, 81], [35, 80, 85, 68, 29], [74, 24, 89, 79, 92], [31, 74, 50, 3, 82], [29, 68, 44, 97, 98], [35, 55, 79, 24, 68], [35, 57, 55, 68, 93], [68, 35, 61, 98, 97], [43, 97, 24, 68, 5], [35, 55, 61, 49, 57], [53, 35, 97, 55, 81], [53, 79, 35, 24, 55], [94, 61, 5, 68, 53], [61, 94, 53, 32, 5], [35, 79, 55, 61, 98], [19, 61, 67, 52, 32], [44, 35, 40, 61, 97], [61, 35, 55, 68, 9], [96, 19, 24, 76, 35], [38, 62, 5, 18, 70], [61, 5, 53, 62, 94], [94, 61, 32, 5, 68], [44, 35, 19, 55, 57], [61, 35, 24, 79, 44], [35, 55, 79, 24, 93], [61, 77, 68, 24, 98], [55, 9, 35, 57, 61], [4, 68, 88, 79, 57], [55, 35, 57, 98, 9], [24, 79, 52, 35, 68], [35, 61, 79, 24, 55], [35, 68, 43, 79, 98], [57, 35, 55, 4, 79], [98, 35, 68, 97, 44], [61, 35, 24, 79, 55], [24, 79, 52, 53, 35], [68, 35, 79, 55, 97], [40, 21, 8, 87, 99], [98, 68, 61, 97, 35], [61, 32, 67, 35, 81], [99, 51, 27, 96, 46], [35, 44, 81, 75, 61], [51, 81, 98, 32, 40], [61, 36, 99, 46, 72], [55, 35, 49, 79, 80], [53, 70, 73, 50, 60], [81, 53, 19, 44, 75], [24, 79, 5, 53, 49], [35, 57, 68, 97, 98], [51, 97, 68, 43, 53], [35, 81, 79, 53, 61], [35, 19, 55, 53, 68], [43, 35, 55, 79, 24], [81, 57, 27, 75, 35], [42, 71, 32, 24, 67], [53, 43, 9, 81, 98], [81, 57, 35, 75, 79], [61, 53, 5, 62, 94], [55, 42, 43, 35, 99], [35, 55, 43, 57, 61], [79, 55, 43, 92, 24], [61, 94, 5, 62, 53], [96, 83, 9, 43, 29], [35, 61, 55, 79, 57], [35, 61, 55, 57, 19], [68, 97, 55, 44, 9], [35, 57, 55, 19, 52], [35, 57, 19, 52, 61], [55, 9, 98, 35, 97], [4, 27, 35, 24, 61], [29, 79, 4, 98, 55], [98, 35, 68, 55, 57], [35, 44, 98, 97, 68], [57, 35, 79, 24, 4], [56, 49, 55, 11, 35], [35, 68, 55, 57, 98], [74, 79, 35, 93, 55], [24, 84, 35, 39, 43], [35, 55, 79, 61, 81], [36, 19, 39, 5, 37], [5, 94, 61, 62, 24], [36, 14, 37, 73, 34], [36, 50, 19, 82, 39], [36, 89, 24, 39, 92], [36, 89, 24, 5, 74], [94, 61, 62, 5, 73], [5, 43, 50, 36, 42], [36, 34, 26, 10, 37], [36, 14, 7, 37, 17], [36, 86, 7, 25, 39], [36, 86, 7, 39, 65], [36, 94, 50, 89, 21], [36, 14, 37, 20, 89], [65, 78, 48, 37, 33], [36, 50, 7, 3, 23], [36, 48, 50, 7, 37], [36, 7, 54, 25, 19], [1, 7, 25, 48, 65], [36, 26, 34, 94, 32], [36, 7, 34, 25, 50], [7, 50, 65, 36, 47], [5, 36, 24, 80, 82], [36, 89, 95, 1, 42], [36, 25, 96, 19, 7], [65, 48, 7, 86, 78], [36, 86, 39, 34, 73], [78, 42, 80, 13, 69], [7, 37, 50, 36, 54], [36, 89, 96, 25, 39], [36, 37, 34, 10, 89], [36, 24, 50, 73, 3], [36, 50, 73, 42, 82], [36, 50, 7, 39, 96], [36, 89, 7, 86, 21], [36, 96, 89, 39, 85], [36, 19, 86, 70, 7], [36, 24, 81, 53, 96], [36, 42, 5, 60, 32], [36, 86, 50, 96, 34], [70, 64, 72, 19, 88], [36, 86, 47, 42, 31], [36, 50, 34, 94, 26], [36, 24, 89, 5, 50], [36, 34, 89, 6, 54], [36, 76, 19, 42, 7], [36, 34, 14, 37, 17], [36, 86, 39, 7, 25], [36, 7, 34, 37, 89], [36, 8, 4, 37, 50], [48, 64, 37, 78, 7], [36, 25, 89, 20, 7], [36, 7, 25, 54, 34], [43, 36, 5, 24, 60], [36, 86, 33, 65, 34], [36, 4, 37, 33, 10], [36, 94, 34, 42, 50], [65, 7, 33, 86, 48], [36, 14, 37, 86, 8], [26, 59, 65, 36, 7], [36, 7, 60, 14, 2], [36, 7, 37, 25, 10], [36, 99, 46, 42, 19], [36, 50, 73, 37, 89], [36, 96, 7, 89, 39], [36, 25, 7, 86, 65], [36, 94, 23, 56, 14], [36, 39, 89, 24, 3], [36, 22, 4, 48, 1], [36, 37, 17, 90, 69], [36, 86, 34, 14, 20], [36, 26, 10, 37, 20], [36, 7, 86, 19, 39], [36, 33, 5, 38, 70], [36, 34, 20, 14, 26], [36, 73, 34, 25, 50], [48, 10, 28, 65, 91], [36, 7, 89, 34, 96], [37, 78, 10, 48, 26], [4, 89, 96, 77, 99], [36, 7, 26, 86, 39], [89, 24, 76, 90, 77], [50, 58, 22, 37, 48], [36, 19, 7, 34, 8], [36, 22, 33, 27, 14], [36, 50, 7, 60, 37], [54, 93, 33, 36, 66], [36, 34, 4, 65, 10], [36, 25, 34, 89, 50], [36, 38, 34, 86, 64], [36, 89, 45, 86, 7], [36, 14, 37, 20, 78], [36, 4, 29, 14, 65], [36, 33, 38, 70, 58], [25, 7, 34, 36, 54], [36, 73, 89, 50, 34], [36, 90, 34, 86, 89], [36, 26, 37, 10, 7], [36, 7, 50, 60, 65], [7, 36, 96, 39, 1], [14, 36, 37, 78, 20], [10, 78, 26, 89, 91], [65, 91, 48, 28, 10], [26, 47, 28, 82, 10], [14, 10, 22, 37, 36], [23, 49, 89, 69, 37], [26, 65, 86, 63, 34], [62, 37, 14, 78, 45], [45, 37, 18, 20, 50], [82, 31, 46, 47, 99], [90, 25, 7, 14, 1], [8, 48, 10, 65, 1], [78, 37, 45, 65, 48], [14, 90, 7, 1, 37], [45, 62, 70, 78, 54], [7, 54, 36, 34, 64], [48, 65, 26, 34, 28], [48, 91, 65, 10, 28], [11, 66, 78, 14, 48], [38, 7, 33, 58, 70], [7, 86, 54, 33, 78], [6, 69, 37, 88, 10], [7, 54, 86, 66, 33], [34, 10, 37, 50, 28], [90, 31, 94, 74, 49], [23, 37, 50, 27, 73], [26, 10, 20, 37, 28], [73, 34, 26, 37, 10], [65, 48, 78, 74, 37], [7, 69, 42, 14, 47], [34, 26, 20, 6, 10], [45, 70, 38, 62, 33], [90, 60, 7, 34, 54], [88, 86, 33, 4, 69], [67, 32, 49, 71, 94], [36, 7, 89, 37, 25], [91, 10, 37, 48, 20], [70, 33, 37, 19, 62], [15, 19, 7, 65, 87], [63, 41, 90, 14, 42], [7, 78, 37, 65, 48], [47, 65, 46, 50, 72], [74, 7, 21, 3, 19], [70, 37, 26, 78, 48], [86, 34, 88, 54, 26], [33, 78, 38, 25, 48], [78, 37, 33, 69, 48], [83, 37, 86, 49, 4], [54, 7, 34, 36, 33], [11, 37, 78, 17, 6], [60, 25, 7, 54, 59], [48, 26, 34, 91, 10], [24, 79, 42, 89, 92], [7, 89, 39, 86, 12], [33, 78, 37, 26, 10], [48, 34, 20, 6, 1], [48, 50, 10, 4, 90], [50, 20, 37, 10, 6], [89, 76, 24, 96, 82], [92, 24, 39, 7, 86], [33, 70, 62, 78, 37], [36, 90, 48, 34, 37], [22, 8, 14, 88, 13], [14, 41, 37, 69, 63], [45, 63, 78, 38, 49], [45, 62, 78, 37, 89], [48, 33, 78, 1, 65], [37, 90, 26, 48, 78], [70, 33, 63, 78, 37], [65, 26, 28, 10, 34], [70, 6, 37, 45, 17], [73, 34, 74, 50, 89], [55, 99, 49, 46, 42], [65, 14, 78, 10, 28], [26, 37, 10, 78, 48], [26, 65, 10, 28, 91], [10, 4, 37, 69, 6], [86, 39, 58, 54, 10], [78, 10, 48, 66, 11], [83, 90, 89, 69, 37], [37, 70, 58, 54, 14], [62, 70, 38, 53, 18], [70, 11, 59, 54, 33], [10, 78, 28, 48, 21], [6, 78, 11, 14, 34], [54, 74, 33, 7, 58], [37, 78, 14, 48, 90], [8, 78, 13, 10, 26], [59, 63, 62, 37, 70], [78, 10, 48, 37, 65], [49, 42, 74, 69, 14], [65, 28, 34, 14, 20], [19, 10, 37, 4, 33], [82, 47, 73, 59, 37], [43, 30, 55, 49, 98], [65, 7, 86, 37, 48], [10, 37, 45, 20, 78], [94, 61, 62, 53, 38], [3, 50, 39, 85, 42], [78, 13, 11, 14, 33], [45, 78, 38, 37, 63], [38, 8, 13, 11, 88], [38, 70, 62, 33, 17], [33, 54, 58, 48, 10], [82, 59, 54, 63, 38], [38, 70, 33, 62, 18], [78, 48, 37, 14, 69], [38, 33, 45, 78, 13], [33, 7, 58, 63, 54], [42, 50, 49, 24, 73], [38, 13, 78, 16, 8], [8, 63, 38, 62, 11], [41, 18, 64, 73, 16], [33, 70, 38, 54, 17], [33, 58, 48, 38, 66], [64, 90, 54, 63, 41], [38, 62, 18, 70, 5], [33, 58, 17, 38, 54], [11, 13, 78, 48, 42], [70, 11, 66, 37, 69], [83, 88, 66, 11, 70], [33, 38, 70, 54, 13], [63, 6, 69, 90, 41], [38, 70, 33, 17, 54], [70, 33, 38, 48, 37], [18, 62, 70, 54, 16], [38, 13, 33, 70, 8], [70, 38, 33, 54, 62], [38, 70, 6, 33, 17], [38, 70, 17, 78, 33], [33, 38, 70, 58, 60], [33, 58, 48, 70, 54], [38, 70, 33, 62, 54], [54, 38, 13, 33, 70], [38, 70, 33, 16, 78], [62, 18, 78, 70, 63], [45, 54, 38, 62, 33], [38, 33, 78, 13, 7], [70, 62, 45, 38, 18], [17, 38, 66, 58, 48], [38, 63, 66, 1, 11], [66, 58, 33, 38, 70], [11, 47, 6, 33, 70], [38, 70, 81, 8, 52], [41, 83, 64, 54, 16], [33, 70, 48, 37, 78], [38, 33, 70, 58, 62], [58, 13, 33, 7, 54], [38, 70, 62, 61, 5], [33, 45, 37, 78, 70], [33, 38, 58, 63, 62], [33, 38, 1, 45, 48], [38, 70, 62, 45, 33], [10, 70, 7, 37, 17], [13, 34, 38, 8, 78], [45, 38, 33, 54, 70], [78, 14, 34, 13, 45], [38, 33, 70, 45, 78], [78, 33, 58, 10, 54], [70, 37, 33, 62, 38], [18, 38, 62, 16, 89], [6, 18, 42, 63, 69], [33, 58, 54, 17, 38], [64, 54, 70, 83, 47], [54, 70, 38, 33, 78], [38, 70, 18, 16, 33], [41, 45, 62, 33, 89], [38, 78, 8, 13, 33], [34, 50, 1, 60, 6], [38, 33, 70, 37, 45], [70, 38, 54, 33, 7], [64, 33, 8, 70, 23], [33, 70, 54, 38, 58], [70, 33, 38, 58, 45], [50, 70, 37, 60, 7], [33, 38, 58, 70, 54], [65, 56, 86, 13, 48], [38, 33, 70, 58, 78], [33, 58, 78, 70, 10], [13, 58, 33, 48, 65], [38, 64, 45, 54, 18], [33, 38, 13, 8, 88], [33, 48, 38, 17, 13], [62, 45, 38, 70, 63], [38, 64, 7, 8, 58], [20, 18, 14, 62, 89], [38, 70, 33, 58, 78], [13, 38, 33, 11, 70], [1, 50, 43, 5, 63], [33, 58, 78, 7, 69], [24, 69, 45, 89, 39], [10, 4, 34, 49, 78], [11, 69, 37, 89, 66], [18, 45, 62, 63, 59], [38, 70, 33, 45, 78], [83, 33, 16, 54, 69], [63, 13, 38, 33, 70], [38, 33, 70, 58, 62], [26, 34, 17, 28, 18], [45, 70, 33, 37, 78], [9, 55, 43, 2, 96], [7, 34, 48, 10, 37], [12, 83, 86, 39, 74], [32, 67, 71, 82, 47], [96, 39, 86, 76, 53], [21, 2, 74, 30, 99], [19, 39, 81, 55, 84], [86, 96, 27, 39, 53], [76, 39, 24, 96, 86], [7, 39, 50, 37, 3], [65, 86, 96, 24, 39], [46, 99, 42, 32, 67], [82, 89, 24, 76, 47], [26, 34, 39, 91, 7], [85, 32, 39, 3, 0], [10, 26, 4, 80, 65], [96, 89, 74, 26, 69], [5, 53, 24, 39, 0], [96, 76, 30, 5, 43], [39, 96, 36, 76, 24], [39, 96, 26, 72, 19], [74, 27, 96, 73, 29], [26, 83, 89, 92, 10], [74, 46, 99, 96, 49], [5, 61, 62, 94, 53], [90, 26, 76, 64, 73], [48, 7, 91, 65, 58], [81, 50, 7, 39, 53], [1, 12, 77, 4, 88], [39, 74, 49, 3, 55], [12, 92, 85, 77, 32], [42, 50, 53, 32, 85], [43, 39, 76, 24, 85], [86, 39, 50, 7, 62], [29, 39, 44, 35, 68], [34, 54, 25, 26, 3], [63, 64, 42, 82, 34], [36, 50, 39, 7, 73], [3, 39, 85, 61, 19], [94, 50, 53, 42, 24], [99, 82, 73, 32, 86], [61, 94, 62, 5, 53], [50, 47, 82, 39, 46], [53, 76, 43, 79, 24], [47, 3, 50, 39, 74], [98, 68, 2, 97, 90], [8, 33, 38, 18, 63], [86, 10, 54, 26, 28], [57, 4, 84, 68, 98], [82, 99, 46, 24, 42], [95, 23, 75, 87, 8], [86, 39, 82, 47, 7], [61, 94, 53, 62, 97], [41, 25, 89, 42, 18], [61, 62, 18, 94, 5], [96, 2, 55, 30, 86], [86, 96, 7, 39, 74], [7, 47, 64, 1, 86], [96, 39, 76, 46, 86], [6, 47, 70, 42, 60], [46, 27, 96, 72, 99], [94, 67, 2, 32, 30], [4, 3, 85, 49, 74], [56, 10, 42, 28, 7], [3, 24, 74, 85, 39], [74, 96, 76, 27, 50], [42, 43, 19, 55, 2], [83, 82, 30, 39, 42], [89, 85, 24, 3, 1], [85, 24, 53, 52, 79], [29, 68, 9, 34, 75], [42, 63, 47, 50, 60], [10, 58, 28, 26, 17], [39, 96, 86, 24, 5], [62, 38, 18, 53, 72], [86, 91, 24, 7, 20], [67, 32, 71, 94, 0], [96, 86, 39, 30, 82], [85, 39, 86, 76, 24], [54, 83, 86, 16, 26], [4, 40, 21, 90, 77], [39, 47, 74, 3, 50], [12, 77, 24, 83, 53], [83, 41, 16, 70, 73], [89, 7, 86, 39, 55], [70, 54, 7, 36, 37], [24, 3, 19, 74, 82], [89, 73, 85, 86, 82], [61, 94, 62, 5, 53], [24, 92, 3, 79, 5], [50, 71, 53, 42, 44], [29, 87, 97, 43, 40], [62, 38, 61, 53, 5], [10, 91, 20, 28, 26], [65, 86, 39, 7, 78], [7, 86, 39, 91, 26], [24, 5, 42, 79, 39], [46, 99, 8, 82, 96], [94, 39, 73, 42, 65], [90, 1, 65, 48, 7], [5, 40, 71, 42, 61], [40, 61, 44, 98, 88], [40, 8, 85, 61, 82], [94, 61, 62, 68, 53], [6, 17, 69, 89, 83], [99, 21, 3, 74, 92], [40, 44, 15, 97, 81], [34, 12, 40, 26, 21], [40, 44, 71, 42, 8], [40, 92, 3, 12, 74], [40, 87, 8, 30, 82], [98, 68, 97, 40, 35], [40, 30, 44, 97, 92], [40, 92, 24, 76, 39], [40, 96, 97, 75, 44], [40, 97, 81, 51, 75], [61, 94, 5, 62, 68], [40, 97, 51, 92, 96], [85, 68, 0, 29, 32], [40, 96, 82, 74, 99], [44, 68, 97, 9, 84], [40, 12, 92, 77, 3], [75, 70, 99, 51, 81], [61, 62, 5, 94, 97], [40, 12, 34, 21, 92], [40, 82, 85, 97, 12], [30, 40, 82, 96, 36], [40, 81, 98, 97, 68], [40, 99, 92, 42, 51], [40, 92, 5, 82, 97], [40, 71, 51, 5, 92], [84, 2, 40, 76, 96], [51, 97, 40, 92, 68], [40, 92, 67, 39, 71], [86, 96, 81, 33, 39], [61, 81, 32, 51, 0], [40, 75, 51, 99, 96], [40, 12, 21, 77, 4], [61, 40, 44, 62, 18], [40, 96, 12, 92, 77], [96, 76, 53, 40, 92], [61, 5, 38, 94, 32], [12, 40, 92, 77, 21], [96, 75, 5, 86, 43], [12, 40, 77, 21, 92], [4, 21, 46, 10, 99], [96, 40, 92, 51, 74], [94, 61, 97, 68, 62], [7, 75, 81, 51, 48], [40, 34, 17, 44, 84], [42, 40, 99, 46, 85], [24, 3, 37, 20, 14], [40, 12, 92, 68, 21], [94, 61, 62, 5, 68], [40, 92, 21, 12, 77], [40, 21, 77, 12, 74], [40, 97, 51, 68, 75], [40, 92, 12, 21, 77], [40, 97, 77, 21, 92], [40, 51, 75, 96, 61], [40, 61, 15, 30, 43], [46, 53, 99, 32, 79], [30, 40, 82, 92, 34], [71, 0, 67, 42, 9], [12, 40, 21, 77, 92], [40, 42, 99, 30, 82], [12, 27, 92, 96, 74], [94, 5, 32, 61, 38], [12, 40, 92, 34, 21], [40, 35, 61, 51, 81], [12, 92, 77, 21, 40], [40, 61, 85, 30, 74], [40, 92, 2, 30, 76], [40, 12, 44, 46, 11], [40, 12, 8, 44, 20], [77, 29, 80, 55, 43], [40, 17, 10, 34, 21], [40, 12, 44, 8, 97], [40, 42, 8, 64, 85], [84, 56, 57, 92, 68], [92, 12, 30, 77, 82], [21, 99, 46, 74, 30], [40, 98, 97, 68, 9], [40, 44, 82, 61, 74], [40, 21, 3, 51, 30], [40, 76, 44, 96, 90], [18, 62, 70, 38, 41], [40, 44, 82, 99, 46], [40, 85, 12, 3, 21], [40, 61, 30, 49, 9], [4, 98, 68, 97, 29], [35, 79, 68, 97, 40], [43, 79, 55, 35, 68], [40, 44, 12, 92, 97], [44, 97, 68, 9, 98], [12, 40, 92, 21, 77], [40, 53, 44, 81, 97], [68, 97, 18, 61, 62], [40, 92, 27, 97, 44], [97, 68, 61, 40, 81], [41, 83, 89, 6, 16], [41, 90, 64, 89, 73], [41, 34, 63, 18, 89], [41, 89, 90, 73, 63], [64, 90, 63, 41, 58], [41, 90, 64, 89, 4], [90, 4, 50, 41, 49], [41, 89, 25, 82, 73], [41, 89, 0, 25, 5], [60, 54, 63, 25, 16], [49, 29, 4, 77, 98], [4, 22, 88, 64, 8], [89, 12, 41, 63, 74], [41, 73, 89, 90, 50], [41, 6, 89, 63, 69], [41, 6, 89, 90, 37], [42, 20, 14, 89, 37], [41, 42, 46, 73, 5], [41, 89, 83, 90, 69], [41, 64, 25, 90, 73], [41, 46, 89, 42, 82], [83, 41, 89, 69, 6], [41, 90, 64, 6, 73], [41, 89, 60, 90, 83], [46, 42, 99, 89, 82], [90, 89, 63, 41, 1], [41, 64, 90, 89, 46], [90, 41, 5, 43, 89], [41, 64, 66, 18, 63], [41, 6, 69, 90, 42], [83, 42, 41, 73, 71], [90, 41, 89, 74, 26], [18, 73, 83, 59, 16], [83, 64, 16, 41, 42], [41, 64, 89, 18, 38], [41, 96, 29, 89, 73], [90, 64, 41, 73, 25], [41, 18, 64, 89, 83], [29, 96, 5, 10, 4], [41, 90, 73, 22, 74], [41, 63, 64, 90, 11], [41, 89, 42, 69, 96], [90, 41, 74, 89, 37], [41, 89, 69, 18, 6], [41, 64, 83, 89, 90], [42, 90, 0, 63, 41], [42, 41, 18, 63, 46], [64, 73, 41, 83, 34], [83, 41, 61, 0, 85], [41, 89, 73, 64, 90], [90, 11, 1, 49, 56], [54, 17, 60, 83, 49], [4, 57, 64, 60, 1], [41, 82, 90, 89, 47], [4, 86, 55, 54, 88], [41, 6, 89, 69, 55], [41, 90, 73, 11, 42], [25, 41, 89, 18, 82], [7, 90, 41, 69, 86], [41, 64, 90, 89, 83], [90, 41, 1, 64, 43], [37, 62, 42, 69, 70], [41, 89, 83, 64, 25], [41, 42, 18, 89, 83], [25, 90, 41, 37, 1], [70, 38, 62, 45, 8], [89, 10, 46, 26, 0], [18, 5, 41, 83, 62], [74, 28, 3, 10, 65], [73, 41, 0, 34, 5], [41, 25, 89, 5, 63], [47, 26, 73, 14, 28], [41, 0, 5, 42, 89], [1, 32, 63, 13, 69], [41, 79, 89, 24, 55], [41, 73, 90, 89, 74], [64, 89, 41, 42, 25], [41, 11, 6, 18, 66], [82, 73, 83, 90, 86], [41, 63, 42, 62, 73], [41, 73, 90, 6, 69], [41, 89, 73, 90, 5], [2, 89, 0, 41, 42], [41, 90, 74, 73, 50], [41, 90, 63, 5, 42], [41, 90, 63, 74, 89], [41, 8, 89, 11, 63], [41, 42, 89, 63, 69], [41, 83, 64, 73, 54], [41, 25, 90, 89, 34], [41, 82, 89, 90, 42], [41, 63, 45, 25, 73], [41, 24, 25, 5, 89], [3, 88, 89, 11, 8], [41, 89, 0, 42, 90], [41, 90, 73, 63, 42], [41, 25, 63, 89, 64], [41, 73, 50, 90, 74], [41, 64, 89, 73, 83], [41, 20, 89, 37, 6], [42, 71, 76, 83, 0], [42, 46, 47, 89, 60], [32, 67, 94, 71, 49], [42, 32, 67, 71, 94], [42, 46, 71, 32, 67], [12, 24, 92, 77, 2], [71, 42, 0, 32, 67], [42, 5, 71, 0, 24], [2, 42, 39, 0, 71], [74, 42, 73, 41, 50], [26, 0, 42, 67, 10], [86, 65, 99, 94, 42], [5, 42, 89, 24, 0], [42, 99, 21, 89, 46], [42, 5, 71, 24, 60], [80, 5, 24, 79, 26], [42, 24, 99, 46, 32], [42, 0, 71, 5, 32], [61, 62, 94, 5, 53], [42, 60, 5, 18, 32], [42, 46, 63, 41, 34], [41, 42, 50, 5, 27], [61, 94, 5, 62, 32], [65, 21, 99, 74, 73], [57, 43, 55, 39, 2], [33, 13, 14, 86, 78], [5, 32, 0, 71, 67], [15, 87, 81, 75, 99], [71, 0, 79, 24, 42], [85, 89, 12, 5, 41], [42, 71, 67, 32, 0], [42, 64, 71, 2, 5], [42, 71, 5, 67, 32], [42, 46, 71, 32, 67], [65, 90, 34, 1, 48], [7, 69, 89, 1, 81], [85, 42, 39, 83, 86], [73, 94, 5, 32, 61], [94, 62, 61, 5, 18], [42, 0, 41, 49, 73], [82, 0, 5, 42, 32], [42, 5, 0, 32, 71], [87, 42, 47, 39, 71], [34, 39, 24, 82, 64], [0, 71, 42, 32, 2], [73, 86, 50, 74, 34], [42, 46, 99, 18, 20], [48, 33, 58, 10, 37], [61, 94, 62, 5, 53], [89, 5, 90, 24, 0], [42, 72, 46, 39, 99], [42, 63, 58, 48, 65], [60, 42, 34, 5, 83], [61, 5, 53, 62, 94], [49, 34, 10, 30, 37], [75, 87, 15, 64, 95], [42, 46, 47, 82, 31], [82, 30, 86, 99, 42], [46, 82, 30, 71, 42], [34, 86, 5, 26, 89], [94, 5, 32, 61, 71], [42, 99, 43, 71, 82], [46, 42, 50, 47, 99], [42, 49, 71, 5, 32], [24, 96, 74, 99, 46], [42, 5, 39, 2, 71], [61, 5, 32, 53, 71], [99, 42, 46, 65, 49], [37, 42, 50, 36, 10], [42, 71, 67, 32, 0], [4, 28, 10, 21, 91], [0, 42, 32, 71, 67], [29, 80, 42, 83, 67], [41, 50, 73, 42, 0], [42, 67, 5, 32, 71], [61, 5, 94, 53, 62], [42, 71, 32, 67, 2], [55, 92, 49, 27, 99], [42, 2, 71, 5, 0], [42, 5, 24, 27, 43], [49, 55, 92, 21, 12], [94, 5, 32, 71, 53], [62, 18, 61, 94, 32], [0, 42, 32, 71, 49], [99, 21, 46, 42, 51], [71, 2, 94, 42, 32], [18, 54, 16, 70, 83], [74, 99, 46, 86, 89], [32, 85, 71, 0, 67], [42, 89, 46, 99, 41], [94, 71, 67, 42, 32], [32, 42, 0, 71, 67], [5, 42, 32, 71, 38], [42, 78, 50, 32, 71], [41, 42, 73, 90, 89], [24, 82, 76, 46, 79], [63, 46, 47, 42, 70], [24, 89, 90, 85, 3], [49, 55, 30, 96, 46], [42, 32, 67, 34, 71], [43, 79, 24, 92, 19], [53, 3, 24, 30, 92], [55, 43, 49, 79, 77], [74, 19, 27, 7, 3], [5, 43, 24, 0, 79], [55, 57, 43, 5, 79], [43, 55, 9, 5, 29], [89, 24, 39, 92, 19], [43, 82, 83, 46, 64], [42, 43, 46, 31, 47], [43, 46, 5, 99, 24], [68, 98, 97, 29, 35], [5, 43, 82, 46, 99], [43, 96, 55, 97, 35], [35, 84, 68, 57, 61], [97, 29, 68, 98, 5], [53, 81, 55, 75, 56], [55, 92, 79, 43, 97], [55, 57, 98, 68, 43], [43, 5, 24, 79, 53], [49, 55, 57, 30, 83], [43, 12, 92, 55, 77], [43, 24, 19, 5, 79], [43, 5, 55, 24, 34], [24, 79, 71, 5, 53], [61, 94, 62, 5, 53], [12, 64, 53, 96, 40], [66, 83, 80, 19, 17], [46, 43, 49, 24, 79], [81, 19, 53, 39, 75], [35, 55, 57, 79, 68], [90, 22, 8, 1, 5], [55, 98, 68, 97, 35], [5, 18, 62, 43, 38], [43, 79, 5, 24, 29], [82, 86, 39, 24, 55], [80, 4, 55, 57, 10], [43, 35, 55, 79, 9], [43, 57, 79, 35, 55], [53, 68, 97, 50, 98], [43, 55, 49, 5, 41], [43, 79, 92, 24, 55], [39, 19, 50, 96, 81], [86, 43, 64, 90, 39], [49, 8, 88, 83, 2], [77, 12, 79, 92, 55], [85, 96, 89, 40, 76], [24, 43, 96, 46, 79], [57, 5, 43, 55, 97], [80, 29, 43, 79, 35], [18, 62, 38, 70, 41], [43, 55, 5, 79, 35], [61, 62, 94, 5, 68], [43, 5, 55, 30, 24], [43, 2, 5, 55, 96], [43, 82, 5, 57, 68], [57, 55, 35, 79, 5], [32, 67, 42, 0, 47], [43, 5, 24, 79, 2], [4, 89, 19, 37, 10], [30, 46, 96, 55, 49], [62, 68, 57, 33, 83], [4, 57, 55, 49, 77], [55, 96, 79, 29, 98], [61, 94, 62, 5, 68], [24, 43, 30, 89, 79], [43, 55, 9, 97, 98], [82, 99, 31, 46, 73], [43, 98, 55, 68, 97], [5, 42, 50, 73, 53], [43, 5, 55, 79, 24], [40, 81, 39, 82, 53], [79, 55, 77, 43, 27], [79, 24, 19, 35, 55], [43, 55, 35, 5, 79], [55, 43, 49, 79, 24], [40, 43, 2, 42, 92], [5, 43, 24, 71, 79], [4, 57, 53, 49, 79], [29, 68, 57, 43, 98], [9, 43, 29, 55, 2], [61, 5, 94, 62, 68], [92, 49, 79, 12, 24], [86, 11, 42, 34, 14], [96, 39, 86, 74, 19], [53, 72, 43, 5, 46], [55, 35, 43, 57, 96], [61, 68, 97, 98, 5], [80, 55, 4, 49, 43], [61, 94, 62, 53, 5], [43, 46, 12, 4, 79], [55, 79, 43, 2, 35], [30, 83, 96, 73, 39], [24, 5, 43, 79, 96], [79, 43, 92, 97, 68], [77, 5, 96, 79, 24], [29, 9, 71, 2, 68], [55, 35, 57, 98, 68], [43, 97, 68, 55, 98], [24, 79, 52, 5, 92], [62, 18, 38, 97, 83], [38, 61, 44, 5, 62], [32, 44, 42, 67, 80], [40, 82, 97, 99, 51], [44, 80, 29, 9, 96], [98, 9, 29, 97, 68], [44, 35, 68, 98, 79], [44, 6, 84, 69, 81], [84, 44, 53, 35, 57], [9, 44, 31, 81, 75], [81, 35, 53, 19, 55], [86, 55, 96, 79, 24], [98, 10, 55, 29, 91], [44, 9, 97, 40, 2], [61, 97, 44, 68, 9], [61, 44, 53, 35, 4], [68, 29, 9, 98, 55], [5, 42, 24, 0, 32], [44, 61, 35, 53, 97], [55, 44, 97, 68, 35], [89, 69, 3, 18, 24], [44, 61, 98, 9, 97], [55, 79, 76, 24, 5], [44, 98, 35, 68, 29], [61, 44, 32, 35, 67], [18, 70, 62, 38, 41], [44, 97, 29, 98, 35], [44, 40, 2, 46, 96], [61, 38, 94, 62, 5], [98, 68, 97, 9, 61], [55, 35, 79, 92, 61], [44, 35, 57, 53, 51], [70, 18, 62, 97, 68], [40, 44, 92, 97, 35], [44, 97, 68, 35, 98], [44, 46, 97, 35, 9], [29, 80, 9, 32, 97], [44, 81, 66, 35, 15], [40, 2, 44, 9, 71], [37, 44, 69, 90, 78], [86, 96, 43, 55, 29], [94, 61, 5, 62, 38], [44, 53, 81, 97, 35], [4, 98, 67, 27, 44], [9, 44, 35, 55, 97], [89, 44, 24, 69, 85], [9, 98, 29, 97, 68], [53, 29, 96, 9, 24], [44, 61, 35, 68, 9], [9, 97, 44, 98, 29], [44, 35, 2, 97, 24], [57, 81, 61, 19, 83], [61, 94, 62, 68, 5], [44, 97, 68, 35, 61], [44, 80, 97, 35, 68], [99, 46, 19, 82, 50], [44, 61, 35, 81, 66], [4, 84, 53, 46, 68], [61, 5, 44, 97, 9], [44, 98, 9, 97, 68], [53, 44, 81, 68, 5], [29, 80, 66, 11, 38], [44, 9, 68, 71, 98], [44, 97, 98, 55, 68], [61, 35, 44, 11, 4], [9, 29, 43, 97, 2], [55, 9, 68, 35, 97], [51, 68, 98, 35, 97], [44, 29, 97, 9, 68], [2, 44, 89, 42, 83], [61, 62, 94, 53, 44], [44, 53, 97, 40, 98], [5, 52, 27, 24, 19], [44, 97, 40, 51, 68], [44, 35, 9, 61, 71], [44, 35, 97, 81, 11], [44, 97, 68, 9, 84], [44, 9, 97, 98, 40], [2, 44, 76, 8, 85], [94, 61, 5, 32, 62], [9, 44, 61, 0, 97], [57, 44, 97, 68, 98], [44, 97, 35, 68, 98], [5, 80, 33, 36, 8], [44, 35, 70, 38, 80], [44, 29, 35, 11, 80], [4, 29, 61, 32, 68], [74, 11, 96, 24, 80], [44, 61, 98, 97, 40], [44, 97, 29, 9, 68], [9, 29, 98, 97, 68], [44, 35, 29, 84, 98], [66, 84, 44, 69, 57], [57, 44, 98, 97, 68], [80, 44, 9, 35, 29], [44, 35, 97, 80, 81], [29, 97, 68, 80, 27], [61, 94, 5, 62, 44], [44, 53, 24, 27, 9], [5, 35, 9, 24, 75], [63, 41, 89, 45, 18], [7, 48, 37, 89, 33], [48, 78, 14, 33, 65], [45, 74, 62, 83, 89], [62, 70, 18, 45, 54], [73, 11, 66, 64, 63], [45, 62, 59, 18, 70], [54, 70, 7, 62, 50], [45, 26, 62, 17, 54], [45, 41, 14, 69, 63], [34, 50, 25, 73, 37], [45, 54, 89, 28, 75], [45, 70, 11, 62, 38], [45, 62, 63, 78, 70], [28, 45, 91, 20, 10], [45, 89, 54, 60, 64], [54, 18, 84, 46, 83], [37, 62, 45, 70, 33], [4, 37, 89, 14, 96], [18, 89, 83, 45, 24], [36, 69, 45, 1, 37], [45, 75, 78, 86, 37], [73, 18, 34, 14, 45], [62, 70, 38, 63, 18], [45, 62, 59, 89, 18], [88, 49, 85, 94, 29], [42, 63, 13, 65, 49], [45, 54, 64, 83, 33], [41, 6, 45, 63, 89], [45, 70, 62, 37, 54], [18, 62, 45, 83, 16], [26, 45, 59, 37, 83], [19, 89, 38, 33, 70], [65, 26, 28, 24, 78], [45, 62, 78, 59, 37], [18, 62, 63, 41, 45], [45, 62, 70, 38, 33], [7, 87, 65, 86, 21], [45, 64, 14, 63, 37], [10, 28, 49, 26, 20], [5, 38, 62, 18, 24], [18, 54, 62, 45, 63], [18, 45, 62, 6, 34], [78, 38, 12, 83, 8], [45, 18, 62, 20, 78], [45, 41, 63, 62, 89], [70, 38, 78, 17, 45], [62, 6, 18, 45, 33], [18, 54, 45, 89, 33], [45, 7, 38, 33, 17], [45, 63, 14, 41, 37], [45, 62, 38, 78, 63], [45, 59, 78, 70, 33], [45, 37, 62, 70, 78], [45, 70, 59, 38, 16], [83, 18, 16, 54, 41], [45, 38, 33, 62, 7], [93, 63, 42, 49, 38], [45, 62, 78, 37, 63], [45, 18, 33, 6, 62], [14, 22, 78, 25, 48], [45, 62, 18, 70, 89], [33, 58, 62, 38, 54], [62, 63, 45, 37, 18], [89, 45, 74, 37, 20], [62, 37, 45, 54, 18], [23, 11, 63, 26, 64], [62, 45, 73, 18, 63], [38, 18, 62, 63, 42], [41, 89, 63, 45, 74], [18, 45, 62, 38, 70], [62, 18, 83, 16, 45], [38, 78, 45, 11, 13], [73, 25, 90, 14, 37], [45, 78, 62, 37, 48], [6, 42, 63, 70, 17], [45, 59, 62, 70, 17], [45, 38, 37, 89, 70], [78, 38, 33, 70, 45], [37, 50, 73, 62, 14], [63, 62, 45, 37, 17], [38, 33, 62, 18, 70], [45, 62, 89, 74, 70], [34, 73, 14, 47, 65], [18, 45, 14, 42, 62], [41, 42, 69, 14, 71], [70, 54, 62, 17, 18], [54, 45, 33, 18, 70], [18, 62, 45, 41, 83], [36, 86, 65, 90, 7], [70, 33, 38, 59, 7], [33, 38, 78, 45, 13], [54, 45, 70, 38, 62], [58, 26, 33, 54, 37], [45, 89, 62, 83, 59], [45, 62, 18, 89, 59], [70, 37, 78, 62, 88], [13, 63, 11, 78, 48], [45, 28, 20, 14, 3], [48, 10, 91, 58, 65], [46, 72, 19, 25, 99], [50, 47, 73, 61, 42], [72, 46, 19, 7, 65], [49, 46, 55, 72, 43], [46, 89, 50, 37, 82], [96, 4, 74, 46, 75], [12, 40, 21, 77, 92], [46, 72, 99, 81, 50], [46, 99, 42, 47, 27], [12, 77, 92, 21, 30], [47, 46, 10, 64, 26], [82, 24, 79, 77, 43], [46, 99, 74, 42, 21], [76, 99, 46, 39, 82], [32, 46, 71, 51, 42], [46, 19, 27, 99, 50], [46, 42, 74, 99, 49], [46, 42, 99, 31, 47], [46, 47, 72, 39, 7], [46, 96, 99, 39, 26], [46, 47, 24, 85, 39], [50, 46, 73, 47, 42], [46, 99, 42, 18, 93], [50, 46, 99, 72, 53], [72, 47, 19, 46, 7], [5, 42, 46, 24, 21], [46, 89, 84, 18, 37], [24, 82, 73, 47, 83], [46, 99, 74, 30, 96], [94, 62, 5, 32, 90], [12, 40, 92, 82, 77], [46, 55, 43, 49, 99], [46, 99, 31, 82, 42], [89, 37, 41, 69, 29], [42, 53, 51, 71, 46], [73, 70, 37, 50, 89], [46, 99, 47, 50, 31], [77, 46, 12, 74, 21], [46, 32, 42, 99, 71], [46, 99, 18, 82, 96], [46, 99, 24, 53, 96], [94, 61, 62, 5, 53], [54, 46, 18, 70, 47], [99, 7, 54, 70, 31], [11, 69, 14, 37, 8], [21, 99, 77, 40, 50], [47, 46, 50, 72, 99], [31, 42, 46, 99, 94], [43, 53, 46, 24, 50], [99, 21, 30, 46, 42], [46, 99, 96, 84, 83], [53, 30, 50, 46, 72], [42, 82, 46, 47, 99], [46, 99, 82, 47, 42], [41, 89, 83, 73, 63], [27, 77, 92, 99, 24], [46, 96, 55, 99, 51], [46, 86, 99, 50, 47], [46, 47, 50, 42, 99], [15, 97, 40, 99, 66], [81, 72, 53, 47, 46], [12, 77, 5, 21, 49], [82, 42, 18, 83, 8], [46, 99, 96, 24, 79], [72, 47, 46, 76, 99], [99, 46, 21, 77, 96], [74, 27, 99, 39, 12], [46, 76, 99, 96, 24], [44, 46, 40, 86, 99], [42, 46, 31, 82, 50], [46, 56, 2, 99, 74], [99, 82, 27, 46, 42], [74, 24, 79, 55, 46], [61, 53, 5, 62, 18], [46, 50, 31, 82, 47], [46, 99, 42, 21, 49], [57, 36, 68, 55, 27], [74, 99, 46, 65, 3], [46, 27, 30, 99, 5], [46, 99, 82, 42, 27], [31, 82, 80, 68, 97], [99, 65, 96, 46, 74], [46, 99, 42, 47, 31], [46, 99, 74, 42, 96], [72, 58, 65, 47, 46], [99, 46, 96, 30, 15], [30, 84, 74, 46, 27], [46, 5, 42, 50, 99], [50, 43, 79, 53, 68], [46, 47, 31, 99, 82], [50, 46, 37, 65, 26], [46, 47, 50, 5, 42], [61, 62, 53, 5, 94], [47, 46, 72, 99, 53], [55, 27, 92, 49, 22], [62, 94, 61, 53, 5], [24, 43, 94, 5, 96], [46, 42, 99, 82, 47], [46, 12, 24, 5, 92], [46, 82, 27, 99, 96], [73, 5, 42, 83, 94], [47, 26, 72, 46, 7], [73, 47, 50, 74, 26], [50, 7, 46, 37, 74], [47, 50, 82, 46, 72], [27, 50, 55, 74, 86], [47, 90, 7, 50, 64], [32, 42, 71, 94, 0], [47, 53, 50, 62, 72], [47, 67, 32, 82, 31], [61, 53, 94, 62, 5], [47, 87, 73, 99, 50], [65, 74, 86, 58, 48], [73, 82, 47, 89, 36], [64, 26, 7, 37, 10], [47, 50, 46, 74, 3], [47, 26, 34, 64, 58], [47, 26, 50, 82, 65], [61, 62, 94, 38, 53], [65, 74, 72, 46, 21], [61, 62, 53, 94, 5], [81, 76, 97, 68, 24], [7, 50, 47, 26, 34], [47, 53, 64, 72, 50], [26, 47, 10, 91, 4], [65, 48, 91, 95, 28], [47, 26, 65, 23, 28], [82, 14, 37, 10, 26], [65, 8, 87, 95, 88], [47, 64, 26, 31, 82], [47, 50, 72, 53, 58], [47, 26, 50, 28, 64], [47, 73, 50, 53, 94], [26, 47, 64, 34, 82], [46, 76, 47, 50, 53], [46, 47, 86, 76, 42], [73, 32, 47, 70, 50], [47, 73, 65, 50, 86], [47, 70, 59, 32, 42], [96, 55, 86, 30, 7], [53, 62, 50, 61, 70], [47, 26, 23, 65, 7], [99, 46, 82, 42, 89], [8, 86, 65, 13, 32], [47, 64, 42, 46, 72], [25, 47, 38, 13, 78], [50, 47, 53, 31, 48], [42, 99, 47, 2, 71], [47, 26, 65, 58, 28], [47, 50, 26, 10, 65], [65, 7, 46, 47, 90], [73, 47, 82, 34, 50], [57, 4, 83, 64, 85], [47, 50, 82, 59, 10], [47, 31, 82, 50, 46], [47, 50, 31, 70, 32], [47, 73, 26, 50, 39], [57, 67, 98, 32, 55], [61, 62, 94, 53, 5], [47, 50, 31, 32, 53], [47, 50, 46, 53, 65], [73, 50, 90, 47, 48], [47, 39, 50, 26, 42], [47, 46, 50, 82, 31], [94, 50, 89, 24, 36], [47, 50, 65, 10, 20], [50, 47, 20, 36, 75], [34, 65, 37, 14, 50], [34, 87, 58, 21, 28], [42, 69, 1, 32, 49], [47, 46, 50, 72, 53], [47, 73, 50, 99, 74], [47, 58, 50, 26, 64], [47, 7, 26, 50, 65], [47, 73, 50, 82, 26], [47, 46, 23, 26, 7], [7, 74, 19, 72, 39], [6, 64, 69, 14, 29], [47, 90, 7, 73, 48], [29, 88, 80, 64, 47], [99, 42, 50, 65, 82], [47, 53, 50, 44, 19], [61, 62, 94, 5, 53], [47, 50, 53, 46, 73], [47, 72, 53, 50, 65], [20, 65, 7, 26, 91], [47, 50, 42, 72, 71], [73, 82, 47, 50, 24], [47, 53, 70, 62, 72], [47, 99, 50, 73, 82], [5, 62, 61, 53, 94], [47, 6, 69, 20, 23], [47, 26, 58, 82, 7], [31, 42, 32, 0, 67], [47, 46, 53, 72, 65], [47, 50, 72, 53, 78], [47, 32, 50, 42, 72], [46, 99, 4, 82, 21], [73, 47, 50, 82, 32], [48, 90, 7, 37, 66], [7, 54, 58, 65, 33], [88, 14, 11, 78, 8], [28, 10, 73, 91, 34], [48, 28, 63, 34, 78], [7, 65, 48, 26, 86], [48, 1, 91, 7, 63], [48, 1, 65, 90, 91], [38, 66, 17, 70, 14], [13, 34, 11, 63, 48], [37, 19, 70, 10, 78], [91, 26, 10, 28, 48], [65, 10, 50, 74, 37], [10, 26, 48, 91, 78], [58, 48, 65, 33, 7], [38, 62, 18, 70, 41], [10, 26, 4, 28, 65], [25, 1, 90, 65, 4], [48, 78, 45, 33, 37], [38, 63, 70, 13, 33], [7, 36, 48, 90, 37], [1, 6, 66, 34, 63], [91, 65, 48, 7, 28], [48, 1, 65, 37, 78], [13, 48, 64, 34, 7], [58, 86, 65, 33, 55], [78, 48, 13, 33, 7], [10, 37, 78, 48, 26], [13, 58, 34, 26, 10], [48, 1, 65, 13, 91], [48, 78, 63, 1, 37], [10, 48, 26, 91, 37], [65, 37, 46, 42, 99], [65, 34, 48, 73, 91], [14, 50, 48, 37, 73], [48, 7, 69, 65, 91], [48, 50, 20, 37, 91], [78, 48, 14, 63, 13], [89, 36, 73, 65, 5], [90, 7, 1, 87, 65], [48, 65, 91, 7, 4], [65, 86, 34, 58, 48], [48, 78, 14, 37, 63], [7, 1, 91, 39, 20], [65, 48, 36, 1, 58], [48, 37, 78, 14, 63], [1, 25, 63, 48, 90], [48, 65, 91, 1, 7], [66, 10, 37, 48, 58], [33, 48, 58, 26, 10], [26, 10, 37, 34, 7], [65, 13, 48, 11, 78], [48, 65, 37, 34, 50], [48, 78, 91, 33, 65], [78, 13, 34, 60, 48], [10, 78, 26, 65, 28], [55, 86, 77, 39, 7], [48, 1, 13, 65, 78], [48, 10, 65, 37, 26], [48, 1, 63, 66, 65], [46, 99, 42, 24, 32], [48, 78, 13, 65, 63], [7, 86, 10, 48, 33], [7, 26, 14, 34, 37], [10, 37, 26, 48, 28], [25, 48, 1, 88, 63], [48, 1, 90, 63, 65], [48, 91, 1, 10, 34], [1, 55, 69, 57, 90], [7, 65, 48, 91, 28], [65, 90, 41, 48, 74], [10, 48, 37, 78, 91], [10, 48, 26, 78, 55], [48, 78, 91, 65, 37], [65, 48, 91, 78, 1], [25, 37, 45, 74, 1], [89, 10, 78, 96, 76], [7, 70, 63, 66, 86], [48, 91, 50, 75, 37], [50, 48, 37, 91, 10], [14, 78, 26, 28, 34], [56, 74, 23, 48, 75], [48, 65, 1, 91, 10], [10, 78, 48, 65, 91], [20, 37, 48, 34, 63], [37, 48, 70, 20, 78], [78, 14, 48, 28, 10], [48, 91, 1, 28, 10], [25, 7, 90, 60, 34], [45, 37, 70, 69, 48], [10, 48, 90, 37, 91], [48, 1, 90, 63, 91], [34, 5, 24, 60, 73], [48, 1, 66, 34, 65], [7, 86, 48, 65, 1], [48, 65, 14, 94, 13], [14, 48, 37, 28, 34], [26, 86, 65, 10, 91], [20, 34, 26, 74, 78], [58, 33, 48, 78, 14], [50, 10, 37, 28, 20], [61, 94, 62, 5, 53], [67, 32, 71, 3, 61], [89, 73, 49, 30, 50], [49, 46, 99, 21, 94], [7, 26, 39, 50, 37], [57, 27, 4, 68, 33], [92, 12, 77, 55, 74], [49, 55, 74, 99, 21], [49, 30, 5, 71, 24], [49, 55, 4, 53, 98], [51, 85, 49, 30, 79], [49, 55, 74, 73, 24], [3, 74, 19, 52, 39], [83, 54, 26, 12, 16], [71, 42, 0, 32, 67], [98, 57, 43, 55, 79], [61, 53, 5, 62, 32], [94, 62, 61, 70, 68], [29, 80, 8, 88, 5], [55, 85, 49, 86, 39], [30, 89, 49, 2, 42], [49, 30, 88, 32, 0], [2, 55, 49, 72, 53], [96, 30, 2, 55, 39], [49, 53, 55, 27, 74], [49, 4, 88, 22, 21], [88, 4, 67, 71, 32], [4, 86, 29, 88, 34], [10, 69, 37, 78, 26], [5, 34, 82, 85, 0], [7, 66, 86, 55, 33], [74, 73, 34, 86, 37], [86, 74, 34, 21, 77], [49, 52, 55, 85, 35], [49, 74, 42, 3, 2], [49, 42, 37, 43, 26], [96, 86, 82, 5, 80], [88, 49, 32, 8, 0], [62, 18, 38, 70, 54], [42, 46, 71, 32, 47], [15, 49, 11, 90, 81], [61, 94, 5, 62, 53], [95, 21, 49, 74, 65], [36, 50, 86, 39, 89], [49, 43, 24, 21, 30], [49, 74, 21, 55, 3], [91, 21, 26, 28, 65], [49, 82, 30, 5, 77], [57, 61, 55, 35, 68], [21, 55, 99, 30, 49], [7, 26, 49, 1, 34], [49, 55, 39, 99, 79], [30, 6, 40, 21, 91], [42, 49, 89, 46, 43], [92, 82, 12, 30, 43], [49, 88, 4, 56, 21], [84, 55, 57, 68, 9], [92, 21, 77, 12, 51], [55, 49, 90, 34, 26], [49, 24, 79, 0, 74], [4, 49, 55, 61, 35], [24, 55, 83, 43, 9], [49, 3, 30, 21, 74], [55, 49, 79, 43, 35], [73, 90, 88, 67, 14], [88, 8, 22, 4, 49], [32, 67, 55, 49, 98], [24, 39, 42, 74, 46], [30, 39, 89, 49, 7], [72, 49, 74, 30, 42], [47, 70, 10, 86, 26], [43, 42, 46, 76, 24], [83, 89, 69, 0, 24], [96, 55, 46, 49, 2], [55, 49, 94, 79, 24], [24, 62, 32, 70, 90], [83, 26, 30, 49, 46], [49, 5, 85, 0, 3], [4, 49, 88, 77, 74], [49, 53, 55, 32, 79], [73, 47, 26, 34, 74], [6, 28, 99, 21, 34], [55, 77, 92, 79, 24], [49, 55, 79, 24, 35], [61, 62, 94, 5, 18], [84, 85, 32, 75, 74], [0, 85, 5, 32, 24], [89, 69, 11, 41, 37], [49, 88, 55, 4, 37], [88, 11, 14, 8, 22], [85, 4, 68, 34, 39], [79, 92, 24, 51, 55], [24, 92, 79, 49, 5], [43, 30, 21, 79, 32], [85, 32, 47, 34, 0], [94, 78, 63, 65, 26], [49, 55, 43, 26, 79], [42, 19, 49, 71, 2], [8, 88, 49, 55, 14], [32, 94, 71, 49, 67], [50, 53, 73, 27, 72], [32, 73, 61, 82, 67], [50, 47, 53, 26, 37], [41, 90, 89, 74, 25], [50, 73, 53, 90, 74], [50, 47, 53, 62, 70], [50, 47, 53, 73, 72], [73, 50, 47, 82, 89], [50, 47, 87, 32, 53], [7, 50, 47, 53, 54], [47, 82, 46, 50, 31], [50, 47, 53, 32, 73], [50, 73, 34, 47, 82], [50, 37, 48, 65, 47], [73, 83, 26, 82, 41], [47, 50, 46, 42, 6], [3, 24, 50, 42, 32], [61, 53, 5, 94, 62], [50, 47, 73, 39, 74], [7, 21, 48, 65, 37], [73, 34, 25, 90, 74], [50, 3, 72, 39, 42], [10, 50, 91, 37, 28], [50, 48, 47, 7, 37], [82, 73, 11, 99, 15], [25, 34, 50, 60, 37], [50, 5, 53, 61, 32], [31, 36, 50, 82, 42], [41, 73, 82, 89, 47], [50, 47, 65, 7, 48], [50, 37, 36, 48, 73], [73, 25, 59, 82, 47], [95, 87, 15, 88, 49], [50, 53, 47, 72, 76], [37, 70, 33, 74, 50], [50, 47, 37, 6, 46], [61, 62, 94, 70, 53], [50, 34, 65, 42, 73], [73, 82, 31, 50, 94], [57, 55, 90, 54, 7], [50, 47, 73, 32, 82], [53, 72, 50, 24, 47], [53, 61, 62, 5, 94], [50, 25, 36, 73, 47], [47, 50, 34, 32, 73], [50, 48, 90, 34, 37], [82, 6, 34, 50, 60], [74, 73, 82, 99, 47], [73, 82, 10, 50, 86], [47, 53, 50, 81, 82], [90, 15, 50, 37, 1], [47, 48, 7, 50, 65], [50, 47, 32, 5, 42], [50, 47, 39, 43, 82], [86, 19, 2, 52, 65], [50, 7, 47, 65, 34], [65, 34, 86, 36, 25], [50, 48, 1, 90, 65], [78, 48, 37, 65, 14], [1, 48, 65, 87, 4], [50, 73, 47, 32, 67], [62, 53, 61, 38, 5], [50, 53, 4, 34, 88], [50, 94, 67, 42, 65], [32, 67, 71, 42, 50], [72, 47, 53, 50, 7], [50, 23, 47, 88, 90], [90, 1, 48, 37, 7], [50, 47, 73, 46, 31], [73, 39, 83, 86, 24], [34, 1, 4, 7, 91], [19, 37, 10, 24, 61], [19, 72, 24, 46, 50], [73, 74, 50, 96, 82], [50, 48, 65, 1, 34], [37, 48, 14, 23, 20], [30, 82, 61, 49, 74], [50, 3, 39, 74, 47], [4, 50, 58, 72, 37], [53, 9, 50, 81, 44], [39, 42, 2, 94, 71], [73, 47, 50, 26, 34], [50, 6, 69, 90, 53], [73, 47, 6, 50, 34], [37, 50, 20, 46, 70], [50, 53, 72, 81, 1], [50, 46, 53, 47, 99], [4, 88, 36, 54, 87], [73, 50, 65, 82, 86], [5, 53, 61, 62, 73], [50, 47, 73, 82, 53], [73, 86, 23, 74, 90], [89, 47, 82, 39, 50], [84, 35, 61, 68, 24], [73, 82, 50, 47, 99], [50, 48, 53, 37, 72], [24, 43, 39, 50, 89], [47, 23, 32, 71, 24], [50, 10, 48, 19, 61], [47, 50, 72, 46, 53], [32, 71, 67, 0, 94], [55, 30, 49, 92, 89], [51, 87, 15, 75, 74], [51, 15, 99, 21, 87], [99, 74, 51, 40, 24], [81, 51, 75, 19, 99], [51, 99, 21, 46, 0], [51, 99, 75, 15, 46], [51, 87, 27, 15, 57], [92, 51, 79, 24, 97], [40, 98, 97, 44, 68], [15, 51, 21, 75, 89], [61, 5, 62, 53, 9], [79, 51, 24, 92, 43], [94, 5, 51, 61, 97], [15, 87, 51, 21, 99], [51, 97, 44, 40, 68], [51, 68, 97, 77, 53], [15, 51, 97, 81, 90], [51, 55, 97, 79, 81], [12, 77, 92, 40, 51], [30, 24, 49, 21, 73], [51, 0, 21, 92, 77], [92, 99, 21, 77, 49], [51, 21, 77, 99, 92], [21, 51, 77, 68, 92], [57, 55, 98, 27, 35], [51, 81, 98, 97, 68], [51, 79, 52, 35, 68], [0, 32, 40, 97, 24], [51, 99, 21, 15, 46], [51, 0, 68, 97, 32], [51, 21, 40, 15, 74], [51, 53, 5, 24, 97], [51, 92, 97, 55, 77], [51, 81, 53, 75, 97], [51, 27, 3, 21, 74], [51, 15, 75, 87, 32], [11, 15, 51, 90, 56], [9, 97, 87, 68, 29], [51, 15, 92, 77, 79], [15, 99, 51, 87, 30], [51, 81, 40, 99, 19], [75, 51, 87, 81, 15], [51, 0, 5, 32, 53], [51, 99, 0, 21, 32], [51, 21, 49, 43, 92], [51, 0, 5, 42, 32], [31, 67, 94, 32, 99], [21, 77, 51, 99, 92], [42, 51, 71, 0, 5], [5, 53, 61, 68, 94], [51, 5, 97, 53, 21], [51, 0, 68, 75, 67], [61, 5, 53, 97, 94], [51, 7, 58, 66, 57], [42, 71, 32, 49, 30], [21, 99, 40, 77, 79], [51, 30, 75, 21, 96], [51, 15, 87, 67, 49], [61, 44, 94, 97, 62], [99, 51, 75, 42, 0], [53, 51, 43, 24, 75], [40, 97, 92, 43, 55], [21, 77, 51, 92, 15], [49, 50, 75, 72, 24], [51, 21, 99, 40, 97], [92, 21, 24, 51, 77], [15, 51, 75, 74, 87], [61, 94, 62, 5, 53], [51, 42, 99, 71, 15], [51, 97, 81, 68, 87], [51, 97, 75, 92, 74], [30, 21, 40, 77, 74], [92, 12, 51, 21, 30], [97, 68, 29, 9, 51], [51, 97, 68, 15, 77], [51, 98, 68, 97, 0], [27, 82, 74, 73, 77], [51, 49, 4, 66, 11], [92, 51, 21, 99, 77], [71, 15, 32, 67, 0], [81, 70, 53, 62, 51], [97, 98, 68, 51, 81], [61, 94, 62, 53, 5], [75, 81, 51, 19, 2], [92, 51, 79, 24, 21], [51, 81, 57, 53, 97], [51, 92, 27, 77, 99], [51, 92, 79, 40, 21], [99, 46, 21, 42, 30], [51, 75, 40, 30, 81], [35, 9, 97, 68, 29], [61, 94, 5, 53, 97], [51, 75, 40, 97, 81], [51, 50, 73, 47, 74], [51, 97, 53, 68, 38], [27, 19, 99, 42, 72], [51, 75, 21, 77, 5], [51, 81, 97, 87, 75], [57, 61, 19, 52, 35], [73, 67, 26, 32, 6], [43, 79, 19, 5, 35], [55, 35, 81, 61, 57], [24, 1, 89, 5, 3], [24, 79, 52, 35, 27], [7, 83, 1, 39, 85], [7, 26, 39, 90, 52], [39, 24, 61, 32, 3], [42, 24, 19, 2, 30], [49, 65, 91, 94, 3], [52, 79, 35, 24, 19], [35, 55, 52, 79, 57], [35, 19, 52, 27, 57], [52, 19, 67, 79, 71], [52, 24, 19, 79, 5], [64, 83, 18, 70, 24], [52, 79, 19, 24, 3], [94, 61, 24, 5, 32], [61, 94, 62, 5, 53], [61, 94, 62, 53, 5], [19, 24, 52, 79, 53], [5, 71, 24, 79, 43], [45, 74, 37, 62, 70], [24, 18, 62, 54, 5], [40, 68, 44, 97, 35], [72, 85, 24, 68, 79], [4, 35, 68, 97, 79], [79, 24, 43, 52, 57], [52, 79, 19, 55, 35], [35, 57, 55, 52, 79], [53, 61, 94, 62, 72], [81, 49, 19, 4, 57], [94, 61, 62, 5, 68], [49, 71, 55, 67, 42], [61, 32, 76, 53, 39], [70, 94, 42, 97, 5], [24, 79, 52, 92, 19], [19, 24, 52, 86, 94], [53, 68, 79, 97, 57], [36, 96, 24, 86, 35], [55, 50, 86, 24, 79], [19, 27, 35, 61, 52], [15, 19, 99, 79, 35], [4, 87, 72, 88, 39], [86, 3, 7, 39, 81], [61, 39, 19, 67, 3], [5, 24, 55, 53, 79], [57, 35, 68, 55, 84], [57, 84, 68, 98, 31], [61, 52, 35, 79, 19], [61, 52, 35, 79, 67], [56, 74, 72, 2, 52], [35, 52, 79, 19, 24], [5, 71, 24, 94, 42], [7, 52, 19, 86, 74], [72, 53, 52, 70, 27], [81, 61, 67, 32, 75], [35, 57, 61, 19, 52], [61, 94, 5, 24, 53], [57, 98, 68, 61, 35], [52, 19, 85, 24, 72], [57, 68, 24, 35, 79], [10, 28, 91, 95, 58], [79, 24, 35, 97, 92], [55, 24, 35, 9, 79], [19, 35, 79, 52, 24], [83, 24, 57, 85, 39], [53, 98, 97, 68, 9], [24, 79, 97, 52, 68], [57, 35, 79, 52, 24], [36, 87, 34, 65, 32], [74, 19, 79, 52, 76], [85, 52, 79, 24, 35], [65, 86, 19, 7, 58], [79, 35, 52, 55, 24], [19, 52, 86, 39, 35], [52, 85, 79, 24, 71], [61, 5, 24, 53, 79], [79, 24, 97, 68, 40], [19, 52, 79, 29, 9], [24, 52, 79, 19, 53], [79, 24, 52, 61, 49], [19, 52, 93, 79, 49], [61, 81, 53, 35, 52], [24, 79, 55, 35, 43], [24, 55, 68, 86, 67], [42, 47, 26, 71, 39], [27, 74, 95, 53, 55], [43, 79, 24, 5, 52], [61, 24, 35, 5, 68], [85, 39, 52, 24, 72], [6, 17, 72, 96, 34], [52, 24, 19, 79, 85], [61, 94, 24, 5, 53], [19, 52, 42, 79, 24], [19, 95, 75, 86, 72], [19, 35, 4, 75, 52], [24, 72, 50, 53, 79], [7, 19, 52, 39, 10], [53, 72, 50, 47, 73], [53, 57, 40, 43, 79], [81, 19, 53, 3, 39], [53, 76, 61, 79, 35], [53, 50, 72, 3, 46], [53, 61, 94, 62, 5], [53, 81, 50, 72, 61], [68, 43, 98, 97, 5], [24, 76, 40, 92, 77], [35, 27, 68, 98, 22], [81, 53, 39, 9, 68], [47, 50, 53, 3, 39], [75, 51, 0, 32, 40], [61, 62, 53, 94, 5], [81, 53, 72, 76, 50], [5, 24, 53, 43, 3], [53, 44, 97, 9, 68], [53, 55, 77, 43, 79], [29, 5, 80, 76, 0], [22, 53, 1, 72, 90], [53, 72, 46, 55, 44], [53, 7, 1, 50, 64], [53, 95, 46, 72, 81], [50, 53, 47, 72, 48], [81, 68, 97, 51, 55], [53, 27, 12, 24, 3], [51, 53, 40, 44, 79], [53, 81, 55, 68, 50], [53, 55, 81, 44, 98], [32, 67, 53, 71, 0], [53, 81, 72, 50, 79], [50, 47, 65, 46, 73], [3, 89, 74, 33, 10], [39, 81, 53, 50, 57], [96, 75, 50, 6, 39], [53, 81, 9, 76, 72], [53, 51, 81, 47, 46], [50, 47, 73, 32, 49], [53, 55, 81, 68, 57], [81, 53, 97, 44, 68], [46, 19, 72, 50, 27], [53, 51, 97, 55, 68], [53, 50, 47, 72, 98], [6, 57, 4, 69, 85], [55, 68, 29, 97, 63], [53, 81, 72, 51, 97], [53, 50, 72, 79, 97], [43, 53, 5, 84, 24], [50, 47, 39, 42, 26], [67, 32, 3, 71, 42], [53, 72, 50, 68, 81], [98, 68, 53, 97, 77], [47, 53, 72, 50, 46], [81, 75, 50, 47, 72], [53, 72, 50, 81, 47], [42, 30, 99, 46, 65], [53, 79, 24, 51, 3], [9, 55, 53, 44, 98], [75, 43, 81, 50, 24], [53, 40, 44, 85, 46], [40, 30, 2, 49, 74], [96, 39, 86, 76, 74], [81, 27, 53, 50, 39], [53, 51, 72, 46, 21], [9, 53, 55, 68, 29], [53, 5, 9, 97, 44], [85, 24, 53, 39, 79], [53, 50, 72, 47, 39], [53, 46, 24, 73, 99], [53, 72, 50, 81, 3], [53, 68, 98, 97, 57], [47, 50, 53, 46, 32], [53, 68, 98, 97, 72], [53, 68, 98, 61, 97], [53, 51, 35, 61, 81], [53, 76, 96, 43, 5], [83, 64, 46, 16, 40], [53, 68, 98, 77, 97], [53, 43, 55, 5, 79], [68, 97, 53, 9, 29], [81, 53, 61, 15, 40], [42, 5, 47, 43, 71], [50, 53, 72, 81, 85], [53, 72, 46, 50, 73], [53, 5, 97, 68, 61], [53, 76, 55, 96, 98], [53, 24, 79, 50, 35], [53, 98, 61, 9, 44], [7, 58, 72, 87, 64], [50, 53, 39, 74, 72], [53, 50, 72, 47, 39], [75, 87, 24, 43, 15], [53, 61, 5, 94, 62], [53, 50, 47, 72, 46], [53, 61, 98, 68, 5], [61, 94, 53, 62, 5], [53, 50, 81, 72, 57], [53, 5, 77, 76, 24], [27, 79, 77, 68, 53], [53, 5, 50, 24, 71], [82, 21, 40, 99, 4], [18, 54, 62, 34, 63], [83, 64, 25, 54, 37], [34, 63, 41, 60, 1], [18, 54, 60, 70, 7], [4, 21, 33, 88, 64], [54, 26, 10, 91, 34], [7, 26, 74, 37, 58], [4, 7, 54, 58, 33], [54, 64, 18, 83, 70], [89, 6, 54, 18, 41], [54, 6, 10, 60, 37], [54, 4, 33, 58, 60], [33, 37, 70, 38, 45], [7, 70, 54, 37, 15], [11, 4, 27, 96, 86], [63, 70, 34, 78, 17], [54, 26, 17, 18, 83], [57, 83, 18, 62, 54], [54, 10, 17, 48, 4], [33, 17, 11, 13, 38], [54, 64, 18, 83, 60], [60, 7, 64, 70, 54], [54, 34, 86, 83, 26], [21, 58, 55, 17, 26], [4, 54, 88, 26, 14], [96, 26, 4, 55, 79], [54, 74, 86, 33, 70], [58, 33, 54, 70, 34], [87, 21, 4, 58, 15], [54, 66, 93, 58, 33], [91, 10, 65, 28, 4], [54, 83, 64, 7, 60], [10, 48, 78, 37, 75], [33, 58, 86, 7, 65], [86, 54, 26, 7, 74], [10, 26, 78, 37, 6], [54, 18, 70, 59, 62], [28, 65, 58, 10, 33], [54, 70, 64, 83, 16], [18, 54, 33, 11, 58], [7, 1, 90, 63, 70], [4, 86, 69, 54, 7], [33, 66, 4, 88, 56], [10, 58, 54, 26, 55], [54, 83, 70, 64, 17], [78, 38, 70, 54, 66], [58, 54, 7, 33, 86], [54, 7, 83, 43, 64], [54, 7, 70, 64, 58], [54, 16, 70, 83, 18], [78, 18, 33, 37, 38], [58, 33, 54, 6, 7], [18, 54, 34, 14, 37], [54, 66, 42, 33, 83], [54, 75, 64, 1, 66], [33, 37, 70, 60, 23], [54, 83, 26, 10, 66], [54, 58, 4, 26, 21], [54, 36, 24, 86, 25], [54, 33, 58, 7, 17], [4, 58, 54, 10, 66], [7, 50, 54, 37, 1], [7, 65, 91, 54, 86], [7, 26, 54, 64, 83], [54, 70, 59, 7, 47], [93, 66, 4, 11, 35], [10, 48, 91, 26, 28], [54, 70, 18, 10, 48], [38, 70, 59, 33, 78], [54, 33, 58, 7, 60], [58, 78, 33, 86, 65], [54, 13, 7, 96, 33], [64, 54, 70, 58, 34], [10, 28, 26, 6, 48], [54, 10, 26, 4, 7], [54, 90, 7, 64, 41], [54, 33, 58, 70, 62], [4, 57, 7, 55, 54], [54, 60, 7, 17, 58], [83, 70, 64, 59, 16], [54, 70, 19, 33, 64], [54, 83, 7, 70, 16], [54, 7, 37, 48, 33], [10, 48, 65, 78, 4], [65, 26, 72, 34, 62], [33, 54, 69, 48, 6], [54, 26, 12, 34, 86], [54, 34, 10, 60, 78], [18, 70, 54, 62, 33], [70, 54, 33, 83, 58], [96, 43, 39, 34, 76], [54, 33, 10, 4, 48], [64, 54, 83, 90, 7], [33, 17, 37, 70, 78], [54, 83, 7, 10, 17], [94, 62, 61, 32, 38], [7, 54, 57, 4, 19], [54, 83, 59, 10, 58], [6, 41, 66, 17, 63], [96, 4, 74, 10, 55], [55, 98, 68, 97, 9], [55, 43, 5, 79, 9], [92, 21, 77, 3, 55], [57, 4, 68, 55, 77], [55, 4, 46, 29, 96], [72, 79, 55, 19, 99], [98, 68, 61, 32, 35], [96, 55, 76, 30, 86], [86, 68, 47, 98, 65], [55, 9, 97, 68, 35], [55, 96, 43, 79, 39], [55, 96, 2, 43, 93], [55, 49, 22, 79, 27], [43, 42, 2, 79, 93], [55, 98, 9, 57, 97], [79, 92, 55, 21, 49], [55, 57, 43, 35, 79], [55, 57, 98, 35, 29], [40, 92, 79, 24, 77], [55, 68, 9, 35, 98], [85, 83, 5, 57, 49], [55, 96, 29, 79, 4], [43, 5, 89, 24, 55], [55, 79, 43, 49, 5], [61, 62, 5, 94, 53], [96, 55, 98, 9, 40], [55, 9, 98, 29, 97], [63, 8, 11, 13, 89], [26, 55, 10, 29, 17], [55, 98, 43, 79, 9], [43, 96, 55, 9, 30], [98, 68, 57, 55, 97], [4, 10, 58, 48, 54], [55, 93, 27, 99, 2], [55, 79, 4, 49, 77], [86, 55, 65, 29, 58], [55, 35, 79, 96, 43], [74, 50, 32, 88, 94], [40, 97, 68, 35, 98], [55, 79, 43, 53, 24], [65, 86, 91, 55, 7], [55, 35, 9, 30, 49], [42, 71, 5, 24, 94], [4, 42, 80, 99, 49], [55, 43, 79, 49, 35], [98, 68, 57, 27, 97], [61, 5, 94, 68, 62], [57, 35, 68, 55, 98], [55, 49, 86, 30, 98], [61, 94, 62, 5, 97], [55, 49, 35, 57, 98], [55, 98, 29, 97, 68], [40, 30, 53, 74, 49], [55, 57, 4, 98, 35], [55, 98, 92, 77, 79], [9, 29, 35, 55, 97], [55, 91, 48, 28, 35], [55, 57, 35, 49, 79], [55, 57, 43, 98, 5], [55, 35, 79, 52, 98], [55, 35, 79, 61, 97], [96, 55, 76, 9, 53], [57, 4, 55, 35, 98], [55, 79, 80, 35, 77], [5, 96, 30, 0, 80], [55, 79, 46, 43, 24], [96, 49, 46, 30, 99], [55, 98, 49, 68, 79], [79, 35, 55, 24, 68], [55, 49, 79, 43, 92], [5, 61, 70, 24, 94], [29, 98, 97, 9, 40], [10, 55, 26, 49, 91], [98, 68, 29, 97, 57], [55, 79, 92, 43, 32], [11, 66, 55, 7, 86], [27, 77, 99, 12, 21], [29, 96, 97, 68, 79], [9, 55, 2, 5, 98], [55, 49, 4, 93, 79], [57, 35, 68, 79, 55], [61, 53, 79, 51, 43], [55, 98, 9, 35, 68], [55, 96, 9, 46, 98], [57, 97, 68, 98, 30], [26, 28, 29, 58, 55], [99, 46, 96, 49, 65], [55, 98, 68, 97, 76], [27, 24, 79, 12, 3], [55, 10, 65, 28, 26], [55, 79, 77, 43, 68], [55, 4, 54, 58, 33], [96, 30, 55, 49, 82], [9, 24, 29, 2, 35], [43, 55, 34, 57, 68], [55, 57, 9, 35, 81], [62, 38, 18, 70, 41], [55, 95, 15, 81, 57], [55, 98, 49, 57, 79], [61, 10, 35, 4, 33], [50, 1, 48, 56, 84], [11, 66, 95, 56, 49], [48, 56, 1, 7, 69], [56, 66, 74, 11, 95], [38, 62, 5, 18, 70], [11, 66, 56, 22, 49], [74, 47, 39, 86, 83], [83, 11, 6, 34, 30], [95, 81, 66, 56, 53], [56, 85, 8, 2, 88], [88, 15, 34, 22, 87], [5, 61, 62, 38, 94], [38, 70, 62, 18, 41], [56, 92, 7, 39, 42], [5, 55, 43, 24, 79], [56, 81, 84, 95, 75], [4, 88, 22, 34, 11], [56, 1, 84, 55, 66], [74, 66, 84, 56, 55], [95, 35, 3, 4, 55], [13, 88, 56, 2, 8], [50, 56, 42, 39, 49], [56, 95, 84, 50, 75], [56, 34, 88, 8, 66], [33, 34, 7, 86, 56], [34, 22, 3, 36, 88], [56, 95, 66, 33, 11], [62, 18, 38, 70, 5], [59, 43, 83, 42, 45], [56, 95, 84, 81, 1], [56, 50, 46, 72, 1], [68, 31, 97, 14, 24], [56, 66, 37, 95, 17], [7, 1, 56, 15, 46], [56, 84, 95, 42, 75], [56, 49, 84, 50, 72], [38, 62, 18, 70, 5], [56, 84, 95, 42, 1], [38, 18, 62, 70, 61], [74, 50, 56, 85, 3], [82, 46, 99, 30, 92], [6, 66, 34, 84, 69], [56, 66, 11, 75, 6], [53, 55, 24, 49, 79], [37, 81, 17, 44, 78], [5, 42, 43, 24, 50], [11, 72, 56, 22, 34], [3, 74, 76, 84, 39], [79, 55, 33, 78, 35], [56, 42, 2, 49, 71], [92, 56, 74, 49, 79], [56, 84, 49, 1, 94], [56, 81, 84, 95, 75], [66, 11, 49, 4, 23], [84, 57, 55, 2, 81], [84, 57, 4, 46, 39], [90, 48, 1, 63, 65], [50, 49, 47, 87, 55], [56, 95, 74, 84, 47], [38, 70, 56, 33, 62], [7, 54, 86, 33, 70], [56, 93, 13, 34, 7], [56, 66, 74, 7, 84], [34, 83, 54, 12, 64], [5, 24, 85, 0, 89], [7, 56, 64, 19, 74], [56, 84, 46, 74, 79], [56, 42, 74, 49, 93], [56, 7, 69, 1, 19], [56, 84, 95, 81, 75], [57, 84, 27, 56, 81], [56, 47, 7, 74, 46], [49, 8, 88, 15, 14], [56, 66, 95, 84, 74], [56, 1, 66, 11, 90], [56, 53, 72, 95, 46], [74, 89, 49, 6, 46], [85, 32, 56, 92, 79], [49, 30, 56, 0, 32], [57, 98, 84, 19, 55], [8, 88, 87, 30, 55], [84, 83, 88, 18, 4], [6, 46, 50, 69, 74], [27, 19, 96, 82, 74], [50, 56, 49, 74, 2], [56, 74, 84, 46, 69], [56, 47, 7, 48, 14], [56, 11, 75, 57, 84], [56, 66, 11, 34, 51], [84, 56, 35, 44, 68], [84, 68, 4, 29, 34], [56, 11, 84, 95, 66], [56, 84, 95, 74, 66], [56, 49, 71, 42, 94], [90, 26, 7, 69, 10], [56, 84, 50, 47, 42], [38, 56, 46, 42, 70], [74, 54, 86, 17, 26], [56, 69, 84, 74, 66], [57, 4, 98, 68, 27], [57, 35, 19, 68, 79], [68, 97, 98, 77, 5], [94, 62, 61, 70, 5], [57, 4, 68, 35, 98], [98, 4, 57, 68, 35], [38, 18, 62, 5, 70], [57, 35, 81, 79, 52], [57, 4, 68, 81, 84], [57, 68, 98, 84, 97], [57, 55, 4, 35, 68], [57, 4, 68, 35, 22], [57, 84, 68, 98, 35], [57, 98, 68, 35, 4], [57, 24, 35, 79, 43], [57, 68, 35, 29, 55], [57, 80, 35, 5, 55], [57, 84, 4, 92, 30], [57, 68, 35, 55, 97], [57, 35, 68, 81, 4], [57, 4, 32, 88, 30], [57, 4, 88, 49, 98], [57, 55, 35, 79, 97], [68, 57, 98, 97, 29], [57, 68, 35, 55, 1], [57, 79, 55, 43, 92], [57, 98, 68, 35, 55], [57, 46, 84, 44, 68], [57, 98, 68, 84, 81], [57, 81, 98, 68, 61], [57, 96, 87, 2, 29], [46, 92, 30, 96, 77], [57, 19, 90, 4, 35], [57, 84, 68, 81, 1], [19, 27, 35, 57, 36], [57, 81, 98, 68, 27], [55, 57, 49, 30, 35], [61, 94, 62, 5, 53], [57, 61, 35, 19, 68], [57, 19, 81, 27, 61], [57, 19, 35, 4, 43], [57, 68, 98, 35, 29], [57, 4, 61, 93, 35], [57, 55, 35, 68, 61], [57, 35, 81, 61, 80], [57, 68, 4, 84, 98], [57, 35, 81, 61, 19], [61, 50, 35, 19, 81], [35, 24, 79, 57, 81], [57, 4, 81, 35, 61], [72, 88, 87, 98, 57], [57, 98, 55, 68, 84], [57, 68, 98, 55, 81], [81, 57, 84, 72, 68], [57, 81, 84, 80, 5], [4, 55, 61, 68, 35], [55, 68, 4, 98, 97], [57, 4, 30, 55, 83], [57, 84, 81, 55, 98], [35, 61, 80, 84, 57], [57, 35, 68, 98, 61], [55, 98, 68, 57, 35], [57, 87, 81, 18, 27], [57, 68, 35, 79, 53], [57, 4, 55, 68, 98], [57, 55, 98, 68, 35], [57, 4, 68, 35, 98], [98, 68, 57, 97, 55], [27, 53, 68, 84, 79], [57, 68, 81, 4, 35], [94, 62, 61, 5, 38], [57, 68, 84, 35, 4], [98, 68, 57, 55, 49], [57, 68, 98, 84, 55], [57, 68, 98, 97, 29], [57, 34, 84, 61, 80], [57, 61, 98, 68, 55], [4, 57, 61, 53, 35], [57, 4, 55, 80, 68], [57, 35, 81, 61, 85], [61, 35, 68, 9, 29], [57, 34, 83, 93, 4], [61, 57, 35, 9, 98], [57, 68, 98, 81, 84], [61, 94, 62, 68, 5], [1, 63, 48, 62, 65], [57, 55, 35, 79, 43], [57, 35, 68, 61, 52], [57, 4, 68, 98, 55], [83, 60, 64, 50, 34], [4, 57, 88, 87, 35], [57, 81, 19, 33, 27], [27, 68, 57, 97, 53], [57, 68, 35, 98, 97], [57, 68, 80, 55, 43], [57, 81, 84, 4, 68], [84, 57, 68, 55, 53], [4, 98, 88, 84, 57], [57, 68, 41, 1, 61], [61, 94, 5, 62, 68], [6, 58, 34, 54, 11], [58, 33, 28, 3, 48], [33, 58, 54, 13, 17], [58, 10, 21, 48, 78], [65, 20, 7, 26, 34], [58, 33, 48, 65, 91], [54, 58, 33, 10, 66], [28, 58, 91, 65, 33], [1, 7, 33, 48, 58], [58, 28, 33, 47, 91], [58, 34, 26, 33, 48], [58, 33, 74, 87, 3], [74, 3, 4, 28, 65], [11, 22, 58, 86, 7], [65, 87, 91, 28, 10], [91, 33, 58, 28, 48], [48, 58, 33, 37, 91], [7, 86, 20, 25, 89], [58, 65, 28, 14, 20], [33, 58, 62, 45, 70], [58, 33, 34, 60, 28], [58, 28, 91, 10, 74], [58, 33, 65, 86, 28], [37, 4, 33, 49, 19], [6, 20, 62, 28, 18], [6, 89, 59, 33, 54], [58, 20, 91, 28, 7], [33, 28, 91, 58, 10], [58, 28, 26, 78, 48], [4, 7, 34, 27, 28], [33, 1, 25, 48, 7], [34, 13, 58, 33, 6], [58, 33, 62, 54, 17], [28, 91, 58, 10, 48], [58, 28, 26, 33, 74], [33, 58, 11, 15, 70], [37, 74, 95, 63, 45], [6, 18, 62, 83, 70], [13, 58, 54, 78, 33], [33, 58, 91, 48, 20], [33, 78, 45, 37, 48], [33, 58, 48, 34, 6], [58, 33, 65, 11, 48], [33, 58, 48, 34, 6], [21, 65, 28, 91, 34], [7, 48, 73, 58, 91], [34, 64, 33, 88, 54], [58, 28, 34, 65, 91], [58, 33, 70, 54, 62], [33, 70, 17, 38, 64], [70, 74, 38, 58, 69], [58, 70, 33, 54, 27], [46, 99, 72, 65, 27], [33, 58, 13, 48, 95], [58, 7, 33, 48, 65], [21, 22, 28, 58, 91], [58, 33, 91, 28, 4], [58, 34, 20, 70, 6], [33, 58, 3, 86, 65], [58, 28, 10, 34, 91], [48, 65, 58, 91, 28], [58, 33, 48, 91, 28], [7, 8, 86, 36, 4], [65, 34, 91, 7, 74], [58, 3, 28, 33, 65], [58, 65, 48, 91, 1], [33, 58, 34, 14, 17], [58, 28, 33, 91, 34], [3, 65, 58, 86, 7], [33, 58, 48, 10, 60], [58, 33, 65, 28, 34], [65, 91, 74, 21, 58], [27, 12, 74, 77, 92], [58, 91, 28, 48, 65], [65, 91, 48, 28, 58], [42, 64, 45, 71, 40], [33, 58, 8, 34, 70], [58, 33, 54, 7, 60], [26, 58, 28, 10, 37], [4, 10, 78, 55, 48], [58, 28, 91, 33, 34], [58, 7, 86, 65, 39], [58, 91, 7, 48, 28], [58, 28, 6, 20, 34], [58, 33, 34, 65, 17], [58, 7, 65, 28, 48], [33, 58, 37, 65, 7], [58, 33, 48, 78, 63], [6, 4, 34, 41, 60], [65, 28, 91, 86, 58], [10, 48, 28, 91, 65], [58, 33, 6, 34, 28], [58, 33, 74, 28, 3], [34, 26, 88, 0, 32], [58, 33, 91, 48, 54], [58, 54, 33, 7, 91], [33, 58, 70, 20, 64], [33, 58, 38, 70, 78], [58, 86, 33, 54, 7], [6, 64, 34, 58, 28], [45, 70, 59, 62, 83], [59, 45, 62, 70, 18], [62, 33, 45, 54, 58], [62, 63, 70, 18, 45], [41, 90, 63, 48, 37], [59, 70, 45, 62, 83], [65, 78, 28, 86, 62], [34, 86, 83, 89, 64], [38, 45, 63, 13, 59], [10, 86, 37, 69, 6], [83, 64, 59, 34, 54], [70, 60, 38, 59, 7], [59, 70, 45, 37, 60], [70, 34, 17, 14, 37], [54, 60, 70, 59, 33], [45, 59, 89, 20, 14], [59, 70, 38, 62, 45], [59, 45, 62, 18, 54], [59, 70, 16, 83, 45], [83, 54, 64, 4, 16], [26, 14, 8, 18, 42], [83, 64, 16, 59, 18], [10, 6, 26, 34, 37], [63, 50, 59, 54, 37], [10, 33, 58, 37, 90], [15, 7, 10, 65, 37], [70, 54, 83, 18, 89], [59, 37, 14, 48, 70], [59, 70, 45, 62, 38], [89, 85, 24, 7, 39], [33, 78, 13, 58, 59], [89, 20, 45, 62, 10], [11, 59, 42, 32, 13], [18, 83, 16, 70, 59], [59, 70, 37, 73, 14], [37, 70, 78, 62, 10], [33, 58, 70, 25, 62], [18, 63, 26, 59, 83], [59, 45, 62, 18, 10], [18, 62, 70, 17, 54], [38, 18, 70, 62, 45], [83, 59, 16, 62, 70], [26, 34, 65, 73, 28], [20, 6, 37, 18, 58], [46, 39, 99, 96, 74], [62, 18, 38, 70, 41], [83, 62, 59, 18, 16], [33, 58, 70, 26, 34], [59, 70, 8, 16, 38], [70, 62, 59, 45, 54], [45, 62, 33, 70, 18], [59, 70, 16, 18, 46], [54, 70, 58, 69, 33], [59, 83, 70, 16, 18], [37, 36, 70, 26, 62], [59, 83, 54, 57, 7], [26, 10, 78, 65, 48], [16, 70, 59, 83, 18], [59, 33, 70, 18, 16], [83, 16, 54, 70, 33], [59, 60, 63, 48, 70], [64, 83, 89, 59, 43], [59, 18, 70, 82, 62], [62, 73, 90, 70, 83], [17, 78, 6, 45, 63], [60, 90, 70, 59, 22], [59, 65, 10, 28, 37], [59, 45, 58, 62, 18], [7, 66, 33, 70, 54], [54, 70, 62, 59, 25], [25, 17, 63, 70, 37], [26, 78, 29, 65, 4], [78, 14, 37, 26, 25], [83, 54, 70, 59, 62], [59, 83, 45, 62, 16], [70, 18, 45, 59, 83], [83, 18, 16, 59, 62], [59, 45, 62, 70, 18], [10, 91, 20, 48, 65], [59, 45, 37, 78, 64], [54, 19, 50, 7, 70], [59, 54, 70, 33, 78], [59, 83, 82, 18, 70], [54, 18, 16, 70, 62], [70, 33, 83, 38, 59], [45, 59, 78, 62, 13], [18, 10, 99, 87, 28], [28, 62, 91, 10, 78], [59, 37, 64, 47, 70], [59, 24, 89, 45, 62], [59, 62, 70, 37, 50], [33, 37, 78, 10, 70], [18, 62, 54, 63, 59], [70, 59, 18, 62, 6], [34, 26, 7, 17, 37], [70, 59, 62, 33, 45], [59, 83, 60, 70, 54], [34, 83, 64, 37, 73], [70, 16, 83, 60, 54], [45, 38, 18, 59, 78], [33, 70, 17, 19, 60], [48, 90, 10, 37, 69], [54, 34, 89, 60, 20], [74, 42, 86, 90, 50], [10, 48, 4, 60, 28], [60, 90, 6, 42, 69], [54, 83, 59, 70, 25], [89, 41, 73, 18, 16], [60, 70, 38, 33, 54], [54, 83, 26, 17, 7], [60, 7, 25, 70, 34], [60, 50, 1, 34, 54], [70, 33, 60, 38, 36], [1, 63, 48, 64, 7], [22, 64, 60, 18, 13], [64, 33, 70, 17, 54], [60, 54, 34, 18, 83], [60, 89, 34, 69, 6], [70, 6, 62, 60, 59], [42, 50, 71, 46, 47], [60, 5, 24, 33, 7], [73, 20, 64, 50, 47], [60, 10, 18, 54, 73], [64, 54, 66, 17, 38], [73, 20, 86, 37, 10], [60, 42, 5, 25, 32], [64, 54, 60, 59, 83], [33, 90, 70, 54, 7], [50, 90, 60, 36, 7], [70, 54, 16, 58, 83], [60, 34, 89, 73, 25], [62, 42, 18, 70, 33], [54, 10, 34, 33, 37], [62, 70, 33, 38, 24], [34, 60, 25, 83, 54], [60, 16, 54, 70, 83], [18, 89, 26, 59, 73], [60, 7, 19, 33, 10], [36, 60, 34, 17, 7], [90, 25, 7, 26, 64], [46, 50, 7, 60, 25], [34, 60, 26, 6, 66], [60, 72, 33, 7, 53], [89, 24, 59, 43, 79], [64, 54, 60, 34, 70], [70, 47, 59, 58, 60], [37, 17, 36, 70, 78], [26, 90, 91, 7, 34], [54, 83, 64, 60, 7], [73, 5, 38, 1, 32], [33, 54, 7, 11, 66], [41, 64, 42, 47, 54], [4, 88, 22, 8, 13], [60, 7, 65, 47, 50], [7, 36, 89, 37, 69], [54, 60, 70, 59, 83], [34, 60, 7, 91, 36], [7, 65, 47, 48, 58], [73, 25, 54, 86, 82], [7, 60, 89, 24, 25], [7, 60, 54, 34, 1], [34, 60, 90, 89, 7], [59, 60, 47, 16, 18], [60, 70, 54, 33, 7], [54, 86, 7, 55, 65], [90, 60, 34, 1, 11], [90, 34, 60, 33, 6], [60, 34, 89, 36, 73], [37, 36, 34, 78, 14], [60, 5, 7, 34, 89], [6, 34, 33, 17, 60], [35, 22, 57, 55, 1], [90, 7, 48, 37, 20], [54, 7, 60, 16, 70], [60, 34, 7, 22, 33], [16, 70, 60, 54, 83], [54, 7, 64, 25, 74], [91, 58, 20, 47, 28], [89, 36, 10, 37, 24], [60, 5, 33, 36, 0], [83, 82, 89, 16, 64], [95, 33, 67, 19, 4], [36, 7, 60, 25, 26], [1, 7, 57, 63, 22], [25, 34, 73, 60, 7], [59, 16, 83, 7, 70], [41, 64, 90, 83, 54], [70, 59, 83, 18, 60], [90, 64, 34, 11, 74], [60, 34, 90, 25, 73], [60, 89, 90, 70, 73], [7, 86, 36, 87, 66], [60, 32, 5, 34, 42], [34, 60, 54, 7, 42], [60, 89, 34, 54, 5], [54, 58, 70, 50, 7], [60, 7, 34, 66, 1], [22, 34, 1, 48, 14], [37, 70, 83, 16, 60], [4, 57, 84, 50, 35], [61, 35, 24, 79, 44], [61, 32, 67, 85, 0], [29, 35, 55, 79, 80], [61, 19, 52, 24, 32], [61, 32, 67, 82, 50], [94, 61, 5, 38, 62], [38, 62, 18, 41, 5], [61, 11, 35, 80, 49], [61, 4, 32, 67, 73], [89, 84, 68, 24, 85], [87, 61, 81, 15, 32], [88, 49, 4, 14, 50], [61, 35, 24, 79, 44], [5, 32, 94, 71, 61], [24, 35, 61, 19, 79], [61, 94, 62, 5, 53], [24, 79, 35, 61, 52], [61, 32, 67, 19, 99], [19, 52, 79, 24, 61], [67, 32, 71, 61, 0], [35, 61, 98, 36, 68], [61, 79, 35, 24, 92], [30, 24, 74, 99, 61], [32, 55, 99, 42, 49], [61, 35, 81, 79, 52], [61, 24, 44, 35, 79], [61, 35, 0, 24, 67], [61, 35, 4, 57, 87], [57, 61, 35, 68, 32], [61, 96, 35, 79, 81], [32, 61, 71, 42, 5], [82, 73, 32, 61, 30], [94, 62, 61, 68, 97], [24, 79, 52, 61, 49], [35, 79, 42, 5, 24], [61, 97, 68, 98, 35], [61, 32, 67, 35, 49], [32, 67, 99, 61, 31], [61, 32, 67, 0, 85], [61, 32, 67, 57, 98], [61, 32, 40, 0, 85], [5, 61, 24, 79, 56], [57, 49, 61, 55, 98], [32, 61, 71, 5, 94], [79, 0, 92, 49, 57], [61, 30, 39, 83, 43], [61, 5, 2, 32, 94], [94, 5, 61, 32, 62], [61, 19, 67, 32, 35], [98, 68, 32, 97, 67], [94, 38, 61, 62, 5], [49, 35, 61, 67, 57], [61, 32, 67, 30, 40], [61, 30, 35, 32, 0], [40, 30, 77, 21, 68], [61, 32, 46, 79, 30], [55, 53, 35, 79, 61], [61, 35, 32, 24, 0], [32, 67, 71, 94, 61], [61, 24, 98, 79, 35], [61, 35, 4, 32, 67], [61, 67, 32, 19, 52], [85, 32, 24, 0, 71], [61, 32, 30, 67, 50], [4, 61, 57, 84, 35], [61, 32, 67, 71, 0], [24, 67, 81, 79, 19], [61, 53, 44, 35, 79], [61, 32, 67, 52, 19], [19, 61, 52, 24, 67], [61, 52, 35, 39, 79], [55, 79, 43, 35, 98], [61, 82, 67, 32, 30], [79, 24, 52, 92, 35], [31, 82, 61, 67, 19], [61, 56, 66, 11, 67], [61, 18, 32, 71, 42], [42, 24, 32, 4, 85], [61, 32, 0, 67, 24], [61, 35, 19, 52, 67], [36, 31, 82, 19, 50], [61, 32, 67, 0, 85], [61, 94, 62, 5, 53], [61, 32, 62, 18, 38], [61, 55, 39, 86, 32], [61, 79, 24, 52, 35], [61, 66, 95, 81, 23], [61, 24, 85, 0, 35], [61, 53, 32, 73, 5], [35, 98, 55, 68, 97], [61, 98, 55, 57, 35], [29, 9, 68, 80, 57], [32, 67, 0, 71, 94], [61, 32, 67, 49, 35], [57, 9, 35, 68, 80], [94, 70, 62, 68, 97], [61, 24, 35, 73, 79], [21, 65, 94, 99, 3], [61, 50, 15, 32, 53], [68, 98, 57, 4, 29], [63, 37, 72, 65, 27], [70, 7, 54, 33, 37], [62, 45, 70, 33, 38], [62, 70, 59, 18, 45], [18, 62, 45, 8, 38], [18, 62, 6, 54, 17], [54, 18, 62, 20, 45], [26, 28, 10, 65, 6], [41, 18, 63, 62, 6], [62, 18, 70, 63, 16], [62, 18, 89, 37, 82], [18, 54, 45, 62, 89], [18, 45, 62, 59, 89], [18, 16, 62, 70, 54], [16, 18, 70, 10, 62], [63, 45, 62, 18, 78], [18, 54, 83, 16, 62], [18, 62, 16, 46, 54], [38, 45, 18, 62, 70], [18, 62, 70, 16, 38], [58, 33, 86, 14, 74], [28, 78, 34, 48, 91], [34, 64, 7, 21, 47], [38, 62, 45, 25, 64], [62, 63, 18, 45, 58], [38, 64, 70, 54, 18], [63, 25, 18, 34, 64], [62, 18, 45, 78, 17], [16, 62, 70, 37, 78], [62, 45, 18, 63, 70], [62, 18, 45, 38, 70], [58, 28, 10, 69, 33], [70, 17, 78, 37, 62], [45, 63, 62, 78, 37], [62, 63, 18, 17, 78], [18, 99, 40, 62, 21], [62, 45, 18, 59, 63], [45, 70, 62, 18, 78], [62, 70, 33, 45, 18], [62, 63, 18, 45, 78], [18, 62, 70, 54, 45], [64, 16, 18, 70, 83], [78, 11, 41, 13, 18], [89, 63, 37, 62, 69], [6, 62, 18, 69, 63], [18, 70, 64, 38, 54], [48, 10, 33, 58, 28], [70, 14, 6, 47, 58], [54, 58, 4, 66, 33], [33, 78, 58, 37, 65], [70, 37, 89, 45, 62], [70, 62, 54, 33, 18], [18, 62, 45, 28, 78], [41, 63, 42, 69, 6], [18, 62, 45, 70, 59], [62, 63, 38, 41, 78], [70, 37, 78, 65, 62], [62, 18, 70, 45, 33], [41, 73, 50, 90, 37], [41, 83, 64, 25, 18], [7, 48, 14, 63, 37], [58, 33, 74, 28, 20], [63, 50, 34, 37, 17], [18, 41, 62, 46, 63], [89, 18, 62, 45, 24], [86, 64, 58, 14, 54], [18, 62, 16, 70, 83], [33, 45, 58, 62, 10], [18, 62, 45, 6, 10], [18, 62, 70, 38, 33], [58, 33, 28, 91, 65], [18, 89, 34, 6, 62], [37, 69, 63, 33, 70], [62, 45, 18, 63, 70], [18, 62, 46, 63, 45], [70, 62, 54, 59, 18], [45, 58, 37, 33, 54], [50, 62, 70, 47, 45], [69, 70, 37, 14, 4], [73, 37, 78, 74, 20], [62, 54, 18, 70, 45], [41, 11, 63, 69, 42], [62, 70, 45, 17, 18], [12, 63, 62, 18, 83], [18, 83, 16, 62, 70], [62, 18, 45, 63, 70], [18, 62, 63, 78, 37], [38, 33, 70, 62, 18], [18, 62, 54, 70, 33], [10, 20, 37, 7, 91], [70, 46, 54, 59, 47], [55, 62, 86, 54, 39], [18, 62, 89, 41, 46], [45, 28, 89, 34, 26], [62, 45, 89, 86, 69], [78, 38, 33, 58, 14], [47, 37, 50, 26, 82], [62, 18, 38, 45, 63], [26, 28, 10, 18, 78], [37, 58, 78, 65, 33], [36, 34, 10, 37, 60], [11, 90, 14, 63, 41], [14, 88, 42, 63, 32], [41, 89, 6, 74, 24], [8, 14, 26, 11, 88], [25, 7, 34, 65, 37], [34, 63, 50, 60, 26], [61, 5, 53, 32, 94], [63, 1, 22, 48, 34], [37, 90, 70, 20, 89], [37, 70, 10, 20, 78], [83, 99, 7, 42, 54], [34, 14, 7, 8, 49], [78, 11, 69, 66, 49], [90, 73, 41, 78, 11], [99, 49, 18, 83, 27], [37, 89, 60, 10, 95], [63, 78, 8, 48, 37], [11, 22, 13, 90, 41], [96, 39, 86, 55, 54], [4, 88, 28, 21, 14], [70, 14, 78, 45, 37], [41, 63, 73, 90, 37], [64, 83, 41, 63, 73], [11, 86, 14, 8, 88], [63, 34, 69, 50, 37], [48, 78, 13, 17, 63], [37, 10, 20, 48, 78], [50, 90, 53, 73, 89], [92, 13, 69, 45, 63], [34, 63, 12, 17, 65], [25, 37, 63, 65, 89], [7, 63, 69, 82, 89], [58, 36, 54, 33, 37], [50, 37, 26, 10, 20], [64, 11, 83, 69, 90], [63, 11, 42, 41, 46], [63, 34, 26, 48, 7], [64, 90, 50, 42, 60], [73, 25, 7, 70, 74], [63, 90, 69, 1, 11], [63, 41, 14, 89, 74], [12, 34, 4, 90, 88], [63, 18, 62, 6, 17], [78, 37, 25, 83, 73], [10, 37, 7, 54, 65], [78, 7, 65, 26, 37], [6, 62, 70, 45, 17], [64, 83, 70, 16, 90], [63, 62, 78, 32, 42], [63, 37, 69, 78, 14], [25, 90, 63, 41, 37], [78, 48, 92, 13, 12], [63, 38, 99, 11, 42], [90, 37, 25, 89, 60], [8, 89, 14, 63, 42], [8, 78, 13, 14, 48], [62, 78, 70, 63, 11], [34, 37, 86, 89, 26], [63, 78, 14, 48, 65], [74, 89, 34, 69, 20], [34, 26, 63, 50, 5], [11, 16, 83, 13, 42], [92, 77, 96, 55, 86], [1, 90, 89, 7, 63], [22, 42, 14, 20, 37], [63, 59, 62, 70, 37], [26, 25, 34, 63, 48], [48, 1, 63, 90, 37], [42, 71, 41, 69, 63], [46, 42, 21, 83, 12], [1, 90, 48, 0, 88], [89, 54, 45, 7, 70], [46, 42, 83, 99, 95], [20, 42, 48, 91, 7], [64, 38, 41, 46, 89], [54, 16, 41, 89, 18], [70, 62, 45, 37, 59], [63, 41, 11, 42, 1], [34, 50, 37, 48, 26], [7, 86, 65, 74, 14], [61, 5, 94, 62, 53], [5, 42, 2, 63, 69], [17, 18, 83, 16, 6], [63, 78, 48, 10, 14], [7, 50, 47, 37, 48], [90, 63, 1, 41, 48], [27, 12, 19, 77, 46], [58, 74, 37, 48, 22], [89, 41, 63, 10, 37], [48, 65, 50, 10, 37], [63, 11, 42, 99, 46], [22, 48, 14, 91, 88], [41, 90, 63, 69, 26], [78, 48, 10, 37, 33], [63, 62, 78, 45, 37], [45, 62, 78, 63, 37], [34, 26, 63, 65, 37], [11, 13, 33, 58, 22], [63, 41, 90, 1, 6], [83, 89, 34, 5, 6], [64, 26, 10, 33, 8], [64, 34, 90, 60, 83], [14, 42, 88, 64, 8], [25, 34, 70, 17, 59], [64, 48, 91, 7, 1], [33, 58, 54, 66, 11], [64, 90, 41, 63, 69], [82, 64, 90, 83, 47], [48, 1, 63, 90, 50], [64, 83, 70, 34, 16], [54, 7, 4, 69, 33], [7, 54, 26, 48, 34], [70, 60, 59, 7, 6], [64, 34, 83, 63, 70], [42, 83, 34, 82, 89], [64, 34, 63, 66, 11], [64, 47, 83, 34, 73], [63, 7, 42, 39, 38], [41, 18, 16, 64, 83], [91, 90, 65, 26, 28], [83, 64, 16, 73, 47], [64, 34, 6, 89, 37], [64, 18, 41, 38, 63], [4, 66, 55, 41, 69], [41, 64, 12, 24, 89], [45, 14, 7, 78, 13], [41, 63, 64, 14, 66], [48, 65, 1, 26, 91], [70, 50, 64, 54, 89], [83, 85, 64, 6, 16], [37, 69, 89, 17, 4], [64, 34, 17, 18, 63], [64, 12, 89, 60, 83], [41, 90, 64, 60, 1], [17, 64, 70, 38, 58], [34, 37, 22, 11, 70], [33, 58, 65, 86, 48], [54, 64, 70, 39, 86], [64, 87, 83, 25, 15], [95, 88, 14, 8, 47], [26, 70, 47, 37, 39], [34, 83, 17, 54, 64], [73, 50, 64, 34, 90], [64, 54, 83, 26, 7], [64, 54, 34, 83, 70], [64, 34, 83, 54, 26], [22, 4, 14, 8, 19], [64, 66, 83, 17, 95], [6, 17, 34, 70, 33], [4, 75, 90, 48, 1], [64, 34, 88, 58, 4], [23, 33, 20, 88, 58], [64, 8, 38, 11, 42], [7, 86, 99, 58, 65], [64, 46, 38, 89, 25], [45, 64, 38, 83, 70], [64, 34, 70, 63, 20], [4, 14, 88, 8, 22], [70, 33, 54, 34, 90], [83, 54, 16, 89, 60], [64, 34, 54, 58, 10], [64, 83, 16, 60, 42], [22, 34, 17, 7, 38], [65, 7, 91, 47, 87], [88, 13, 8, 56, 14], [34, 22, 90, 91, 48], [89, 20, 14, 6, 41], [11, 14, 90, 37, 69], [41, 34, 11, 60, 42], [64, 82, 8, 85, 88], [64, 88, 12, 73, 83], [48, 37, 65, 75, 50], [64, 54, 86, 82, 83], [64, 34, 90, 20, 69], [64, 34, 58, 26, 10], [38, 45, 63, 25, 78], [64, 11, 38, 42, 66], [50, 37, 58, 42, 6], [70, 37, 33, 69, 64], [89, 42, 83, 90, 73], [69, 11, 42, 64, 7], [64, 34, 8, 83, 82], [82, 76, 64, 12, 99], [83, 64, 60, 34, 73], [64, 83, 54, 1, 7], [83, 64, 85, 89, 34], [83, 16, 18, 70, 62], [11, 83, 17, 88, 54], [83, 54, 60, 34, 16], [49, 83, 33, 70, 16], [64, 34, 41, 60, 83], [64, 7, 26, 63, 1], [54, 41, 69, 70, 83], [7, 64, 79, 43, 24], [26, 10, 37, 89, 49], [23, 26, 47, 56, 73], [64, 63, 42, 38, 66], [83, 64, 16, 4, 15], [83, 64, 54, 47, 16], [32, 0, 71, 67, 85], [65, 48, 91, 28, 34], [42, 5, 24, 79, 71], [91, 28, 65, 4, 10], [86, 65, 42, 55, 13], [74, 7, 34, 15, 86], [65, 78, 48, 86, 26], [73, 34, 21, 65, 32], [65, 86, 66, 74, 14], [26, 65, 91, 28, 34], [39, 86, 26, 7, 50], [65, 26, 91, 48, 34], [65, 55, 49, 48, 91], [91, 65, 21, 28, 99], [27, 7, 86, 72, 58], [26, 65, 10, 28, 91], [7, 91, 28, 3, 65], [34, 4, 21, 29, 49], [65, 91, 21, 28, 10], [1, 63, 13, 48, 42], [65, 50, 73, 74, 90], [62, 70, 24, 78, 37], [65, 48, 47, 28, 25], [86, 58, 65, 74, 28], [65, 21, 77, 74, 12], [65, 49, 48, 55, 42], [65, 91, 28, 10, 48], [4, 88, 33, 58, 86], [65, 48, 37, 86, 90], [65, 48, 3, 1, 32], [50, 34, 47, 82, 26], [65, 48, 28, 91, 10], [91, 65, 10, 28, 48], [10, 26, 91, 28, 4], [65, 86, 24, 35, 55], [91, 28, 48, 65, 10], [75, 87, 2, 90, 30], [65, 21, 42, 99, 48], [48, 65, 78, 50, 1], [10, 7, 92, 65, 86], [34, 5, 42, 0, 32], [74, 7, 27, 46, 56], [26, 65, 7, 55, 96], [20, 91, 28, 10, 37], [34, 66, 48, 91, 26], [65, 91, 28, 48, 21], [58, 86, 74, 65, 27], [26, 10, 89, 65, 28], [65, 28, 91, 58, 26], [74, 26, 34, 86, 65], [65, 21, 50, 42, 48], [14, 20, 34, 37, 89], [47, 94, 65, 71, 42], [50, 32, 73, 47, 67], [70, 45, 89, 42, 86], [34, 26, 28, 14, 4], [86, 7, 55, 39, 74], [65, 21, 91, 28, 10], [65, 91, 86, 28, 48], [7, 10, 26, 65, 36], [65, 26, 91, 28, 34], [65, 48, 90, 50, 1], [50, 47, 7, 37, 72], [65, 28, 91, 26, 21], [40, 34, 91, 26, 10], [26, 47, 65, 20, 86], [34, 28, 87, 21, 8], [4, 21, 84, 34, 91], [8, 49, 78, 13, 14], [55, 92, 77, 49, 10], [91, 65, 48, 28, 26], [82, 40, 99, 27, 74], [65, 28, 91, 21, 48], [21, 99, 65, 12, 40], [21, 91, 10, 65, 55], [65, 21, 99, 46, 42], [21, 48, 77, 10, 91], [65, 91, 48, 21, 28], [87, 65, 75, 31, 48], [65, 48, 24, 1, 94], [91, 65, 40, 21, 28], [58, 65, 48, 33, 7], [33, 38, 13, 6, 48], [65, 91, 21, 28, 3], [86, 96, 55, 7, 21], [26, 65, 28, 91, 10], [50, 73, 36, 47, 82], [21, 65, 91, 99, 28], [65, 42, 34, 11, 63], [94, 2, 49, 71, 65], [94, 62, 61, 5, 18], [14, 22, 48, 37, 49], [26, 86, 55, 43, 96], [47, 65, 87, 74, 73], [26, 65, 90, 10, 91], [65, 21, 99, 28, 48], [26, 86, 55, 10, 28], [26, 28, 21, 91, 65], [26, 65, 86, 34, 36], [91, 28, 10, 65, 21], [66, 23, 34, 14, 11], [66, 6, 69, 74, 37], [34, 65, 7, 91, 86], [15, 86, 55, 29, 79], [66, 11, 95, 23, 69], [88, 69, 4, 14, 3], [23, 66, 1, 90, 91], [66, 23, 34, 64, 95], [63, 66, 64, 11, 42], [66, 42, 23, 11, 7], [58, 33, 86, 11, 65], [23, 7, 69, 66, 14], [66, 95, 11, 56, 23], [70, 33, 37, 14, 34], [72, 66, 23, 87, 46], [66, 54, 15, 57, 58], [66, 6, 64, 90, 41], [96, 55, 80, 49, 98], [34, 7, 48, 60, 37], [34, 26, 90, 91, 28], [34, 66, 69, 7, 26], [66, 1, 42, 7, 32], [66, 69, 23, 10, 7], [66, 11, 46, 58, 33], [66, 23, 11, 33, 69], [23, 7, 66, 1, 33], [66, 34, 11, 65, 95], [66, 23, 11, 87, 29], [66, 23, 7, 47, 65], [66, 7, 1, 65, 23], [66, 47, 46, 50, 42], [66, 58, 64, 1, 11], [48, 8, 88, 34, 22], [11, 66, 33, 15, 58], [88, 8, 11, 23, 66], [66, 95, 58, 11, 33], [34, 66, 47, 14, 23], [66, 7, 1, 23, 69], [7, 33, 66, 58, 70], [66, 23, 11, 1, 69], [11, 33, 66, 14, 34], [66, 11, 6, 34, 33], [4, 22, 88, 66, 14], [95, 11, 66, 86, 7], [34, 6, 48, 66, 63], [66, 23, 75, 11, 26], [11, 95, 66, 15, 69], [66, 23, 11, 95, 47], [66, 23, 8, 95, 88], [23, 66, 1, 11, 7], [64, 34, 20, 17, 63], [66, 23, 88, 7, 1], [34, 23, 66, 6, 14], [66, 11, 33, 6, 17], [66, 74, 41, 25, 63], [66, 42, 69, 11, 32], [54, 64, 70, 50, 6], [56, 66, 74, 23, 70], [66, 23, 95, 11, 70], [66, 23, 42, 11, 47], [66, 34, 64, 23, 14], [54, 33, 70, 83, 17], [1, 48, 91, 75, 22], [11, 91, 90, 33, 22], [8, 14, 36, 88, 7], [66, 95, 11, 34, 23], [66, 33, 64, 54, 23], [21, 27, 4, 99, 46], [65, 34, 66, 26, 48], [95, 66, 62, 78, 11], [66, 95, 88, 86, 23], [34, 54, 7, 58, 10], [14, 8, 66, 11, 32], [90, 41, 69, 6, 42], [87, 33, 8, 2, 58], [66, 23, 89, 95, 37], [65, 26, 34, 36, 86], [21, 30, 99, 51, 74], [58, 70, 37, 62, 33], [37, 17, 78, 70, 48], [7, 66, 48, 10, 34], [58, 54, 33, 70, 6], [31, 74, 94, 75, 99], [23, 66, 11, 95, 88], [50, 34, 66, 6, 47], [8, 66, 49, 32, 11], [1, 90, 91, 48, 7], [66, 23, 11, 49, 88], [7, 66, 87, 8, 48], [66, 23, 87, 8, 95], [58, 4, 66, 55, 15], [66, 20, 65, 23, 34], [66, 34, 48, 23, 13], [58, 33, 66, 7, 54], [66, 23, 69, 7, 67], [66, 47, 23, 37, 46], [90, 50, 74, 72, 7], [88, 11, 34, 8, 66], [38, 70, 61, 18, 42], [14, 11, 5, 8, 13], [0, 32, 71, 67, 42], [32, 67, 0, 71, 42], [94, 32, 38, 61, 67], [96, 92, 29, 21, 77], [3, 21, 49, 94, 30], [32, 71, 67, 42, 0], [94, 3, 24, 71, 79], [5, 0, 32, 67, 42], [94, 38, 61, 62, 5], [42, 5, 0, 32, 30], [21, 65, 99, 3, 31], [30, 96, 40, 98, 21], [24, 47, 19, 81, 32], [21, 73, 3, 32, 99], [24, 5, 50, 39, 32], [32, 67, 61, 71, 39], [42, 71, 67, 32, 0], [94, 5, 62, 32, 85], [32, 67, 61, 39, 19], [94, 32, 67, 71, 52], [5, 94, 71, 61, 32], [21, 77, 42, 46, 68], [94, 5, 32, 61, 38], [5, 0, 24, 32, 85], [32, 71, 67, 94, 49], [31, 67, 42, 99, 71], [42, 94, 67, 86, 39], [29, 68, 9, 97, 85], [5, 61, 53, 94, 62], [94, 67, 71, 32, 49], [42, 67, 31, 47, 32], [94, 5, 32, 38, 62], [0, 32, 67, 71, 94], [94, 61, 62, 5, 38], [42, 32, 67, 2, 71], [42, 61, 5, 32, 71], [42, 99, 46, 32, 71], [50, 67, 32, 19, 81], [61, 32, 67, 71, 85], [94, 67, 32, 71, 3], [67, 30, 32, 0, 71], [49, 61, 24, 76, 32], [32, 61, 67, 94, 71], [89, 0, 5, 32, 94], [67, 32, 71, 0, 42], [5, 94, 53, 71, 61], [4, 87, 3, 35, 2], [94, 32, 67, 71, 42], [61, 32, 71, 5, 42], [94, 67, 32, 47, 50], [49, 99, 46, 31, 42], [71, 32, 0, 67, 49], [53, 5, 32, 50, 94], [32, 5, 94, 71, 67], [61, 94, 67, 71, 32], [93, 4, 35, 61, 57], [31, 67, 32, 42, 94], [5, 0, 32, 71, 24], [94, 67, 32, 31, 71], [0, 32, 71, 67, 5], [28, 65, 91, 4, 21], [32, 67, 94, 31, 98], [71, 32, 67, 49, 0], [94, 61, 5, 32, 53], [32, 61, 71, 42, 38], [30, 86, 39, 32, 99], [94, 61, 32, 24, 71], [39, 32, 67, 71, 42], [61, 94, 62, 5, 32], [61, 5, 24, 71, 94], [46, 42, 99, 73, 49], [21, 24, 82, 30, 89], [26, 65, 28, 3, 10], [94, 32, 5, 61, 73], [24, 52, 79, 35, 8], [94, 32, 5, 61, 67], [71, 67, 32, 40, 94], [94, 32, 71, 67, 61], [89, 26, 96, 5, 86], [94, 67, 32, 71, 39], [94, 71, 67, 32, 42], [85, 3, 39, 40, 96], [71, 32, 42, 67, 0], [32, 67, 71, 0, 61], [32, 42, 67, 0, 36], [68, 98, 4, 29, 97], [32, 67, 61, 71, 0], [5, 0, 32, 24, 85], [94, 67, 32, 71, 42], [32, 71, 42, 67, 0], [99, 42, 46, 32, 24], [32, 67, 21, 42, 99], [94, 61, 62, 38, 32], [67, 32, 71, 0, 49], [24, 61, 5, 76, 32], [5, 32, 42, 71, 82], [0, 24, 32, 47, 39], [42, 71, 67, 50, 32], [32, 0, 67, 71, 61], [67, 32, 94, 71, 31], [68, 29, 97, 98, 9], [24, 79, 43, 55, 5], [61, 35, 68, 98, 79], [68, 98, 97, 57, 9], [68, 29, 98, 84, 97], [2, 44, 29, 97, 55], [57, 55, 68, 29, 35], [97, 68, 29, 98, 51], [68, 97, 29, 98, 44], [57, 68, 98, 35, 81], [55, 98, 68, 35, 57], [68, 57, 43, 98, 97], [44, 97, 9, 98, 55], [43, 79, 97, 5, 24], [97, 68, 9, 98, 40], [98, 68, 97, 57, 29], [29, 68, 97, 98, 9], [68, 57, 29, 97, 98], [31, 94, 68, 67, 97], [68, 80, 98, 97, 29], [29, 97, 98, 68, 9], [98, 68, 97, 40, 57], [57, 68, 84, 97, 98], [68, 67, 32, 0, 71], [68, 77, 97, 98, 32], [36, 35, 57, 68, 27], [5, 97, 68, 9, 24], [35, 57, 61, 68, 98], [55, 98, 40, 97, 68], [29, 97, 68, 9, 98], [68, 97, 57, 55, 98], [29, 35, 68, 55, 9], [55, 79, 35, 52, 24], [77, 68, 5, 97, 98], [24, 79, 67, 55, 93], [57, 68, 84, 18, 62], [98, 68, 29, 97, 9], [8, 97, 68, 29, 56], [68, 98, 97, 40, 77], [5, 24, 61, 68, 97], [98, 68, 55, 97, 43], [68, 98, 97, 35, 77], [57, 98, 84, 68, 30], [68, 98, 97, 55, 77], [68, 4, 29, 57, 97], [57, 68, 97, 98, 35], [55, 92, 98, 68, 97], [68, 98, 97, 29, 9], [29, 42, 86, 2, 21], [61, 94, 5, 68, 32], [68, 98, 97, 29, 77], [57, 4, 68, 98, 97], [68, 97, 98, 29, 77], [40, 44, 29, 9, 97], [68, 97, 35, 61, 24], [35, 27, 57, 19, 79], [44, 35, 98, 68, 97], [68, 97, 55, 77, 12], [68, 97, 57, 98, 81], [68, 98, 97, 57, 43], [68, 97, 98, 29, 4], [96, 29, 9, 68, 98], [44, 9, 40, 97, 35], [29, 68, 97, 98, 43], [98, 68, 55, 4, 97], [98, 55, 49, 40, 96], [43, 55, 65, 86, 96], [74, 30, 32, 27, 21], [96, 74, 40, 92, 76], [57, 81, 53, 68, 24], [68, 97, 98, 29, 57], [68, 29, 97, 53, 77], [40, 85, 5, 30, 32], [68, 29, 97, 84, 9], [68, 98, 97, 29, 77], [55, 29, 68, 35, 9], [68, 97, 98, 43, 27], [94, 5, 68, 61, 77], [68, 98, 97, 29, 9], [43, 68, 98, 29, 55], [5, 68, 85, 97, 77], [50, 53, 47, 73, 72], [68, 29, 35, 97, 61], [97, 9, 68, 98, 29], [57, 4, 68, 84, 53], [57, 80, 68, 35, 98], [5, 61, 97, 9, 68], [61, 94, 62, 68, 97], [68, 77, 98, 97, 35], [98, 68, 97, 77, 29], [97, 40, 9, 68, 29], [68, 97, 29, 9, 35], [29, 9, 68, 80, 49], [61, 62, 53, 94, 68], [61, 35, 67, 80, 49], [29, 9, 68, 97, 98], [68, 98, 97, 85, 29], [68, 35, 55, 96, 98], [53, 44, 61, 81, 9], [68, 98, 29, 97, 55], [88, 64, 66, 14, 8], [7, 10, 69, 47, 48], [98, 4, 57, 55, 68], [34, 73, 50, 47, 65], [90, 6, 1, 69, 34], [6, 33, 70, 23, 17], [38, 33, 70, 54, 13], [88, 89, 69, 37, 0], [6, 66, 33, 54, 4], [37, 49, 4, 10, 78], [50, 1, 48, 63, 90], [75, 30, 96, 74, 82], [50, 48, 37, 1, 69], [79, 24, 92, 74, 27], [37, 59, 14, 63, 39], [41, 69, 63, 6, 11], [77, 11, 66, 58, 74], [58, 39, 33, 54, 86], [32, 0, 67, 71, 82], [47, 34, 26, 64, 50], [7, 60, 1, 42, 54], [19, 37, 7, 10, 78], [90, 38, 7, 33, 60], [6, 34, 69, 26, 54], [6, 66, 69, 11, 75], [6, 20, 37, 69, 34], [86, 96, 4, 99, 10], [10, 26, 20, 37, 34], [96, 2, 30, 39, 86], [8, 2, 96, 76, 18], [20, 58, 74, 28, 34], [91, 28, 65, 48, 87], [65, 47, 34, 28, 91], [90, 1, 65, 34, 48], [48, 13, 38, 11, 66], [12, 34, 83, 85, 20], [69, 11, 14, 48, 42], [55, 53, 79, 43, 7], [45, 78, 89, 8, 14], [83, 54, 26, 34, 17], [10, 69, 48, 20, 65], [34, 74, 73, 64, 28], [70, 37, 42, 7, 82], [49, 72, 19, 88, 27], [86, 42, 2, 39, 29], [7, 86, 34, 63, 17], [6, 69, 1, 66, 63], [21, 77, 7, 12, 92], [65, 34, 7, 1, 91], [42, 41, 63, 89, 69], [78, 58, 33, 28, 48], [54, 70, 45, 62, 33], [65, 3, 39, 74, 27], [3, 4, 88, 98, 49], [7, 24, 79, 19, 55], [10, 37, 28, 83, 78], [48, 65, 78, 1, 37], [42, 37, 49, 48, 65], [10, 4, 80, 69, 37], [7, 69, 1, 90, 33], [15, 7, 87, 69, 1], [90, 69, 83, 37, 89], [26, 91, 48, 10, 28], [86, 27, 63, 39, 69], [6, 1, 69, 7, 66], [7, 48, 65, 37, 91], [17, 34, 78, 14, 10], [4, 10, 96, 77, 37], [90, 63, 1, 41, 34], [83, 33, 54, 70, 69], [34, 26, 66, 64, 6], [89, 10, 6, 69, 85], [41, 6, 73, 34, 89], [89, 86, 26, 7, 39], [89, 10, 69, 14, 41], [26, 34, 6, 54, 10], [5, 29, 0, 80, 49], [89, 27, 54, 63, 38], [36, 88, 72, 53, 47], [66, 23, 89, 69, 74], [6, 64, 69, 70, 34], [61, 5, 62, 73, 38], [81, 10, 37, 17, 48], [41, 14, 37, 90, 26], [18, 41, 25, 89, 62], [11, 69, 88, 66, 23], [63, 41, 42, 69, 89], [50, 41, 73, 34, 82], [18, 54, 70, 25, 37], [10, 6, 37, 69, 83], [7, 69, 66, 41, 37], [89, 83, 54, 16, 7], [7, 89, 23, 69, 24], [17, 14, 70, 37, 78], [48, 65, 47, 1, 91], [6, 69, 34, 89, 83], [41, 69, 11, 89, 63], [26, 10, 64, 34, 48], [63, 48, 50, 78, 65], [78, 37, 48, 14, 26], [54, 10, 26, 64, 70], [33, 70, 37, 78, 7], [18, 83, 6, 62, 63], [54, 70, 7, 33, 78], [33, 70, 54, 58, 60], [23, 66, 11, 17, 33], [11, 70, 17, 66, 37], [33, 37, 70, 78, 17], [70, 89, 62, 38, 33], [50, 37, 70, 78, 62], [38, 70, 64, 60, 63], [60, 54, 7, 70, 33], [70, 33, 54, 59, 62], [33, 37, 58, 65, 86], [70, 20, 62, 37, 14], [70, 62, 33, 54, 45], [59, 33, 64, 54, 58], [45, 70, 37, 62, 20], [38, 33, 70, 63, 58], [25, 62, 45, 73, 70], [70, 38, 45, 33, 37], [70, 18, 62, 45, 54], [23, 33, 70, 7, 54], [70, 69, 18, 59, 62], [59, 70, 42, 45, 32], [26, 54, 34, 10, 37], [70, 58, 33, 54, 38], [70, 16, 38, 18, 62], [78, 37, 74, 33, 70], [48, 37, 78, 10, 7], [62, 45, 18, 70, 58], [62, 54, 7, 33, 18], [25, 64, 34, 87, 88], [70, 38, 33, 62, 54], [70, 33, 62, 54, 17], [86, 73, 99, 82, 65], [70, 38, 18, 33, 16], [62, 18, 70, 54, 45], [85, 89, 83, 88, 32], [6, 48, 63, 34, 17], [70, 54, 62, 18, 16], [38, 70, 62, 33, 45], [33, 58, 70, 7, 54], [54, 33, 60, 7, 70], [45, 70, 37, 78, 18], [33, 70, 38, 37, 58], [33, 54, 70, 7, 38], [62, 70, 46, 37, 63], [54, 59, 60, 83, 70], [25, 37, 78, 63, 48], [24, 58, 62, 39, 70], [54, 18, 83, 10, 34], [37, 70, 7, 78, 10], [70, 25, 37, 45, 62], [62, 18, 45, 70, 37], [26, 10, 37, 17, 34], [45, 89, 62, 42, 70], [62, 37, 7, 65, 17], [83, 64, 54, 58, 70], [70, 54, 33, 16, 38], [70, 54, 18, 59, 33], [70, 54, 59, 38, 47], [70, 54, 7, 33, 58], [28, 26, 65, 78, 18], [18, 41, 69, 42, 11], [70, 38, 63, 59, 90], [62, 45, 70, 38, 33], [63, 48, 6, 33, 64], [70, 33, 62, 38, 54], [54, 33, 58, 70, 83], [8, 83, 64, 73, 59], [6, 26, 10, 17, 34], [70, 33, 7, 38, 58], [66, 64, 34, 54, 17], [33, 70, 37, 17, 10], [70, 38, 54, 33, 7], [70, 33, 58, 19, 72], [38, 33, 54, 70, 64], [70, 20, 37, 33, 59], [33, 70, 37, 58, 17], [70, 64, 38, 54, 17], [42, 25, 60, 43, 46], [63, 34, 37, 6, 64], [7, 33, 38, 70, 48], [62, 70, 45, 33, 18], [33, 70, 62, 37, 78], [34, 11, 13, 26, 10], [79, 19, 24, 43, 37], [33, 21, 74, 6, 58], [33, 70, 58, 66, 11], [18, 16, 83, 62, 63], [73, 34, 26, 50, 37], [62, 61, 18, 94, 38], [34, 17, 64, 20, 70], [62, 45, 70, 63, 17], [78, 37, 10, 65, 20], [62, 83, 18, 63, 54], [33, 6, 17, 70, 62], [38, 62, 63, 18, 70], [6, 70, 18, 62, 17], [32, 0, 67, 71, 42], [26, 5, 32, 49, 94], [5, 32, 42, 71, 62], [15, 87, 71, 42, 32], [92, 49, 79, 55, 2], [85, 68, 97, 2, 47], [32, 5, 42, 67, 71], [56, 2, 84, 88, 34], [10, 26, 28, 34, 91], [61, 62, 94, 5, 18], [31, 99, 42, 71, 47], [0, 32, 71, 49, 42], [32, 67, 0, 71, 42], [32, 0, 71, 67, 42], [71, 42, 32, 0, 67], [32, 61, 67, 71, 42], [79, 24, 76, 9, 55], [49, 24, 71, 0, 5], [42, 71, 32, 67, 0], [42, 46, 99, 5, 71], [94, 61, 5, 62, 97], [68, 77, 55, 4, 21], [32, 67, 94, 0, 71], [71, 42, 0, 67, 32], [32, 42, 67, 65, 47], [32, 71, 0, 67, 85], [94, 49, 71, 67, 32], [61, 57, 32, 80, 0], [0, 30, 32, 5, 24], [32, 85, 5, 42, 0], [9, 43, 42, 2, 71], [0, 71, 67, 32, 9], [32, 42, 67, 71, 46], [94, 5, 61, 32, 71], [94, 32, 3, 67, 71], [71, 42, 56, 32, 67], [45, 33, 62, 20, 58], [71, 32, 42, 67, 9], [0, 71, 32, 42, 67], [32, 67, 94, 71, 42], [61, 94, 53, 5, 68], [49, 24, 32, 52, 61], [85, 32, 0, 39, 47], [53, 5, 61, 62, 94], [87, 71, 0, 85, 83], [71, 32, 67, 42, 0], [42, 71, 67, 32, 0], [49, 94, 71, 32, 55], [50, 31, 3, 61, 24], [71, 42, 32, 67, 0], [94, 67, 32, 0, 71], [92, 79, 55, 24, 49], [42, 32, 94, 18, 38], [32, 67, 0, 71, 73], [61, 5, 94, 53, 62], [32, 67, 94, 31, 0], [57, 35, 52, 61, 19], [32, 0, 71, 42, 67], [81, 50, 39, 53, 19], [94, 61, 62, 5, 38], [73, 94, 31, 74, 67], [4, 98, 79, 29, 24], [24, 86, 43, 32, 82], [5, 42, 32, 71, 0], [53, 5, 50, 43, 40], [5, 61, 73, 53, 94], [38, 5, 42, 93, 71], [85, 89, 32, 0, 61], [42, 71, 46, 32, 0], [5, 61, 94, 62, 68], [5, 94, 32, 61, 24], [79, 71, 24, 52, 43], [42, 71, 0, 32, 67], [94, 32, 71, 67, 31], [42, 71, 67, 32, 46], [24, 85, 79, 3, 49], [32, 67, 61, 71, 49], [5, 62, 61, 53, 94], [11, 49, 88, 0, 14], [94, 5, 61, 71, 32], [32, 71, 0, 67, 94], [71, 42, 2, 67, 0], [61, 94, 62, 5, 53], [53, 5, 24, 79, 61], [5, 61, 62, 38, 94], [71, 49, 42, 67, 24], [71, 2, 49, 94, 42], [42, 71, 88, 32, 47], [42, 46, 99, 93, 31], [47, 20, 75, 42, 66], [85, 32, 29, 0, 71], [42, 71, 32, 67, 0], [71, 35, 24, 67, 5], [3, 67, 32, 68, 98], [94, 32, 24, 68, 67], [61, 67, 94, 32, 71], [61, 94, 62, 5, 68], [32, 71, 94, 42, 61], [41, 5, 89, 0, 73], [0, 24, 71, 5, 32], [2, 30, 53, 96, 32], [72, 19, 7, 14, 78], [74, 36, 19, 25, 3], [90, 7, 48, 65, 91], [3, 7, 96, 39, 55], [57, 81, 84, 68, 53], [61, 62, 94, 53, 5], [7, 72, 19, 50, 46], [46, 50, 74, 72, 27], [47, 42, 32, 31, 67], [10, 75, 37, 3, 89], [46, 50, 72, 47, 53], [74, 65, 58, 14, 20], [7, 72, 48, 50, 65], [53, 50, 72, 47, 81], [53, 98, 72, 47, 50], [49, 65, 42, 67, 32], [7, 72, 65, 70, 86], [81, 53, 76, 39, 75], [98, 68, 97, 29, 9], [72, 81, 75, 87, 50], [53, 46, 72, 50, 47], [72, 65, 48, 7, 53], [53, 68, 27, 72, 97], [72, 58, 46, 47, 65], [38, 62, 53, 18, 70], [72, 53, 85, 24, 50], [72, 53, 47, 50, 65], [81, 72, 53, 50, 95], [19, 43, 81, 46, 53], [2, 88, 8, 72, 3], [61, 53, 42, 5, 24], [11, 66, 8, 46, 14], [74, 46, 72, 56, 95], [72, 65, 7, 46, 15], [53, 50, 72, 32, 47], [48, 90, 50, 37, 10], [72, 53, 56, 95, 81], [53, 72, 47, 81, 98], [46, 43, 99, 39, 96], [46, 42, 32, 53, 2], [47, 46, 72, 53, 50], [52, 14, 8, 24, 19], [21, 3, 2, 49, 24], [53, 72, 5, 61, 62], [2, 8, 90, 21, 94], [81, 39, 53, 4, 55], [78, 37, 69, 14, 10], [44, 24, 35, 79, 61], [50, 47, 90, 72, 37], [39, 55, 53, 50, 47], [95, 74, 49, 3, 87], [61, 94, 53, 62, 5], [50, 47, 46, 39, 42], [65, 7, 86, 37, 48], [57, 55, 29, 35, 98], [7, 33, 60, 54, 81], [72, 47, 7, 65, 19], [47, 65, 7, 86, 28], [19, 36, 7, 10, 26], [47, 53, 50, 63, 70], [72, 75, 96, 53, 81], [19, 39, 52, 46, 72], [47, 46, 72, 99, 42], [72, 47, 64, 50, 7], [43, 79, 55, 30, 24], [27, 74, 49, 55, 99], [53, 5, 72, 62, 61], [24, 85, 71, 32, 42], [72, 53, 46, 27, 81], [27, 9, 30, 87, 35], [72, 27, 53, 46, 7], [89, 10, 72, 39, 96], [72, 46, 53, 47, 50], [72, 47, 46, 53, 19], [10, 29, 26, 28, 91], [53, 68, 27, 98, 19], [72, 46, 37, 99, 19], [26, 14, 19, 10, 7], [50, 53, 49, 72, 47], [47, 72, 46, 50, 65], [99, 42, 32, 46, 5], [65, 47, 72, 58, 48], [53, 29, 24, 68, 49], [87, 72, 7, 64, 19], [3, 74, 50, 19, 93], [65, 86, 27, 99, 78], [72, 27, 65, 74, 58], [86, 39, 2, 7, 96], [85, 0, 72, 61, 24], [73, 82, 50, 47, 64], [72, 53, 46, 27, 50], [46, 99, 72, 47, 27], [72, 53, 39, 96, 46], [55, 74, 92, 30, 49], [7, 65, 47, 48, 72], [72, 46, 50, 53, 47], [7, 54, 39, 72, 50], [7, 65, 48, 3, 72], [85, 47, 39, 53, 24], [7, 39, 1, 86, 69], [73, 47, 50, 34, 28], [73, 50, 47, 82, 34], [61, 62, 5, 94, 53], [73, 25, 50, 34, 41], [73, 34, 82, 60, 50], [73, 50, 6, 90, 41], [73, 34, 28, 50, 65], [73, 47, 50, 74, 82], [73, 25, 74, 34, 64], [73, 74, 50, 56, 47], [36, 50, 7, 73, 19], [73, 50, 47, 34, 82], [73, 74, 50, 89, 47], [73, 82, 74, 21, 47], [59, 70, 86, 82, 89], [73, 94, 5, 24, 61], [37, 89, 26, 19, 76], [82, 99, 46, 12, 21], [73, 50, 47, 82, 91], [73, 74, 49, 50, 28], [74, 3, 73, 50, 42], [74, 73, 6, 83, 70], [73, 26, 47, 34, 10], [73, 74, 30, 83, 21], [83, 82, 34, 73, 59], [73, 47, 50, 32, 61], [73, 64, 47, 83, 54], [73, 82, 74, 50, 47], [73, 82, 34, 47, 88], [25, 34, 26, 7, 65], [73, 34, 47, 64, 14], [73, 82, 21, 74, 99], [47, 50, 63, 37, 73], [73, 82, 34, 64, 6], [73, 82, 74, 47, 50], [73, 70, 60, 59, 14], [83, 70, 73, 54, 64], [17, 23, 37, 70, 10], [26, 89, 7, 74, 28], [24, 99, 21, 30, 74], [66, 4, 25, 86, 7], [30, 73, 82, 74, 99], [10, 47, 50, 20, 91], [5, 53, 61, 94, 62], [50, 73, 37, 47, 53], [73, 47, 50, 82, 34], [73, 85, 50, 72, 88], [73, 41, 50, 83, 74], [73, 47, 34, 50, 26], [82, 89, 74, 24, 46], [73, 47, 74, 50, 82], [73, 47, 64, 14, 10], [73, 82, 74, 47, 50], [73, 34, 26, 70, 83], [53, 85, 73, 24, 61], [73, 83, 34, 64, 47], [36, 41, 4, 42, 37], [73, 47, 83, 64, 41], [34, 65, 50, 46, 26], [74, 54, 58, 37, 7], [90, 73, 50, 34, 14], [73, 47, 82, 34, 86], [47, 87, 14, 28, 88], [73, 47, 37, 14, 50], [73, 50, 89, 41, 37], [70, 62, 50, 53, 54], [73, 25, 41, 20, 37], [6, 34, 26, 64, 70], [73, 82, 34, 21, 50], [61, 32, 73, 82, 30], [73, 82, 47, 50, 74], [46, 50, 72, 19, 89], [73, 50, 47, 41, 82], [4, 89, 90, 85, 36], [32, 67, 73, 47, 50], [50, 26, 73, 39, 82], [12, 83, 86, 92, 77], [88, 8, 4, 14, 22], [73, 82, 89, 77, 24], [64, 6, 70, 63, 54], [73, 82, 74, 50, 24], [73, 34, 47, 26, 82], [50, 82, 74, 73, 46], [11, 7, 34, 69, 88], [73, 47, 50, 83, 21], [70, 64, 37, 8, 14], [73, 50, 34, 47, 20], [73, 50, 89, 47, 41], [10, 37, 20, 28, 74], [73, 74, 21, 24, 77], [73, 32, 47, 50, 67], [74, 65, 50, 72, 73], [73, 50, 74, 99, 46], [73, 94, 61, 53, 32], [73, 41, 90, 50, 82], [73, 89, 90, 69, 6], [73, 82, 99, 46, 21], [41, 89, 6, 63, 37], [4, 12, 83, 88, 1], [3, 24, 39, 92, 74], [65, 34, 20, 86, 74], [74, 39, 19, 27, 96], [74, 99, 15, 27, 21], [96, 46, 24, 76, 43], [74, 42, 27, 46, 99], [74, 75, 3, 21, 39], [32, 0, 61, 67, 85], [74, 30, 99, 21, 3], [74, 95, 3, 94, 67], [33, 58, 54, 87, 25], [74, 37, 21, 96, 90], [58, 91, 28, 65, 10], [74, 27, 15, 99, 73], [74, 86, 65, 50, 39], [94, 5, 32, 61, 77], [83, 92, 39, 29, 55], [15, 74, 40, 50, 42], [74, 3, 27, 99, 50], [3, 5, 51, 94, 24], [4, 73, 74, 10, 50], [74, 86, 95, 55, 3], [49, 93, 55, 74, 80], [50, 90, 26, 65, 48], [79, 24, 55, 43, 92], [3, 82, 99, 21, 32], [74, 27, 96, 30, 86], [22, 87, 51, 58, 95], [74, 27, 58, 99, 87], [93, 95, 3, 49, 67], [34, 22, 87, 3, 28], [93, 92, 56, 74, 79], [74, 73, 50, 90, 39], [74, 86, 89, 17, 55], [74, 3, 86, 24, 12], [95, 74, 3, 39, 88], [74, 86, 15, 46, 39], [74, 27, 58, 50, 3], [74, 27, 73, 99, 46], [74, 49, 73, 50, 42], [74, 73, 3, 50, 21], [74, 75, 3, 39, 24], [39, 19, 10, 56, 74], [49, 74, 99, 24, 21], [74, 73, 50, 39, 84], [96, 86, 74, 99, 65], [15, 87, 95, 75, 51], [74, 86, 50, 90, 65], [74, 3, 65, 21, 7], [74, 53, 50, 39, 96], [4, 88, 83, 64, 1], [74, 83, 87, 75, 41], [86, 26, 7, 21, 34], [49, 34, 50, 88, 32], [74, 15, 99, 75, 82], [4, 58, 28, 21, 87], [55, 29, 58, 97, 33], [75, 74, 3, 48, 31], [74, 49, 30, 75, 88], [74, 73, 99, 86, 7], [74, 86, 96, 72, 73], [74, 27, 99, 46, 30], [65, 94, 21, 99, 74], [86, 39, 74, 82, 89], [74, 21, 89, 20, 3], [47, 73, 74, 42, 3], [37, 36, 14, 10, 17], [74, 96, 86, 55, 58], [86, 39, 55, 49, 96], [7, 87, 90, 58, 74], [74, 75, 46, 42, 99], [74, 30, 99, 75, 96], [99, 12, 40, 21, 77], [1, 90, 48, 7, 3], [3, 74, 40, 39, 30], [94, 5, 61, 62, 53], [46, 96, 43, 79, 55], [74, 99, 42, 46, 86], [74, 27, 96, 49, 55], [7, 75, 65, 37, 48], [73, 21, 74, 30, 34], [15, 74, 11, 49, 27], [49, 74, 30, 99, 73], [65, 74, 75, 49, 48], [74, 90, 19, 39, 50], [20, 86, 10, 65, 91], [42, 71, 99, 46, 32], [74, 49, 46, 95, 21], [74, 56, 11, 66, 27], [74, 99, 87, 51, 21], [5, 49, 24, 79, 55], [74, 3, 95, 21, 27], [30, 24, 5, 79, 39], [74, 25, 34, 12, 73], [42, 70, 18, 24, 62], [74, 73, 3, 86, 65], [27, 74, 88, 11, 73], [74, 73, 50, 3, 20], [74, 96, 99, 27, 86], [74, 27, 46, 96, 15], [75, 87, 95, 30, 74], [75, 87, 42, 1, 48], [39, 74, 92, 12, 96], [75, 87, 11, 31, 32], [90, 75, 74, 86, 73], [88, 95, 74, 33, 87], [61, 5, 94, 62, 44], [75, 48, 37, 65, 78], [87, 75, 0, 71, 32], [61, 30, 51, 36, 75], [73, 24, 5, 53, 98], [75, 87, 51, 95, 43], [95, 86, 94, 74, 49], [75, 32, 71, 94, 0], [5, 42, 0, 32, 67], [75, 87, 95, 15, 91], [94, 26, 55, 10, 91], [75, 90, 15, 74, 87], [75, 87, 96, 65, 51], [87, 90, 75, 65, 26], [75, 81, 76, 94, 68], [50, 88, 75, 47, 27], [75, 23, 95, 42, 66], [75, 35, 81, 55, 79], [90, 75, 34, 25, 65], [75, 87, 30, 15, 99], [75, 87, 51, 15, 34], [75, 3, 95, 23, 74], [17, 66, 75, 6, 10], [75, 87, 91, 65, 48], [75, 95, 74, 33, 48], [15, 71, 67, 81, 75], [96, 65, 86, 34, 7], [5, 86, 96, 27, 74], [27, 44, 98, 97, 55], [75, 92, 96, 40, 79], [57, 81, 35, 68, 97], [75, 49, 61, 67, 94], [95, 56, 66, 11, 1], [75, 56, 15, 51, 90], [75, 87, 65, 51, 1], [74, 27, 51, 73, 75], [65, 50, 36, 48, 90], [75, 87, 95, 91, 48], [61, 94, 5, 53, 32], [65, 75, 91, 48, 86], [75, 51, 81, 31, 68], [75, 95, 87, 96, 86], [75, 81, 87, 95, 31], [75, 87, 95, 56, 15], [87, 81, 68, 75, 98], [40, 8, 2, 97, 71], [61, 94, 62, 5, 68], [65, 95, 75, 94, 48], [65, 42, 10, 26, 91], [75, 96, 35, 24, 79], [87, 75, 65, 91, 2], [34, 13, 92, 6, 40], [87, 75, 95, 2, 30], [94, 5, 38, 71, 61], [81, 44, 75, 40, 97], [75, 81, 70, 42, 51], [65, 33, 48, 86, 74], [15, 87, 61, 81, 75], [75, 65, 90, 30, 48], [75, 87, 15, 96, 70], [75, 15, 51, 87, 96], [75, 96, 74, 95, 81], [42, 71, 87, 49, 2], [75, 87, 65, 48, 96], [61, 94, 62, 5, 53], [38, 5, 32, 70, 33], [75, 87, 96, 81, 39], [15, 49, 99, 42, 75], [87, 49, 95, 75, 88], [94, 32, 62, 61, 5], [90, 75, 41, 1, 5], [2, 87, 15, 75, 8], [75, 87, 15, 90, 51], [75, 99, 15, 81, 96], [75, 31, 5, 42, 43], [72, 57, 87, 46, 99], [75, 87, 65, 2, 91], [75, 87, 15, 91, 48], [65, 26, 10, 47, 50], [87, 15, 2, 75, 76], [47, 65, 26, 3, 28], [72, 94, 53, 5, 2], [29, 96, 80, 11, 4], [61, 62, 94, 5, 44], [81, 87, 15, 75, 83], [11, 8, 2, 88, 33], [50, 65, 75, 32, 86], [74, 96, 46, 99, 75], [15, 75, 87, 37, 20], [87, 81, 72, 15, 66], [75, 95, 87, 15, 96], [10, 26, 34, 48, 91], [75, 87, 99, 30, 42], [75, 87, 95, 88, 74], [97, 68, 75, 40, 77], [76, 24, 90, 39, 62], [76, 96, 92, 3, 86], [41, 89, 24, 90, 0], [61, 76, 39, 32, 30], [76, 39, 55, 43, 86], [76, 50, 39, 82, 86], [46, 72, 76, 96, 99], [99, 27, 46, 82, 42], [76, 62, 38, 53, 61], [82, 89, 24, 43, 83], [76, 68, 40, 91, 97], [76, 90, 53, 32, 72], [76, 89, 21, 24, 49], [76, 96, 18, 46, 61], [89, 39, 3, 76, 86], [53, 76, 40, 96, 44], [76, 99, 47, 46, 82], [50, 3, 74, 48, 24], [94, 62, 5, 18, 70], [61, 62, 94, 53, 5], [61, 5, 62, 53, 68], [76, 89, 2, 0, 90], [43, 97, 68, 55, 5], [24, 76, 96, 85, 79], [61, 53, 5, 62, 94], [55, 29, 80, 79, 35], [43, 42, 2, 39, 97], [26, 7, 10, 39, 55], [76, 94, 67, 47, 73], [61, 62, 94, 53, 90], [94, 24, 76, 5, 82], [39, 94, 67, 3, 19], [82, 73, 86, 39, 47], [89, 76, 85, 90, 96], [36, 88, 64, 7, 8], [68, 98, 97, 29, 9], [75, 87, 50, 42, 1], [96, 39, 76, 61, 85], [5, 61, 24, 94, 32], [61, 5, 53, 94, 77], [8, 26, 76, 88, 11], [74, 96, 27, 39, 50], [5, 53, 61, 68, 24], [76, 96, 44, 9, 40], [62, 18, 68, 97, 70], [76, 90, 53, 96, 24], [76, 50, 47, 74, 42], [76, 90, 96, 86, 61], [38, 62, 18, 70, 5], [76, 47, 53, 24, 39], [61, 94, 62, 53, 38], [76, 90, 91, 42, 65], [76, 96, 68, 98, 61], [76, 90, 96, 39, 98], [30, 49, 24, 76, 96], [24, 5, 43, 53, 79], [53, 61, 62, 5, 94], [72, 65, 46, 42, 99], [76, 47, 2, 82, 50], [30, 49, 24, 75, 79], [76, 92, 24, 79, 77], [73, 50, 42, 74, 34], [61, 62, 94, 5, 53], [76, 96, 24, 2, 89], [61, 76, 53, 24, 79], [30, 49, 24, 74, 76], [96, 73, 39, 24, 27], [50, 47, 76, 82, 53], [30, 40, 96, 12, 21], [61, 94, 62, 5, 53], [96, 53, 46, 43, 76], [76, 90, 39, 96, 82], [76, 89, 2, 90, 24], [61, 94, 5, 62, 71], [76, 40, 96, 30, 87], [76, 87, 96, 2, 75], [94, 62, 70, 61, 18], [24, 5, 42, 76, 61], [82, 50, 47, 32, 65], [5, 24, 79, 61, 85], [76, 39, 30, 89, 24], [94, 50, 47, 31, 39], [90, 76, 2, 24, 96], [76, 53, 90, 32, 5], [97, 98, 68, 29, 55], [2, 89, 90, 42, 41], [61, 94, 62, 5, 53], [82, 73, 76, 42, 89], [74, 95, 86, 27, 96], [96, 74, 76, 40, 12], [21, 74, 99, 77, 96], [76, 68, 24, 82, 5], [94, 5, 38, 61, 62], [12, 74, 96, 86, 11], [89, 82, 24, 77, 76], [76, 88, 12, 49, 74], [76, 39, 86, 96, 74], [76, 2, 49, 46, 21], [86, 7, 39, 36, 90], [5, 61, 62, 94, 53], [77, 21, 12, 92, 55], [55, 79, 43, 27, 77], [99, 40, 96, 4, 21], [96, 77, 24, 79, 21], [4, 57, 99, 49, 77], [92, 77, 12, 79, 21], [74, 27, 96, 65, 3], [30, 49, 77, 82, 21], [77, 12, 82, 92, 21], [21, 49, 30, 77, 92], [27, 74, 96, 77, 92], [12, 77, 92, 30, 21], [82, 43, 12, 92, 99], [12, 99, 77, 92, 40], [21, 77, 82, 30, 32], [21, 92, 77, 82, 12], [12, 77, 82, 30, 92], [12, 77, 92, 30, 5], [12, 77, 92, 5, 21], [12, 40, 83, 4, 64], [77, 55, 24, 92, 96], [77, 21, 92, 55, 30], [96, 77, 40, 12, 99], [26, 10, 65, 78, 28], [12, 77, 92, 21, 82], [40, 77, 9, 97, 98], [21, 4, 55, 77, 10], [12, 77, 92, 21, 55], [21, 77, 12, 96, 99], [9, 29, 68, 55, 97], [92, 79, 24, 21, 32], [12, 77, 92, 21, 24], [21, 77, 55, 49, 4], [61, 62, 53, 94, 68], [4, 15, 87, 21, 99], [15, 87, 51, 75, 99], [1, 65, 48, 4, 91], [77, 21, 46, 79, 55], [61, 53, 62, 5, 94], [77, 99, 21, 92, 27], [4, 29, 21, 77, 97], [77, 96, 12, 92, 21], [92, 77, 12, 21, 82], [92, 77, 21, 35, 79], [12, 40, 77, 21, 92], [77, 21, 92, 12, 40], [77, 21, 12, 92, 94], [74, 96, 73, 82, 86], [24, 79, 35, 61, 19], [30, 0, 41, 90, 89], [12, 77, 92, 21, 40], [77, 12, 92, 82, 21], [12, 82, 27, 77, 99], [4, 21, 49, 10, 77], [97, 68, 29, 9, 77], [27, 12, 92, 99, 82], [40, 79, 97, 92, 49], [77, 21, 12, 92, 24], [98, 68, 97, 44, 55], [21, 77, 91, 65, 10], [30, 82, 96, 74, 92], [99, 40, 76, 77, 24], [92, 77, 21, 12, 99], [85, 30, 32, 77, 49], [12, 91, 40, 34, 21], [12, 77, 92, 21, 40], [77, 21, 4, 49, 55], [77, 12, 21, 40, 36], [27, 12, 74, 77, 92], [98, 68, 97, 77, 9], [77, 92, 82, 21, 12], [21, 77, 99, 24, 5], [61, 68, 97, 53, 94], [21, 77, 99, 12, 3], [12, 96, 92, 77, 5], [77, 55, 92, 79, 68], [12, 92, 55, 79, 77], [12, 77, 21, 99, 30], [68, 4, 97, 53, 27], [46, 99, 76, 21, 82], [92, 77, 55, 79, 30], [77, 21, 92, 55, 12], [77, 21, 12, 82, 30], [5, 77, 97, 68, 32], [92, 12, 24, 79, 77], [77, 12, 92, 21, 40], [43, 40, 35, 79, 61], [77, 12, 92, 21, 29], [12, 92, 40, 77, 21], [21, 12, 49, 74, 73], [5, 24, 61, 77, 79], [12, 92, 77, 40, 21], [96, 82, 40, 92, 77], [12, 77, 85, 92, 82], [30, 99, 96, 82, 77], [55, 96, 9, 35, 30], [94, 61, 5, 62, 68], [43, 75, 71, 31, 24], [21, 99, 77, 92, 46], [66, 34, 11, 17, 48], [62, 63, 33, 45, 78], [14, 22, 4, 11, 34], [24, 89, 25, 14, 92], [10, 48, 28, 37, 58], [4, 1, 8, 48, 69], [74, 39, 50, 3, 96], [48, 65, 14, 7, 13], [14, 37, 78, 26, 82], [63, 74, 42, 78, 14], [78, 26, 10, 48, 14], [62, 61, 38, 94, 5], [54, 70, 33, 18, 60], [13, 78, 48, 65, 94], [14, 78, 28, 37, 20], [8, 13, 11, 14, 33], [13, 34, 26, 8, 11], [10, 37, 26, 17, 78], [65, 28, 10, 91, 48], [14, 78, 48, 42, 11], [48, 1, 65, 75, 88], [8, 22, 14, 78, 13], [94, 62, 61, 5, 53], [58, 65, 66, 33, 48], [25, 1, 90, 48, 14], [65, 21, 63, 28, 48], [88, 86, 14, 11, 82], [33, 13, 78, 38, 58], [34, 26, 20, 17, 14], [78, 14, 28, 34, 37], [78, 63, 8, 14, 42], [36, 42, 89, 34, 73], [54, 83, 60, 16, 7], [58, 10, 54, 65, 86], [48, 10, 28, 26, 65], [38, 70, 63, 62, 78], [65, 26, 34, 13, 11], [55, 37, 10, 7, 69], [78, 49, 13, 11, 26], [18, 62, 70, 38, 41], [34, 91, 14, 11, 42], [13, 78, 48, 63, 65], [48, 37, 78, 7, 65], [10, 48, 78, 65, 26], [41, 4, 34, 25, 88], [34, 60, 7, 25, 26], [63, 41, 14, 78, 62], [28, 10, 91, 26, 65], [15, 4, 65, 21, 99], [33, 38, 45, 78, 13], [65, 86, 14, 74, 78], [74, 39, 96, 24, 27], [26, 34, 12, 65, 91], [13, 78, 38, 33, 48], [14, 88, 23, 8, 34], [13, 33, 38, 78, 11], [33, 58, 54, 48, 7], [37, 78, 14, 70, 62], [10, 48, 37, 91, 28], [78, 7, 37, 19, 13], [26, 14, 34, 7, 88], [11, 33, 14, 66, 78], [62, 18, 70, 37, 45], [26, 34, 91, 17, 28], [78, 47, 37, 14, 99], [37, 33, 78, 48, 45], [70, 62, 88, 33, 37], [14, 41, 20, 28, 78], [10, 78, 48, 26, 37], [41, 63, 6, 50, 73], [78, 37, 74, 14, 10], [8, 13, 88, 11, 49], [65, 34, 48, 91, 1], [96, 86, 2, 74, 65], [11, 73, 86, 78, 28], [46, 42, 56, 99, 84], [37, 14, 73, 20, 17], [86, 65, 14, 20, 28], [14, 78, 37, 88, 74], [92, 40, 89, 32, 24], [89, 41, 64, 12, 34], [48, 10, 78, 37, 17], [45, 14, 78, 37, 69], [48, 65, 78, 14, 37], [13, 63, 78, 34, 49], [80, 4, 37, 57, 49], [10, 37, 26, 48, 33], [13, 65, 48, 25, 78], [4, 10, 48, 78, 28], [26, 34, 28, 65, 7], [66, 17, 48, 11, 78], [58, 33, 74, 48, 22], [62, 10, 37, 58, 17], [4, 37, 14, 78, 88], [36, 37, 78, 50, 14], [10, 48, 91, 37, 26], [65, 95, 7, 78, 48], [78, 13, 10, 65, 28], [10, 28, 3, 37, 26], [38, 13, 18, 78, 33], [72, 53, 5, 39, 24], [3, 39, 24, 52, 74], [77, 21, 12, 92, 24], [55, 96, 29, 9, 79], [24, 61, 79, 57, 35], [24, 52, 49, 79, 85], [79, 24, 92, 77, 30], [80, 5, 57, 79, 96], [79, 43, 24, 35, 52], [79, 55, 92, 68, 35], [79, 43, 24, 72, 19], [39, 24, 19, 52, 53], [55, 79, 35, 43, 24], [55, 96, 53, 79, 92], [79, 92, 55, 24, 35], [19, 57, 35, 61, 79], [92, 5, 21, 77, 79], [92, 55, 77, 79, 49], [97, 53, 68, 24, 42], [74, 49, 88, 30, 96], [61, 79, 98, 35, 40], [79, 55, 92, 49, 29], [87, 79, 51, 27, 35], [92, 24, 96, 12, 77], [40, 21, 92, 99, 97], [71, 24, 5, 32, 42], [55, 96, 92, 79, 43], [77, 5, 80, 49, 79], [24, 76, 43, 79, 92], [79, 92, 24, 55, 77], [29, 98, 68, 97, 9], [9, 55, 81, 95, 57], [74, 12, 24, 77, 92], [79, 55, 68, 98, 9], [99, 46, 21, 42, 43], [79, 92, 24, 53, 46], [24, 43, 79, 92, 52], [5, 27, 79, 43, 24], [57, 35, 79, 96, 55], [77, 21, 92, 30, 99], [79, 24, 92, 43, 40], [94, 61, 5, 62, 53], [81, 46, 43, 50, 53], [49, 83, 55, 30, 77], [74, 20, 30, 99, 86], [68, 97, 98, 35, 29], [7, 96, 19, 34, 33], [79, 43, 92, 24, 55], [55, 57, 43, 35, 79], [29, 55, 97, 43, 9], [57, 68, 35, 97, 98], [99, 82, 47, 31, 46], [51, 92, 79, 55, 24], [9, 44, 35, 55, 29], [5, 61, 94, 18, 24], [79, 52, 24, 68, 35], [84, 57, 55, 68, 97], [24, 79, 43, 76, 39], [42, 71, 2, 49, 67], [49, 43, 24, 5, 55], [2, 97, 79, 68, 92], [1, 90, 52, 7, 43], [92, 79, 21, 77, 46], [96, 40, 21, 97, 99], [55, 92, 29, 77, 21], [55, 96, 98, 46, 79], [76, 53, 79, 12, 96], [53, 72, 50, 81, 1], [40, 92, 30, 74, 43], [40, 79, 24, 92, 97], [61, 24, 5, 32, 79], [27, 51, 99, 75, 19], [61, 62, 68, 5, 53], [79, 24, 52, 46, 85], [0, 71, 32, 42, 67], [44, 68, 97, 98, 29], [57, 35, 68, 98, 55], [30, 96, 92, 5, 99], [61, 94, 5, 53, 71], [40, 92, 79, 77, 21], [77, 30, 49, 92, 21], [2, 84, 88, 8, 68], [79, 55, 92, 24, 39], [74, 24, 39, 3, 26], [40, 82, 97, 99, 9], [82, 50, 31, 46, 80], [52, 19, 24, 79, 35], [27, 12, 74, 26, 3], [96, 74, 55, 27, 79], [24, 5, 62, 53, 76], [24, 79, 19, 52, 43], [55, 98, 29, 9, 77], [61, 94, 62, 5, 18], [4, 57, 79, 35, 5], [96, 55, 43, 79, 35], [92, 79, 24, 42, 5], [55, 49, 2, 43, 5], [55, 79, 35, 24, 9], [77, 21, 24, 74, 49], [35, 79, 57, 61, 52], [80, 29, 5, 82, 9], [4, 80, 55, 29, 35], [80, 35, 68, 24, 96], [80, 10, 29, 96, 5], [68, 29, 80, 97, 35], [0, 29, 2, 5, 96], [80, 30, 2, 82, 24], [80, 29, 9, 35, 49], [29, 68, 80, 9, 97], [85, 61, 5, 30, 0], [80, 29, 5, 9, 24], [80, 5, 24, 43, 0], [80, 5, 29, 9, 31], [80, 10, 5, 24, 78], [79, 43, 24, 77, 21], [80, 34, 10, 26, 37], [61, 5, 62, 94, 68], [80, 29, 9, 68, 82], [80, 5, 24, 93, 21], [61, 5, 62, 94, 53], [5, 80, 0, 24, 32], [29, 80, 4, 9, 96], [80, 61, 5, 32, 0], [80, 5, 24, 35, 79], [57, 35, 61, 4, 68], [35, 44, 61, 55, 79], [5, 0, 24, 80, 3], [80, 9, 44, 29, 26], [61, 62, 94, 5, 97], [80, 5, 93, 29, 9], [29, 97, 68, 55, 9], [35, 43, 55, 61, 68], [80, 29, 96, 9, 5], [43, 80, 35, 55, 79], [80, 29, 55, 9, 98], [80, 5, 0, 44, 34], [5, 80, 43, 24, 79], [21, 42, 24, 5, 99], [80, 5, 43, 9, 24], [99, 96, 30, 21, 40], [80, 4, 96, 29, 5], [35, 61, 19, 79, 57], [80, 29, 9, 68, 97], [80, 21, 42, 29, 4], [80, 5, 29, 9, 24], [80, 5, 43, 24, 2], [29, 80, 9, 5, 68], [4, 68, 98, 36, 31], [80, 35, 57, 29, 9], [80, 44, 9, 29, 71], [68, 35, 61, 29, 98], [61, 80, 31, 85, 32], [92, 5, 43, 24, 79], [96, 46, 99, 55, 76], [35, 29, 80, 68, 97], [29, 9, 44, 80, 97], [80, 5, 24, 79, 35], [29, 21, 26, 10, 55], [29, 9, 80, 97, 96], [86, 35, 96, 55, 82], [80, 5, 29, 9, 43], [80, 83, 29, 26, 34], [80, 29, 5, 9, 35], [44, 80, 9, 29, 97], [80, 43, 35, 5, 79], [80, 94, 5, 29, 68], [80, 29, 4, 96, 30], [9, 0, 55, 49, 35], [80, 9, 29, 96, 35], [80, 29, 98, 68, 4], [80, 5, 98, 68, 3], [80, 43, 9, 29, 68], [80, 49, 35, 55, 2], [80, 5, 4, 0, 24], [55, 9, 29, 80, 68], [80, 29, 27, 31, 9], [80, 5, 0, 43, 24], [9, 80, 44, 29, 98], [80, 29, 4, 2, 9], [29, 80, 65, 9, 91], [43, 35, 55, 49, 57], [80, 44, 94, 11, 71], [62, 70, 18, 5, 38], [80, 5, 29, 43, 9], [80, 5, 86, 36, 24], [92, 82, 40, 24, 21], [24, 30, 89, 96, 82], [29, 80, 9, 35, 68], [80, 57, 9, 68, 35], [80, 5, 29, 11, 42], [80, 5, 29, 0, 9], [76, 77, 4, 68, 98], [80, 29, 9, 5, 35], [80, 5, 0, 79, 35], [80, 96, 30, 29, 5], [5, 61, 32, 24, 94], [98, 68, 79, 57, 35], [5, 96, 55, 80, 61], [9, 35, 55, 61, 80], [9, 43, 29, 96, 83], [81, 66, 50, 84, 61], [55, 35, 79, 57, 52], [33, 81, 53, 36, 22], [61, 24, 52, 35, 79], [81, 57, 98, 68, 97], [81, 19, 62, 70, 50], [85, 87, 50, 3, 47], [49, 57, 19, 81, 95], [81, 95, 53, 72, 89], [81, 53, 19, 72, 15], [97, 68, 53, 40, 77], [81, 53, 19, 57, 70], [61, 62, 53, 94, 70], [81, 36, 72, 87, 53], [49, 79, 61, 35, 55], [81, 57, 9, 53, 84], [81, 57, 98, 27, 68], [57, 68, 81, 97, 4], [53, 81, 39, 61, 51], [57, 35, 98, 68, 55], [81, 53, 50, 32, 19], [36, 19, 50, 53, 81], [81, 53, 55, 98, 68], [53, 36, 5, 27, 24], [81, 53, 19, 72, 52], [81, 75, 84, 66, 35], [81, 57, 19, 35, 61], [81, 24, 35, 9, 5], [81, 19, 70, 37, 90], [81, 49, 39, 72, 35], [19, 33, 81, 61, 35], [39, 81, 72, 53, 79], [81, 53, 57, 60, 7], [33, 58, 17, 70, 55], [81, 24, 53, 46, 43], [61, 62, 94, 53, 5], [62, 61, 94, 70, 53], [81, 84, 57, 4, 53], [81, 57, 68, 19, 98], [81, 15, 50, 61, 71], [81, 95, 75, 89, 19], [81, 53, 72, 50, 57], [81, 57, 53, 52, 35], [81, 53, 19, 57, 7], [50, 81, 47, 72, 53], [39, 81, 85, 96, 53], [81, 19, 75, 60, 70], [81, 95, 75, 72, 56], [62, 61, 53, 94, 38], [30, 46, 27, 82, 99], [61, 62, 94, 5, 53], [72, 15, 39, 74, 46], [81, 35, 79, 53, 61], [53, 81, 97, 98, 68], [81, 57, 53, 72, 7], [81, 19, 75, 70, 15], [72, 81, 46, 47, 27], [81, 53, 51, 44, 60], [81, 32, 19, 61, 87], [86, 34, 17, 83, 88], [50, 47, 74, 46, 53], [81, 83, 53, 55, 15], [44, 81, 53, 9, 61], [61, 62, 94, 53, 5], [70, 97, 62, 18, 94], [81, 15, 53, 61, 44], [81, 50, 53, 72, 75], [94, 61, 5, 71, 62], [61, 62, 53, 94, 5], [61, 53, 62, 94, 5], [95, 86, 39, 55, 3], [24, 53, 79, 5, 62], [98, 57, 68, 97, 29], [53, 81, 72, 27, 50], [96, 75, 44, 53, 9], [81, 51, 75, 56, 79], [81, 57, 84, 66, 50], [81, 50, 53, 1, 48], [81, 75, 71, 67, 44], [57, 19, 72, 35, 81], [81, 87, 75, 15, 50], [81, 19, 15, 75, 53], [81, 62, 70, 53, 72], [53, 70, 62, 61, 38], [61, 53, 5, 94, 62], [57, 35, 55, 98, 68], [57, 98, 55, 68, 35], [90, 60, 22, 51, 4], [81, 76, 68, 97, 37], [81, 53, 47, 72, 68], [61, 5, 94, 62, 32], [81, 40, 57, 96, 53], [81, 50, 53, 19, 72], [84, 81, 44, 61, 57], [81, 50, 53, 62, 75], [57, 81, 72, 98, 19], [81, 53, 75, 87, 24], [51, 53, 98, 97, 68], [81, 50, 75, 3, 32], [81, 61, 53, 19, 72], [30, 82, 46, 99, 24], [82, 5, 86, 44, 27], [83, 82, 16, 39, 89], [82, 87, 99, 73, 47], [92, 43, 49, 55, 89], [65, 99, 42, 67, 32], [85, 82, 89, 24, 5], [58, 34, 74, 28, 87], [82, 86, 37, 73, 47], [82, 50, 61, 73, 86], [61, 62, 94, 53, 5], [82, 99, 46, 31, 73], [82, 73, 84, 96, 74], [94, 61, 62, 5, 18], [82, 27, 31, 24, 79], [99, 82, 21, 30, 42], [82, 99, 27, 46, 30], [68, 97, 98, 31, 29], [82, 99, 46, 30, 42], [82, 40, 89, 31, 99], [82, 31, 99, 46, 89], [82, 47, 46, 42, 64], [82, 99, 46, 30, 96], [94, 61, 62, 18, 68], [82, 99, 46, 31, 32], [82, 47, 46, 99, 31], [82, 89, 31, 32, 99], [67, 44, 32, 71, 42], [82, 47, 18, 46, 99], [77, 24, 12, 46, 99], [82, 73, 31, 86, 27], [99, 46, 42, 82, 32], [82, 73, 47, 26, 46], [82, 46, 99, 42, 31], [18, 38, 62, 61, 68], [82, 31, 99, 46, 73], [82, 43, 31, 87, 30], [99, 82, 46, 24, 42], [82, 31, 89, 80, 99], [46, 47, 42, 99, 70], [47, 82, 50, 73, 46], [27, 99, 21, 74, 82], [0, 32, 71, 67, 5], [46, 82, 99, 39, 72], [5, 32, 53, 61, 24], [82, 50, 41, 31, 5], [74, 65, 73, 50, 30], [82, 31, 89, 99, 94], [31, 42, 99, 67, 32], [94, 67, 99, 32, 31], [82, 46, 99, 47, 86], [92, 24, 21, 77, 12], [99, 82, 47, 30, 46], [24, 82, 76, 96, 89], [74, 73, 34, 64, 86], [40, 86, 96, 12, 39], [82, 73, 41, 46, 18], [58, 34, 64, 6, 66], [99, 82, 30, 15, 74], [19, 4, 89, 31, 57], [82, 99, 30, 46, 32], [89, 24, 2, 5, 76], [73, 90, 50, 24, 94], [89, 24, 86, 76, 82], [82, 99, 30, 31, 5], [99, 82, 21, 46, 77], [73, 65, 34, 82, 50], [82, 99, 4, 86, 96], [5, 32, 94, 71, 24], [5, 24, 79, 21, 55], [82, 99, 46, 40, 92], [47, 50, 42, 39, 71], [82, 96, 30, 99, 31], [61, 62, 5, 53, 77], [82, 73, 34, 99, 47], [62, 18, 70, 61, 94], [43, 97, 5, 68, 61], [82, 31, 99, 42, 47], [82, 99, 46, 42, 31], [61, 94, 62, 5, 53], [82, 73, 89, 47, 31], [90, 76, 22, 2, 47], [82, 99, 86, 96, 30], [82, 99, 30, 96, 31], [68, 29, 98, 80, 24], [31, 46, 84, 99, 42], [43, 55, 5, 4, 77], [82, 99, 46, 74, 42], [73, 82, 94, 24, 42], [61, 62, 94, 5, 53], [89, 8, 87, 95, 2], [82, 50, 3, 30, 74], [61, 62, 5, 94, 32], [96, 82, 74, 99, 40], [82, 46, 99, 42, 31], [82, 31, 99, 73, 21], [24, 2, 49, 5, 74], [31, 42, 46, 82, 99], [82, 24, 73, 5, 31], [50, 73, 74, 86, 37], [83, 16, 60, 6, 69], [83, 85, 34, 82, 39], [83, 16, 54, 70, 60], [83, 64, 16, 70, 12], [69, 86, 0, 39, 89], [54, 83, 16, 70, 33], [83, 60, 16, 64, 54], [83, 34, 16, 54, 64], [26, 34, 46, 43, 27], [89, 83, 57, 10, 69], [83, 64, 54, 7, 16], [64, 54, 83, 34, 88], [83, 16, 54, 64, 60], [64, 54, 18, 70, 47], [64, 7, 37, 69, 83], [54, 7, 64, 60, 83], [83, 54, 16, 18, 70], [5, 24, 85, 0, 89], [18, 70, 16, 62, 38], [54, 83, 7, 86, 25], [62, 38, 18, 61, 5], [83, 64, 16, 54, 60], [83, 64, 16, 34, 54], [37, 89, 4, 83, 69], [89, 83, 69, 4, 46], [83, 64, 82, 16, 34], [83, 16, 64, 12, 54], [83, 16, 64, 60, 54], [18, 60, 89, 83, 16], [16, 54, 83, 33, 70], [83, 55, 9, 29, 64], [83, 64, 16, 12, 4], [83, 16, 7, 33, 60], [83, 64, 34, 26, 70], [18, 62, 16, 83, 70], [83, 16, 70, 41, 60], [83, 55, 49, 79, 21], [57, 98, 83, 55, 84], [83, 64, 16, 89, 34], [83, 34, 17, 18, 16], [83, 7, 89, 54, 1], [89, 18, 37, 42, 83], [64, 19, 4, 54, 58], [25, 1, 34, 90, 7], [83, 64, 73, 16, 85], [83, 16, 54, 59, 60], [62, 38, 18, 41, 70], [83, 89, 16, 41, 64], [64, 83, 86, 54, 37], [54, 83, 64, 16, 58], [83, 64, 16, 6, 41], [83, 16, 54, 70, 60], [16, 83, 33, 18, 62], [89, 41, 83, 69, 6], [83, 16, 60, 64, 6], [24, 89, 5, 46, 4], [83, 59, 16, 54, 18], [34, 89, 83, 6, 41], [41, 18, 64, 83, 16], [46, 73, 74, 50, 32], [83, 64, 54, 16, 18], [16, 83, 18, 54, 70], [34, 82, 50, 73, 65], [83, 89, 4, 37, 70], [83, 64, 16, 70, 82], [90, 57, 64, 7, 1], [83, 89, 16, 69, 18], [83, 30, 89, 82, 16], [54, 58, 7, 83, 10], [16, 83, 54, 18, 60], [83, 16, 54, 4, 39], [64, 34, 83, 90, 88], [83, 5, 12, 34, 92], [60, 83, 16, 89, 7], [34, 8, 56, 88, 64], [18, 16, 83, 62, 70], [83, 64, 89, 24, 16], [76, 2, 96, 30, 39], [34, 58, 74, 64, 20], [83, 54, 89, 64, 18], [85, 83, 30, 82, 40], [83, 34, 16, 26, 54], [83, 16, 69, 37, 4], [90, 43, 83, 11, 64], [83, 16, 60, 18, 64], [83, 42, 73, 0, 70], [49, 21, 4, 55, 48], [83, 18, 90, 16, 41], [12, 83, 21, 77, 89], [83, 0, 54, 89, 66], [83, 16, 64, 89, 6], [83, 41, 64, 16, 89], [83, 74, 24, 99, 16], [7, 26, 10, 34, 36], [83, 16, 70, 47, 54], [54, 18, 70, 16, 83], [18, 83, 16, 41, 37], [16, 54, 83, 18, 60], [83, 41, 73, 64, 34], [54, 64, 60, 70, 7], [98, 68, 57, 97, 55], [84, 57, 61, 35, 68], [75, 4, 66, 56, 84], [84, 57, 56, 68, 55], [84, 56, 57, 80, 5], [84, 57, 35, 68, 4], [84, 68, 57, 97, 55], [57, 84, 98, 68, 55], [84, 57, 49, 66, 35], [34, 84, 49, 88, 6], [56, 66, 84, 95, 46], [84, 31, 68, 98, 50], [3, 66, 74, 87, 6], [84, 68, 57, 31, 98], [84, 68, 57, 98, 29], [84, 68, 57, 98, 35], [95, 56, 74, 14, 65], [24, 19, 12, 89, 5], [57, 84, 68, 1, 35], [7, 1, 48, 65, 66], [67, 81, 32, 71, 19], [94, 62, 61, 5, 53], [92, 12, 4, 40, 79], [68, 19, 53, 57, 65], [61, 94, 5, 53, 32], [61, 35, 79, 98, 97], [12, 68, 84, 30, 97], [85, 84, 3, 68, 57], [84, 57, 81, 98, 68], [18, 62, 70, 41, 38], [72, 84, 46, 27, 53], [84, 43, 68, 55, 98], [57, 84, 68, 81, 72], [56, 84, 66, 57, 50], [43, 57, 84, 55, 9], [37, 31, 69, 78, 89], [57, 68, 61, 35, 86], [84, 57, 55, 68, 98], [84, 68, 53, 29, 97], [61, 35, 57, 66, 84], [84, 68, 29, 9, 98], [84, 57, 44, 80, 66], [84, 68, 57, 31, 98], [72, 7, 81, 53, 50], [19, 35, 36, 27, 93], [68, 84, 57, 97, 98], [27, 4, 89, 99, 46], [44, 84, 83, 2, 17], [84, 50, 81, 68, 57], [84, 61, 67, 32, 68], [65, 56, 48, 74, 84], [84, 56, 46, 74, 95], [56, 84, 66, 73, 74], [57, 84, 68, 98, 55], [57, 84, 5, 2, 68], [84, 95, 57, 29, 68], [57, 4, 98, 96, 68], [61, 5, 53, 62, 94], [18, 62, 38, 70, 41], [84, 35, 68, 61, 57], [84, 57, 68, 31, 53], [57, 84, 55, 68, 98], [62, 18, 5, 38, 70], [7, 50, 54, 4, 81], [57, 84, 68, 98, 97], [92, 77, 27, 84, 79], [57, 84, 68, 98, 81], [84, 2, 56, 68, 97], [84, 46, 57, 44, 53], [83, 46, 57, 79, 84], [79, 84, 56, 55, 44], [84, 57, 68, 55, 4], [84, 56, 68, 55, 35], [61, 68, 94, 5, 97], [62, 18, 38, 70, 5], [57, 84, 85, 81, 68], [84, 49, 57, 55, 35], [53, 5, 46, 72, 24], [46, 84, 55, 49, 99], [56, 84, 34, 83, 61], [84, 85, 56, 32, 49], [55, 57, 68, 43, 35], [24, 5, 73, 61, 43], [81, 61, 50, 57, 19], [57, 68, 98, 55, 84], [57, 84, 44, 98, 68], [81, 95, 84, 74, 56], [68, 29, 97, 57, 35], [57, 68, 84, 5, 35], [84, 81, 57, 68, 97], [7, 39, 89, 86, 36], [84, 55, 57, 35, 29], [84, 57, 68, 97, 53], [84, 34, 68, 95, 35], [57, 84, 98, 35, 68], [40, 85, 68, 97, 9], [38, 18, 33, 70, 24], [55, 49, 86, 39, 84], [89, 31, 92, 24, 84], [84, 55, 43, 57, 68], [85, 39, 24, 32, 12], [76, 86, 96, 7, 39], [86, 82, 85, 39, 24], [85, 24, 53, 64, 52], [85, 0, 83, 71, 32], [94, 62, 61, 5, 18], [85, 32, 39, 0, 82], [85, 20, 4, 6, 37], [47, 3, 50, 32, 31], [71, 67, 32, 42, 0], [85, 24, 5, 39, 32], [68, 85, 97, 29, 35], [12, 85, 77, 21, 99], [85, 0, 32, 5, 68], [85, 24, 32, 80, 5], [85, 52, 24, 79, 49], [85, 3, 24, 89, 39], [85, 73, 61, 83, 32], [85, 83, 30, 39, 86], [85, 43, 24, 76, 35], [85, 5, 24, 3, 61], [85, 4, 61, 83, 32], [85, 39, 24, 61, 3], [85, 39, 24, 76, 3], [47, 7, 83, 39, 85], [52, 79, 72, 24, 85], [83, 55, 4, 85, 29], [85, 49, 30, 34, 32], [85, 24, 39, 3, 83], [85, 24, 5, 3, 89], [32, 85, 0, 67, 94], [85, 49, 0, 6, 34], [5, 61, 94, 85, 53], [85, 24, 3, 83, 39], [5, 40, 24, 94, 42], [32, 5, 85, 71, 67], [85, 82, 24, 34, 3], [85, 0, 76, 89, 34], [85, 5, 32, 67, 71], [79, 24, 71, 52, 0], [85, 24, 89, 0, 32], [24, 47, 39, 5, 73], [85, 24, 61, 76, 39], [85, 32, 24, 39, 61], [5, 0, 85, 32, 71], [85, 32, 39, 86, 0], [85, 5, 32, 24, 0], [12, 92, 85, 82, 24], [7, 54, 70, 36, 50], [5, 85, 32, 71, 94], [94, 61, 62, 32, 68], [85, 12, 86, 88, 39], [85, 3, 39, 83, 74], [5, 32, 85, 24, 89], [85, 32, 82, 30, 34], [85, 39, 74, 83, 40], [85, 40, 68, 84, 97], [5, 85, 24, 43, 3], [85, 0, 5, 79, 71], [40, 61, 85, 32, 76], [85, 82, 73, 32, 5], [85, 5, 24, 0, 79], [34, 25, 64, 85, 60], [89, 85, 20, 3, 24], [24, 85, 79, 52, 49], [24, 85, 79, 92, 61], [85, 24, 5, 39, 0], [85, 43, 83, 39, 86], [68, 85, 97, 29, 35], [98, 57, 68, 29, 55], [4, 55, 86, 96, 77], [85, 0, 32, 71, 61], [5, 24, 53, 71, 68], [86, 3, 39, 85, 65], [85, 39, 24, 82, 3], [32, 67, 85, 61, 0], [68, 85, 98, 57, 29], [21, 55, 53, 4, 2], [85, 68, 29, 97, 98], [85, 5, 0, 32, 42], [89, 20, 42, 7, 14], [85, 42, 24, 74, 49], [85, 5, 0, 32, 12], [4, 57, 98, 61, 68], [4, 77, 55, 24, 79], [85, 84, 57, 83, 68], [12, 77, 30, 21, 82], [85, 5, 0, 32, 67], [30, 82, 85, 92, 40], [89, 20, 82, 24, 86], [85, 83, 32, 24, 39], [85, 39, 24, 32, 3], [85, 5, 83, 24, 39], [24, 39, 40, 85, 3], [24, 89, 85, 79, 82], [85, 83, 34, 73, 32], [85, 24, 3, 89, 39], [85, 0, 24, 32, 61], [0, 32, 71, 94, 67], [88, 73, 3, 14, 50], [4, 79, 80, 96, 54], [50, 46, 74, 39, 73], [74, 21, 86, 99, 73], [65, 34, 74, 96, 27], [94, 62, 5, 61, 38], [51, 86, 75, 38, 55], [94, 61, 62, 5, 38], [5, 53, 61, 94, 77], [98, 68, 57, 40, 97], [7, 60, 34, 48, 17], [39, 96, 86, 7, 65], [9, 96, 97, 76, 68], [55, 79, 35, 24, 4], [86, 25, 41, 7, 34], [86, 14, 73, 34, 20], [86, 47, 74, 65, 73], [76, 42, 89, 2, 63], [86, 26, 65, 7, 34], [74, 96, 46, 99, 82], [86, 89, 41, 7, 83], [78, 37, 86, 17, 65], [36, 50, 7, 47, 25], [43, 86, 85, 82, 34], [86, 29, 68, 39, 9], [84, 56, 36, 22, 13], [86, 55, 3, 49, 21], [13, 8, 78, 27, 4], [90, 86, 75, 11, 65], [26, 28, 10, 82, 91], [11, 44, 69, 73, 83], [12, 90, 74, 92, 21], [85, 5, 12, 29, 96], [94, 24, 67, 0, 71], [94, 61, 62, 38, 32], [43, 5, 24, 86, 39], [86, 39, 24, 96, 76], [82, 86, 46, 42, 99], [86, 82, 99, 29, 73], [86, 39, 2, 36, 94], [7, 87, 1, 12, 86], [40, 51, 96, 97, 99], [86, 55, 96, 64, 90], [39, 32, 99, 24, 67], [86, 40, 92, 85, 29], [40, 44, 85, 24, 86], [10, 78, 48, 4, 26], [86, 65, 26, 34, 96], [7, 2, 39, 86, 89], [96, 5, 0, 24, 86], [86, 54, 26, 7, 65], [89, 12, 82, 77, 83], [7, 86, 65, 39, 48], [86, 96, 39, 94, 40], [7, 34, 26, 33, 69], [24, 85, 3, 21, 99], [82, 47, 39, 86, 50], [34, 26, 86, 89, 32], [29, 68, 71, 97, 9], [86, 82, 96, 39, 44], [55, 96, 10, 43, 39], [67, 86, 82, 43, 71], [86, 82, 39, 89, 76], [36, 86, 0, 5, 96], [27, 76, 77, 12, 96], [28, 26, 65, 91, 58], [55, 96, 30, 2, 49], [5, 42, 24, 94, 71], [86, 55, 96, 30, 39], [85, 34, 4, 26, 88], [24, 76, 90, 19, 46], [18, 89, 41, 46, 42], [24, 79, 96, 43, 86], [77, 37, 21, 99, 78], [7, 86, 67, 39, 32], [27, 17, 60, 34, 64], [4, 34, 82, 68, 57], [24, 79, 5, 42, 61], [41, 73, 89, 86, 96], [86, 68, 55, 39, 98], [29, 9, 35, 52, 98], [7, 14, 36, 59, 60], [91, 48, 65, 10, 34], [5, 80, 43, 24, 0], [65, 75, 15, 48, 42], [49, 56, 11, 42, 55], [89, 86, 96, 76, 24], [85, 86, 35, 68, 36], [86, 65, 96, 29, 26], [96, 55, 29, 97, 9], [50, 86, 74, 73, 65], [11, 86, 58, 33, 30], [65, 63, 37, 47, 46], [64, 47, 82, 42, 73], [21, 77, 39, 99, 40], [74, 96, 86, 24, 27], [55, 79, 24, 49, 92], [86, 96, 65, 46, 99], [8, 65, 87, 33, 88], [76, 31, 82, 68, 94], [55, 79, 43, 52, 35], [4, 12, 21, 77, 51], [15, 95, 11, 75, 87], [87, 15, 51, 74, 2], [15, 87, 75, 95, 37], [87, 21, 48, 15, 51], [87, 15, 75, 81, 51], [87, 15, 21, 51, 99], [87, 88, 95, 74, 66], [87, 15, 8, 75, 88], [87, 75, 21, 15, 2], [87, 7, 89, 90, 81], [87, 75, 95, 15, 7], [7, 65, 19, 3, 39], [87, 15, 75, 2, 55], [60, 90, 22, 34, 74], [87, 2, 21, 15, 75], [87, 95, 75, 15, 88], [62, 94, 38, 70, 61], [15, 87, 75, 2, 81], [87, 7, 15, 75, 95], [87, 15, 21, 88, 99], [87, 15, 30, 51, 8], [87, 15, 81, 75, 7], [87, 51, 15, 7, 72], [87, 95, 53, 72, 46], [72, 30, 27, 8, 88], [15, 87, 51, 75, 74], [75, 26, 10, 8, 87], [31, 0, 15, 32, 99], [61, 62, 94, 5, 38], [51, 15, 87, 21, 95], [87, 75, 15, 95, 2], [11, 87, 66, 8, 88], [87, 75, 15, 2, 95], [99, 46, 87, 27, 47], [87, 40, 2, 8, 97], [87, 97, 68, 0, 71], [87, 15, 75, 95, 4], [15, 99, 42, 87, 71], [87, 2, 75, 15, 26], [86, 96, 7, 87, 15], [87, 75, 15, 95, 51], [86, 74, 39, 94, 75], [87, 15, 51, 99, 21], [87, 30, 15, 75, 91], [87, 75, 95, 15, 23], [87, 15, 75, 95, 7], [87, 15, 10, 7, 81], [87, 8, 95, 15, 21], [87, 15, 51, 95, 88], [87, 15, 75, 51, 95], [65, 7, 86, 87, 95], [87, 95, 15, 75, 51], [87, 2, 97, 21, 68], [87, 2, 15, 75, 95], [87, 75, 15, 89, 74], [87, 15, 95, 2, 75], [87, 15, 75, 2, 8], [87, 15, 26, 91, 8], [87, 15, 75, 51, 99], [87, 75, 15, 51, 99], [15, 87, 95, 90, 51], [87, 75, 15, 77, 21], [87, 15, 75, 2, 81], [87, 8, 2, 75, 88], [15, 87, 7, 75, 51], [87, 33, 66, 8, 95], [87, 15, 51, 99, 4], [87, 15, 95, 75, 81], [95, 11, 66, 94, 88], [87, 64, 15, 74, 75], [53, 61, 5, 76, 24], [87, 12, 64, 75, 95], [87, 75, 15, 7, 64], [87, 15, 2, 75, 8], [87, 15, 75, 7, 81], [87, 15, 75, 42, 99], [65, 4, 87, 95, 21], [87, 75, 65, 91, 21], [87, 15, 95, 8, 2], [87, 66, 7, 15, 4], [87, 75, 65, 34, 42], [87, 89, 15, 95, 75], [87, 99, 95, 2, 3], [87, 2, 76, 75, 43], [87, 15, 75, 95, 3], [87, 15, 2, 8, 75], [87, 15, 7, 99, 65], [87, 15, 8, 2, 75], [87, 97, 68, 2, 40], [87, 15, 75, 2, 9], [87, 15, 91, 75, 2], [87, 15, 21, 8, 65], [87, 75, 15, 51, 99], [87, 0, 15, 34, 49], [86, 55, 99, 65, 39], [87, 8, 2, 88, 89], [53, 72, 30, 49, 74], [87, 75, 15, 95, 7], [87, 15, 47, 99, 75], [88, 14, 4, 8, 22], [26, 34, 14, 86, 78], [4, 88, 8, 27, 72], [88, 4, 22, 8, 14], [26, 34, 10, 37, 28], [49, 8, 4, 88, 29], [65, 28, 14, 37, 48], [49, 88, 34, 11, 42], [88, 14, 8, 11, 23], [88, 4, 49, 27, 8], [4, 36, 88, 50, 72], [11, 88, 49, 86, 55], [11, 33, 88, 65, 14], [88, 34, 87, 4, 22], [66, 33, 95, 11, 58], [88, 4, 14, 98, 11], [89, 47, 50, 24, 46], [3, 65, 88, 86, 48], [88, 4, 29, 49, 14], [36, 23, 86, 88, 19], [4, 88, 11, 14, 8], [8, 18, 20, 42, 70], [49, 8, 88, 4, 29], [8, 11, 95, 33, 23], [8, 88, 13, 11, 2], [88, 4, 8, 41, 73], [34, 65, 33, 87, 58], [13, 8, 65, 86, 33], [88, 14, 8, 86, 11], [5, 73, 42, 24, 74], [11, 14, 13, 78, 8], [88, 4, 14, 8, 11], [88, 8, 36, 14, 37], [88, 89, 66, 86, 69], [4, 88, 28, 29, 34], [88, 85, 68, 34, 98], [13, 11, 22, 33, 8], [22, 65, 48, 34, 14], [11, 14, 88, 4, 66], [11, 33, 58, 23, 8], [88, 22, 8, 11, 34], [88, 8, 7, 23, 34], [12, 8, 92, 14, 40], [58, 48, 22, 21, 28], [18, 41, 42, 62, 70], [88, 11, 49, 8, 71], [23, 47, 72, 19, 52], [34, 73, 26, 88, 14], [4, 88, 29, 49, 98], [4, 88, 42, 67, 71], [56, 49, 95, 42, 66], [88, 95, 34, 25, 87], [10, 26, 11, 88, 78], [88, 34, 28, 14, 21], [37, 23, 88, 90, 14], [88, 87, 64, 4, 34], [65, 86, 3, 74, 87], [25, 34, 14, 36, 65], [88, 33, 11, 22, 14], [88, 8, 49, 85, 87], [4, 88, 74, 87, 54], [23, 11, 88, 49, 73], [88, 8, 14, 11, 49], [0, 32, 49, 24, 30], [11, 34, 66, 8, 33], [23, 66, 88, 8, 90], [44, 69, 6, 54, 70], [4, 88, 8, 87, 12], [23, 88, 11, 14, 72], [34, 88, 12, 11, 14], [88, 3, 14, 11, 8], [88, 28, 34, 87, 2], [4, 88, 22, 29, 98], [66, 88, 11, 23, 69], [88, 14, 34, 73, 3], [88, 87, 23, 66, 29], [88, 14, 11, 8, 65], [11, 49, 88, 14, 4], [87, 29, 21, 15, 4], [11, 14, 22, 13, 34], [22, 4, 88, 14, 48], [7, 54, 33, 86, 1], [22, 4, 11, 88, 13], [6, 37, 33, 20, 90], [23, 90, 49, 22, 11], [78, 48, 37, 14, 13], [26, 88, 8, 14, 41], [42, 88, 32, 41, 8], [88, 11, 8, 66, 34], [12, 20, 34, 73, 77], [26, 4, 78, 65, 10], [8, 26, 88, 78, 10], [8, 2, 18, 88, 89], [73, 49, 10, 24, 65], [34, 25, 60, 17, 54], [87, 66, 64, 7, 90], [34, 68, 4, 65, 24], [83, 85, 88, 54, 64], [8, 49, 19, 24, 52], [50, 86, 11, 70, 1], [90, 89, 83, 10, 69], [2, 89, 76, 1, 39], [78, 10, 37, 70, 33], [89, 5, 24, 85, 0], [74, 76, 82, 30, 96], [88, 4, 22, 49, 11], [89, 91, 10, 69, 28], [65, 21, 28, 91, 99], [95, 89, 64, 28, 3], [37, 89, 17, 36, 10], [7, 69, 37, 14, 8], [83, 55, 4, 96, 57], [22, 90, 48, 33, 11], [33, 60, 24, 89, 7], [86, 24, 94, 78, 96], [73, 89, 83, 90, 41], [89, 96, 5, 24, 76], [89, 58, 10, 28, 37], [89, 62, 90, 18, 8], [89, 5, 69, 45, 24], [65, 10, 50, 43, 30], [24, 61, 6, 83, 81], [89, 25, 73, 74, 39], [8, 89, 59, 37, 10], [89, 41, 83, 16, 18], [89, 41, 90, 2, 60], [89, 73, 41, 50, 90], [41, 83, 63, 89, 69], [90, 89, 1, 36, 34], [47, 26, 24, 46, 72], [83, 16, 64, 33, 58], [89, 24, 36, 7, 69], [86, 69, 89, 5, 55], [5, 0, 89, 34, 24], [89, 34, 20, 18, 45], [89, 25, 90, 41, 39], [54, 7, 57, 16, 60], [89, 74, 24, 20, 23], [90, 12, 41, 64, 89], [24, 92, 79, 89, 84], [34, 64, 25, 41, 7], [89, 7, 90, 20, 19], [89, 42, 46, 7, 83], [89, 37, 6, 69, 34], [0, 41, 71, 90, 89], [81, 50, 47, 89, 39], [89, 76, 90, 74, 2], [34, 89, 12, 83, 73], [59, 7, 86, 54, 39], [24, 5, 85, 0, 79], [10, 54, 7, 34, 64], [83, 89, 54, 12, 34], [89, 24, 74, 6, 69], [7, 89, 86, 90, 39], [89, 24, 69, 90, 76], [83, 64, 39, 90, 54], [18, 89, 34, 54, 26], [89, 90, 37, 78, 33], [89, 83, 39, 1, 54], [89, 0, 32, 42, 69], [96, 77, 76, 12, 92], [89, 41, 5, 69, 0], [89, 83, 41, 18, 62], [83, 58, 10, 54, 6], [89, 54, 10, 96, 24], [34, 26, 29, 91, 96], [64, 7, 90, 26, 25], [49, 30, 89, 34, 24], [89, 69, 41, 18, 62], [89, 5, 30, 24, 85], [89, 24, 69, 5, 41], [89, 90, 1, 2, 69], [89, 24, 41, 76, 45], [89, 30, 46, 96, 99], [55, 69, 6, 89, 37], [8, 18, 41, 11, 89], [89, 45, 25, 63, 78], [47, 82, 89, 73, 99], [83, 90, 64, 54, 25], [1, 69, 63, 7, 89], [89, 19, 85, 39, 2], [89, 41, 69, 7, 19], [89, 19, 73, 24, 10], [89, 94, 32, 0, 67], [0, 89, 12, 41, 5], [89, 83, 25, 73, 60], [41, 89, 83, 2, 18], [89, 36, 14, 37, 78], [89, 74, 21, 41, 45], [89, 5, 24, 83, 85], [25, 82, 89, 78, 26], [89, 94, 2, 82, 67], [83, 54, 69, 89, 4], [18, 83, 54, 45, 62], [89, 10, 41, 69, 37], [89, 76, 24, 0, 5], [65, 74, 21, 28, 89], [89, 80, 5, 24, 96], [89, 37, 20, 10, 90], [89, 90, 85, 38, 70], [90, 89, 65, 37, 1], [37, 10, 90, 14, 78], [90, 89, 7, 41, 25], [90, 22, 48, 1, 14], [4, 69, 55, 57, 10], [90, 41, 1, 12, 5], [90, 41, 73, 50, 89], [90, 41, 60, 1, 73], [90, 41, 89, 1, 25], [73, 74, 72, 23, 22], [90, 1, 50, 89, 7], [64, 83, 75, 43, 16], [90, 23, 50, 24, 37], [1, 65, 90, 7, 24], [89, 90, 41, 83, 96], [7, 26, 37, 17, 10], [64, 66, 34, 1, 60], [1, 90, 63, 46, 50], [90, 41, 1, 89, 73], [41, 46, 90, 0, 42], [26, 23, 11, 10, 90], [89, 7, 90, 36, 4], [90, 91, 22, 10, 60], [53, 3, 98, 68, 7], [41, 90, 6, 60, 63], [90, 41, 1, 89, 63], [90, 8, 89, 63, 76], [90, 41, 48, 37, 74], [90, 7, 65, 48, 26], [41, 90, 89, 63, 42], [90, 34, 41, 48, 11], [90, 41, 25, 60, 5], [50, 90, 88, 34, 1], [90, 26, 7, 76, 89], [90, 1, 7, 48, 37], [90, 89, 49, 1, 91], [41, 90, 42, 1, 63], [89, 7, 8, 20, 1], [41, 90, 24, 43, 96], [57, 98, 55, 43, 5], [4, 21, 90, 48, 77], [90, 91, 48, 22, 1], [90, 41, 25, 7, 1], [41, 90, 63, 64, 50], [90, 41, 89, 34, 25], [90, 49, 56, 8, 94], [90, 7, 1, 37, 60], [55, 10, 44, 96, 68], [48, 78, 37, 90, 14], [90, 41, 42, 14, 20], [73, 90, 74, 24, 49], [89, 8, 0, 24, 69], [48, 1, 50, 7, 64], [96, 86, 39, 76, 35], [19, 96, 5, 24, 72], [90, 7, 91, 1, 48], [50, 90, 65, 48, 14], [7, 89, 76, 90, 86], [90, 41, 63, 1, 69], [82, 13, 11, 8, 14], [94, 75, 23, 26, 71], [34, 7, 36, 37, 85], [90, 87, 15, 88, 1], [50, 90, 73, 48, 1], [20, 23, 37, 64, 91], [90, 41, 1, 64, 7], [48, 60, 20, 14, 37], [90, 1, 48, 60, 63], [90, 33, 7, 48, 22], [90, 91, 20, 41, 37], [82, 76, 42, 90, 24], [23, 37, 33, 70, 90], [41, 90, 25, 42, 89], [92, 49, 88, 43, 30], [90, 89, 20, 6, 41], [90, 76, 89, 24, 91], [37, 90, 10, 60, 48], [90, 91, 4, 10, 37], [83, 16, 64, 60, 59], [90, 34, 26, 11, 14], [1, 57, 90, 48, 7], [4, 90, 49, 55, 12], [10, 4, 96, 37, 86], [34, 26, 75, 15, 87], [90, 41, 91, 1, 64], [1, 90, 48, 65, 91], [76, 90, 39, 24, 53], [90, 1, 89, 41, 7], [53, 46, 50, 72, 31], [90, 50, 60, 1, 41], [73, 83, 89, 41, 82], [90, 50, 26, 73, 37], [94, 61, 53, 5, 62], [90, 91, 1, 22, 73], [90, 1, 7, 69, 4], [11, 8, 90, 63, 88], [1, 90, 64, 22, 48], [90, 34, 1, 41, 65], [90, 1, 60, 41, 34], [90, 41, 89, 5, 24], [18, 62, 38, 70, 41], [33, 10, 4, 57, 8], [48, 65, 91, 7, 1], [91, 90, 7, 48, 1], [20, 91, 48, 34, 10], [50, 73, 20, 90, 34], [91, 65, 28, 26, 21], [21, 96, 65, 26, 91], [26, 34, 91, 65, 28], [78, 33, 37, 65, 23], [91, 48, 20, 34, 7], [91, 7, 86, 28, 21], [7, 1, 34, 39, 33], [48, 65, 7, 86, 91], [91, 28, 10, 26, 21], [26, 7, 65, 91, 28], [48, 91, 7, 1, 10], [91, 10, 28, 48, 65], [91, 28, 10, 20, 99], [91, 26, 65, 48, 10], [21, 91, 65, 28, 87], [91, 65, 48, 28, 21], [91, 20, 28, 10, 65], [65, 48, 14, 4, 88], [91, 10, 21, 42, 24], [20, 89, 91, 14, 24], [91, 28, 65, 47, 20], [91, 28, 20, 76, 26], [58, 65, 22, 91, 28], [91, 28, 10, 22, 26], [91, 58, 28, 65, 33], [91, 65, 34, 28, 21], [91, 96, 7, 89, 77], [26, 91, 65, 34, 36], [60, 70, 59, 50, 37], [91, 10, 28, 65, 48], [50, 37, 73, 20, 47], [34, 91, 28, 10, 20], [91, 90, 48, 20, 10], [1, 90, 7, 86, 34], [91, 28, 20, 10, 26], [10, 26, 65, 78, 28], [17, 34, 54, 26, 13], [7, 48, 65, 3, 58], [91, 28, 26, 65, 10], [91, 87, 28, 21, 26], [65, 91, 48, 28, 26], [20, 7, 10, 48, 28], [91, 7, 28, 48, 21], [48, 91, 11, 13, 66], [28, 26, 91, 10, 8], [65, 21, 91, 28, 48], [58, 7, 33, 10, 48], [10, 33, 7, 17, 48], [21, 7, 91, 47, 65], [65, 7, 58, 91, 28], [91, 7, 48, 65, 34], [91, 10, 48, 20, 28], [65, 10, 91, 26, 7], [10, 13, 65, 78, 26], [90, 37, 48, 78, 79], [91, 34, 90, 65, 20], [20, 64, 14, 28, 63], [65, 48, 10, 28, 91], [91, 75, 10, 65, 48], [7, 48, 10, 96, 65], [4, 88, 8, 86, 29], [91, 28, 58, 48, 65], [91, 28, 65, 20, 48], [90, 91, 20, 48, 1], [12, 7, 86, 40, 20], [91, 28, 26, 34, 58], [10, 48, 33, 91, 13], [91, 28, 65, 48, 34], [89, 20, 18, 37, 62], [42, 50, 48, 69, 71], [21, 28, 91, 87, 65], [20, 14, 78, 48, 37], [91, 28, 65, 20, 48], [65, 7, 26, 48, 28], [14, 34, 7, 59, 20], [28, 94, 26, 34, 91], [85, 7, 90, 34, 39], [91, 65, 28, 21, 10], [20, 58, 91, 54, 33], [10, 26, 65, 48, 78], [34, 91, 48, 65, 28], [58, 65, 33, 28, 91], [10, 26, 28, 91, 37], [91, 58, 28, 65, 20], [91, 28, 47, 26, 65], [47, 59, 82, 50, 89], [34, 91, 90, 1, 48], [10, 28, 91, 48, 37], [91, 90, 28, 26, 76], [21, 77, 4, 90, 10], [10, 26, 65, 91, 48], [34, 21, 28, 65, 8], [41, 89, 25, 54, 73], [65, 78, 63, 48, 11], [92, 55, 27, 77, 79], [35, 57, 79, 52, 81], [96, 12, 21, 74, 92], [92, 40, 96, 21, 77], [92, 79, 77, 55, 24], [77, 12, 21, 92, 46], [92, 12, 99, 21, 77], [12, 92, 40, 77, 34], [92, 77, 79, 40, 51], [96, 74, 40, 15, 92], [12, 76, 21, 77, 68], [12, 77, 92, 21, 27], [40, 92, 21, 97, 99], [12, 92, 82, 83, 77], [40, 9, 81, 97, 53], [21, 12, 77, 92, 74], [15, 74, 51, 75, 96], [82, 27, 99, 30, 5], [92, 12, 21, 40, 82], [12, 92, 40, 77, 34], [74, 12, 27, 92, 40], [12, 92, 83, 64, 82], [40, 92, 12, 30, 74], [86, 55, 7, 49, 79], [21, 99, 92, 40, 82], [92, 40, 79, 30, 82], [83, 55, 86, 92, 43], [92, 12, 77, 40, 79], [92, 74, 3, 40, 79], [30, 49, 46, 12, 99], [74, 96, 92, 24, 12], [92, 79, 77, 40, 21], [55, 86, 7, 10, 39], [77, 92, 96, 12, 79], [40, 97, 92, 21, 77], [24, 40, 92, 3, 68], [46, 99, 30, 92, 55], [40, 92, 79, 74, 2], [12, 77, 96, 92, 74], [12, 92, 77, 21, 40], [12, 77, 21, 82, 40], [92, 79, 55, 24, 77], [92, 77, 12, 30, 21], [77, 92, 21, 30, 55], [12, 92, 24, 77, 79], [30, 55, 96, 21, 77], [92, 79, 77, 24, 55], [30, 79, 92, 97, 68], [29, 79, 55, 24, 92], [12, 92, 82, 77, 96], [12, 77, 92, 21, 82], [21, 65, 4, 55, 77], [55, 77, 92, 21, 12], [4, 92, 77, 79, 12], [77, 12, 21, 92, 99], [92, 79, 74, 27, 69], [5, 94, 61, 24, 62], [12, 92, 77, 24, 82], [5, 53, 61, 77, 24], [21, 12, 49, 77, 99], [92, 77, 12, 79, 21], [92, 12, 96, 79, 77], [92, 24, 21, 79, 12], [92, 79, 24, 68, 97], [51, 40, 96, 0, 82], [40, 97, 75, 96, 35], [96, 77, 89, 86, 92], [92, 77, 24, 12, 21], [12, 92, 27, 63, 42], [77, 12, 92, 27, 21], [5, 53, 61, 68, 62], [12, 92, 21, 34, 77], [12, 27, 92, 77, 46], [30, 55, 49, 96, 77], [12, 40, 92, 77, 74], [61, 5, 62, 94, 53], [12, 92, 77, 24, 21], [79, 51, 92, 35, 55], [92, 12, 40, 77, 79], [92, 12, 40, 77, 21], [77, 55, 79, 92, 68], [74, 86, 96, 76, 30], [12, 21, 92, 40, 77], [92, 12, 77, 40, 21], [79, 92, 55, 51, 77], [77, 40, 21, 68, 92], [92, 7, 39, 1, 12], [55, 43, 79, 27, 24], [12, 77, 92, 21, 40], [79, 92, 24, 55, 75], [92, 12, 79, 77, 24], [66, 4, 95, 88, 14], [5, 92, 79, 24, 53], [92, 12, 21, 77, 40], [27, 12, 92, 77, 30], [92, 79, 27, 24, 5], [55, 43, 79, 30, 92], [30, 49, 24, 3, 37], [12, 92, 24, 85, 79], [74, 25, 12, 73, 86], [3, 24, 21, 79, 94], [93, 3, 74, 49, 95], [74, 27, 49, 63, 30], [93, 49, 55, 46, 99], [30, 99, 82, 93, 46], [93, 42, 5, 71, 83], [93, 35, 55, 49, 3], [93, 74, 21, 49, 3], [93, 55, 92, 79, 82], [93, 42, 58, 10, 2], [14, 49, 11, 78, 71], [99, 86, 39, 46, 2], [89, 10, 39, 37, 90], [93, 42, 71, 24, 19], [93, 4, 50, 68, 84], [95, 86, 74, 65, 3], [93, 55, 49, 35, 11], [93, 49, 82, 99, 21], [93, 74, 15, 99, 58], [58, 51, 33, 53, 88], [4, 93, 61, 35, 3], [93, 74, 3, 24, 50], [55, 24, 57, 79, 49], [95, 74, 3, 93, 49], [93, 21, 55, 49, 3], [93, 55, 27, 11, 74], [1, 93, 22, 4, 91], [38, 5, 18, 70, 46], [93, 42, 24, 49, 46], [42, 49, 78, 93, 24], [88, 3, 4, 93, 49], [27, 3, 74, 24, 82], [97, 68, 53, 51, 5], [61, 35, 81, 53, 19], [4, 93, 49, 55, 3], [74, 86, 50, 96, 27], [4, 61, 93, 9, 49], [93, 27, 3, 74, 92], [93, 27, 55, 46, 74], [4, 10, 50, 93, 28], [93, 49, 74, 3, 32], [7, 96, 75, 86, 65], [93, 95, 74, 72, 49], [74, 58, 93, 10, 33], [93, 74, 58, 95, 3], [93, 4, 55, 82, 99], [46, 42, 99, 41, 89], [93, 42, 99, 55, 49], [93, 49, 31, 55, 61], [39, 86, 55, 76, 24], [57, 68, 35, 43, 98], [93, 1, 63, 42, 7], [4, 57, 22, 61, 53], [93, 49, 71, 32, 67], [33, 58, 74, 70, 75], [32, 92, 49, 67, 4], [93, 49, 95, 55, 74], [93, 50, 4, 35, 55], [74, 19, 24, 79, 4], [78, 37, 42, 49, 26], [93, 42, 49, 74, 99], [61, 62, 93, 32, 42], [4, 93, 57, 49, 12], [93, 52, 3, 49, 74], [93, 4, 49, 95, 74], [93, 42, 32, 46, 67], [44, 84, 31, 68, 50], [93, 49, 84, 95, 55], [93, 99, 42, 46, 49], [55, 5, 24, 79, 2], [7, 95, 93, 4, 55], [93, 49, 67, 95, 31], [93, 3, 68, 74, 21], [24, 96, 55, 2, 49], [93, 74, 3, 21, 55], [93, 64, 58, 63, 60], [4, 42, 99, 21, 63], [61, 93, 35, 32, 67], [93, 77, 24, 4, 82], [4, 93, 90, 24, 3], [93, 74, 42, 94, 3], [93, 74, 55, 51, 92], [93, 3, 67, 32, 50], [93, 49, 61, 42, 37], [93, 42, 49, 18, 61], [74, 27, 50, 97, 2], [46, 42, 60, 93, 50], [31, 24, 93, 32, 5], [86, 65, 74, 99, 7], [46, 43, 42, 99, 39], [93, 74, 50, 99, 15], [42, 99, 46, 5, 32], [93, 3, 86, 55, 58], [19, 74, 55, 3, 27], [93, 29, 49, 67, 32], [93, 95, 3, 74, 49], [93, 49, 3, 74, 71], [28, 4, 10, 34, 14], [42, 71, 2, 93, 49], [93, 7, 74, 3, 31], [94, 71, 67, 32, 0], [3, 39, 50, 81, 19], [21, 77, 99, 94, 12], [94, 24, 0, 3, 39], [68, 94, 24, 35, 97], [49, 24, 19, 39, 79], [94, 32, 61, 71, 67], [94, 5, 32, 24, 61], [0, 86, 26, 67, 32], [94, 3, 74, 78, 65], [76, 49, 94, 39, 24], [67, 94, 32, 71, 61], [6, 34, 26, 90, 66], [94, 67, 19, 10, 49], [94, 31, 75, 67, 86], [67, 32, 71, 0, 94], [34, 17, 94, 49, 67], [94, 67, 71, 32, 42], [94, 82, 31, 71, 67], [67, 75, 49, 94, 32], [12, 2, 74, 92, 89], [34, 28, 65, 82, 3], [5, 94, 71, 61, 32], [61, 5, 94, 62, 53], [89, 34, 10, 96, 36], [50, 46, 99, 32, 30], [32, 0, 49, 5, 98], [82, 86, 30, 42, 99], [83, 46, 49, 89, 41], [94, 67, 32, 39, 80], [94, 61, 62, 5, 18], [14, 96, 29, 43, 5], [55, 79, 68, 98, 97], [0, 85, 30, 5, 32], [71, 94, 2, 68, 49], [94, 61, 5, 62, 38], [26, 34, 65, 28, 14], [47, 73, 28, 14, 65], [42, 50, 94, 90, 24], [89, 85, 32, 94, 3], [96, 92, 79, 29, 44], [32, 71, 67, 49, 88], [94, 49, 3, 67, 65], [67, 32, 94, 71, 61], [71, 67, 94, 32, 0], [94, 31, 47, 42, 32], [94, 28, 91, 10, 48], [32, 0, 67, 71, 85], [61, 94, 71, 24, 38], [94, 14, 65, 26, 68], [24, 79, 80, 35, 94], [94, 67, 32, 71, 3], [24, 52, 19, 79, 70], [94, 67, 32, 49, 21], [30, 89, 96, 86, 24], [94, 67, 61, 32, 71], [99, 46, 30, 24, 74], [74, 95, 28, 69, 3], [50, 94, 55, 5, 73], [67, 32, 94, 71, 42], [83, 49, 5, 43, 0], [49, 56, 88, 3, 74], [96, 77, 76, 0, 55], [73, 74, 12, 50, 96], [5, 0, 32, 24, 89], [76, 2, 94, 24, 21], [5, 24, 32, 79, 71], [65, 36, 48, 94, 86], [3, 85, 32, 89, 94], [94, 19, 47, 39, 50], [31, 94, 32, 71, 67], [74, 92, 24, 76, 96], [36, 24, 89, 0, 94], [76, 61, 53, 24, 94], [28, 20, 91, 26, 3], [94, 67, 32, 3, 31], [94, 32, 67, 0, 5], [32, 61, 67, 30, 49], [8, 88, 94, 4, 42], [42, 65, 67, 71, 14], [21, 99, 82, 49, 94], [82, 89, 76, 96, 0], [94, 67, 32, 71, 2], [31, 94, 82, 67, 74], [47, 67, 42, 86, 32], [29, 32, 67, 9, 94], [40, 74, 86, 96, 82], [18, 62, 38, 61, 5], [47, 34, 64, 73, 7], [61, 94, 5, 32, 62], [61, 94, 5, 62, 32], [94, 67, 65, 71, 32], [94, 89, 82, 24, 3], [50, 42, 94, 71, 67], [77, 86, 12, 92, 89], [73, 47, 10, 26, 50], [50, 94, 31, 73, 32], [71, 67, 32, 94, 42], [67, 94, 61, 32, 71], [0, 68, 51, 97, 32], [95, 66, 15, 75, 81], [95, 2, 13, 65, 8], [87, 95, 65, 15, 51], [95, 66, 15, 11, 4], [95, 65, 50, 74, 47], [95, 29, 9, 8, 88], [95, 37, 49, 10, 48], [95, 15, 75, 81, 74], [53, 61, 5, 94, 62], [95, 81, 75, 51, 46], [95, 11, 23, 8, 66], [95, 75, 65, 3, 87], [95, 8, 49, 11, 56], [5, 33, 24, 79, 94], [95, 66, 65, 26, 48], [95, 87, 74, 49, 75], [95, 66, 89, 74, 4], [95, 8, 49, 65, 2], [95, 15, 81, 53, 74], [95, 74, 3, 27, 49], [95, 65, 81, 1, 66], [95, 21, 49, 65, 91], [95, 74, 75, 87, 3], [95, 87, 15, 66, 8], [95, 1, 2, 65, 8], [2, 87, 7, 15, 93], [95, 75, 49, 29, 66], [61, 62, 53, 5, 94], [81, 75, 94, 61, 32], [87, 95, 15, 75, 51], [95, 74, 65, 3, 66], [66, 33, 37, 58, 69], [95, 15, 87, 48, 75], [95, 25, 53, 74, 46], [95, 74, 87, 15, 27], [15, 87, 51, 21, 99], [95, 29, 8, 79, 49], [95, 15, 8, 74, 2], [95, 93, 35, 61, 68], [95, 15, 74, 75, 81], [95, 74, 49, 78, 11], [95, 81, 75, 50, 46], [95, 49, 8, 21, 11], [95, 74, 15, 87, 75], [15, 95, 74, 51, 27], [95, 49, 75, 74, 48], [95, 53, 3, 87, 74], [95, 65, 1, 48, 50], [95, 53, 46, 74, 15], [95, 75, 87, 81, 65], [95, 66, 8, 49, 29], [95, 15, 66, 87, 11], [95, 66, 42, 62, 8], [95, 49, 71, 29, 67], [95, 66, 58, 65, 33], [95, 74, 93, 66, 3], [15, 95, 42, 99, 74], [95, 8, 29, 49, 11], [95, 75, 74, 23, 11], [2, 8, 85, 88, 32], [95, 15, 75, 87, 3], [95, 66, 4, 89, 46], [95, 84, 56, 92, 49], [95, 15, 42, 46, 75], [95, 74, 66, 11, 7], [95, 8, 29, 11, 88], [95, 15, 37, 62, 33], [95, 66, 49, 87, 22], [95, 65, 3, 81, 74], [95, 66, 58, 7, 74], [15, 95, 99, 75, 87], [95, 66, 26, 65, 28], [95, 86, 49, 65, 53], [15, 95, 87, 7, 74], [95, 26, 28, 23, 91], [87, 95, 15, 88, 75], [61, 62, 53, 94, 5], [95, 87, 15, 8, 34], [15, 99, 74, 42, 46], [95, 74, 87, 2, 8], [95, 66, 23, 75, 1], [95, 74, 49, 3, 65], [95, 53, 87, 2, 72], [94, 61, 62, 5, 53], [95, 15, 74, 66, 11], [95, 66, 11, 69, 34], [66, 6, 33, 54, 64], [95, 72, 87, 1, 93], [95, 1, 2, 72, 65], [95, 74, 15, 37, 87], [95, 19, 87, 81, 75], [95, 52, 93, 2, 66], [95, 2, 15, 8, 74], [95, 93, 50, 74, 34], [15, 95, 58, 87, 74], [95, 65, 74, 48, 3], [95, 65, 67, 32, 86], [8, 87, 2, 95, 88], [95, 87, 66, 75, 48], [95, 87, 29, 4, 88], [96, 24, 74, 76, 40], [74, 96, 30, 27, 72], [96, 76, 46, 62, 24], [55, 9, 29, 43, 96], [2, 89, 42, 39, 47], [61, 62, 94, 38, 5], [96, 75, 74, 81, 19], [92, 40, 12, 96, 74], [39, 43, 82, 83, 86], [9, 2, 96, 0, 29], [55, 57, 96, 35, 86], [61, 5, 68, 94, 53], [96, 46, 99, 86, 74], [96, 46, 76, 99, 39], [87, 15, 21, 7, 54], [5, 55, 86, 11, 96], [96, 5, 49, 79, 76], [96, 9, 29, 55, 75], [43, 89, 24, 83, 79], [40, 96, 76, 27, 74], [54, 73, 59, 83, 60], [86, 96, 5, 43, 55], [96, 40, 2, 39, 76], [96, 55, 9, 86, 29], [74, 96, 86, 27, 44], [96, 99, 74, 21, 77], [74, 82, 99, 96, 46], [96, 99, 46, 77, 4], [92, 55, 26, 10, 24], [89, 12, 74, 39, 86], [73, 50, 74, 90, 86], [96, 76, 12, 27, 53], [96, 74, 86, 24, 39], [84, 57, 80, 55, 43], [19, 70, 96, 90, 75], [96, 74, 39, 76, 75], [96, 53, 72, 46, 27], [24, 99, 92, 96, 79], [96, 30, 99, 74, 46], [96, 39, 86, 99, 74], [96, 39, 82, 30, 99], [96, 9, 98, 55, 29], [29, 55, 43, 26, 79], [4, 55, 96, 97, 74], [86, 30, 36, 26, 34], [61, 5, 94, 62, 53], [83, 26, 96, 29, 82], [43, 46, 83, 55, 82], [2, 32, 5, 94, 42], [55, 49, 96, 83, 43], [40, 12, 21, 77, 99], [4, 87, 93, 2, 55], [96, 51, 74, 2, 46], [96, 76, 46, 99, 74], [96, 74, 46, 89, 24], [96, 46, 86, 43, 5], [39, 44, 96, 76, 9], [96, 30, 75, 76, 92], [15, 96, 75, 55, 74], [96, 74, 15, 27, 99], [96, 99, 46, 30, 55], [94, 5, 62, 32, 61], [96, 30, 46, 55, 29], [99, 5, 49, 96, 86], [96, 9, 29, 55, 86], [96, 39, 76, 55, 86], [90, 99, 89, 74, 40], [55, 49, 79, 43, 29], [29, 30, 96, 80, 79], [96, 80, 79, 74, 39], [96, 86, 10, 89, 39], [89, 24, 46, 96, 82], [55, 96, 49, 92, 79], [86, 5, 96, 43, 24], [92, 12, 40, 77, 21], [96, 89, 82, 46, 99], [96, 30, 29, 40, 79], [96, 68, 97, 84, 55], [94, 61, 62, 32, 5], [96, 30, 40, 99, 46], [84, 46, 4, 54, 34], [40, 96, 5, 29, 44], [96, 46, 99, 55, 39], [96, 55, 9, 29, 86], [5, 96, 24, 80, 43], [96, 86, 55, 29, 26], [98, 55, 29, 68, 57], [96, 46, 43, 74, 30], [96, 74, 21, 99, 77], [96, 73, 74, 24, 30], [96, 79, 27, 29, 55], [96, 57, 81, 19, 4], [96, 30, 29, 77, 92], [96, 76, 46, 39, 53], [5, 96, 24, 99, 79], [80, 96, 17, 29, 24], [74, 99, 96, 82, 39], [96, 55, 86, 74, 9], [7, 70, 19, 37, 46], [96, 5, 85, 89, 74], [68, 97, 77, 35, 9], [44, 37, 68, 29, 98], [68, 97, 24, 51, 79], [21, 99, 24, 27, 82], [68, 97, 98, 29, 77], [40, 97, 68, 98, 29], [68, 97, 98, 87, 75], [68, 57, 97, 98, 29], [82, 79, 43, 46, 24], [61, 5, 53, 94, 62], [61, 62, 94, 53, 5], [55, 29, 9, 35, 96], [68, 77, 98, 97, 55], [68, 97, 29, 98, 9], [5, 68, 61, 97, 94], [61, 5, 62, 53, 68], [68, 97, 98, 79, 92], [94, 61, 62, 68, 53], [29, 9, 5, 68, 97], [97, 68, 29, 98, 9], [31, 67, 94, 71, 68], [50, 42, 49, 47, 71], [68, 98, 53, 61, 57], [98, 68, 61, 53, 97], [61, 68, 98, 53, 97], [68, 29, 97, 98, 9], [40, 82, 30, 96, 97], [68, 97, 98, 61, 77], [68, 97, 29, 21, 77], [79, 68, 97, 43, 24], [40, 5, 97, 68, 9], [68, 98, 84, 97, 29], [51, 97, 9, 68, 98], [68, 97, 43, 29, 55], [96, 55, 9, 97, 98], [61, 68, 97, 35, 55], [53, 51, 55, 97, 98], [97, 43, 40, 92, 2], [10, 6, 28, 37, 91], [31, 68, 5, 35, 43], [51, 81, 68, 97, 98], [24, 71, 85, 43, 67], [61, 52, 19, 35, 53], [98, 68, 97, 57, 29], [68, 97, 29, 98, 51], [97, 40, 51, 68, 98], [97, 68, 98, 29, 44], [51, 40, 49, 53, 97], [12, 40, 34, 92, 77], [92, 77, 29, 12, 68], [27, 53, 68, 97, 29], [96, 68, 98, 35, 97], [61, 94, 5, 62, 68], [98, 55, 68, 79, 35], [92, 55, 51, 79, 0], [77, 68, 97, 21, 92], [55, 81, 19, 96, 76], [5, 24, 53, 32, 43], [97, 68, 98, 29, 32], [61, 94, 62, 5, 68], [4, 40, 2, 68, 21], [97, 40, 77, 68, 9], [94, 5, 61, 62, 53], [96, 79, 55, 5, 77], [98, 9, 97, 68, 44], [55, 5, 49, 79, 43], [61, 94, 62, 5, 53], [35, 61, 97, 68, 98], [68, 97, 98, 29, 77], [29, 68, 79, 55, 97], [77, 55, 21, 92, 79], [68, 97, 29, 9, 98], [61, 94, 62, 5, 97], [98, 97, 40, 68, 9], [68, 97, 98, 29, 57], [29, 68, 97, 98, 55], [80, 4, 57, 29, 68], [68, 98, 97, 81, 57], [77, 68, 29, 79, 97], [68, 29, 97, 98, 21], [68, 98, 97, 29, 77], [84, 57, 68, 81, 98], [68, 21, 97, 98, 30], [68, 97, 98, 29, 9], [24, 55, 35, 96, 61], [68, 97, 77, 98, 29], [35, 61, 97, 68, 79], [40, 12, 99, 77, 21], [79, 68, 43, 55, 77], [35, 61, 57, 68, 98], [96, 98, 9, 44, 68], [40, 97, 68, 44, 98], [9, 29, 68, 97, 98], [57, 29, 9, 97, 98], [9, 97, 29, 68, 98], [92, 79, 24, 68, 77], [53, 68, 97, 98, 50], [5, 61, 94, 53, 68], [68, 97, 98, 9, 35], [80, 43, 9, 55, 35], [55, 98, 68, 57, 35], [97, 68, 61, 5, 98], [35, 79, 61, 92, 24], [96, 2, 30, 55, 76], [68, 29, 57, 84, 97], [94, 5, 61, 32, 53], [98, 68, 55, 9, 97], [5, 61, 44, 94, 24], [98, 68, 4, 55, 97], [84, 68, 44, 98, 27], [55, 98, 57, 49, 35], [61, 35, 57, 68, 53], [57, 4, 98, 55, 68], [68, 35, 98, 97, 29], [35, 61, 49, 79, 21], [53, 49, 84, 68, 29], [98, 29, 68, 97, 9], [61, 68, 97, 98, 5], [68, 98, 29, 97, 77], [98, 68, 97, 61, 53], [98, 68, 97, 29, 9], [97, 98, 68, 9, 29], [68, 98, 97, 29, 77], [55, 57, 84, 98, 68], [68, 97, 98, 29, 79], [98, 68, 29, 97, 9], [68, 97, 98, 57, 4], [9, 43, 80, 49, 5], [80, 35, 74, 3, 19], [9, 98, 97, 68, 29], [98, 57, 68, 97, 29], [68, 98, 57, 97, 29], [68, 29, 98, 97, 43], [98, 68, 61, 35, 97], [68, 98, 97, 77, 53], [98, 68, 97, 57, 29], [98, 68, 97, 29, 4], [98, 61, 68, 35, 97], [53, 99, 40, 46, 42], [55, 98, 57, 9, 35], [55, 79, 98, 80, 35], [68, 97, 98, 61, 77], [98, 68, 4, 35, 57], [98, 68, 97, 29, 77], [68, 29, 9, 55, 35], [98, 68, 57, 97, 29], [5, 0, 24, 43, 79], [94, 61, 98, 5, 68], [94, 61, 5, 98, 68], [40, 97, 98, 68, 5], [94, 61, 5, 62, 68], [68, 98, 97, 35, 29], [68, 97, 29, 98, 57], [98, 68, 97, 61, 77], [57, 98, 55, 68, 35], [98, 29, 68, 49, 27], [68, 98, 97, 4, 61], [29, 26, 8, 9, 79], [98, 9, 55, 97, 68], [40, 8, 87, 97, 79], [68, 97, 29, 35, 98], [98, 55, 68, 27, 97], [98, 68, 61, 29, 32], [98, 68, 29, 97, 77], [98, 97, 68, 9, 44], [68, 98, 97, 29, 9], [68, 98, 97, 77, 29], [57, 4, 84, 98, 61], [97, 68, 40, 76, 98], [55, 68, 98, 97, 35], [2, 42, 49, 24, 68], [96, 53, 81, 51, 40], [4, 98, 68, 35, 21], [79, 24, 97, 98, 68], [55, 98, 57, 68, 43], [98, 68, 97, 29, 57], [98, 68, 97, 61, 35], [98, 68, 97, 55, 57], [57, 84, 68, 98, 97], [29, 68, 97, 98, 44], [98, 68, 29, 97, 49], [98, 68, 97, 61, 94], [98, 88, 68, 35, 79], [68, 97, 29, 98, 67], [84, 55, 50, 68, 49], [61, 68, 97, 94, 98], [61, 68, 5, 97, 53], [68, 98, 4, 97, 35], [9, 98, 44, 68, 97], [55, 92, 79, 9, 43], [55, 98, 43, 68, 9], [57, 4, 55, 35, 68], [76, 97, 68, 53, 98], [55, 49, 98, 43, 79], [68, 77, 97, 21, 98], [61, 94, 62, 5, 53], [98, 57, 68, 55, 97], [24, 98, 55, 68, 79], [77, 21, 40, 55, 58], [98, 88, 68, 4, 29], [82, 49, 99, 88, 4], [99, 74, 46, 21, 42], [32, 71, 67, 94, 61], [99, 42, 65, 87, 2], [96, 21, 99, 30, 74], [73, 82, 74, 41, 89], [5, 85, 42, 61, 32], [53, 46, 7, 99, 54], [21, 77, 12, 92, 99], [99, 74, 82, 46, 86], [77, 92, 55, 68, 21], [40, 21, 92, 30, 24], [21, 77, 0, 5, 49], [46, 99, 31, 65, 42], [99, 46, 42, 21, 75], [47, 24, 99, 82, 31], [32, 99, 82, 67, 46], [46, 99, 31, 42, 67], [67, 31, 32, 81, 71], [82, 30, 12, 83, 73], [86, 96, 74, 75, 90], [30, 75, 82, 74, 40], [55, 21, 99, 98, 29], [34, 36, 76, 24, 2], [12, 77, 21, 92, 40], [21, 77, 12, 99, 30], [99, 82, 27, 46, 74], [87, 86, 26, 75, 47], [99, 21, 77, 5, 30], [27, 51, 74, 55, 92], [82, 31, 99, 32, 42], [21, 77, 40, 12, 89], [82, 99, 31, 42, 24], [4, 99, 74, 21, 77], [73, 41, 42, 82, 99], [46, 82, 31, 47, 99], [46, 99, 42, 82, 31], [82, 31, 99, 42, 46], [32, 0, 5, 71, 42], [99, 42, 46, 74, 5], [82, 46, 47, 32, 89], [43, 24, 10, 33, 7], [75, 21, 99, 74, 77], [99, 46, 24, 92, 21], [96, 99, 74, 46, 82], [74, 37, 30, 20, 3], [99, 30, 21, 46, 92], [12, 46, 79, 77, 21], [73, 74, 42, 21, 99], [92, 40, 77, 21, 12], [46, 99, 82, 42, 96], [99, 42, 46, 21, 28], [99, 21, 49, 96, 74], [99, 46, 65, 78, 42], [82, 73, 89, 30, 99], [92, 30, 96, 40, 99], [82, 21, 5, 99, 30], [99, 24, 79, 21, 19], [99, 39, 83, 96, 46], [84, 56, 66, 46, 32], [51, 21, 99, 0, 46], [82, 32, 31, 0, 67], [12, 99, 92, 21, 77], [21, 99, 42, 65, 30], [92, 24, 21, 79, 82], [30, 96, 89, 43, 76], [99, 74, 3, 47, 21], [21, 77, 92, 99, 12], [30, 83, 0, 87, 32], [99, 47, 46, 42, 58], [86, 29, 96, 55, 68], [92, 21, 12, 40, 77], [48, 34, 10, 65, 1], [61, 94, 5, 62, 53], [5, 32, 0, 82, 42], [15, 8, 4, 87, 27], [86, 30, 50, 74, 99], [84, 43, 55, 96, 2], [82, 99, 83, 24, 46], [32, 71, 42, 50, 0], [12, 21, 77, 92, 40], [61, 62, 94, 53, 5], [30, 40, 74, 97, 21], [92, 40, 27, 77, 99], [55, 29, 80, 68, 79], [40, 34, 12, 42, 21], [99, 82, 21, 49, 3], [99, 82, 46, 47, 27], [12, 42, 90, 74, 11], [99, 42, 31, 32, 46], [92, 99, 55, 79, 15], [47, 32, 67, 46, 50], [92, 99, 79, 21, 49], [21, 96, 40, 99, 30], [99, 46, 82, 96, 31], [74, 21, 30, 77, 96], [5, 24, 3, 74, 39], [21, 34, 28, 26, 4], [21, 65, 99, 91, 30], [86, 99, 21, 96, 65]]\n"
     ]
    }
   ],
   "source": [
    "#print(\"val_labels \", val_labels)"
   ]
  },
  {
   "cell_type": "markdown",
   "metadata": {},
   "source": [
    "# Submission Prep & Human-Readable Inference\n",
    "\n",
    "Now that we have predicted labels for our data, let's convert the predictions into a nice JSON that we can submit to the web server!\n",
    "\n",
    "Note that this will only work if you are NOT shuffling your dataset!"
   ]
  },
  {
   "cell_type": "code",
   "execution_count": 24,
   "metadata": {
    "scrolled": false
   },
   "outputs": [
    {
     "name": "stdout",
     "output_type": "stream",
     "text": [
      "Wrote predictions to:\n",
      "/home/ubuntu/miniplaces_part2/test_set_predictions8.json\n"
     ]
    }
   ],
   "source": [
    "''' These convert your dataset labels into nice human readable names '''\n",
    "\n",
    "import json\n",
    "\n",
    "def label_number_to_name(lbl_ix):\n",
    "    return dataloaders['val'].dataset.classes[lbl_ix]\n",
    "\n",
    "def dataset_labels_to_names(dataset_labels, dataset_name):\n",
    "    # dataset_name is one of 'train','test','val'\n",
    "    dataset_root = os.path.join(data_dir, dataset_name)\n",
    "    found_files = []\n",
    "    for parentdir, subdirs, subfns in os.walk(dataset_root):\n",
    "        parentdir_nice = os.path.relpath(parentdir, dataset_root)\n",
    "        found_files.extend([os.path.join(parentdir_nice, fn) for fn in subfns if fn.endswith('.jpg')])\n",
    "    # Sort alphabetically, this is the order that our dataset will be in\n",
    "    found_files.sort()\n",
    "    # Now we have two parallel arrays, one with names, and the other with predictions\n",
    "    assert len(found_files) == len(dataset_labels), \"Found more files than we have labels\"\n",
    "    preds = {os.path.basename(found_files[i]):list(map(label_number_to_name, dataset_labels[i])) for i in range(len(found_files))}\n",
    "    return preds\n",
    "    \n",
    "\n",
    "test_labels_js = dataset_labels_to_names(test_labels,\"test\")\n",
    "\n",
    "output_test_labels = \"test_set_predictions\"\n",
    "output_salt_number = 0\n",
    "\n",
    "output_label_dir = \".\"\n",
    "\n",
    "while os.path.exists(os.path.join(output_label_dir, '%s%d.json' % (output_test_labels, output_salt_number))):\n",
    "    output_salt_number += 1\n",
    "    # Find a filename that doesn't exist\n",
    "    \n",
    "\n",
    "with open(os.path.join(output_label_dir, '%s%d.json' % (output_test_labels, output_salt_number)), \"w\") as f:\n",
    "    json.dump(test_labels_js, f, sort_keys=True, indent=4)\n",
    "    \n",
    "print(\"Wrote predictions to:\\n%s\" % os.path.abspath(os.path.join(output_label_dir, '%s%d.json' % (output_test_labels, output_salt_number))))\n"
   ]
  },
  {
   "cell_type": "markdown",
   "metadata": {},
   "source": [
    "# Web Server Submission\n",
    "\n",
    "Now that you have a prediction JSON file, you should submit it via webserver using the `miniplaces_grader.py` script!\n",
    "\n",
    "Use `-h` for up-to-date help on the script. You can use it to create your miniplaces team, request AWS credits, view the leaderboards, and view the test set scores for your submission.\n",
    "\n",
    "If your score is \"Pending\" - don't worry! We only allow 1 submission per 2 hours, and will release results each time this timer resets. This is to prevent you from overfitting to the test set - you can overfit to the training set easily (since you train on it). You can overfit to the validation set, since you choose your hyperparameters based on that. You can ALSO overfit to the test set, by choosing your model based on your test set performance. So, to prevent you from using the test set too many times (at which point it would become part of your training), we restrict how often you can test."
   ]
  }
 ],
 "metadata": {
  "kernelspec": {
   "display_name": "Python 3",
   "language": "python",
   "name": "python3"
  },
  "language_info": {
   "codemirror_mode": {
    "name": "ipython",
    "version": 3
   },
   "file_extension": ".py",
   "mimetype": "text/x-python",
   "name": "python",
   "nbconvert_exporter": "python",
   "pygments_lexer": "ipython3",
   "version": "3.7.4"
  },
  "varInspector": {
   "cols": {
    "lenName": 16,
    "lenType": 16,
    "lenVar": 40
   },
   "kernels_config": {
    "python": {
     "delete_cmd_postfix": "",
     "delete_cmd_prefix": "del ",
     "library": "var_list.py",
     "varRefreshCmd": "print(var_dic_list())"
    },
    "r": {
     "delete_cmd_postfix": ") ",
     "delete_cmd_prefix": "rm(",
     "library": "var_list.r",
     "varRefreshCmd": "cat(var_dic_list()) "
    }
   },
   "types_to_exclude": [
    "module",
    "function",
    "builtin_function_or_method",
    "instance",
    "_Feature"
   ],
   "window_display": false
  }
 },
 "nbformat": 4,
 "nbformat_minor": 2
}
